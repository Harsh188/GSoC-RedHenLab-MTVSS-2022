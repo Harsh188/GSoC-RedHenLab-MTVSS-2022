{
 "cells": [
  {
   "cell_type": "markdown",
   "id": "db263b45",
   "metadata": {},
   "source": [
    "# Final Analysis"
   ]
  },
  {
   "cell_type": "code",
   "execution_count": 42,
   "id": "8322fea7",
   "metadata": {},
   "outputs": [
    {
     "name": "stdout",
     "output_type": "stream",
     "text": [
      "%pylab is deprecated, use %matplotlib inline and import the required libraries.\n",
      "Populating the interactive namespace from numpy and matplotlib\n"
     ]
    },
    {
     "name": "stderr",
     "output_type": "stream",
     "text": [
      "/usr/local/lib/python3.8/dist-packages/IPython/core/magics/pylab.py:162: UserWarning: pylab import has clobbered these variables: ['random']\n",
      "`%matplotlib` prevents importing * from pylab and numpy\n",
      "  warn(\"pylab import has clobbered these variables: %s\"  % clobbered +\n"
     ]
    }
   ],
   "source": [
    "# Imports\n",
    "import numpy as np\n",
    "import pandas as pd\n",
    "import matplotlib.pyplot as plt\n",
    "import random\n",
    "from itertools import islice\n",
    "from scipy import stats\n",
    "\n",
    "\n",
    "%pylab inline\n",
    "import matplotlib.image as mpimg\n",
    "\n",
    "import os\n",
    "import sys\n",
    "import glob\n",
    "import warnings"
   ]
  },
  {
   "cell_type": "code",
   "execution_count": 2,
   "id": "b4bb60d9",
   "metadata": {},
   "outputs": [
    {
     "name": "stdout",
     "output_type": "stream",
     "text": [
      "/MultiModalTVShowSeg-2022/notebooks\r\n"
     ]
    }
   ],
   "source": [
    "!pwd"
   ]
  },
  {
   "cell_type": "code",
   "execution_count": 33,
   "id": "b67b47d0",
   "metadata": {},
   "outputs": [
    {
     "name": "stdout",
     "output_type": "stream",
     "text": [
      "935\n"
     ]
    }
   ],
   "source": [
    "phase_2_n3_output = '/MultiModalTVShowSeg-2022/mtvss/data/tmp/phase-2-3_outputs.npy'\n",
    "binary_file_path = '/MultiModalTVShowSeg-2022/mtvss/data/tmp/final_data.npy'\n",
    "print(1163720-1162785)"
   ]
  },
  {
   "cell_type": "code",
   "execution_count": 6,
   "id": "d8752170",
   "metadata": {},
   "outputs": [
    {
     "name": "stdout",
     "output_type": "stream",
     "text": [
      "[b\"\\x93NUMPY\\x01\\x00v\\x00{'descr': '<f4', 'fortran_order': False, 'shape': (2048,), }                                                         \\n\", b'\\xc6\\x14m=\\x0cv\\xc7?X\\x12\\xe7?\\x14D\\xcc<\\x00\\x00\\x00\\x00\\x99TW;Y\\to=\\xd5w\\xa4<\\xb7I\\x0b?$D\\xfb>\\xfd\\xe9C:&p\\xa69\\xe6\\x8e_=\\x87\\x8f_>\\xa7\\x03\\x8b=,K\\xb1=\\x00\\x00\\x00\\x00\\x05\\xbb\\xad?m\\xb5\\xb1;!?s?\\x00\\x00\\x00\\x00\\xd1\\xd8\\xd1<\\\\\\xdcB<5`\\x95?\\xd0\\xc9S@I\\x12M=\\xc5\\x1d\\x1a>=DJ>\\x05\\x06\\x91>\\x8e0\\x928$\\x86\\xed=\\xdd\\xe7\\x10?F\\x1f\\xd0>\\x1e\\xb6}=:\\xb5\\x13?\\x1e\\xb1\\x88>\\xa3P\\xaa; \\xd6\\xc8>\\xeb\\xc9\\x10>~\\xcc\\xb2=\\x00\\x00\\x00\\x00\\xb9\\xd6\\x03<\\xa2\\x1e3<\\xf2\\xf1\\x01<\\x00\\x00\\x00\\x00bc\\xa7>\\x00\\x00\\x00\\x00\\xbd\\x1b\\xff=\\x00\\x00\\x00\\x00\\x14\\x18=<\\x00\\x00\\x00\\x00X\\x0c\\x0f<\\t\\xc6~:\\xae\\x82\\x04?d\\xba\\\\<@&\\xd7<\\x00\\x00\\x00\\x00\\xab\\x12E=\\x00\\x00\\x00\\x00h\\xd6\\xb4;\\xd9\\x02\\x08>\\x06\\xf8\\x0e<\\xc8Z\\x8d=)t\\xa9>e\\x84\\x85=\\x00-\\xe6;b5T?\\x97\\x05\\x03>M\\x95\\x1f>\\x1ax\\xe3<\\xec\\xa6\\xbf>\\xaem\\xcf:ep\\x14>5S\\x07?V\\xf8\\xb8=uP\\xf7<\\xc3\\xff==\\xd9F\\r;[\\xa3\\x0e=\\x91\\xfcB>\\x00\\x00\\x00\\x00\\xa0\\t\\x82;1\\xdd(?\\x04 \\x85<\\x12\\xf4\\xa5;\\x08CN=\\x00\\x00\\x00\\x00Og\\x19>\\x00\\x00\\x00\\x00\\xfb/T>0\\xd1K;\\xe3)0<ja\\x11;\\xab\\x84\\x87;\\x00\\x00\\x00\\x00\\x06!\\xaf>oN\\x07>\\x1e\\x1a\\x08<\\xf4\\x1e\\xcf<\\xbax\\x84>\\x1b\\xaa\\xaa=e\\x13\\x00@\\x07<\\xa4;\\x00\\x00\\x00\\x00\\x00\\x00\\x00\\x00\\x00\\x00\\x00\\x00g.c;\\xb0G#;\\x84\\xa1\\xf9>\\xd0\\x84g?\\xe0H\\xff=\\x0eh\\x18>\\xec\\xa7/=\\x00\\x00\\x00\\x00\\x00\\x00\\x00\\x00\\x00\\x00\\x00\\x00l\\x92x90\\x04\\x9e>\\x00\\x00\\x00\\x00\\xbf\\xda~=L\\x83\\xd1;\\xec\\xa8\\n', b'>\\xdaq.?\\x0f\\xdaK>i\\x81\\xde=\\xaa\\xee+=\\xc9\\x08\\x9b=sTW;b\\x0b\\xee=\\x00\\x00\\x00\\x00\\x00\\x00\\x00\\x00U\\x03\\x9c;E]\\xb7>\\x9b\\xf6\\x19?1\\xf7\\xa5?\\x14{0>\\x80v)>\\x00\\x00\\x00\\x00\\x84\\x90f<\\x82\\x8ay=\\x00\\x00\\x00\\x00\\xe9\\x11\\x8d=\\xeb\\x9a\\x1f==\\xac\\x86>\\x03\\xa8\\x03;\\x00\\x00\\x00\\x00\\x00\\x00\\x00\\x00 \\xa2\\xec;:`J<\\x00\\x00\\x00\\x00\\x00\\x00\\x00\\x00b\\xf7\\xd7=\\xde!%;l\\x9c\\x8f=\\x945\\x0b>\\xe2\\x9bY;)\\xae\\xac<e\\xfd\\x0f>oT\\xa5;\\xc6\\x05[>\\x00\\x7f\\x8f<\\xacm<>\\xd0D+>\\x02_s<;\\xca\\xbe;v\\xb6\\x98?\\r\\xe18>2\\xc9\\xb2<5\\xbfB>\\x00\\x00\\x00\\x00\\xba\\xfbV<\\t\\xb0y>_K\\xb1>\\xa7w\\x0c<<\\xf6\\xa7;:\\x90\\x9f=\\x005\\x9c<\\xb0\\x83\\x16>\\xbf\"9@\\x00\\x00\\x00\\x00\\xeck\\xb5:\\x00\\x00\\x00\\x00\\xda\\xca\\xd1@\\t\\x85,?\\x00\\x00\\x00\\x00\\x8a\\t!<\\x84\\xe6\\x88=\\xe5\\x87\\x01?\\x10\\x02\\x1d=\\x00\\x00\\x00\\x00\\x00\\x00\\x00\\x00\\\\\\x97\\xbd:\\xe5h/?v0\\xfe>\\xa3-\\xbe<\\xcedX<\\xc5cs<\\x17Y\\x9b=\\x00\\x00\\x00\\x00S\\xae\\xd4=\\x84\\x01\\xf1<\\x00\\x00\\x00\\x00\\x00\\x00\\x00\\x00\\x00\\x00\\x00\\x00J\\xaa@=b17?\\x00\\x00\\x00\\x00\\x98P#>\\x87r\\x9d;\\xcc\\xc6\\x86=\\xc0\\x8f\\xa5>B\\xc8\\x04=\\x1asJ=\\xa1\\xa5K>\\xc8\\xee\\x9c>@\\xa0->^\\x10M?\\xef\\xbc\\xc2<\\x1e\\x97\\xe39\\x08]Z>\\x0f\\x9bN>x1\\xa0>\\x00\\x00\\x00\\x00\\x03\\x96B>\\xbc\\x9a\\x85> \\x9c\\xee;\\x00\\x00\\x00\\x00@\\xef\\xe2>\\x99\\xee/>\\x00\\x00\\x00\\x00\\x00\\x00\\x00\\x00LR\\x01?\\x99\\xfb\\x0e=\\x00\\x00\\x00\\x00\\x87\\xcaL>\\xb9B\\n', b'>0\\xcba?\\xe6l\\x9b=\\x06\\xc4\\xe9=|8\\xcf<\\xa0\\x8a!?\\xec\\x92\\xee;\\xf1\\xcbq<\\xb0\\xbb\\xe09|\\xb4q=\\x90\\xee\\xc5=uN\\xaf>\\x00\\x00\\x00\\x00\\x00\\x00\\x00\\x00r#-=@\\x9f\\x02<\\x00\\x00\\x00\\x00\\x02\\'\\xc8>\\xc8\\xb86?s\\x18\\'>\\x00\\x00\\x00\\x00\\xd5M\\x07?\\xdf\\x19\\xa9=m$\\xa6>\\x94\\x8cf>\\x00\\x00\\x00\\x00\\xfb\\x1c(=u\\xc7V;\\x00\\x00\\x00\\x00\\xb6L:@\\x17\\xe0 >\\x00\\x00\\x00\\x00\\x08\\xfd\\x9e>)\\xf2\\xea>\\x18\\x87\\xaf>\\xe2\\xeb\\xf6<C\\xa0\\xe4=\\xb8\\xa0\\xa4=\\x05\\xad\\xa9;\\xf7\\x08\\xe8;\\x841\\x9c<=\\xc9\\xad<\\xa2\\xa25?x\\x07g<()\\x14;VZ\\x9b=\\xcb7`>\\x19S\\x8c;k\\xdd-=\\x08\\x97\\xfc:\\x00\\x00\\x00\\x00\\x10\\x9e:=e\\x87\\x9b<\\x00\\x00\\x00\\x00\\x00\\x00\\x00\\x00\\xd3\\xd9\\xfd>\\x00\\x00\\x00\\x00\\xa1\\xcd\\xac<\\x08\\x06\\xa1?\\x1bW\\xb1=\\x8a\\xad\\x84<g\\x19\\xe0<\\x00\\x00\\x00\\x00;\\xea+=\\xe0\\xca\\x91<\\x00\\x00\\x00\\x00\\x96\\x87\\xc5>b\\xeaR;\\xbc\\xc6\\xb3<\\xa8H\\x19<t\\xf1\\x10:\\x00\\x00\\x00\\x007\\r\\x03>\\x91c\\x81<\\x00\\x00\\x00\\x00\\x00\\x00\\x00\\x00\\x1d\\xd5\\xd5;\\x00\\x00\\x00\\x00\\x00\\x00\\x00\\x00\\x8a\\x1a\\x1c<\\xb7\\xd0\\x1c<\\x85\\xa0\\x15=\\xa7\\x97\\xc59\\x00\\x00\\x00\\x00e\\xd5\\x84<\\xcb\"`?6@\\x0f?\\x1b\\xf4\\xc5=\\x00\\x00\\x00\\x00\\xc2\\x9c\\xa4<PYD>\\x00\\x00\\x00\\x00\\x00\\x00\\x00\\x00\\x00\\x00\\x00\\x00&\\xb6\\x8c;\\x19\\x90\\x97>\\x00\\x00\\x00\\x00i\\x91R?\\xa1\\xed\\xb5=\\xa4\\xa2\\x8e?\\x00\\x00\\x00\\x00\\xa1\\x8d,=\\x13\\x15>>\\xdf\\xcf\\xf8<\\xb4U\\xb2>b8\\xf0>\\xf1\\x8d\\xb0<\\xbc\\xc6K;\\x00\\x00\\x00\\x00{Ib?\\x05\\xbb\\x1b>\\x00\\x00\\x00\\x00\\x10V$=\\x14x\\x85>\\x00\\x00\\x00\\x00\\xb4J\\x9f?\\x00\\x00\\x00\\x00\\x00\\x00\\x00\\x00V\\x94B:\\x00\\x00\\x00\\x00^\\x9d\\x03>\\x19\\xfd\\x8a;\\xd6N\\x1c@I\\xae\\x84=\\x1e\\x9a\\x92<\\x0c\\xf8\\x1b=\\xfda\\x9f=CZ!<\\x1a\\xa3\\xda<f\\x02\\x9e>\\xf2&p<\\xf2[$<\\xf8\\'\\x03<\\x94\\xff\\xef;\\xe8\\xac\\xbd<\\xcd\\x97\\xb7<\\x00\\x00\\x00\\x00\\xa8\\x03\\xc5=\\xe0\\xe5^;I\\x95C:\\x00\\x00\\x00\\x00\\x9c\\xa1\\x9e<{\\x7f\\xb5<)\\x8b8=\\x9c\\xd3b<\\xe9VR?$\\xd9r>\\x00\\x00\\x00\\x00\\x00\\x00\\x00\\x00\\x00\\x00\\x00\\x00\\x00\\x00\\x00\\x00\\xb4r\\xa1=\\xa5\\x9a\\r=\\xea\\xd6\\x9a<\\x00\\x00\\x00\\x00\\xb1Y\\x88<g\\xc8\\xe0;\\xf5\\xf8\\x069\\x00\\x00\\x00\\x00\\xd9\\xee\\x04>\\x92\\xfd\\x9b;\\x00\\x00\\x00\\x00(z6=$)\\xa9=\\x06\\xcf\\xe5<\\x94\\x1f\\x1e>\\xef4\\xc7;7G\\xe7=\\x8ar\\x8f>\\xf1QL<\\xb0\\x1eE>0\\xf4\\x86=\\xad\\x96\\x8b=\\x06\\x86{<5\\x18*><\\x1d\\xb6<\\xef]~<\\x9b2k>\\x05I\\xae;7x\\x1e>\\xf9F\\x99>\\x00\\x00\\x00\\x00\\xdep\\x9a;Y\\xb8\\xb8<\\x00\\x00\\x00\\x00y\\xda\\xf5:\\x00\\x00\\x00\\x00\\x87s\\xe1=)g\\xa8>\\xb9\\x07\\xab9\\xe0xp<:\\x1e\\xde<\\x82\\xd9\\xc7?DW\\xe8=C]+=\\x99\\'\\xb7>bm-;W\\xca\\x87<\\x90\\xf8\\xcf;\\xcb\\x10\\xd2;mK\\xf0=\\xf5Yx>PE\\x9c=F3\\xb5<\\x8bO\\xb3<s\\xcc\\xde=p+m>\\xd2`\\x00=E\\x87\\x9f=\\x14T\\x91;\\xc8*\\x1b=\\xdd\\xaa\\xfd?\\x12|K>-\\xa2\\x07>\\x00\\x00\\x00\\x00\\x00\\n', b\"\\xe9>\\x00\\x00\\x00\\x00B\\x05\\xac>\\x16\\xb4\\xad=\\x00\\x00\\x00\\x00\\x00\\x00\\x00\\x00\\xdcj'@\\x00\\x00\\x00\\x00\\xcc\\x8fG='\\xfa\\x8a<FJA>\\xb3<v>\\xe5\\x0f\\x9d=\\xb4\\xd4\\xcb;\\x00\\x00\\x00\\x00\\xc2>R=\\x00\\x00\\x00\\x00\\\\<\\xc6:\\x0b\\xcb\\xe4=\\xa2g\\xbc=\\xd6\\x04\\xce>\\xf2\\x821<o\\xebw<s\\xf6\\xd2;\\x1d\\x14\\xb7<H\\xaf\\x1b=\\x00\\x00\\x00\\x00\\xf2\\x16\\x1b?\\xbb\\xdd\\xa3>\\xaa\\xc1\\x07>\\xad\\xc8m?\\xee8\\xbe=X\\xbf\\n\", b'>\\x00\\x00\\x00\\x00\\x97\\xfc\\x94>\\xa1j\\xdf=\\x00\\x00\\x00\\x00\\x84\\xd8%<O\\x93t=\\x00\\x00\\x00\\x00a\\xf89<$\\xf9\\x83>\\x00\\x00\\x00\\x00\\x00\\x00\\x00\\x00\\xac\\x94\\x87>\\xb7\\xd2K>\\xefe\\xd1:\\xdd\\x95\\x90==\\xbb\\x92=\\x00\\x00\\x00\\x00\\xc6\\xe7Y>*4&>xo\\xec=\\x00\\x00\\x00\\x00F\\x03+=i\\x16\\x08=\\xc9\\xa9\\xb0=\\xfd\\xf5\\x07?\\xf4=\\xda=\\xf1y\\x03>\\x00\\x00\\x00\\x00\\xc5>\\x1a=\\xb7\\xa9r>\\x00\\x00\\x00\\x00\\x1d\\x15X=\\x00\\x00\\x00\\x00\\x96\\xa4\\t;:8\\x1a?\\t9\\xef?~\\xca\">=RS=\\xd9\\xc4\\xc7;#p\\x90<\\x06\\xc5\\xeb=/\\x11n?\\xad\\x89\\x19>Y\\x03\\xd5>\\x00\\x00\\x00\\x00\\x00>r?R\\xfe%=\\xa1:\\x1d=a\\xfa\\xc7=U\\xb8\\xbe<\\x00\\x00\\x00\\x00 \\xa8.> {\\x87?=\\xb9\\x1d>\\x00\\x00\\x00\\x00\\x967o:\\x88\\xd7F>,{j<\\xd6\\xbd\\x9d>\\x00\\x00\\x00\\x00\\xd2\\xfc#>\\x00\\x00\\x00\\x00i\\xc9\\x87;\\xa0I\\x8b>\\x00\\x00\\x00\\x00\\xcbE\\x14?i^\\x05<\\x00\\x00\\x00\\x00,\\xb8\\xa5=\\x00\\x00\\x00\\x00&\\xfcu<\\xfe-\\x92>S\\xa8\\x99;\\x00\\x00\\x00\\x00\\xaa,\\xff=4\\x9c\\xc5>\\xf2]A?i\\x053<\\xe0\\xb8B=\\x00\\x00\\x00\\x00\\x00\\x00\\x00\\x00\\xae\\x97J>\\x00\\x00\\x00\\x00/\\xcd\\xb0>\\xe0)\\xa2:\\x02\\xd1\\xe1=\\xe2k\\xe2<\\xa1\\x89\\xb5=\\xd9\\xe5\\x7f>\\xdb\\xbf\\xaa=\\x0e9\\'9\\xbe\\xfd\\x98>0[H:\\x00\\x00\\x00\\x00\\xfe\\xd1\\x95<\\xccu^=\\xa2\\xc3\\x91?\\x0eL\\x8b=\\x0f\"\\x13<\\x00\\x00\\x00\\x00\\xfb\\x05\\x01<\\x18\\xb2\\xed=\\xd4\\xbf\\xde<bD3=\\x00\\x00\\x00\\x00#\\xd9\\xf3=\\xe2\\x93\\x1f<\\n', b\"\\x1a1?\\xe8\\x12\\xf9;\\x9c\\xe3/<^\\xd6\\x8c?\\\\'}=\\x96\\x02E;\\x14\\x18\\n\", b'>\\x00\\x00\\x00\\x00\\xa4V\\xb6>{\\xaf\\xab=X\\xd6n?\\xf6\\xac\\x9f>]\\x9b\\x01<\\x00\\x00\\x00\\x00S=m<\\'65?\\x8e\\x89\\x05?I@\\xd8>\\x84A\\xd0<C\\x06Q=\\x14g2>u\\xbcb=\\xa1\\x9a\\xcd=\\xbf$J=uK\\x1f>S\\xd3\\xfe>u\\xd9\\xda;\\x04\\xd7\\xaa=y\\x873:-\\xb3\\x01;\\xed1\\x8a=\\x0b8\\x81:27z>\\xe5\\xad^=\\x18*\\x0f>f\\xa8\\x19>\\x00\\x00\\x00\\x00[w\\x10>D\\xa0\\x1b>T\\x13+=\\x08\\xe4\\x92=4\\xc5\\x89>r\\x82\\x0b@\\xcd9\\xb1;b\\x9bt<\\xbd\\x16\\xb4>\\x00\\x00\\x00\\x00\\x9e\\x19\\xbf<\\x00\\x00\\x00\\x00\\xc3\\x0f\\x80;\\xce\\xb8X>@z\\xc6;\\xf70_=\\x96\\xc6\\xe0=\\x00\\x00\\x00\\x00\\x00\\x00\\x00\\x00\\x10<\\x83;\\x88\"\\xf2>\\x00\\x00\\x00\\x00/\\xa9\\x1f9\\xacA!>4\\xe2\\x049Fh\\xd0=\\xe1\\xa6\\x8c?\\xdf=\\x90<\\xb9_;:;M$?\\x00\\x00\\x00\\x00\\x02\\x84\\r?^\\x9e\\x13=A\\xb7\\xac<\\x00\\x00\\x00\\x00\\x00\\x00\\x00\\x00\\x90\\x9e\\xb3=\\xe6O4>2\\xffK<4\\x83A?\\xd4Fq<C\\xd9\\xea=\\x00\\x00\\x00\\x00\\x00\\x00\\x00\\x00\\x00\\x00\\x00\\x003\\xcb\\x8d:\\x03\\xf3k>*\\xcaH8i\\xfb\\xb2<\\x00\\x00\\x00\\x00\\x9e\\xa2\\x80=\\xd3\\x0b\\xc2=*\\x00\":\\xd4B\\x98>\\xa2\\xf8\\xab>Lk\\x80=\\xf1%\\x04:XD~>g2 <\\x00\\x00\\x00\\x00\\xca\\xce-?\\xdcPZ?\\xdf\\x1a\\xcf>\\x0e\\x89\\x16?\\x85?\\x93<\\xf4G\\xc8<\\xda<h=\\x00\\x00\\x00\\x00\\xd3~\\xdd=\\xe9\\x92H?\\x12\\xb1#;\\xe9\\xf8\\x0f>bT\\x8f;R\\x98G>\\x7f\\n', b'?>\\xd3\\x0c\\x02?\\xe4%\\x0f?\\xa29\\x92=r2\\x90=\\xd9r>>\\x1e\\xdb\\x0c?\\xcb^D@\\xba\\x9b\\xae;\\x00\\x00\\x00\\x00\\x05\\xb2\\xc2<\\t\\xc2h?\\x00\\x00\\x00\\x00\\x00\\x00\\x00\\x00\\xb3\\xeb\\x99=\\xa9y\\x85=P\\xefk?\\x81\\xc0l=u\\xede<\\x0b\\xf0\\x1d<LJD=a<C=\\x00\\x00\\x00\\x00~b\\x83=;\\xec\\x96:\\xa4i0>\\xd0\\xd61:7\\xa5\\xf6>{\\x17\\xf1=\\x00\\x00\\x00\\x00Sb\\xb9>\\xad\\xe0\\t<\\x00\\x00\\x00\\x00\\xdf\\x9f};\\x00\\x00\\x00\\x00\\xc2~\\x17>\\xa8Mb;\\x99\\x81\">e\\x82\\xb9>\\x00\\x00\\x00\\x00\\x0f@v<y\\xae::\\x18\\xc0\\x02;0\\xea^<\\xc3\\xefq=\\x91\\x9c\\x1d?L\\x04\\xed;\\xa1\\xb7$=l\\xa7\\xb0?\\xf5\\x11\\x04<\\x00\\x00\\x00\\x00\\x00\\x00\\x00\\x00dC\\xb9:<5/<\\x04\\xcc\\':\\xb6\\x88\\xcd<<\\xb4!;\\x14\\x0f\\xf0=i4\\xe2:a\\x1c\\xf8;\\x8e\\x02\\x7f=\\x05\\xdf\\'>#/}=j\\xf2\\xf7;\\x00\\x00\\x00\\x00\\xd7\\xe6x@\\xc5\\xe9:>\\xf2\\xd4\\x12?\\x0f\\xdbT=:\\xc5F<\\x00\\x00\\x00\\x00\\xa27\\x04>\\xc8\\xa0n>\\x02t\\xf09s\\xe7e=\\x81\\'X?\\xe0\\x1f\\xe6>V\\x8dp<\\x00\\x00\\x00\\x00\\xc9g\\x18=T\\xbb\\x07>\\xa1\\xac\\xb1>8\\xabT?\\xb3\\x9d\\xbd<vH,>6\\xbc\\xb0>CR\\x15=\\xe6g\\x81=\\xffm\\t=\\xd1\\x02f:\\xd7\\x8c\\x89>:\\x04o;\\xf8Nr=\\xf5Y\\xa1:\\x05\\xfe$=\\x81\\x80\\xd58\\x05%\\x86=#\\td;#/\\xd0=\\x00\\x00\\x00\\x00\\xd9s(=p\\xf4\\xb1=y\\xac\\x88;\\'|\\xbb<\\xd4\\x1b\\xe6?\\x00\\x00\\x00\\x00\\x00\\x00\\x00\\x00w\\xe1<=\\x8e\\xd7\\xa5:F\\x00\\x1a;\\x00\\x00\\x00\\x00d\\xa3\\x01>\\xd3\\'\\xe0;\\xa2\\xb4\\x84>\\xa7\\xe8I<\\x84W,>\\xa7\\x07\\xc4>A\\x8e\\x0c=\\xcc\\x9c,<rK\\xe4=\\x00\\x00\\x00\\x00\\'\\x06a<\\xed\\x91\\x99<l:\\x15>\\x00\\x00\\x00\\x00F\\xb5\\xc5?+K6=V\\xb3\\xf9=M\\xe7G=\\x00\\x00\\x00\\x00w.\\x80=\\x9e\\x9c\\xc3<\\xec\\xb4\\xd9=a\\xd2\\x8e=\\x06\\xb9\\xf9=\\x00\\x00\\x00\\x00\\x15xK=\\x84;\\xbd:=\\xfb1?\\xb0\\xf5\\xcd=~G\\xd8=[\\xde%>\\x00\\x00\\x00\\x00C\\xea\\xbc=\\xef\\xfb\\xb8>C\\x8a\\xf1<\\xfb\\xb4r=\\x00\\x00\\x00\\x00\\x9b\\xdd\\x9f=\\xe2\\x9c)>\\x7f2.?!P\\xe5?\\x00\\x00\\x00\\x00\\xd9Z\\xb1=\\xd7\\xf3L<\\xd9\\x8b\\xcf=\\xc8\\xd77?\\xab\\xeeC> \\n', b'\\xd8=^DE;@C\\xd9:\"\\x9b\\x0c;\\xfdO\\xf0=\\xb4x\\x9b9\\x078\\x9c<\\xd5\\xe5>>\\x90\\xc1\\xb8<\\x94\\\\\\xa19u2{>\\x9e\\xa6Q;\\xee\\xa6\\x83=0\\x01\\xb2;:c\\xb29b\\xe3\\x00={\\xbe4:\\x85\\x0cq?\\x00\\x00\\x00\\x00\\xae\\xebm<^xz9e\\x11\\x14<@X6=\\x00\\x00\\x00\\x00\\xff/\\xa4=\\x7flv;\\x9b\\x9a#>0\\xf2\\xcf=\\x00\\x00\\x00\\x00\\xf9\\xc3\\xae<n\\xfb\\xc0;\\x00\\x00\\x00\\x00\\x89\\x89\\xbb<\\x00\\x00\\x00\\x00B(\\x0e>M\\x89\\xea<\\x0cR\\x8e>\\x00\\x00\\x00\\x00\\x00\\x00\\x00\\x00\\x96\\x08\\x7f:\\x15\\xf6\\x81=\\x85\\xdf|=K \\xb2>#\\xb1C?\\x91A\\x05;4\\xf2\\xd1:\\x9bO+>\\t\\xc1\\r>{\\x04:?i%<=\\x04P(8\\xbe\\x08\\x8e<\\xc0\\x9a\\xbd:\\x00\\x00\\x00\\x00\\xc9\\t\\x05@\\x00\\x00\\x00\\x00\\x85A/>@J\\xdd<=\\x8b\\x1b=\\x82\\xc2\\xb9<\\x00\\x00\\x00\\x00\\x00\\x00\\x00\\x00\\x9c\\xca\\x97=-@O<\\x1a\\xd0\\xf4?-X^=\\x00\\x00\\x00\\x00U\\xd0\\xdf=\\x00\\x00\\x00\\x00\\x1d\\xb7\\xd6=\\x94s\"=\\x83K\\x15?\\xabn\\xd2<\\xd2\\x07\\x85?\\x00\\x00\\x00\\x00\\x12\\xe1\\xf99\\x18`W=\\x87\\xa6\\xb3>\\x9eW\\x84?S\\xe1L>I/G<X\\xbb\\xd3;\\xc8\\x0b\\xa3>\\xaf&\\x0e?\\x00\\x00\\x00\\x00;\\xa7\\xd0<\\x17s\\x13:\\x00\\x00\\x00\\x00\\x84\\x14\\xbc>\\x00\\x00\\x00\\x00\\x00\\x00\\x00\\x00J \\x1e<\\xba\\xf9\\xcc=\\x8bk\\x8c<\\xe5\\xcb{>\\xdd\\x885>\\xbd\\xdc\\x06?S|p>\\xb0\\x1f\\xf7<\\x1d\\xd5E=\\x00\\x00\\x00\\x00\\x00\\x00\\x00\\x00,+\\xde=\\xb4\\xb5L=\\x00\\x00\\x00\\x00\\xc0\\x97\\x06<C\\x02\\x88>\\x0b\\xabQ>&+\\xfa>\\xfbma=\\x00\\x00\\x00\\x00EY\\xbe;b\\xfc\\xc7=lO\\x12?\\xb7\\xf3@=\\x00\\x00\\x00\\x00\\x00\\x00\\x00\\x00\\x8e\\xcb\\xae:\\x00\\x00\\x00\\x00)J\\x86=v\\xbf\\x8a:3\\x029=\\xc4Q\\xae>\\xa2e\\xef<\\xcd\\x9e\\x8f=\\x00\\x00\\x00\\x00\\xf1\\xac\\x15>CH\\x1e>\\x0f\\xa0P=|\\x0eG:/\\xc3\\xa5>Y\\xc3\\xc5;{1\\xd7=0\\xb5\\xe1;\\xa4\\xe9\\x9a=\\x8a\\x89\\x93?\\x02\\x1f\\xa4>&\\xa1c< \\x9dr;\\x00\\x00\\x00\\x000\\x02\\x0b=\\xeevL>0\\x98\\x89=y\\xe7\\x9a:V\\xda\\xbd:\\x91`\\x0b<\\x00\\x00\\x00\\x00\\xa2\\xe7X;\\x9b+\\x89=\\x00\\x00\\x00\\x00G>\\x94=\\x00\\x00\\x00\\x00\\x9b\\x92\\x18=\\xaf\\xca0>\\xdaP2=\\xdc\\x15E=\\xa0c\\x12>z8\\x91=\\xb9\\x10\\x92=\\x00\\x00\\x00\\x00\\xa1H\\xd5<\\xa8\\xdd\\x91@\\xb0\\xcaa<\\xda\\xb6;;\\xe2!\\x10?\\xec^\\x16>=\\xa49>Xm\\x1e=\\x87\\xecD;\\x00\\x00\\x00\\x00\\x0e\\x8f\\xae><:\\x14<M\\x8f\\xe3=m\\xda\\xe0> \\xb6\\x0f;\\x8a*\\xfe>\\xf7\\x9f\\xb3=\\\\\\x12\\x1e=_\\xd9\\xa9<\\xb1\\xff =\\x87v4>\\x0b&\\x03<\\xbf\\xc0\\xcd=\\xb0\\x89\\x1c:\\x93\\x85w;5#\\x8f>d)R;~\\xd65<\\x9e\\xfc&:8~o<\\xfbn\\x94>\\x00\\x00\\x00\\x00\\x84\\xdb\\x1d>\\x00\\x00\\x00\\x00\\x18E{=\\x00\\x00\\x00\\x00\\xc5q\\xc7=/3\\x99;*\\xef\\x9e=x\\xe4\\xea<5\\x14\\x1d<\\xa8\\xc2\\x15>\\x7f_\\xdc8\\x87\\xfck>e\\x05\\r:e\\xc3\\xf8=mb\\xc9=\\x85\\xb9\\xc0<v\\xf6E8\\xb0\\x007>\\xae\\x9fE=\\x00\\x00\\x00\\x00v\\xfa\\xa5;\\x8e\\x16/=\\xc9\\x83\\xf6=\\x18X\\xb9>\\x82 \\xce9\\x8d{\\xd0>\\x00\\x00\\x00\\x00\\x00\\x00\\x00\\x00\\r\\x82\\x1f=\\x11\\xf38=\\x96<Q=\\x0fqd<\\x00\\x00\\x00\\x00\\xe8\\xf7\\xc89j\\xfc\\x1c>\\x00\\x00\\x00\\x00\\xcew\\x83?\\x94_\\xb8>\\xad\\xfa\\xcb=\\xb2\\xc4\\x08?\\x97\\xb9\\xf0=f\\xaa\\x9d9\\x00\\x00\\x00\\x00g\\x16@<\\xe3\\xdeR;\\xd6MH?\\xdc\\xd8,@\\x00\\x00\\x00\\x00\\x00\\x00\\x00\\x00b\\x0b|=\\x00\\x00\\x00\\x00?.#?\\xef8a<\\xd9-\\x9c=\\xbc< >\\x00\\x00\\x00\\x00\\x00\\x00\\x00\\x00\\x13\\xc3>?\\x9fj\\x8b<DL\\xb0<\\x81@\\x84=\\xc6\\x87g<y\\xf6\\xa8=\\x14\\x83O<G\\xc9*>\\x00\\x00\\x00\\x00\\x00\\x00\\x00\\x00\\x00\\x00\\x00\\x00y\\\\\\xbc>-\\x88\\x81?Y\\x81K<\\x97$Z:\\xa1T\\xb0>]\\x0b\\x87<\\xefv\\x06<r\\x84\\xbb=\\x8daS:\\x00\\x00\\x00\\x00(\\xc6\\x1e=\\x8e\\xf5\\x89=\\'\\x12\\x90?AkX;\\xe1r\\n']\n",
      "[ 7.56842814e+008 -2.46486459e-132  4.56576393e+031 ... -6.35399029e-107\n",
      "  5.81062565e-281  1.11112583e+164]\n"
     ]
    }
   ],
   "source": [
    "with open(binary_file_path, mode='rb') as file: # b is important -> binary\n",
    "    head = list(islice(file, 10))\n",
    "    arr = np.fromfile(file)\n",
    "print(head)\n",
    "print(arr)"
   ]
  },
  {
   "cell_type": "code",
   "execution_count": 16,
   "id": "11fc5be8",
   "metadata": {},
   "outputs": [
    {
     "data": {
      "text/plain": [
       "(42228617,)"
      ]
     },
     "execution_count": 16,
     "metadata": {},
     "output_type": "execute_result"
    }
   ],
   "source": [
    "arr.shape"
   ]
  },
  {
   "cell_type": "code",
   "execution_count": 17,
   "id": "47cc0a47",
   "metadata": {},
   "outputs": [
    {
     "data": {
      "text/plain": [
       "array([   0,    0,    0, ..., 1416, 1416, 1416], dtype=int32)"
      ]
     },
     "execution_count": 17,
     "metadata": {},
     "output_type": "execute_result"
    }
   ],
   "source": [
    "phase2_output_arr = np.load(phase_2_n3_output)\n",
    "phase2_output_arr"
   ]
  },
  {
   "cell_type": "code",
   "execution_count": 68,
   "id": "64e97f0f",
   "metadata": {},
   "outputs": [
    {
     "data": {
      "text/plain": [
       "(array([61, 62, 63, 64]),)"
      ]
     },
     "execution_count": 68,
     "metadata": {},
     "output_type": "execute_result"
    }
   ],
   "source": [
    "np.where(phase2_output_arr==8)"
   ]
  },
  {
   "cell_type": "code",
   "execution_count": 18,
   "id": "cbcbf073",
   "metadata": {},
   "outputs": [
    {
     "data": {
      "text/plain": [
       "(145305,)"
      ]
     },
     "execution_count": 18,
     "metadata": {},
     "output_type": "execute_result"
    }
   ],
   "source": [
    "phase2_output_arr.shape"
   ]
  },
  {
   "cell_type": "code",
   "execution_count": 35,
   "id": "250b3bce",
   "metadata": {},
   "outputs": [],
   "source": [
    "file_outputs = phase2_output_arr[0:935]"
   ]
  },
  {
   "cell_type": "code",
   "execution_count": 37,
   "id": "617964d9",
   "metadata": {},
   "outputs": [],
   "source": [
    "unique_n3, counts_n3 = np.unique(file_outputs, return_counts=True)\n",
    "label_counts_n3 = np.column_stack((unique_n3,counts_n3))"
   ]
  },
  {
   "cell_type": "code",
   "execution_count": 38,
   "id": "c07ba962",
   "metadata": {},
   "outputs": [
    {
     "name": "stdout",
     "output_type": "stream",
     "text": [
      "Number of input features: 935\n",
      "Number of clusters: 135\n"
     ]
    }
   ],
   "source": [
    "print(\"Number of input features:\",len(file_outputs))\n",
    "print(\"Number of clusters:\",len(label_counts_n3))"
   ]
  },
  {
   "cell_type": "code",
   "execution_count": 43,
   "id": "0176c5fa",
   "metadata": {},
   "outputs": [],
   "source": [
    "def mean_median_mode_std(values):\n",
    "    avg = np.average(values)\n",
    "    median = np.median(values)\n",
    "    std = np.std(values)\n",
    "    mode = stats.mode(values)\n",
    "    \n",
    "    print(\"Number of clusters:\",len(values))\n",
    "    print(\"Average:\",avg)\n",
    "    print(\"Median:\",median)\n",
    "    print(\"Mode:\",mode)\n",
    "    print(\"Standard Deviation:\",std)"
   ]
  },
  {
   "cell_type": "code",
   "execution_count": 44,
   "id": "a269b685",
   "metadata": {},
   "outputs": [
    {
     "name": "stdout",
     "output_type": "stream",
     "text": [
      "Number of clusters: 135\n",
      "Average: 6.925925925925926\n",
      "Median: 4.0\n",
      "Mode: ModeResult(mode=array([4]), count=array([34]))\n",
      "Standard Deviation: 27.66000713147109\n"
     ]
    },
    {
     "name": "stderr",
     "output_type": "stream",
     "text": [
      "/tmp/ipykernel_49/3099109019.py:5: FutureWarning: Unlike other reduction functions (e.g. `skew`, `kurtosis`), the default behavior of `mode` typically preserves the axis it acts along. In SciPy 1.11.0, this behavior will change: the default value of `keepdims` will become False, the `axis` over which the statistic is taken will be eliminated, and the value None will no longer be accepted. Set `keepdims` to True or False to avoid this warning.\n",
      "  mode = stats.mode(values)\n"
     ]
    }
   ],
   "source": [
    "mean_median_mode_std(label_counts_n3[:,1])"
   ]
  },
  {
   "cell_type": "code",
   "execution_count": 48,
   "id": "8520dabd",
   "metadata": {},
   "outputs": [
    {
     "data": {
      "text/plain": [
       "array([[  -1,  119],\n",
       "       [   0,    5],\n",
       "       [   1,    4],\n",
       "       [   2,  305],\n",
       "       [   3,    2],\n",
       "       [   4,    4],\n",
       "       [   5,    4],\n",
       "       [   6,    5],\n",
       "       [   7,    5],\n",
       "       [   8,    4],\n",
       "       [   9,    5],\n",
       "       [  10,    6],\n",
       "       [  11,    2],\n",
       "       [  12,    7],\n",
       "       [  13,    9],\n",
       "       [  14,    2],\n",
       "       [  15,    2],\n",
       "       [  16,    6],\n",
       "       [  17,    5],\n",
       "       [  18,    2],\n",
       "       [  19,    5],\n",
       "       [  20,    4],\n",
       "       [  21,    1],\n",
       "       [  22,    8],\n",
       "       [  23,    4],\n",
       "       [  24,    4],\n",
       "       [  25,    5],\n",
       "       [  26,    4],\n",
       "       [  27,    4],\n",
       "       [  28,    5],\n",
       "       [  29,    5],\n",
       "       [  30,    7],\n",
       "       [  31,    7],\n",
       "       [  32,    6],\n",
       "       [  33,    4],\n",
       "       [  34,    4],\n",
       "       [  35,    8],\n",
       "       [  36,    4],\n",
       "       [  37,    8],\n",
       "       [  38,    6],\n",
       "       [  39,    7],\n",
       "       [  40,    4],\n",
       "       [  41,   10],\n",
       "       [  42,   11],\n",
       "       [  43,    5],\n",
       "       [  44,    4],\n",
       "       [  45,    5],\n",
       "       [  46,    5],\n",
       "       [  47,    9],\n",
       "       [  48,    4],\n",
       "       [  49,    4],\n",
       "       [  50,    4],\n",
       "       [  51,    1],\n",
       "       [  52,    4],\n",
       "       [  53,    5],\n",
       "       [  54,    9],\n",
       "       [  55,    5],\n",
       "       [  56,    3],\n",
       "       [  57,    3],\n",
       "       [  58,    1],\n",
       "       [  59,   10],\n",
       "       [  60,    5],\n",
       "       [  61,    4],\n",
       "       [  62,    2],\n",
       "       [  63,    4],\n",
       "       [  64,    7],\n",
       "       [  65,    4],\n",
       "       [  66,    5],\n",
       "       [  67,    5],\n",
       "       [  68,    2],\n",
       "       [  69,    2],\n",
       "       [  70,    2],\n",
       "       [  71,    3],\n",
       "       [  72,    3],\n",
       "       [  73,    2],\n",
       "       [  74,    4],\n",
       "       [  75,    5],\n",
       "       [  76,    3],\n",
       "       [  77,    1],\n",
       "       [  78,    3],\n",
       "       [  79,    5],\n",
       "       [  80,    4],\n",
       "       [  81,    5],\n",
       "       [  82,    4],\n",
       "       [  83,    1],\n",
       "       [  84,    3],\n",
       "       [  85,    3],\n",
       "       [  86,    2],\n",
       "       [  87,    1],\n",
       "       [  88,    1],\n",
       "       [  89,    1],\n",
       "       [  90,    1],\n",
       "       [  91,    4],\n",
       "       [  92,    4],\n",
       "       [  93,    5],\n",
       "       [  94,    5],\n",
       "       [  95,    2],\n",
       "       [  96,    4],\n",
       "       [  97,    2],\n",
       "       [  98,    2],\n",
       "       [  99,    3],\n",
       "       [ 100,    2],\n",
       "       [ 101,    2],\n",
       "       [ 102,    1],\n",
       "       [ 103,    4],\n",
       "       [ 104,    4],\n",
       "       [ 105,    4],\n",
       "       [ 106,    5],\n",
       "       [ 107,    5],\n",
       "       [ 108,    4],\n",
       "       [ 109,    2],\n",
       "       [ 110,    3],\n",
       "       [ 111,    4],\n",
       "       [ 112,    4],\n",
       "       [ 113,    5],\n",
       "       [ 114,    2],\n",
       "       [ 115,    5],\n",
       "       [ 116,    2],\n",
       "       [ 117,    3],\n",
       "       [ 118,    2],\n",
       "       [ 119,    2],\n",
       "       [ 120,    5],\n",
       "       [ 121,    4],\n",
       "       [ 226,    1],\n",
       "       [ 228,    1],\n",
       "       [ 231,    1],\n",
       "       [ 233,    1],\n",
       "       [1373,    2],\n",
       "       [1814,    1],\n",
       "       [1919,    1],\n",
       "       [2326,    1],\n",
       "       [2530,    1],\n",
       "       [3428,    2],\n",
       "       [5743,    1],\n",
       "       [7088,    1]])"
      ]
     },
     "execution_count": 48,
     "metadata": {},
     "output_type": "execute_result"
    }
   ],
   "source": [
    "label_counts_n3"
   ]
  },
  {
   "cell_type": "code",
   "execution_count": 47,
   "id": "2530f3bd",
   "metadata": {},
   "outputs": [
    {
     "name": "stdout",
     "output_type": "stream",
     "text": [
      "\n",
      "[262   1   2   2   1   0   0   0   1   1]\n",
      "[-1.0000e+00  7.0790e+02  1.4168e+03  2.1257e+03  2.8346e+03  3.5435e+03\n",
      "  4.2524e+03  4.9613e+03  5.6702e+03  6.3791e+03  7.0880e+03]\n",
      "\n"
     ]
    },
    {
     "data": {
      "image/png": "[encoded data removed]",
      "text/plain": [
       "<Figure size 432x288 with 1 Axes>"
      ]
     },
     "metadata": {
      "needs_background": "light"
     },
     "output_type": "display_data"
    }
   ],
   "source": [
    "hist, bins = np.histogram(label_counts_n3)\n",
    "plt.hist(hist, bins)\n",
    "# printing histogram\n",
    "print()\n",
    "print (hist)\n",
    "print (bins)\n",
    "print()"
   ]
  },
  {
   "cell_type": "code",
   "execution_count": null,
   "id": "b9e472c5",
   "metadata": {},
   "outputs": [],
   "source": []
  }
 ],
 "metadata": {
  "kernelspec": {
   "display_name": "Python 3 (ipykernel)",
   "language": "python",
   "name": "python3"
  },
  "language_info": {
   "codemirror_mode": {
    "name": "ipython",
    "version": 3
   },
   "file_extension": ".py",
   "mimetype": "text/x-python",
   "name": "python",
   "nbconvert_exporter": "python",
   "pygments_lexer": "ipython3",
   "version": "3.8.10"
  }
 },
 "nbformat": 4,
 "nbformat_minor": 5
}
