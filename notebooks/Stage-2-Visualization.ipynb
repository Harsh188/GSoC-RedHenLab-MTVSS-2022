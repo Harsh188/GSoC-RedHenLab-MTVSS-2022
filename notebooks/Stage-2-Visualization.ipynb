{
 "cells": [
  {
   "cell_type": "markdown",
   "id": "f1470c9f",
   "metadata": {},
   "source": [
    "# Stage-2-Visualization"
   ]
  },
  {
   "cell_type": "code",
   "execution_count": 34,
   "id": "179675a8",
   "metadata": {},
   "outputs": [
    {
     "name": "stdout",
     "output_type": "stream",
     "text": [
      "%pylab is deprecated, use %matplotlib inline and import the required libraries.\n",
      "Populating the interactive namespace from numpy and matplotlib\n",
      "The autoreload extension is already loaded. To reload it, use:\n",
      "  %reload_ext autoreload\n"
     ]
    },
    {
     "name": "stderr",
     "output_type": "stream",
     "text": [
      "/usr/local/lib/python3.8/dist-packages/IPython/core/magics/pylab.py:162: UserWarning: pylab import has clobbered these variables: ['hist', 'random']\n",
      "`%matplotlib` prevents importing * from pylab and numpy\n",
      "  warn(\"pylab import has clobbered these variables: %s\"  % clobbered +\n"
     ]
    }
   ],
   "source": [
    "# Imports\n",
    "import numpy as np\n",
    "import pandas as pd\n",
    "import matplotlib.pyplot as plt\n",
    "import random\n",
    "from scipy import stats\n",
    "\n",
    "%pylab inline\n",
    "import matplotlib.image as mpimg\n",
    "\n",
    "import os\n",
    "import sys\n",
    "import glob\n",
    "import warnings\n",
    "\n",
    "# Reload changed modules every time\n",
    "%load_ext autoreload\n",
    "%autoreload 2"
   ]
  },
  {
   "cell_type": "code",
   "execution_count": 2,
   "id": "f4249502",
   "metadata": {},
   "outputs": [],
   "source": [
    "sys.path.insert(0, '/mnt/rds/redhen/gallina/home/hxm471/'\\\n",
    "                'RedHenLab-Multimodal_TV_Show_Segmentation/mtvss/')\n",
    "import constants as const"
   ]
  },
  {
   "cell_type": "code",
   "execution_count": 3,
   "id": "8a0f0471",
   "metadata": {},
   "outputs": [
    {
     "data": {
      "text/plain": [
       "'/mnt/rds/redhen/gallina/home/hxm471/'"
      ]
     },
     "execution_count": 3,
     "metadata": {},
     "output_type": "execute_result"
    }
   ],
   "source": [
    "# Print out hxm471 home path\n",
    "const.H_GAL_HOME_PATH"
   ]
  },
  {
   "cell_type": "markdown",
   "id": "ecc985e8",
   "metadata": {},
   "source": [
    "## Load in npy as array "
   ]
  },
  {
   "cell_type": "code",
   "execution_count": 4,
   "id": "793ed27b",
   "metadata": {},
   "outputs": [],
   "source": [
    "mmap_path = const.H_GAL_HOME_PATH+'splits/final_data.npy'"
   ]
  },
  {
   "cell_type": "code",
   "execution_count": 5,
   "id": "f5394f5c",
   "metadata": {},
   "outputs": [
    {
     "data": {
      "text/plain": [
       "memmap([[0.08917022, 0.84544146, 0.44809267, ..., 0.        , 0.45554054,\n",
       "         0.        ],\n",
       "        [0.15810597, 1.2581841 , 0.3175806 , ..., 0.06767387, 0.45191595,\n",
       "         0.        ],\n",
       "        [0.02067209, 1.2264552 , 0.5643891 , ..., 0.        , 0.32206726,\n",
       "         0.04237133],\n",
       "        ...,\n",
       "        [0.00581191, 0.45550644, 1.0652678 , ..., 0.14126919, 0.17970088,\n",
       "         0.        ],\n",
       "        [0.0159185 , 0.8542656 , 1.1215458 , ..., 0.1491844 , 0.22712366,\n",
       "         0.02403476],\n",
       "        [0.01115171, 0.44100156, 1.4400382 , ..., 0.20210318, 0.2517071 ,\n",
       "         0.        ]], dtype=float32)"
      ]
     },
     "execution_count": 5,
     "metadata": {},
     "output_type": "execute_result"
    }
   ],
   "source": [
    "data = np.load(mmap_path,mmap_mode='r')\n",
    "data"
   ]
  },
  {
   "cell_type": "code",
   "execution_count": 9,
   "id": "28c75178",
   "metadata": {},
   "outputs": [],
   "source": [
    "mmap_path_n2 = const.H_GAL_HOME_PATH+'splits/phase-2-2_outputs.npy'\n",
    "mmap_path_n3 = const.H_GAL_HOME_PATH+'splits/phase-2-3_outputs.npy'\n",
    "mmap_path_n4 = const.H_GAL_HOME_PATH+'splits/phase-2-4_outputs.npy'\n",
    "mmap_path_n5 = const.H_GAL_HOME_PATH+'splits/phase-2-5_outputs.npy'"
   ]
  },
  {
   "cell_type": "code",
   "execution_count": 10,
   "id": "814f7913",
   "metadata": {},
   "outputs": [],
   "source": [
    "output_n2 = np.load(mmap_path_n2,mmap_mode='r')\n",
    "output_n3 = np.load(mmap_path_n3,mmap_mode='r')\n",
    "output_n4 = np.load(mmap_path_n4,mmap_mode='r')\n",
    "output_n5 = np.load(mmap_path_n5,mmap_mode='r')"
   ]
  },
  {
   "cell_type": "markdown",
   "id": "33a063ed",
   "metadata": {},
   "source": [
    "## Analyze Outputs "
   ]
  },
  {
   "cell_type": "code",
   "execution_count": 36,
   "id": "b935f0c8",
   "metadata": {},
   "outputs": [],
   "source": [
    "def mean_median_mode_std(values):\n",
    "    avg = np.average(values)\n",
    "    median = np.median(values)\n",
    "    std = np.std(values)\n",
    "    mode = stats.mode(values)\n",
    "    \n",
    "    print(\"Number of clusters:\",len(values))\n",
    "    print(\"Average:\",avg)\n",
    "    print(\"Median:\",median)\n",
    "    print(\"Mode:\",mode)\n",
    "    print(\"Standard Deviation:\",std)"
   ]
  },
  {
   "cell_type": "markdown",
   "id": "7b88bc78",
   "metadata": {},
   "source": [
    "### N Neighbors = 2 "
   ]
  },
  {
   "cell_type": "code",
   "execution_count": 11,
   "id": "f6338cdb",
   "metadata": {},
   "outputs": [
    {
     "data": {
      "text/plain": [
       "memmap([    0,     0,     0, ..., 20990,    -1, 20990], dtype=int32)"
      ]
     },
     "execution_count": 11,
     "metadata": {},
     "output_type": "execute_result"
    }
   ],
   "source": [
    "output_n2"
   ]
  },
  {
   "cell_type": "code",
   "execution_count": 13,
   "id": "48386df1",
   "metadata": {},
   "outputs": [],
   "source": [
    "unique_n2, counts_n2 = np.unique(output_n2, return_counts=True)\n",
    "label_counts_n2 = np.column_stack((unique_n2,counts_n2))"
   ]
  },
  {
   "cell_type": "code",
   "execution_count": 30,
   "id": "f5221596",
   "metadata": {},
   "outputs": [
    {
     "name": "stdout",
     "output_type": "stream",
     "text": [
      "Number of input features: 145305\n",
      "Number of clusters: 21001\n"
     ]
    }
   ],
   "source": [
    "print(\"Number of input features:\",len(output_n2))\n",
    "print(\"Number of clusters:\",len(label_counts_n2))"
   ]
  },
  {
   "cell_type": "code",
   "execution_count": 22,
   "id": "e4ee0d22",
   "metadata": {
    "scrolled": true
   },
   "outputs": [
    {
     "data": {
      "text/plain": [
       "array([[   -1, 28649],\n",
       "       [    2,  6563],\n",
       "       [ 1120,   421],\n",
       "       [ 4779,   348],\n",
       "       [ 1663,   250],\n",
       "       [ 2477,   199],\n",
       "       [  770,   142],\n",
       "       [ 1647,   141],\n",
       "       [ 2406,   120],\n",
       "       [ 5342,   119]])"
      ]
     },
     "execution_count": 22,
     "metadata": {},
     "output_type": "execute_result"
    }
   ],
   "source": [
    "sorted_label_counts_n2 = label_counts_n2[label_counts_n2[:,1].argsort()]\n",
    "sorted_label_counts_n2[::-1][:10]"
   ]
  },
  {
   "cell_type": "code",
   "execution_count": 37,
   "id": "bdae5cf4",
   "metadata": {},
   "outputs": [
    {
     "name": "stdout",
     "output_type": "stream",
     "text": [
      "Number of clusters: 21001\n",
      "Average: 6.918956240179039\n",
      "Median: 4.0\n",
      "Mode: ModeResult(mode=array([3]), count=array([8647]))\n",
      "Standard Deviation: 202.87316381740104\n"
     ]
    }
   ],
   "source": [
    "mean_median_mode_std(label_counts_n2[:,1])"
   ]
  },
  {
   "cell_type": "code",
   "execution_count": 33,
   "id": "c0e4348d",
   "metadata": {},
   "outputs": [
    {
     "name": "stdout",
     "output_type": "stream",
     "text": [
      "Average: 6.918956240179039\n",
      "Median: 4.0\n",
      "Mode: ModeResult(mode=array([3]), count=array([8647]))\n",
      "Standard Deviation: 202.87316381740104\n"
     ]
    }
   ],
   "source": [
    "n2_avg = np.average(label_counts_n2[:,1])\n",
    "n2_median = np.median(label_counts_n2[:,1])\n",
    "n2_std = np.std(label_counts_n2[:,1])\n",
    "from scipy import stats\n",
    "n2_mode = stats.mode(label_counts_n2[:,1])\n",
    "\n",
    "print(\"Average:\",n2_avg)\n",
    "print(\"Median:\",n2_median)\n",
    "print(\"Mode:\",n2_mode)\n",
    "print(\"Standard Deviation:\",n2_std)"
   ]
  },
  {
   "cell_type": "code",
   "execution_count": 14,
   "id": "0746745a",
   "metadata": {
    "scrolled": true
   },
   "outputs": [
    {
     "name": "stdout",
     "output_type": "stream",
     "text": [
      "\n",
      "[22432  1432  1433  1432  1434  1432  1433  1432  1433  1432  1433  1432\n",
      "  1433  1432   946     0     0     0     0     1]\n",
      "[-1.00000e+00  1.43150e+03  2.86400e+03  4.29650e+03  5.72900e+03\n",
      "  7.16150e+03  8.59400e+03  1.00265e+04  1.14590e+04  1.28915e+04\n",
      "  1.43240e+04  1.57565e+04  1.71890e+04  1.86215e+04  2.00540e+04\n",
      "  2.14865e+04  2.29190e+04  2.43515e+04  2.57840e+04  2.72165e+04\n",
      "  2.86490e+04]\n",
      "\n"
     ]
    },
    {
     "data": {
      "image/png": "[encoded data removed]",
      "text/plain": [
       "<Figure size 432x288 with 1 Axes>"
      ]
     },
     "metadata": {
      "needs_background": "light"
     },
     "output_type": "display_data"
    }
   ],
   "source": [
    "hist, bins = np.histogram(label_counts_n2,bins=20)\n",
    "plt.hist(hist, bins)\n",
    "# printing histogram\n",
    "print()\n",
    "print (hist)\n",
    "print (bins)\n",
    "print()"
   ]
  },
  {
   "cell_type": "markdown",
   "id": "a02c3c78",
   "metadata": {},
   "source": [
    "### N Neighbors = 3"
   ]
  },
  {
   "cell_type": "code",
   "execution_count": 38,
   "id": "81ff33f7",
   "metadata": {},
   "outputs": [],
   "source": [
    "unique_n3, counts_n3 = np.unique(output_n3, return_counts=True)\n",
    "label_counts_n3 = np.column_stack((unique_n3,counts_n3))"
   ]
  },
  {
   "cell_type": "code",
   "execution_count": 39,
   "id": "4d798f9b",
   "metadata": {},
   "outputs": [
    {
     "name": "stdout",
     "output_type": "stream",
     "text": [
      "Number of clusters: 13479\n",
      "Average: 10.780102381482306\n",
      "Median: 5.0\n",
      "Mode: ModeResult(mode=array([5]), count=array([4738]))\n",
      "Standard Deviation: 307.90113534916253\n"
     ]
    }
   ],
   "source": [
    "mean_median_mode_std(label_counts_n3[:,1])"
   ]
  },
  {
   "cell_type": "markdown",
   "id": "0f95f905",
   "metadata": {},
   "source": [
    "### N Neighbors = 4 "
   ]
  },
  {
   "cell_type": "code",
   "execution_count": 40,
   "id": "ffc5479f",
   "metadata": {},
   "outputs": [],
   "source": [
    "unique_n4, counts_n4 = np.unique(output_n4, return_counts=True)\n",
    "label_counts_n4 = np.column_stack((unique_n4,counts_n4))"
   ]
  },
  {
   "cell_type": "code",
   "execution_count": 41,
   "id": "02d9f9ef",
   "metadata": {},
   "outputs": [
    {
     "name": "stdout",
     "output_type": "stream",
     "text": [
      "Number of clusters: 8720\n",
      "Average: 16.66341743119266\n",
      "Median: 5.0\n",
      "Mode: ModeResult(mode=array([5]), count=array([4500]))\n",
      "Standard Deviation: 606.3514501449703\n"
     ]
    }
   ],
   "source": [
    "mean_median_mode_std(label_counts_n4[:,1])"
   ]
  },
  {
   "cell_type": "markdown",
   "id": "d7591c65",
   "metadata": {},
   "source": [
    "### N Neighbors = 5"
   ]
  },
  {
   "cell_type": "code",
   "execution_count": 42,
   "id": "f99e261c",
   "metadata": {},
   "outputs": [],
   "source": [
    "unique_n5, counts_n5 = np.unique(output_n5, return_counts=True)\n",
    "label_counts_n5 = np.column_stack((unique_n5,counts_n5))"
   ]
  },
  {
   "cell_type": "code",
   "execution_count": 43,
   "id": "87e28283",
   "metadata": {},
   "outputs": [
    {
     "name": "stdout",
     "output_type": "stream",
     "text": [
      "Number of clusters: 3939\n",
      "Average: 36.88880426504189\n",
      "Median: 9.0\n",
      "Mode: ModeResult(mode=array([6]), count=array([755]))\n",
      "Standard Deviation: 1333.1194053402387\n"
     ]
    }
   ],
   "source": [
    "mean_median_mode_std(label_counts_n5[:,1])"
   ]
  },
  {
   "cell_type": "code",
   "execution_count": null,
   "id": "87a05dce",
   "metadata": {},
   "outputs": [],
   "source": []
  }
 ],
 "metadata": {
  "kernelspec": {
   "display_name": "Python 3 (ipykernel)",
   "language": "python",
   "name": "python3"
  },
  "language_info": {
   "codemirror_mode": {
    "name": "ipython",
    "version": 3
   },
   "file_extension": ".py",
   "mimetype": "text/x-python",
   "name": "python",
   "nbconvert_exporter": "python",
   "pygments_lexer": "ipython3",
   "version": "3.8.10"
  }
 },
 "nbformat": 4,
 "nbformat_minor": 5
}
