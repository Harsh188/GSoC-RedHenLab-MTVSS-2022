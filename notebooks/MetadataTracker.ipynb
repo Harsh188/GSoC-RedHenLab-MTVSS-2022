{
 "cells": [
  {
   "cell_type": "markdown",
   "id": "ad59a774",
   "metadata": {},
   "source": [
    "# Metadata Tracker\n",
    "\n",
    "This notebook keeps track of what mp4 files have been processed and the degree to which they have been processed.\n",
    "\n",
    "Copyright (c) 2022 Harshith Mohan Kumar"
   ]
  },
  {
   "cell_type": "code",
   "execution_count": 1,
   "id": "f1a38755",
   "metadata": {},
   "outputs": [],
   "source": [
    "# Imports\n",
    "import numpy as np\n",
    "import pandas as pd\n",
    "import matplotlib.pyplot as plt\n",
    "import random\n",
    "\n",
    "import os\n",
    "import sys\n",
    "import glob\n",
    "import warnings\n",
    "\n",
    "# Reload changed modules every time\n",
    "%load_ext autoreload\n",
    "%autoreload 2"
   ]
  },
  {
   "cell_type": "code",
   "execution_count": 2,
   "id": "36aa7a5d",
   "metadata": {},
   "outputs": [],
   "source": [
    "sys.path.insert(0, '/mnt/rds/redhen/gallina/home/hxm471/'\\\n",
    "                'RedHenLab-Multimodal_TV_Show_Segmentation/mtvss/')\n",
    "import constants as const"
   ]
  },
  {
   "cell_type": "code",
   "execution_count": 3,
   "id": "466ddfbe",
   "metadata": {},
   "outputs": [
    {
     "data": {
      "text/plain": [
       "'/mnt/rds/redhen/gallina/home/hxm471/'"
      ]
     },
     "execution_count": 3,
     "metadata": {},
     "output_type": "execute_result"
    }
   ],
   "source": [
    "# Print out hxm471 gallina home path\n",
    "const.H_GAL_HOME_PATH"
   ]
  },
  {
   "cell_type": "markdown",
   "id": "2a5b55db",
   "metadata": {},
   "source": [
    "## Populate DataFrame"
   ]
  },
  {
   "cell_type": "code",
   "execution_count": 4,
   "id": "133c4794",
   "metadata": {},
   "outputs": [],
   "source": [
    "# Crate dictonary to store values\n",
    "data = {'File_Name':[],'Stage-1-Music':[],'Stage-2-Images':[]}\n",
    "# Get path of splits within gallina home\n",
    "splits_folder = 'splits/tmp/'"
   ]
  },
  {
   "cell_type": "code",
   "execution_count": 5,
   "id": "66b1bc27",
   "metadata": {},
   "outputs": [
    {
     "data": {
      "text/plain": [
       "5676"
      ]
     },
     "execution_count": 5,
     "metadata": {},
     "output_type": "execute_result"
    }
   ],
   "source": [
    "for file in glob.glob(const.H_GAL_HOME_PATH+splits_folder+'*_feats.csv'):\n",
    "    file_basename = os.path.basename(file)[:-10]\n",
    "    data['File_Name'].append(file_basename)\n",
    "    data['Stage-1-Music'].append('Not-Done')\n",
    "    data['Stage-2-Images'].append('Not-Done')\n",
    "    \n",
    "len(data['File_Name'])"
   ]
  },
  {
   "cell_type": "markdown",
   "id": "52e75e44",
   "metadata": {},
   "source": [
    "### Stage-1 Check"
   ]
  },
  {
   "cell_type": "code",
   "execution_count": 6,
   "id": "9e79f40b",
   "metadata": {
    "scrolled": true
   },
   "outputs": [
    {
     "name": "stdout",
     "output_type": "stream",
     "text": [
      "invalid literal for int() with base 10: 'None'\n",
      "\n",
      "On file: ['/mnt/rds/redhen/gallina/home/hxm471/splits/tmp/2003-01-31', '0000', 'US', '00009298', 'V2', 'VHSP11', 'MB6', 'H8', 'DJ', '0', 'None', 'loge']\n",
      "invalid literal for int() with base 10: 'None'\n",
      "\n",
      "On file: ['/mnt/rds/redhen/gallina/home/hxm471/splits/tmp/2005-10-07', '0000', 'US', '00001279', 'V3', 'VHSP8', 'MB2', 'H9', 'KE', 'BE', '0', 'None', 'loge']\n",
      "invalid literal for int() with base 10: 'None'\n",
      "\n",
      "On file: ['/mnt/rds/redhen/gallina/home/hxm471/splits/tmp/2003-05-07', '0000', 'US', '00009610', 'V3', 'VHS15', 'MB4', 'H12', 'GG', '0', 'None', 'loge']\n"
     ]
    },
    {
     "data": {
      "text/plain": [
       "5676"
      ]
     },
     "execution_count": 6,
     "metadata": {},
     "output_type": "execute_result"
    }
   ],
   "source": [
    "# Checking if stage one is complete by determing features files\n",
    "for feats in glob.glob(const.H_GAL_HOME_PATH+splits_folder+'*_loge.npy'):\n",
    "    split_f = feats[:-4].split('_')\n",
    "    \n",
    "    file_basename = os.path.basename('_'.join(split_f[:-3]))\n",
    "\n",
    "    try:\n",
    "        idx = data['File_Name'].index(file_basename)\n",
    "        if(split_f[-3] is not None and split_f[-2] is not None):\n",
    "            if(int(split_f[-3])==int(split_f[-2])):\n",
    "                data['Stage-1-Music'][idx]='Done'\n",
    "                continue\n",
    "    except Exception as e:\n",
    "        print(e)\n",
    "        print(\"\\nOn file:\",split_f)\n",
    "        data['Stage-1-Music'][idx]='None'\n",
    "            \n",
    "len(data['Stage-1-Music'])"
   ]
  },
  {
   "cell_type": "markdown",
   "id": "25380658",
   "metadata": {},
   "source": [
    "### Stage-2 Check"
   ]
  },
  {
   "cell_type": "code",
   "execution_count": 13,
   "id": "5d32d374",
   "metadata": {
    "scrolled": true
   },
   "outputs": [
    {
     "data": {
      "text/plain": [
       "5676"
      ]
     },
     "execution_count": 13,
     "metadata": {},
     "output_type": "execute_result"
    }
   ],
   "source": [
    "# Checking if stage two is complete by checking if image_features.npy file exists\n",
    "for feats in glob.glob(const.H_GAL_HOME_PATH+splits_folder+'*image_features.npy'):\n",
    "    split_f = feats[:-4].split('_')\n",
    "    \n",
    "    file_basename = os.path.basename('_'.join(split_f[:-2]))\n",
    "    \n",
    "    try:\n",
    "        idx = data['File_Name'].index(file_basename)\n",
    "        data['Stage-2-Images'][idx]='Done'\n",
    "        continue\n",
    "    except Exception as e:\n",
    "        print(e)\n",
    "        print(\"\\nOn file:\",split_f)\n",
    "        data['Stage-2-Images'][idx]='None'\n",
    "            \n",
    "len(data['Stage-2-Images'])"
   ]
  },
  {
   "cell_type": "markdown",
   "id": "630d1786",
   "metadata": {},
   "source": [
    "## Create DataFrame to hold status"
   ]
  },
  {
   "cell_type": "code",
   "execution_count": 14,
   "id": "cdb2c00a",
   "metadata": {
    "scrolled": false
   },
   "outputs": [
    {
     "data": {
      "text/html": [
       "<div>\n",
       "<style scoped>\n",
       "    .dataframe tbody tr th:only-of-type {\n",
       "        vertical-align: middle;\n",
       "    }\n",
       "\n",
       "    .dataframe tbody tr th {\n",
       "        vertical-align: top;\n",
       "    }\n",
       "\n",
       "    .dataframe thead th {\n",
       "        text-align: right;\n",
       "    }\n",
       "</style>\n",
       "<table border=\"1\" class=\"dataframe\">\n",
       "  <thead>\n",
       "    <tr style=\"text-align: right;\">\n",
       "      <th></th>\n",
       "      <th>File_Name</th>\n",
       "      <th>Stage-1-Music</th>\n",
       "      <th>Stage-2-Images</th>\n",
       "    </tr>\n",
       "  </thead>\n",
       "  <tbody>\n",
       "    <tr>\n",
       "      <th>0</th>\n",
       "      <td>1996-10-02_0000_US_00012227_V2_VHSP19_MB26_E12_SC</td>\n",
       "      <td>Done</td>\n",
       "      <td>Done</td>\n",
       "    </tr>\n",
       "    <tr>\n",
       "      <th>1</th>\n",
       "      <td>2006-06-05_0000_US_00002734_V1_MB3_VHS3_H9_JK</td>\n",
       "      <td>Done</td>\n",
       "      <td>Done</td>\n",
       "    </tr>\n",
       "    <tr>\n",
       "      <th>2</th>\n",
       "      <td>2006-08-07_0000_US_00003418_V3_M1_VHS9_H3_JN_2</td>\n",
       "      <td>Done</td>\n",
       "      <td>Done</td>\n",
       "    </tr>\n",
       "    <tr>\n",
       "      <th>3</th>\n",
       "      <td>2000-02-29_0000_US_00012349_V2_VHS14_MB13_H1_PS</td>\n",
       "      <td>Done</td>\n",
       "      <td>Done</td>\n",
       "    </tr>\n",
       "    <tr>\n",
       "      <th>4</th>\n",
       "      <td>2004-10-27_0000_US_00005295_V3_VHSP11_M2_H4_MS_BE</td>\n",
       "      <td>Done</td>\n",
       "      <td>Done</td>\n",
       "    </tr>\n",
       "    <tr>\n",
       "      <th>...</th>\n",
       "      <td>...</td>\n",
       "      <td>...</td>\n",
       "      <td>...</td>\n",
       "    </tr>\n",
       "    <tr>\n",
       "      <th>5671</th>\n",
       "      <td>2003-11-04_0000_US_00015075_V3_VHS28_MB3_E3_CS</td>\n",
       "      <td>Done</td>\n",
       "      <td>Done</td>\n",
       "    </tr>\n",
       "    <tr>\n",
       "      <th>5672</th>\n",
       "      <td>2002-05-03_0000_US_00012092_V3_VHS1_MB3_E3_AA</td>\n",
       "      <td>Done</td>\n",
       "      <td>Not-Done</td>\n",
       "    </tr>\n",
       "    <tr>\n",
       "      <th>5673</th>\n",
       "      <td>2004-09-03_0000_US_00004889_V1_VHS7_MB7_H11_JN</td>\n",
       "      <td>Done</td>\n",
       "      <td>Done</td>\n",
       "    </tr>\n",
       "    <tr>\n",
       "      <th>5674</th>\n",
       "      <td>1997-09-24_0000_US_00017772_V1_VHSP21_MM1_H6_JS</td>\n",
       "      <td>Done</td>\n",
       "      <td>Not-Done</td>\n",
       "    </tr>\n",
       "    <tr>\n",
       "      <th>5675</th>\n",
       "      <td>2006-07-14_0000_US_00008536_V2_VHS16_MB14_H9_PS</td>\n",
       "      <td>Done</td>\n",
       "      <td>Not-Done</td>\n",
       "    </tr>\n",
       "  </tbody>\n",
       "</table>\n",
       "<p>5676 rows × 3 columns</p>\n",
       "</div>"
      ],
      "text/plain": [
       "                                              File_Name Stage-1-Music  \\\n",
       "0     1996-10-02_0000_US_00012227_V2_VHSP19_MB26_E12_SC          Done   \n",
       "1         2006-06-05_0000_US_00002734_V1_MB3_VHS3_H9_JK          Done   \n",
       "2        2006-08-07_0000_US_00003418_V3_M1_VHS9_H3_JN_2          Done   \n",
       "3       2000-02-29_0000_US_00012349_V2_VHS14_MB13_H1_PS          Done   \n",
       "4     2004-10-27_0000_US_00005295_V3_VHSP11_M2_H4_MS_BE          Done   \n",
       "...                                                 ...           ...   \n",
       "5671     2003-11-04_0000_US_00015075_V3_VHS28_MB3_E3_CS          Done   \n",
       "5672      2002-05-03_0000_US_00012092_V3_VHS1_MB3_E3_AA          Done   \n",
       "5673     2004-09-03_0000_US_00004889_V1_VHS7_MB7_H11_JN          Done   \n",
       "5674    1997-09-24_0000_US_00017772_V1_VHSP21_MM1_H6_JS          Done   \n",
       "5675    2006-07-14_0000_US_00008536_V2_VHS16_MB14_H9_PS          Done   \n",
       "\n",
       "     Stage-2-Images  \n",
       "0              Done  \n",
       "1              Done  \n",
       "2              Done  \n",
       "3              Done  \n",
       "4              Done  \n",
       "...             ...  \n",
       "5671           Done  \n",
       "5672       Not-Done  \n",
       "5673           Done  \n",
       "5674       Not-Done  \n",
       "5675       Not-Done  \n",
       "\n",
       "[5676 rows x 3 columns]"
      ]
     },
     "execution_count": 14,
     "metadata": {},
     "output_type": "execute_result"
    }
   ],
   "source": [
    "meta_status_df = pd.DataFrame.from_dict(data=data)\n",
    "meta_status_df"
   ]
  },
  {
   "cell_type": "code",
   "execution_count": 15,
   "id": "12a81ac9",
   "metadata": {},
   "outputs": [
    {
     "data": {
      "text/plain": [
       "Done        5613\n",
       "Not-Done      60\n",
       "None           3\n",
       "Name: Stage-1-Music, dtype: int64"
      ]
     },
     "execution_count": 15,
     "metadata": {},
     "output_type": "execute_result"
    }
   ],
   "source": [
    "meta_status_df['Stage-1-Music'].value_counts()"
   ]
  },
  {
   "cell_type": "code",
   "execution_count": 16,
   "id": "0a6d341e",
   "metadata": {},
   "outputs": [
    {
     "data": {
      "text/plain": [
       "Done        4279\n",
       "Not-Done    1397\n",
       "Name: Stage-2-Images, dtype: int64"
      ]
     },
     "execution_count": 16,
     "metadata": {},
     "output_type": "execute_result"
    }
   ],
   "source": [
    "meta_status_df['Stage-2-Images'].value_counts()"
   ]
  },
  {
   "cell_type": "code",
   "execution_count": 17,
   "id": "d68b5208",
   "metadata": {},
   "outputs": [
    {
     "data": {
      "text/html": [
       "<div>\n",
       "<style scoped>\n",
       "    .dataframe tbody tr th:only-of-type {\n",
       "        vertical-align: middle;\n",
       "    }\n",
       "\n",
       "    .dataframe tbody tr th {\n",
       "        vertical-align: top;\n",
       "    }\n",
       "\n",
       "    .dataframe thead th {\n",
       "        text-align: right;\n",
       "    }\n",
       "</style>\n",
       "<table border=\"1\" class=\"dataframe\">\n",
       "  <thead>\n",
       "    <tr style=\"text-align: right;\">\n",
       "      <th></th>\n",
       "      <th>File_Name</th>\n",
       "      <th>Stage-1-Music</th>\n",
       "      <th>Stage-2-Images</th>\n",
       "    </tr>\n",
       "  </thead>\n",
       "  <tbody>\n",
       "    <tr>\n",
       "      <th>0</th>\n",
       "      <td>1996-10-02_0000_US_00012227_V2_VHSP19_MB26_E12_SC</td>\n",
       "      <td>Done</td>\n",
       "      <td>Done</td>\n",
       "    </tr>\n",
       "    <tr>\n",
       "      <th>1</th>\n",
       "      <td>2006-06-05_0000_US_00002734_V1_MB3_VHS3_H9_JK</td>\n",
       "      <td>Done</td>\n",
       "      <td>Done</td>\n",
       "    </tr>\n",
       "    <tr>\n",
       "      <th>2</th>\n",
       "      <td>2006-08-07_0000_US_00003418_V3_M1_VHS9_H3_JN_2</td>\n",
       "      <td>Done</td>\n",
       "      <td>Done</td>\n",
       "    </tr>\n",
       "    <tr>\n",
       "      <th>3</th>\n",
       "      <td>2000-02-29_0000_US_00012349_V2_VHS14_MB13_H1_PS</td>\n",
       "      <td>Done</td>\n",
       "      <td>Done</td>\n",
       "    </tr>\n",
       "    <tr>\n",
       "      <th>4</th>\n",
       "      <td>2004-10-27_0000_US_00005295_V3_VHSP11_M2_H4_MS_BE</td>\n",
       "      <td>Done</td>\n",
       "      <td>Done</td>\n",
       "    </tr>\n",
       "    <tr>\n",
       "      <th>...</th>\n",
       "      <td>...</td>\n",
       "      <td>...</td>\n",
       "      <td>...</td>\n",
       "    </tr>\n",
       "    <tr>\n",
       "      <th>5671</th>\n",
       "      <td>2003-11-04_0000_US_00015075_V3_VHS28_MB3_E3_CS</td>\n",
       "      <td>Done</td>\n",
       "      <td>Done</td>\n",
       "    </tr>\n",
       "    <tr>\n",
       "      <th>5672</th>\n",
       "      <td>2002-05-03_0000_US_00012092_V3_VHS1_MB3_E3_AA</td>\n",
       "      <td>Done</td>\n",
       "      <td>Not-Done</td>\n",
       "    </tr>\n",
       "    <tr>\n",
       "      <th>5673</th>\n",
       "      <td>2004-09-03_0000_US_00004889_V1_VHS7_MB7_H11_JN</td>\n",
       "      <td>Done</td>\n",
       "      <td>Done</td>\n",
       "    </tr>\n",
       "    <tr>\n",
       "      <th>5674</th>\n",
       "      <td>1997-09-24_0000_US_00017772_V1_VHSP21_MM1_H6_JS</td>\n",
       "      <td>Done</td>\n",
       "      <td>Not-Done</td>\n",
       "    </tr>\n",
       "    <tr>\n",
       "      <th>5675</th>\n",
       "      <td>2006-07-14_0000_US_00008536_V2_VHS16_MB14_H9_PS</td>\n",
       "      <td>Done</td>\n",
       "      <td>Not-Done</td>\n",
       "    </tr>\n",
       "  </tbody>\n",
       "</table>\n",
       "<p>5676 rows × 3 columns</p>\n",
       "</div>"
      ],
      "text/plain": [
       "                                              File_Name Stage-1-Music  \\\n",
       "0     1996-10-02_0000_US_00012227_V2_VHSP19_MB26_E12_SC          Done   \n",
       "1         2006-06-05_0000_US_00002734_V1_MB3_VHS3_H9_JK          Done   \n",
       "2        2006-08-07_0000_US_00003418_V3_M1_VHS9_H3_JN_2          Done   \n",
       "3       2000-02-29_0000_US_00012349_V2_VHS14_MB13_H1_PS          Done   \n",
       "4     2004-10-27_0000_US_00005295_V3_VHSP11_M2_H4_MS_BE          Done   \n",
       "...                                                 ...           ...   \n",
       "5671     2003-11-04_0000_US_00015075_V3_VHS28_MB3_E3_CS          Done   \n",
       "5672      2002-05-03_0000_US_00012092_V3_VHS1_MB3_E3_AA          Done   \n",
       "5673     2004-09-03_0000_US_00004889_V1_VHS7_MB7_H11_JN          Done   \n",
       "5674    1997-09-24_0000_US_00017772_V1_VHSP21_MM1_H6_JS          Done   \n",
       "5675    2006-07-14_0000_US_00008536_V2_VHS16_MB14_H9_PS          Done   \n",
       "\n",
       "     Stage-2-Images  \n",
       "0              Done  \n",
       "1              Done  \n",
       "2              Done  \n",
       "3              Done  \n",
       "4              Done  \n",
       "...             ...  \n",
       "5671           Done  \n",
       "5672       Not-Done  \n",
       "5673           Done  \n",
       "5674       Not-Done  \n",
       "5675       Not-Done  \n",
       "\n",
       "[5676 rows x 3 columns]"
      ]
     },
     "execution_count": 17,
     "metadata": {},
     "output_type": "execute_result"
    }
   ],
   "source": [
    "meta_status_df"
   ]
  },
  {
   "cell_type": "markdown",
   "id": "34a5806d",
   "metadata": {},
   "source": [
    "## Store DataFrame"
   ]
  },
  {
   "cell_type": "code",
   "execution_count": 18,
   "id": "da93e1ad",
   "metadata": {},
   "outputs": [],
   "source": [
    "store_path = '/mnt/rds/redhen/gallina/home/hxm471/'\\\n",
    "                'RedHenLab-Multimodal_TV_Show_Segmentation/mtvss/data/tmp/metadata_tracker.csv'"
   ]
  },
  {
   "cell_type": "code",
   "execution_count": 19,
   "id": "6ace3a7c",
   "metadata": {},
   "outputs": [],
   "source": [
    "meta_status_df.to_csv(store_path)"
   ]
  },
  {
   "cell_type": "code",
   "execution_count": null,
   "id": "3c8605bf",
   "metadata": {},
   "outputs": [],
   "source": []
  }
 ],
 "metadata": {
  "kernelspec": {
   "display_name": "Python 3 (ipykernel)",
   "language": "python",
   "name": "python3"
  },
  "language_info": {
   "codemirror_mode": {
    "name": "ipython",
    "version": 3
   },
   "file_extension": ".py",
   "mimetype": "text/x-python",
   "name": "python",
   "nbconvert_exporter": "python",
   "pygments_lexer": "ipython3",
   "version": "3.8.10"
  }
 },
 "nbformat": 4,
 "nbformat_minor": 5
}
