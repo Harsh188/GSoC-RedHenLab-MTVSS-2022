{
 "cells": [
  {
   "cell_type": "markdown",
   "id": "a44be352",
   "metadata": {},
   "source": [
    "# InaSpeechSegmenter Testing"
   ]
  },
  {
   "cell_type": "code",
   "execution_count": 1,
   "id": "c375a5e0",
   "metadata": {},
   "outputs": [],
   "source": [
    "# Imports\n",
    "import numpy as np\n",
    "import pandas as pd\n",
    "import matplotlib.pyplot as plt\n",
    "\n",
    "import os\n",
    "import sys\n",
    "import glob\n",
    "import re\n",
    "import warnings"
   ]
  },
  {
   "cell_type": "code",
   "execution_count": 2,
   "id": "da7436d5",
   "metadata": {},
   "outputs": [],
   "source": [
    "sys.path.insert(0, '/mnt/rds/redhen/gallina/home/hxm471/RedHenLab-Multimodal_TV_Show_Segmentation/mtvss/')\n",
    "import constants as const\n",
    "sys.path.insert(0, '/mnt/rds/redhen/gallina/home/hxm471/RedHenLab-Multimodal_TV_Show_Segmentation/mtvss/pipeline_stage1')\n",
    "import run_pipeline_stage1\n",
    "from data import Data\n",
    "from model import Model\n",
    "sys.path.insert(0, '/mnt/rds/redhen/gallina/home/hxm471/RedHenLab-Multimodal_TV_Show_Segmentation/inaSpeechSegmenter/inaSpeechSegmenter')\n",
    "from segmenter import Segmenter"
   ]
  },
  {
   "cell_type": "code",
   "execution_count": 3,
   "id": "8c378ab1",
   "metadata": {},
   "outputs": [
    {
     "name": "stderr",
     "output_type": "stream",
     "text": [
      "2022-06-23 03:56:38.913461: E tensorflow/stream_executor/cuda/cuda_driver.cc:271] failed call to cuInit: UNKNOWN ERROR (34)\n",
      "2022-06-23 03:56:38.913514: I tensorflow/stream_executor/cuda/cuda_diagnostics.cc:156] kernel driver does not appear to be running on this host (hpc4): /proc/driver/nvidia/version does not exist\n",
      "2022-06-23 03:56:38.913907: I tensorflow/core/platform/cpu_feature_guard.cc:193] This TensorFlow binary is optimized with oneAPI Deep Neural Network Library (oneDNN) to use the following CPU instructions in performance-critical operations:  AVX2 FMA\n",
      "To enable them in other operations, rebuild TensorFlow with the appropriate compiler flags.\n"
     ]
    }
   ],
   "source": [
    "seg = Segmenter(vad_engine=const.VAD_ENGINE, detect_gender=const.DETECT_GENDER, \n",
    "                ffmpeg=const.FFMPEG_BINARY, energy_ratio=const.ENERGY_RATIO, \n",
    "                batch_size=const.BATCH_SIZE)"
   ]
  },
  {
   "cell_type": "code",
   "execution_count": 4,
   "id": "62ed6ca7",
   "metadata": {},
   "outputs": [
    {
     "name": "stdout",
     "output_type": "stream",
     "text": [
      "Directory exists: True\n"
     ]
    }
   ],
   "source": [
    "odir = '/mnt/rds/redhen/gallina/home/hxm471/RedHenLab-Multimodal_TV_Show_Segmentation/mtvss/data/tmp/splits'\n",
    "print(\"Directory exists:\",os.path.isdir(odir))\n",
    "assert os.access(odir, os.W_OK), 'Directory %s is not writable!' % odir"
   ]
  },
  {
   "cell_type": "code",
   "execution_count": 5,
   "id": "bfbc673a",
   "metadata": {},
   "outputs": [],
   "source": [
    "files = ['/mnt/rds/redhen/gallina/Rosenthal/2006/2006-01/2006-01-19/2006-01-19_0000_US_00002692_V2_MB13_VHS14_H13_CG.mp4']\n",
    "output_file=['/mnt/rds/redhen/gallina/home/hxm471/RedHenLab-Multimodal_TV_Show_Segmentation/mtvss/data/tmp/splits/2006-01-19_0000_US_00002692_V2_MB13_VHS14_H13_CG.csv']\n"
   ]
  },
  {
   "cell_type": "code",
   "execution_count": 6,
   "id": "0481e754",
   "metadata": {},
   "outputs": [
    {
     "data": {
      "text/plain": [
       "[[3, 2, 3]]"
      ]
     },
     "execution_count": 6,
     "metadata": {},
     "output_type": "execute_result"
    }
   ],
   "source": [
    "l = []\n",
    "l_2 = [3,2,3]\n",
    "l.append(l_2)\n",
    "l"
   ]
  },
  {
   "cell_type": "code",
   "execution_count": null,
   "id": "5f496344",
   "metadata": {},
   "outputs": [
    {
     "name": "stdout",
     "output_type": "stream",
     "text": [
      "\n",
      "base files:\n",
      " ['2006-01-19_0000_US_00002692_V2_MB13_VHS14_H13_CG']\n",
      "\n",
      "Output files:\n",
      " ['/mnt/rds/redhen/gallina/home/hxm471/RedHenLab-Multimodal_TV_Show_Segmentation/mtvss/data/tmp/splits/2006-01-19_0000_US_00002692_V2_MB13_VHS14_H13_CG.csv']\n",
      "\n",
      "-- Step 2.3: Starting batch process --\n",
      "\n",
      "batch_processing 1 files\n",
      "output of featGen: <generator object featGenerator at 0x7f9b907017b0>\n",
      "<generator object featGenerator at 0x7f9b907017b0>\n",
      "Thread being joined: <ThreadReturning(Thread-5, started 140300768585472)>\n",
      "Finished probing duration\n",
      "Duration 29586\n",
      "tmpwav /mnt/rds/redhen/gallina/home/hxm471/RedHenLab-Multimodal_TV_Show_Segmentation/mtvss/data/tmp/splits/tmpzgq82chk/2006-01-19_0000_US_00002692_V2_MB13_VHS14_H13_CG_0_2700.wav\n",
      "tmpwav /mnt/rds/redhen/gallina/home/hxm471/RedHenLab-Multimodal_TV_Show_Segmentation/mtvss/data/tmp/splits/tmpzgq82chk/2006-01-19_0000_US_00002692_V2_MB13_VHS14_H13_CG_2700_5400.wav\n",
      "tmpwav /mnt/rds/redhen/gallina/home/hxm471/RedHenLab-Multimodal_TV_Show_Segmentation/mtvss/data/tmp/splits/tmpzgq82chk/2006-01-19_0000_US_00002692_V2_MB13_VHS14_H13_CG_5400_8100.wav\n",
      "tmpwav /mnt/rds/redhen/gallina/home/hxm471/RedHenLab-Multimodal_TV_Show_Segmentation/mtvss/data/tmp/splits/tmpzgq82chk/2006-01-19_0000_US_00002692_V2_MB13_VHS14_H13_CG_8100_10800.wav\n",
      "tmpwav /mnt/rds/redhen/gallina/home/hxm471/RedHenLab-Multimodal_TV_Show_Segmentation/mtvss/data/tmp/splits/tmpzgq82chk/2006-01-19_0000_US_00002692_V2_MB13_VHS14_H13_CG_10800_13500.wav\n",
      "tmpwav /mnt/rds/redhen/gallina/home/hxm471/RedHenLab-Multimodal_TV_Show_Segmentation/mtvss/data/tmp/splits/tmpzgq82chk/2006-01-19_0000_US_00002692_V2_MB13_VHS14_H13_CG_13500_16200.wav\n",
      "tmpwav /mnt/rds/redhen/gallina/home/hxm471/RedHenLab-Multimodal_TV_Show_Segmentation/mtvss/data/tmp/splits/tmpzgq82chk/2006-01-19_0000_US_00002692_V2_MB13_VHS14_H13_CG_16200_18900.wav\n",
      "tmpwav /mnt/rds/redhen/gallina/home/hxm471/RedHenLab-Multimodal_TV_Show_Segmentation/mtvss/data/tmp/splits/tmpzgq82chk/2006-01-19_0000_US_00002692_V2_MB13_VHS14_H13_CG_18900_21600.wav\n",
      "tmpwav /mnt/rds/redhen/gallina/home/hxm471/RedHenLab-Multimodal_TV_Show_Segmentation/mtvss/data/tmp/splits/tmpzgq82chk/2006-01-19_0000_US_00002692_V2_MB13_VHS14_H13_CG_21600_24300.wav\n",
      "tmpwav /mnt/rds/redhen/gallina/home/hxm471/RedHenLab-Multimodal_TV_Show_Segmentation/mtvss/data/tmp/splits/tmpzgq82chk/2006-01-19_0000_US_00002692_V2_MB13_VHS14_H13_CG_24300_27000.wav\n",
      "tmpwav /mnt/rds/redhen/gallina/home/hxm471/RedHenLab-Multimodal_TV_Show_Segmentation/mtvss/data/tmp/splits/tmpzgq82chk/2006-01-19_0000_US_00002692_V2_MB13_VHS14_H13_CG_27000.wav\n"
     ]
    }
   ],
   "source": [
    "\n",
    "    \n",
    "base = [os.path.splitext(os.path.basename(e))[0] for e in files]\n",
    "\n",
    "print(\"\\nbase files:\\n\",base)\n",
    "print(\"\\nOutput files:\\n\",output_file)\n",
    "print(\"\\n-- Step 2.3: Starting batch process --\\n\")\n",
    "\n",
    "seg.batch_process(files, output_file, tmpdir='/mnt/rds/redhen/gallina/home/hxm471/RedHenLab-Multimodal_TV_Show_Segmentation/mtvss/data/tmp/splits/',\n",
    "                  verbose=True, output_format='csv')\n",
    "\n"
   ]
  },
  {
   "cell_type": "code",
   "execution_count": null,
   "id": "c2cded59",
   "metadata": {},
   "outputs": [],
   "source": [
    "files = ['/mnt/rds/redhen/gallina/Rosenthal/2006/2006-01/2006-01-19/2006-01-19_0000_US_00002692_V2_MB13_VHS14_H13_CG.mp4','/mnt/rds/redhen/gallina/Rosenthal/2006/2006-12/2006-12-11/2006-12-11_0000_US_00018530_V1_VHS23_MB22_E1_NV.mp4']\n",
    "output_file=['/mnt/rds/redhen/gallina/home/hxm471/RedHenLab-Multimodal_TV_Show_Segmentation/mtvss/data/tmp/splits/2006-01-19_0000_US_00002692_V2_MB13_VHS14_H13_CG.csv','/mnt/rds/redhen/gallina/home/hxm471/RedHenLab-Multimodal_TV_Show_Segmentation/mtvss/data/tmp/splits/2006-12-11_0000_US_00018530_V1_VHS23_MB22_E1_NV.csv']\n"
   ]
  },
  {
   "cell_type": "code",
   "execution_count": null,
   "id": "37c29853",
   "metadata": {},
   "outputs": [],
   "source": [
    "with warnings.catch_warnings():\n",
    "    warnings.simplefilter(\"ignore\")\n",
    "    \n",
    "    base = [os.path.splitext(os.path.basename(e))[0] for e in files]\n",
    "    \n",
    "    print(\"\\nbase files:\\n\",base)\n",
    "    print(\"\\nOutput files:\\n\",output_file)\n",
    "    print(\"\\n-- Step 2.3: Starting batch process --\\n\")\n",
    "    \n",
    "    seg.batch_process(files, output_file, tmpdir='/mnt/rds/redhen/gallina/home/hxm471/RedHenLab-Multimodal_TV_Show_Segmentation/mtvss/data/tmp/splits/',\n",
    "                      verbose=True, output_format='csv')"
   ]
  },
  {
   "cell_type": "code",
   "execution_count": null,
   "id": "11d9019a",
   "metadata": {},
   "outputs": [],
   "source": [
    "from subprocess import Popen, PIPE"
   ]
  },
  {
   "cell_type": "code",
   "execution_count": null,
   "id": "6efccec1",
   "metadata": {},
   "outputs": [],
   "source": []
  },
  {
   "cell_type": "code",
   "execution_count": null,
   "id": "275dea24",
   "metadata": {},
   "outputs": [],
   "source": [
    "args = [\"ffprobe\",\"-i\",files[0],\"-v\",\"quiet\",\"-show_entries\",\"format=duration\",\n",
    "       \"-of\",\"default=noprint_wrappers=1:nokey=1\"]"
   ]
  },
  {
   "cell_type": "code",
   "execution_count": null,
   "id": "4b829e09",
   "metadata": {},
   "outputs": [],
   "source": [
    "p = Popen(args, stdout=PIPE, stderr=PIPE)"
   ]
  },
  {
   "cell_type": "code",
   "execution_count": null,
   "id": "9db9422d",
   "metadata": {},
   "outputs": [],
   "source": [
    "output,error = p.communicate()"
   ]
  },
  {
   "cell_type": "code",
   "execution_count": null,
   "id": "88e90961",
   "metadata": {},
   "outputs": [],
   "source": [
    "type(output.decode(\"utf-8\"))"
   ]
  },
  {
   "cell_type": "code",
   "execution_count": null,
   "id": "6cc2747d",
   "metadata": {},
   "outputs": [],
   "source": [
    "s_output_strip = output.decode(\"utf-8\").strip()\n",
    "s_output_strip"
   ]
  },
  {
   "cell_type": "code",
   "execution_count": null,
   "id": "1e095573",
   "metadata": {},
   "outputs": [],
   "source": [
    "f_output_strip = float(s_output_strip)\n",
    "f_output_strip"
   ]
  },
  {
   "cell_type": "code",
   "execution_count": null,
   "id": "7aded271",
   "metadata": {},
   "outputs": [],
   "source": [
    "i_output = int(f_output_strip)\n",
    "i_output"
   ]
  },
  {
   "cell_type": "code",
   "execution_count": null,
   "id": "ff485d3d",
   "metadata": {},
   "outputs": [],
   "source": [
    "import math"
   ]
  },
  {
   "cell_type": "code",
   "execution_count": null,
   "id": "471d9723",
   "metadata": {},
   "outputs": [],
   "source": [
    "i_output//2700"
   ]
  },
  {
   "cell_type": "code",
   "execution_count": null,
   "id": "e80b1b24",
   "metadata": {
    "scrolled": true
   },
   "outputs": [],
   "source": [
    "for i in range(math.ceil(i_output/2700)):\n",
    "    if(math.ceil(i_output/2700)-1 == i):\n",
    "        start_sec = i*2700\n",
    "        args += ['-ss', '%f' % start_sec]\n",
    "        tmpwav = tmpdirname + '/' + base + '_'+str(start_sec)+'.wav'\n",
    "    else:\n",
    "        start_sec = i*2700\n",
    "        args += ['-ss', '%f' % start_sec]\n",
    "\n",
    "        stop_sec = start_sec+2700\n",
    "        args += ['-to', '%f' % stop_sec]\n",
    "\n",
    "        tmpwav = tmpdirname + '/' + base + '_'+str(start_sec)+'_'+str(stop_sec)+'.wav'\n",
    "\n",
    "    print('tmpwav',tmpwav)\n",
    "    args += [tmpwav]\n",
    "\n",
    "    # launch ffmpeg\n",
    "    p = Popen(args, stdout=PIPE, stderr=PIPE)\n",
    "    output, error = p.communicate()\n",
    "    assert p.returncode == 0, error\n",
    "\n",
    "    # Get Mel Power Spectrogram and Energy\n",
    "    try:\n",
    "        mel_output.append([_wav2feats(tmpwav)])\n",
    "        print(mel_output)\n",
    "    except:\n",
    "        print(_wav2feats(tmpwav))\n",
    "        print(mel_output)"
   ]
  },
  {
   "cell_type": "code",
   "execution_count": null,
   "id": "144cfedf",
   "metadata": {},
   "outputs": [],
   "source": [
    "i_output*2585"
   ]
  },
  {
   "cell_type": "code",
   "execution_count": null,
   "id": "245908d1",
   "metadata": {},
   "outputs": [],
   "source": []
  }
 ],
 "metadata": {
  "kernelspec": {
   "display_name": "Python 3 (ipykernel)",
   "language": "python",
   "name": "python3"
  },
  "language_info": {
   "codemirror_mode": {
    "name": "ipython",
    "version": 3
   },
   "file_extension": ".py",
   "mimetype": "text/x-python",
   "name": "python",
   "nbconvert_exporter": "python",
   "pygments_lexer": "ipython3",
   "version": "3.8.10"
  }
 },
 "nbformat": 4,
 "nbformat_minor": 5
}
