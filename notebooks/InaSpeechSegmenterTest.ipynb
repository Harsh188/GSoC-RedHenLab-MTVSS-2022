{
 "cells": [
  {
   "cell_type": "markdown",
   "id": "a44be352",
   "metadata": {},
   "source": [
    "# InaSpeechSegmenter Testing"
   ]
  },
  {
   "cell_type": "code",
   "execution_count": 1,
   "id": "c375a5e0",
   "metadata": {},
   "outputs": [],
   "source": [
    "# Imports\n",
    "import numpy as np\n",
    "import pandas as pd\n",
    "import matplotlib.pyplot as plt\n",
    "\n",
    "import os\n",
    "import sys\n",
    "import glob\n",
    "import re\n",
    "import warnings\n",
    "\n",
    "# Reload changed modules every time\n",
    "%load_ext autoreload\n",
    "%autoreload 2"
   ]
  },
  {
   "cell_type": "code",
   "execution_count": 2,
   "id": "da7436d5",
   "metadata": {},
   "outputs": [],
   "source": [
    "sys.path.insert(0, '/mnt/rds/redhen/gallina/home/hxm471/RedHenLab-Multimodal_TV_Show_Segmentation/mtvss/')\n",
    "import constants as const\n",
    "sys.path.insert(0, '/mnt/rds/redhen/gallina/home/hxm471/RedHenLab-Multimodal_TV_Show_Segmentation/mtvss/pipeline_stage1')\n",
    "import run_pipeline_stage1\n",
    "from data import Data\n",
    "from model import Model\n",
    "sys.path.insert(0, '/mnt/rds/redhen/gallina/home/hxm471/RedHenLab-Multimodal_TV_Show_Segmentation/inaSpeechSegmenter/inaSpeechSegmenter')\n",
    "from segmenter import Segmenter"
   ]
  },
  {
   "cell_type": "code",
   "execution_count": 3,
   "id": "8c378ab1",
   "metadata": {},
   "outputs": [
    {
     "name": "stderr",
     "output_type": "stream",
     "text": [
      "2022-06-27 05:37:13.500012: E tensorflow/stream_executor/cuda/cuda_driver.cc:271] failed call to cuInit: UNKNOWN ERROR (34)\n",
      "2022-06-27 05:37:13.500058: I tensorflow/stream_executor/cuda/cuda_diagnostics.cc:156] kernel driver does not appear to be running on this host (hpc4): /proc/driver/nvidia/version does not exist\n",
      "2022-06-27 05:37:13.500396: I tensorflow/core/platform/cpu_feature_guard.cc:193] This TensorFlow binary is optimized with oneAPI Deep Neural Network Library (oneDNN) to use the following CPU instructions in performance-critical operations:  AVX2 FMA\n",
      "To enable them in other operations, rebuild TensorFlow with the appropriate compiler flags.\n"
     ]
    }
   ],
   "source": [
    "seg = Segmenter(vad_engine=const.VAD_ENGINE, detect_gender=const.DETECT_GENDER, \n",
    "                ffmpeg=const.FFMPEG_BINARY, energy_ratio=const.ENERGY_RATIO, \n",
    "                batch_size=const.BATCH_SIZE)"
   ]
  },
  {
   "cell_type": "code",
   "execution_count": 4,
   "id": "62ed6ca7",
   "metadata": {},
   "outputs": [
    {
     "name": "stdout",
     "output_type": "stream",
     "text": [
      "Directory exists: True\n"
     ]
    }
   ],
   "source": [
    "odir = '/mnt/rds/redhen/gallina/home/hxm471/RedHenLab-Multimodal_TV_Show_Segmentation/mtvss/data/tmp/splits'\n",
    "print(\"Directory exists:\",os.path.isdir(odir))\n",
    "assert os.access(odir, os.W_OK), 'Directory %s is not writable!' % odir"
   ]
  },
  {
   "cell_type": "code",
   "execution_count": 5,
   "id": "bfbc673a",
   "metadata": {},
   "outputs": [],
   "source": [
    "files = ['/mnt/rds/redhen/gallina/Rosenthal/2006/2006-01/2006-01-19/2006-01-19_0000_US_00002692_V2_MB13_VHS14_H13_CG.mp4']\n",
    "output_file=['/mnt/rds/redhen/gallina/home/hxm471/RedHenLab-Multimodal_TV_Show_Segmentation/mtvss/data/tmp/splits/2006-01-19_0000_US_00002692_V2_MB13_VHS14_H13_CG.csv']\n"
   ]
  },
  {
   "cell_type": "code",
   "execution_count": 6,
   "id": "0481e754",
   "metadata": {},
   "outputs": [
    {
     "data": {
      "text/plain": [
       "[[3, 2, 3]]"
      ]
     },
     "execution_count": 6,
     "metadata": {},
     "output_type": "execute_result"
    }
   ],
   "source": [
    "l = []\n",
    "l_2 = [3,2,3]\n",
    "l.append(l_2)\n",
    "l"
   ]
  },
  {
   "cell_type": "code",
   "execution_count": 7,
   "id": "1bd476fa",
   "metadata": {},
   "outputs": [
    {
     "data": {
      "text/plain": [
       "2"
      ]
     },
     "execution_count": 7,
     "metadata": {},
     "output_type": "execute_result"
    }
   ],
   "source": [
    "test_tup = (3, (3,3,4))\n",
    "test_tup[1][2]\n",
    "len(test_tup)"
   ]
  },
  {
   "cell_type": "code",
   "execution_count": 19,
   "id": "4866acdb",
   "metadata": {},
   "outputs": [
    {
     "data": {
      "text/plain": [
       "array([[-32.463764 , -32.035408 , -31.539701 , -29.74881  , -29.935236 ,\n",
       "        -30.722246 ],\n",
       "       [-13.255214 , -13.140497 , -13.16552  , -13.3342905, -13.762875 ,\n",
       "        -13.80878  ],\n",
       "       [-10.913487 ,  -9.879338 , -10.441387 ,  -7.4880433,  -8.006143 ,\n",
       "         -8.794882 ]], dtype=float32)"
      ]
     },
     "execution_count": 19,
     "metadata": {},
     "output_type": "execute_result"
    }
   ],
   "source": [
    "mspec=np.array([[-32.463764 , -32.035408 , -31.539701 , -29.74881  ,\n",
    "        -29.935236 , -30.722246 ],\n",
    "       [-13.255214 , -13.140497 , -13.16552 , -13.3342905,\n",
    "        -13.762875 , -13.80878  ],\n",
    "       [-10.913487 ,  -9.879338 , -10.441387 ,  -7.4880433,\n",
    "         -8.006143 ,  -8.794882 ]], dtype='f')\n",
    "mspec"
   ]
  },
  {
   "cell_type": "code",
   "execution_count": 21,
   "id": "ab629a78",
   "metadata": {},
   "outputs": [
    {
     "data": {
      "text/plain": [
       "array([-18.87271  ,  -5.199673 ,  -4.035604 ,  -2.8083267,  -2.9989595,\n",
       "        -3.1119235], dtype=float32)"
      ]
     },
     "execution_count": 21,
     "metadata": {},
     "output_type": "execute_result"
    }
   ],
   "source": [
    "loge=np.array([-18.87271  ,  -5.199673 ,  -4.035604 ,  -2.8083267,\n",
    "        -2.9989595,  -3.1119235],dtype='f')\n",
    "loge"
   ]
  },
  {
   "cell_type": "code",
   "execution_count": 22,
   "id": "73beb8dd",
   "metadata": {},
   "outputs": [],
   "source": [
    "msg=(0, 'ok', (0, 0, 2700))"
   ]
  },
  {
   "cell_type": "code",
   "execution_count": 28,
   "id": "73be4884",
   "metadata": {},
   "outputs": [],
   "source": [
    "lseg=[('speech', 0.0, 14.36), ('music', 14.36, 17.34), ('speech', 17.34, 27.8), ('music', 27.8, 33.72), ('speech', 33.72, 36.52), ('music', 36.52, 38.9), ('noEnergy', 38.9, 39.34), ('speech', 39.34, 48.06), ('noEnergy', 48.06, 48.5), ('speech', 48.5, 59.160000000000004), ('noise', 59.160000000000004, 65.26), ('speech', 65.26, 69.32000000000001), ('music', 69.32000000000001, 70.28), ('noise', 70.28, 137.86), ('music', 137.86, 144.68), ('noise', 144.68, 157.94), ('speech', 157.94, 179.9), ('noEnergy', 179.9, 180.5), ('noise', 180.5, 182.82), ('speech', 182.82, 186.12), ('noise', 186.12, 188.28), ('music', 188.28, 192.74), ('speech', 192.74, 299.26), ('music', 299.26, 308.94), ('speech', 308.94, 357.6), ('noise', 357.6, 361.64), ('music', 361.64, 369.5), ('noise', 369.5, 372.12), ('music', 372.12, 422.68), ('noise', 422.68, 427.78000000000003), ('speech', 427.78000000000003, 432.40000000000003), ('noise', 432.40000000000003, 435.04), ('music', 435.04, 439.48), ('speech', 439.48, 446.32), ('music', 446.32, 452.66), ('noise', 452.66, 462.82), ('music', 462.82, 466.90000000000003), ('speech', 466.90000000000003, 490.86), ('noEnergy', 490.86, 491.5), ('noise', 491.5, 506.76), ('music', 506.76, 513.88), ('speech', 513.88, 553.76), ('music', 553.76, 561.9), ('speech', 561.9, 572.96), ('noEnergy', 572.96, 573.62), ('noise', 573.62, 576.9), ('music', 576.9, 583.62), ('speech', 583.62, 586.84), ('noise', 586.84, 590.2), ('music', 590.2, 594.3000000000001), ('noise', 594.3000000000001, 611.44), ('music', 611.44, 615.16), ('speech', 615.16, 619.32), ('noise', 619.32, 622.2), ('music', 622.2, 627.88), ('speech', 627.88, 654.5600000000001), ('noise', 654.5600000000001, 656.38), ('music', 656.38, 663.46), ('speech', 663.46, 670.98), ('noEnergy', 670.98, 671.52), ('noise', 671.52, 674.26), ('speech', 674.26, 726.74), ('music', 726.74, 743.9), ('noise', 743.9, 745.6800000000001), ('speech', 745.6800000000001, 762.94), ('noise', 762.94, 766.8000000000001), ('speech', 766.8000000000001, 793.4), ('music', 793.4, 806.36), ('noise', 806.36, 807.5), ('noEnergy', 807.5, 808.1800000000001), ('speech', 808.1800000000001, 819.8000000000001), ('noEnergy', 819.8000000000001, 820.2), ('speech', 820.2, 829.5600000000001), ('noise', 829.5600000000001, 838.96), ('music', 838.96, 843.76), ('speech', 843.76, 846.5600000000001), ('noEnergy', 846.5600000000001, 847.48), ('speech', 847.48, 858.82), ('noEnergy', 858.82, 859.24), ('speech', 859.24, 863.66), ('noEnergy', 863.66, 864.5), ('speech', 864.5, 868.34), ('noEnergy', 868.34, 868.74), ('speech', 868.74, 892.9), ('noEnergy', 892.9, 893.74), ('speech', 893.74, 904.98), ('noEnergy', 904.98, 905.48), ('speech', 905.48, 906.7), ('noEnergy', 906.7, 907.26), ('speech', 907.26, 921.66), ('noEnergy', 921.66, 922.5600000000001), ('speech', 922.5600000000001, 924.78), ('music', 924.78, 930.4200000000001), ('speech', 930.4200000000001, 933.6800000000001), ('noEnergy', 933.6800000000001, 934.08), ('speech', 934.08, 943.86), ('noise', 943.86, 949.88), ('speech', 949.88, 975.04), ('music', 975.04, 979.38), ('noise', 979.38, 983.88), ('music', 983.88, 987.86), ('speech', 987.86, 1009.74), ('noEnergy', 1009.74, 1010.48), ('speech', 1010.48, 1039.76), ('noEnergy', 1039.76, 1040.18), ('music', 1040.18, 1046.8), ('speech', 1046.8, 1062.24), ('music', 1062.24, 1071.42), ('noise', 1071.42, 1085.44), ('speech', 1085.44, 1099.46), ('noEnergy', 1099.46, 1100.4), ('noise', 1100.4, 1108.04), ('speech', 1108.04, 1113.0), ('noEnergy', 1113.0, 1113.88), ('speech', 1113.88, 1173.06), ('noEnergy', 1173.06, 1173.66), ('music', 1173.66, 1174.48), ('noise', 1174.48, 1176.28), ('speech', 1176.28, 1197.56), ('noEnergy', 1197.56, 1197.98), ('speech', 1197.98, 1211.5), ('noEnergy', 1211.5, 1211.94), ('speech', 1211.94, 1232.18), ('noise', 1232.18, 1235.3600000000001), ('speech', 1235.3600000000001, 1251.66), ('noEnergy', 1251.66, 1252.06), ('speech', 1252.06, 1263.82), ('noEnergy', 1263.82, 1264.26), ('speech', 1264.26, 1272.92), ('noise', 1272.92, 1277.44), ('music', 1277.44, 1284.9), ('speech', 1284.9, 1308.84), ('noise', 1308.84, 1311.0), ('speech', 1311.0, 1317.18), ('music', 1317.18, 1323.44), ('speech', 1323.44, 1325.66), ('noEnergy', 1325.66, 1326.1200000000001), ('speech', 1326.1200000000001, 1359.7), ('noise', 1359.7, 1362.72), ('music', 1362.72, 1380.82), ('speech', 1380.82, 1392.18), ('music', 1392.18, 1398.4), ('speech', 1398.4, 1412.38), ('music', 1412.38, 1419.92), ('speech', 1419.92, 1421.54), ('music', 1421.54, 1426.1200000000001), ('speech', 1426.1200000000001, 1428.14), ('music', 1428.14, 1431.3), ('noEnergy', 1431.3, 1431.68), ('speech', 1431.68, 1440.3), ('noEnergy', 1440.3, 1440.74), ('speech', 1440.74, 1441.1200000000001), ('noEnergy', 1441.1200000000001, 1442.14), ('speech', 1442.14, 1451.84), ('noEnergy', 1451.84, 1452.7), ('speech', 1452.7, 1499.38), ('music', 1499.38, 1508.28), ('speech', 1508.28, 1528.3), ('music', 1528.3, 1529.88), ('noEnergy', 1529.88, 1530.78), ('noise', 1530.78, 1537.54), ('music', 1537.54, 1542.3600000000001), ('speech', 1542.3600000000001, 1545.44), ('noise', 1545.44, 1547.06), ('speech', 1547.06, 1567.22), ('music', 1567.22, 1583.14), ('noise', 1583.14, 1604.16), ('speech', 1604.16, 1607.9), ('noEnergy', 1607.9, 1608.3), ('speech', 1608.3, 1619.6200000000001), ('noEnergy', 1619.6200000000001, 1620.1000000000001), ('speech', 1620.1000000000001, 1622.46), ('noEnergy', 1622.46, 1623.1000000000001), ('speech', 1623.1000000000001, 1638.66), ('music', 1638.66, 1645.4), ('speech', 1645.4, 1676.76), ('noEnergy', 1676.76, 1677.3), ('speech', 1677.3, 1689.7), ('noEnergy', 1689.7, 1690.14), ('speech', 1690.14, 1699.44), ('noEnergy', 1699.44, 1700.1000000000001), ('speech', 1700.1000000000001, 1726.92), ('noEnergy', 1726.92, 1727.66), ('speech', 1727.66, 1729.04), ('noEnergy', 1729.04, 1729.46), ('speech', 1729.46, 1747.04), ('noEnergy', 1747.04, 1747.6200000000001), ('speech', 1747.6200000000001, 1749.94), ('noEnergy', 1749.94, 1750.4), ('speech', 1750.4, 1752.76), ('noEnergy', 1752.76, 1753.3), ('speech', 1753.3, 1763.6200000000001), ('noEnergy', 1763.6200000000001, 1764.1000000000001), ('speech', 1764.1000000000001, 1776.44), ('noEnergy', 1776.44, 1777.28), ('speech', 1777.28, 1790.9), ('noEnergy', 1790.9, 1791.6000000000001), ('speech', 1791.6000000000001, 1805.38), ('noEnergy', 1805.38, 1805.8), ('speech', 1805.8, 1815.74), ('noEnergy', 1815.74, 1816.72), ('speech', 1816.72, 1817.3400000000001), ('noEnergy', 1817.3400000000001, 1818.42), ('speech', 1818.42, 1819.08), ('noise', 1819.08, 1825.2), ('music', 1825.2, 1831.74), ('speech', 1831.74, 1837.18), ('noise', 1837.18, 1843.14), ('music', 1843.14, 1855.02), ('speech', 1855.02, 1893.3400000000001), ('music', 1893.3400000000001, 1906.3600000000001), ('speech', 1906.3600000000001, 1915.1000000000001), ('music', 1915.1000000000001, 1955.82), ('speech', 1955.82, 1971.24), ('music', 1971.24, 2004.8), ('noEnergy', 2004.8, 2005.3600000000001), ('music', 2005.3600000000001, 2009.72), ('speech', 2009.72, 2017.02), ('noEnergy', 2017.02, 2017.44), ('speech', 2017.44, 2043.94), ('noEnergy', 2043.94, 2044.56), ('speech', 2044.56, 2052.36), ('noEnergy', 2052.36, 2053.4), ('speech', 2053.4, 2055.66), ('noEnergy', 2055.66, 2056.48), ('speech', 2056.48, 2066.1), ('noEnergy', 2066.1, 2066.54), ('speech', 2066.54, 2100.46), ('noEnergy', 2100.46, 2101.06), ('speech', 2101.06, 2131.46), ('noEnergy', 2131.46, 2131.88), ('speech', 2131.88, 2134.08), ('noEnergy', 2134.08, 2134.56), ('speech', 2134.56, 2136.66), ('noEnergy', 2136.66, 2137.4), ('speech', 2137.4, 2139.56), ('noEnergy', 2139.56, 2140.84), ('speech', 2140.84, 2151.66), ('noEnergy', 2151.66, 2152.42), ('noise', 2152.42, 2154.56), ('speech', 2154.56, 2158.5), ('noise', 2158.5, 2161.06), ('music', 2161.06, 2168.2200000000003), ('speech', 2168.2200000000003, 2180.0), ('noise', 2180.0, 2183.46), ('music', 2183.46, 2194.98), ('noEnergy', 2194.98, 2195.7200000000003), ('speech', 2195.7200000000003, 2209.0), ('noEnergy', 2209.0, 2210.1), ('music', 2210.1, 2214.64), ('speech', 2214.64, 2221.28), ('music', 2221.28, 2269.48), ('speech', 2269.48, 2319.46), ('music', 2319.46, 2330.2000000000003), ('noEnergy', 2330.2000000000003, 2330.68), ('music', 2330.68, 2336.7000000000003), ('speech', 2336.7000000000003, 2354.42), ('music', 2354.42, 2371.14), ('noEnergy', 2371.14, 2371.56), ('speech', 2371.56, 2391.68), ('noEnergy', 2391.68, 2392.16), ('speech', 2392.16, 2401.12), ('noEnergy', 2401.12, 2401.7200000000003), ('speech', 2401.7200000000003, 2410.12), ('noEnergy', 2410.12, 2410.7400000000002), ('speech', 2410.7400000000002, 2429.16), ('noEnergy', 2429.16, 2429.66), ('speech', 2429.66, 2433.84), ('noEnergy', 2433.84, 2434.7000000000003), ('speech', 2434.7000000000003, 2456.3), ('noEnergy', 2456.3, 2456.9), ('speech', 2456.9, 2460.64), ('noEnergy', 2460.64, 2461.16), ('speech', 2461.16, 2462.28), ('noEnergy', 2462.28, 2462.7000000000003), ('speech', 2462.7000000000003, 2463.0), ('noEnergy', 2463.0, 2464.04), ('speech', 2464.04, 2474.96), ('noEnergy', 2474.96, 2475.4), ('speech', 2475.4, 2503.34), ('noEnergy', 2503.34, 2503.94), ('speech', 2503.94, 2509.9), ('noEnergy', 2509.9, 2510.62), ('speech', 2510.62, 2535.96), ('noEnergy', 2535.96, 2536.46), ('speech', 2536.46, 2571.3), ('noEnergy', 2571.3, 2571.86), ('speech', 2571.86, 2578.38), ('noEnergy', 2578.38, 2578.92), ('speech', 2578.92, 2594.86), ('noEnergy', 2594.86, 2595.36), ('speech', 2595.36, 2599.0), ('noEnergy', 2599.0, 2599.5), ('speech', 2599.5, 2615.2400000000002), ('noEnergy', 2615.2400000000002, 2615.68), ('speech', 2615.68, 2620.12), ('music', 2620.12, 2623.44), ('speech', 2623.44, 2628.88), ('music', 2628.88, 2637.64), ('speech', 2637.64, 2640.84), ('noise', 2640.84, 2643.36), ('music', 2643.36, 2664.14), ('speech', 2664.14, 2685.62), ('noEnergy', 2685.62, 2686.2000000000003), ('speech', 2686.2000000000003, 2688.52), ('music', 2688.52, 2694.26), ('speech', 2694.26, 2699.98)]"
   ]
  },
  {
   "cell_type": "code",
   "execution_count": 25,
   "id": "93aab555",
   "metadata": {},
   "outputs": [],
   "source": [
    "data = {'index':msg[-1][0],'start_second':msg[-1][1],'stop_second':msg[-1][2],\n",
    "                        'difflen':0,'audio_classification_labels':lseg}"
   ]
  },
  {
   "cell_type": "code",
   "execution_count": 54,
   "id": "d1a0b591",
   "metadata": {},
   "outputs": [],
   "source": [
    "data=[msg[-1][0],msg[-1][1],msg[-1][2],mspec.tolist(),loge.tolist(),0,lseg]\n",
    "columns=['index','start_second','stop_second','mfcc',\n",
    "                       'loge','difflen','audio_classification_labels']"
   ]
  },
  {
   "cell_type": "code",
   "execution_count": 55,
   "id": "35233931",
   "metadata": {},
   "outputs": [
    {
     "data": {
      "text/plain": [
       "[0,\n",
       " 0,\n",
       " 2700,\n",
       " [[-32.46376419067383,\n",
       "   -32.03540802001953,\n",
       "   -31.539701461791992,\n",
       "   -29.748809814453125,\n",
       "   -29.93523597717285,\n",
       "   -30.722246170043945],\n",
       "  [-13.255213737487793,\n",
       "   -13.140497207641602,\n",
       "   -13.165519714355469,\n",
       "   -13.334290504455566,\n",
       "   -13.762874603271484,\n",
       "   -13.8087797164917],\n",
       "  [-10.913487434387207,\n",
       "   -9.879338264465332,\n",
       "   -10.441387176513672,\n",
       "   -7.488043308258057,\n",
       "   -8.006142616271973,\n",
       "   -8.794881820678711]],\n",
       " [-18.872709274291992,\n",
       "  -5.199673175811768,\n",
       "  -4.035604000091553,\n",
       "  -2.8083267211914062,\n",
       "  -2.998959541320801,\n",
       "  -3.1119234561920166],\n",
       " 0,\n",
       " [('speech', 0.0, 14.36),\n",
       "  ('music', 14.36, 17.34),\n",
       "  ('speech', 17.34, 27.8),\n",
       "  ('music', 27.8, 33.72),\n",
       "  ('speech', 33.72, 36.52),\n",
       "  ('music', 36.52, 38.9),\n",
       "  ('noEnergy', 38.9, 39.34),\n",
       "  ('speech', 39.34, 48.06),\n",
       "  ('noEnergy', 48.06, 48.5),\n",
       "  ('speech', 48.5, 59.160000000000004),\n",
       "  ('noise', 59.160000000000004, 65.26),\n",
       "  ('speech', 65.26, 69.32000000000001),\n",
       "  ('music', 69.32000000000001, 70.28),\n",
       "  ('noise', 70.28, 137.86),\n",
       "  ('music', 137.86, 144.68),\n",
       "  ('noise', 144.68, 157.94),\n",
       "  ('speech', 157.94, 179.9),\n",
       "  ('noEnergy', 179.9, 180.5),\n",
       "  ('noise', 180.5, 182.82),\n",
       "  ('speech', 182.82, 186.12),\n",
       "  ('noise', 186.12, 188.28),\n",
       "  ('music', 188.28, 192.74),\n",
       "  ('speech', 192.74, 299.26),\n",
       "  ('music', 299.26, 308.94),\n",
       "  ('speech', 308.94, 357.6),\n",
       "  ('noise', 357.6, 361.64),\n",
       "  ('music', 361.64, 369.5),\n",
       "  ('noise', 369.5, 372.12),\n",
       "  ('music', 372.12, 422.68),\n",
       "  ('noise', 422.68, 427.78000000000003),\n",
       "  ('speech', 427.78000000000003, 432.40000000000003),\n",
       "  ('noise', 432.40000000000003, 435.04),\n",
       "  ('music', 435.04, 439.48),\n",
       "  ('speech', 439.48, 446.32),\n",
       "  ('music', 446.32, 452.66),\n",
       "  ('noise', 452.66, 462.82),\n",
       "  ('music', 462.82, 466.90000000000003),\n",
       "  ('speech', 466.90000000000003, 490.86),\n",
       "  ('noEnergy', 490.86, 491.5),\n",
       "  ('noise', 491.5, 506.76),\n",
       "  ('music', 506.76, 513.88),\n",
       "  ('speech', 513.88, 553.76),\n",
       "  ('music', 553.76, 561.9),\n",
       "  ('speech', 561.9, 572.96),\n",
       "  ('noEnergy', 572.96, 573.62),\n",
       "  ('noise', 573.62, 576.9),\n",
       "  ('music', 576.9, 583.62),\n",
       "  ('speech', 583.62, 586.84),\n",
       "  ('noise', 586.84, 590.2),\n",
       "  ('music', 590.2, 594.3000000000001),\n",
       "  ('noise', 594.3000000000001, 611.44),\n",
       "  ('music', 611.44, 615.16),\n",
       "  ('speech', 615.16, 619.32),\n",
       "  ('noise', 619.32, 622.2),\n",
       "  ('music', 622.2, 627.88),\n",
       "  ('speech', 627.88, 654.5600000000001),\n",
       "  ('noise', 654.5600000000001, 656.38),\n",
       "  ('music', 656.38, 663.46),\n",
       "  ('speech', 663.46, 670.98),\n",
       "  ('noEnergy', 670.98, 671.52),\n",
       "  ('noise', 671.52, 674.26),\n",
       "  ('speech', 674.26, 726.74),\n",
       "  ('music', 726.74, 743.9),\n",
       "  ('noise', 743.9, 745.6800000000001),\n",
       "  ('speech', 745.6800000000001, 762.94),\n",
       "  ('noise', 762.94, 766.8000000000001),\n",
       "  ('speech', 766.8000000000001, 793.4),\n",
       "  ('music', 793.4, 806.36),\n",
       "  ('noise', 806.36, 807.5),\n",
       "  ('noEnergy', 807.5, 808.1800000000001),\n",
       "  ('speech', 808.1800000000001, 819.8000000000001),\n",
       "  ('noEnergy', 819.8000000000001, 820.2),\n",
       "  ('speech', 820.2, 829.5600000000001),\n",
       "  ('noise', 829.5600000000001, 838.96),\n",
       "  ('music', 838.96, 843.76),\n",
       "  ('speech', 843.76, 846.5600000000001),\n",
       "  ('noEnergy', 846.5600000000001, 847.48),\n",
       "  ('speech', 847.48, 858.82),\n",
       "  ('noEnergy', 858.82, 859.24),\n",
       "  ('speech', 859.24, 863.66),\n",
       "  ('noEnergy', 863.66, 864.5),\n",
       "  ('speech', 864.5, 868.34),\n",
       "  ('noEnergy', 868.34, 868.74),\n",
       "  ('speech', 868.74, 892.9),\n",
       "  ('noEnergy', 892.9, 893.74),\n",
       "  ('speech', 893.74, 904.98),\n",
       "  ('noEnergy', 904.98, 905.48),\n",
       "  ('speech', 905.48, 906.7),\n",
       "  ('noEnergy', 906.7, 907.26),\n",
       "  ('speech', 907.26, 921.66),\n",
       "  ('noEnergy', 921.66, 922.5600000000001),\n",
       "  ('speech', 922.5600000000001, 924.78),\n",
       "  ('music', 924.78, 930.4200000000001),\n",
       "  ('speech', 930.4200000000001, 933.6800000000001),\n",
       "  ('noEnergy', 933.6800000000001, 934.08),\n",
       "  ('speech', 934.08, 943.86),\n",
       "  ('noise', 943.86, 949.88),\n",
       "  ('speech', 949.88, 975.04),\n",
       "  ('music', 975.04, 979.38),\n",
       "  ('noise', 979.38, 983.88),\n",
       "  ('music', 983.88, 987.86),\n",
       "  ('speech', 987.86, 1009.74),\n",
       "  ('noEnergy', 1009.74, 1010.48),\n",
       "  ('speech', 1010.48, 1039.76),\n",
       "  ('noEnergy', 1039.76, 1040.18),\n",
       "  ('music', 1040.18, 1046.8),\n",
       "  ('speech', 1046.8, 1062.24),\n",
       "  ('music', 1062.24, 1071.42),\n",
       "  ('noise', 1071.42, 1085.44),\n",
       "  ('speech', 1085.44, 1099.46),\n",
       "  ('noEnergy', 1099.46, 1100.4),\n",
       "  ('noise', 1100.4, 1108.04),\n",
       "  ('speech', 1108.04, 1113.0),\n",
       "  ('noEnergy', 1113.0, 1113.88),\n",
       "  ('speech', 1113.88, 1173.06),\n",
       "  ('noEnergy', 1173.06, 1173.66),\n",
       "  ('music', 1173.66, 1174.48),\n",
       "  ('noise', 1174.48, 1176.28),\n",
       "  ('speech', 1176.28, 1197.56),\n",
       "  ('noEnergy', 1197.56, 1197.98),\n",
       "  ('speech', 1197.98, 1211.5),\n",
       "  ('noEnergy', 1211.5, 1211.94),\n",
       "  ('speech', 1211.94, 1232.18),\n",
       "  ('noise', 1232.18, 1235.3600000000001),\n",
       "  ('speech', 1235.3600000000001, 1251.66),\n",
       "  ('noEnergy', 1251.66, 1252.06),\n",
       "  ('speech', 1252.06, 1263.82),\n",
       "  ('noEnergy', 1263.82, 1264.26),\n",
       "  ('speech', 1264.26, 1272.92),\n",
       "  ('noise', 1272.92, 1277.44),\n",
       "  ('music', 1277.44, 1284.9),\n",
       "  ('speech', 1284.9, 1308.84),\n",
       "  ('noise', 1308.84, 1311.0),\n",
       "  ('speech', 1311.0, 1317.18),\n",
       "  ('music', 1317.18, 1323.44),\n",
       "  ('speech', 1323.44, 1325.66),\n",
       "  ('noEnergy', 1325.66, 1326.1200000000001),\n",
       "  ('speech', 1326.1200000000001, 1359.7),\n",
       "  ('noise', 1359.7, 1362.72),\n",
       "  ('music', 1362.72, 1380.82),\n",
       "  ('speech', 1380.82, 1392.18),\n",
       "  ('music', 1392.18, 1398.4),\n",
       "  ('speech', 1398.4, 1412.38),\n",
       "  ('music', 1412.38, 1419.92),\n",
       "  ('speech', 1419.92, 1421.54),\n",
       "  ('music', 1421.54, 1426.1200000000001),\n",
       "  ('speech', 1426.1200000000001, 1428.14),\n",
       "  ('music', 1428.14, 1431.3),\n",
       "  ('noEnergy', 1431.3, 1431.68),\n",
       "  ('speech', 1431.68, 1440.3),\n",
       "  ('noEnergy', 1440.3, 1440.74),\n",
       "  ('speech', 1440.74, 1441.1200000000001),\n",
       "  ('noEnergy', 1441.1200000000001, 1442.14),\n",
       "  ('speech', 1442.14, 1451.84),\n",
       "  ('noEnergy', 1451.84, 1452.7),\n",
       "  ('speech', 1452.7, 1499.38),\n",
       "  ('music', 1499.38, 1508.28),\n",
       "  ('speech', 1508.28, 1528.3),\n",
       "  ('music', 1528.3, 1529.88),\n",
       "  ('noEnergy', 1529.88, 1530.78),\n",
       "  ('noise', 1530.78, 1537.54),\n",
       "  ('music', 1537.54, 1542.3600000000001),\n",
       "  ('speech', 1542.3600000000001, 1545.44),\n",
       "  ('noise', 1545.44, 1547.06),\n",
       "  ('speech', 1547.06, 1567.22),\n",
       "  ('music', 1567.22, 1583.14),\n",
       "  ('noise', 1583.14, 1604.16),\n",
       "  ('speech', 1604.16, 1607.9),\n",
       "  ('noEnergy', 1607.9, 1608.3),\n",
       "  ('speech', 1608.3, 1619.6200000000001),\n",
       "  ('noEnergy', 1619.6200000000001, 1620.1000000000001),\n",
       "  ('speech', 1620.1000000000001, 1622.46),\n",
       "  ('noEnergy', 1622.46, 1623.1000000000001),\n",
       "  ('speech', 1623.1000000000001, 1638.66),\n",
       "  ('music', 1638.66, 1645.4),\n",
       "  ('speech', 1645.4, 1676.76),\n",
       "  ('noEnergy', 1676.76, 1677.3),\n",
       "  ('speech', 1677.3, 1689.7),\n",
       "  ('noEnergy', 1689.7, 1690.14),\n",
       "  ('speech', 1690.14, 1699.44),\n",
       "  ('noEnergy', 1699.44, 1700.1000000000001),\n",
       "  ('speech', 1700.1000000000001, 1726.92),\n",
       "  ('noEnergy', 1726.92, 1727.66),\n",
       "  ('speech', 1727.66, 1729.04),\n",
       "  ('noEnergy', 1729.04, 1729.46),\n",
       "  ('speech', 1729.46, 1747.04),\n",
       "  ('noEnergy', 1747.04, 1747.6200000000001),\n",
       "  ('speech', 1747.6200000000001, 1749.94),\n",
       "  ('noEnergy', 1749.94, 1750.4),\n",
       "  ('speech', 1750.4, 1752.76),\n",
       "  ('noEnergy', 1752.76, 1753.3),\n",
       "  ('speech', 1753.3, 1763.6200000000001),\n",
       "  ('noEnergy', 1763.6200000000001, 1764.1000000000001),\n",
       "  ('speech', 1764.1000000000001, 1776.44),\n",
       "  ('noEnergy', 1776.44, 1777.28),\n",
       "  ('speech', 1777.28, 1790.9),\n",
       "  ('noEnergy', 1790.9, 1791.6000000000001),\n",
       "  ('speech', 1791.6000000000001, 1805.38),\n",
       "  ('noEnergy', 1805.38, 1805.8),\n",
       "  ('speech', 1805.8, 1815.74),\n",
       "  ('noEnergy', 1815.74, 1816.72),\n",
       "  ('speech', 1816.72, 1817.3400000000001),\n",
       "  ('noEnergy', 1817.3400000000001, 1818.42),\n",
       "  ('speech', 1818.42, 1819.08),\n",
       "  ('noise', 1819.08, 1825.2),\n",
       "  ('music', 1825.2, 1831.74),\n",
       "  ('speech', 1831.74, 1837.18),\n",
       "  ('noise', 1837.18, 1843.14),\n",
       "  ('music', 1843.14, 1855.02),\n",
       "  ('speech', 1855.02, 1893.3400000000001),\n",
       "  ('music', 1893.3400000000001, 1906.3600000000001),\n",
       "  ('speech', 1906.3600000000001, 1915.1000000000001),\n",
       "  ('music', 1915.1000000000001, 1955.82),\n",
       "  ('speech', 1955.82, 1971.24),\n",
       "  ('music', 1971.24, 2004.8),\n",
       "  ('noEnergy', 2004.8, 2005.3600000000001),\n",
       "  ('music', 2005.3600000000001, 2009.72),\n",
       "  ('speech', 2009.72, 2017.02),\n",
       "  ('noEnergy', 2017.02, 2017.44),\n",
       "  ('speech', 2017.44, 2043.94),\n",
       "  ('noEnergy', 2043.94, 2044.56),\n",
       "  ('speech', 2044.56, 2052.36),\n",
       "  ('noEnergy', 2052.36, 2053.4),\n",
       "  ('speech', 2053.4, 2055.66),\n",
       "  ('noEnergy', 2055.66, 2056.48),\n",
       "  ('speech', 2056.48, 2066.1),\n",
       "  ('noEnergy', 2066.1, 2066.54),\n",
       "  ('speech', 2066.54, 2100.46),\n",
       "  ('noEnergy', 2100.46, 2101.06),\n",
       "  ('speech', 2101.06, 2131.46),\n",
       "  ('noEnergy', 2131.46, 2131.88),\n",
       "  ('speech', 2131.88, 2134.08),\n",
       "  ('noEnergy', 2134.08, 2134.56),\n",
       "  ('speech', 2134.56, 2136.66),\n",
       "  ('noEnergy', 2136.66, 2137.4),\n",
       "  ('speech', 2137.4, 2139.56),\n",
       "  ('noEnergy', 2139.56, 2140.84),\n",
       "  ('speech', 2140.84, 2151.66),\n",
       "  ('noEnergy', 2151.66, 2152.42),\n",
       "  ('noise', 2152.42, 2154.56),\n",
       "  ('speech', 2154.56, 2158.5),\n",
       "  ('noise', 2158.5, 2161.06),\n",
       "  ('music', 2161.06, 2168.2200000000003),\n",
       "  ('speech', 2168.2200000000003, 2180.0),\n",
       "  ('noise', 2180.0, 2183.46),\n",
       "  ('music', 2183.46, 2194.98),\n",
       "  ('noEnergy', 2194.98, 2195.7200000000003),\n",
       "  ('speech', 2195.7200000000003, 2209.0),\n",
       "  ('noEnergy', 2209.0, 2210.1),\n",
       "  ('music', 2210.1, 2214.64),\n",
       "  ('speech', 2214.64, 2221.28),\n",
       "  ('music', 2221.28, 2269.48),\n",
       "  ('speech', 2269.48, 2319.46),\n",
       "  ('music', 2319.46, 2330.2000000000003),\n",
       "  ('noEnergy', 2330.2000000000003, 2330.68),\n",
       "  ('music', 2330.68, 2336.7000000000003),\n",
       "  ('speech', 2336.7000000000003, 2354.42),\n",
       "  ('music', 2354.42, 2371.14),\n",
       "  ('noEnergy', 2371.14, 2371.56),\n",
       "  ('speech', 2371.56, 2391.68),\n",
       "  ('noEnergy', 2391.68, 2392.16),\n",
       "  ('speech', 2392.16, 2401.12),\n",
       "  ('noEnergy', 2401.12, 2401.7200000000003),\n",
       "  ('speech', 2401.7200000000003, 2410.12),\n",
       "  ('noEnergy', 2410.12, 2410.7400000000002),\n",
       "  ('speech', 2410.7400000000002, 2429.16),\n",
       "  ('noEnergy', 2429.16, 2429.66),\n",
       "  ('speech', 2429.66, 2433.84),\n",
       "  ('noEnergy', 2433.84, 2434.7000000000003),\n",
       "  ('speech', 2434.7000000000003, 2456.3),\n",
       "  ('noEnergy', 2456.3, 2456.9),\n",
       "  ('speech', 2456.9, 2460.64),\n",
       "  ('noEnergy', 2460.64, 2461.16),\n",
       "  ('speech', 2461.16, 2462.28),\n",
       "  ('noEnergy', 2462.28, 2462.7000000000003),\n",
       "  ('speech', 2462.7000000000003, 2463.0),\n",
       "  ('noEnergy', 2463.0, 2464.04),\n",
       "  ('speech', 2464.04, 2474.96),\n",
       "  ('noEnergy', 2474.96, 2475.4),\n",
       "  ('speech', 2475.4, 2503.34),\n",
       "  ('noEnergy', 2503.34, 2503.94),\n",
       "  ('speech', 2503.94, 2509.9),\n",
       "  ('noEnergy', 2509.9, 2510.62),\n",
       "  ('speech', 2510.62, 2535.96),\n",
       "  ('noEnergy', 2535.96, 2536.46),\n",
       "  ('speech', 2536.46, 2571.3),\n",
       "  ('noEnergy', 2571.3, 2571.86),\n",
       "  ('speech', 2571.86, 2578.38),\n",
       "  ('noEnergy', 2578.38, 2578.92),\n",
       "  ('speech', 2578.92, 2594.86),\n",
       "  ('noEnergy', 2594.86, 2595.36),\n",
       "  ('speech', 2595.36, 2599.0),\n",
       "  ('noEnergy', 2599.0, 2599.5),\n",
       "  ('speech', 2599.5, 2615.2400000000002),\n",
       "  ('noEnergy', 2615.2400000000002, 2615.68),\n",
       "  ('speech', 2615.68, 2620.12),\n",
       "  ('music', 2620.12, 2623.44),\n",
       "  ('speech', 2623.44, 2628.88),\n",
       "  ('music', 2628.88, 2637.64),\n",
       "  ('speech', 2637.64, 2640.84),\n",
       "  ('noise', 2640.84, 2643.36),\n",
       "  ('music', 2643.36, 2664.14),\n",
       "  ('speech', 2664.14, 2685.62),\n",
       "  ('noEnergy', 2685.62, 2686.2000000000003),\n",
       "  ('speech', 2686.2000000000003, 2688.52),\n",
       "  ('music', 2688.52, 2694.26),\n",
       "  ('speech', 2694.26, 2699.98)]]"
      ]
     },
     "execution_count": 55,
     "metadata": {},
     "output_type": "execute_result"
    }
   ],
   "source": [
    "data"
   ]
  },
  {
   "cell_type": "code",
   "execution_count": 56,
   "id": "7aac666b",
   "metadata": {},
   "outputs": [
    {
     "data": {
      "text/html": [
       "<div>\n",
       "<style scoped>\n",
       "    .dataframe tbody tr th:only-of-type {\n",
       "        vertical-align: middle;\n",
       "    }\n",
       "\n",
       "    .dataframe tbody tr th {\n",
       "        vertical-align: top;\n",
       "    }\n",
       "\n",
       "    .dataframe thead th {\n",
       "        text-align: right;\n",
       "    }\n",
       "</style>\n",
       "<table border=\"1\" class=\"dataframe\">\n",
       "  <thead>\n",
       "    <tr style=\"text-align: right;\">\n",
       "      <th></th>\n",
       "      <th>index</th>\n",
       "      <th>start_second</th>\n",
       "      <th>stop_second</th>\n",
       "      <th>mfcc</th>\n",
       "      <th>loge</th>\n",
       "      <th>difflen</th>\n",
       "      <th>audio_classification_labels</th>\n",
       "    </tr>\n",
       "  </thead>\n",
       "  <tbody>\n",
       "    <tr>\n",
       "      <th>0</th>\n",
       "      <td>0</td>\n",
       "      <td>0</td>\n",
       "      <td>2700</td>\n",
       "      <td>[[-32.46376419067383, -32.03540802001953, -31....</td>\n",
       "      <td>[-18.872709274291992, -5.199673175811768, -4.0...</td>\n",
       "      <td>0</td>\n",
       "      <td>[(speech, 0.0, 14.36), (music, 14.36, 17.34), ...</td>\n",
       "    </tr>\n",
       "  </tbody>\n",
       "</table>\n",
       "</div>"
      ],
      "text/plain": [
       "  index start_second stop_second  \\\n",
       "0     0            0        2700   \n",
       "\n",
       "                                                mfcc  \\\n",
       "0  [[-32.46376419067383, -32.03540802001953, -31....   \n",
       "\n",
       "                                                loge difflen  \\\n",
       "0  [-18.872709274291992, -5.199673175811768, -4.0...       0   \n",
       "\n",
       "                         audio_classification_labels  \n",
       "0  [(speech, 0.0, 14.36), (music, 14.36, 17.34), ...  "
      ]
     },
     "execution_count": 56,
     "metadata": {},
     "output_type": "execute_result"
    }
   ],
   "source": [
    "df = pd.DataFrame(data=data)\n",
    "df = df.T\n",
    "df.columns=columns\n",
    "df.head()"
   ]
  },
  {
   "cell_type": "code",
   "execution_count": 58,
   "id": "fcb56e9c",
   "metadata": {},
   "outputs": [
    {
     "data": {
      "text/html": [
       "<div>\n",
       "<style scoped>\n",
       "    .dataframe tbody tr th:only-of-type {\n",
       "        vertical-align: middle;\n",
       "    }\n",
       "\n",
       "    .dataframe tbody tr th {\n",
       "        vertical-align: top;\n",
       "    }\n",
       "\n",
       "    .dataframe thead th {\n",
       "        text-align: right;\n",
       "    }\n",
       "</style>\n",
       "<table border=\"1\" class=\"dataframe\">\n",
       "  <thead>\n",
       "    <tr style=\"text-align: right;\">\n",
       "      <th></th>\n",
       "      <th>index</th>\n",
       "      <th>start_second</th>\n",
       "      <th>stop_second</th>\n",
       "      <th>mfcc</th>\n",
       "      <th>loge</th>\n",
       "      <th>difflen</th>\n",
       "      <th>audio_classification_labels</th>\n",
       "    </tr>\n",
       "  </thead>\n",
       "  <tbody>\n",
       "    <tr>\n",
       "      <th>0</th>\n",
       "      <td>0</td>\n",
       "      <td>0</td>\n",
       "      <td>2700</td>\n",
       "      <td>[[-32.46376419067383, -32.03540802001953, -31....</td>\n",
       "      <td>[-18.872709274291992, -5.199673175811768, -4.0...</td>\n",
       "      <td>0</td>\n",
       "      <td>[(speech, 0.0, 14.36), (music, 14.36, 17.34), ...</td>\n",
       "    </tr>\n",
       "  </tbody>\n",
       "</table>\n",
       "</div>"
      ],
      "text/plain": [
       "  index start_second stop_second  \\\n",
       "0     0            0        2700   \n",
       "\n",
       "                                                mfcc  \\\n",
       "0  [[-32.46376419067383, -32.03540802001953, -31....   \n",
       "\n",
       "                                                loge difflen  \\\n",
       "0  [-18.872709274291992, -5.199673175811768, -4.0...       0   \n",
       "\n",
       "                         audio_classification_labels  \n",
       "0  [(speech, 0.0, 14.36), (music, 14.36, 17.34), ...  "
      ]
     },
     "execution_count": 58,
     "metadata": {},
     "output_type": "execute_result"
    }
   ],
   "source": [
    "df2 = pd.DataFrame(data=data)\n",
    "df2 = df2.T\n",
    "df2.columns=columns\n",
    "df2.head()"
   ]
  },
  {
   "cell_type": "code",
   "execution_count": null,
   "id": "43416020",
   "metadata": {},
   "outputs": [],
   "source": [
    "'mfcc':[mspec],'loge':[loge],"
   ]
  },
  {
   "cell_type": "code",
   "execution_count": 26,
   "id": "84e699ef",
   "metadata": {},
   "outputs": [],
   "source": [
    "df = pd.DataFrame.from_dict(data=data)"
   ]
  },
  {
   "cell_type": "code",
   "execution_count": 62,
   "id": "5f496344",
   "metadata": {},
   "outputs": [
    {
     "name": "stdout",
     "output_type": "stream",
     "text": [
      "\n",
      "base files:\n",
      " ['2006-01-19_0000_US_00002692_V2_MB13_VHS14_H13_CG']\n",
      "\n",
      "Output files:\n",
      " ['/mnt/rds/redhen/gallina/home/hxm471/RedHenLab-Multimodal_TV_Show_Segmentation/mtvss/data/tmp/splits/2006-01-19_0000_US_00002692_V2_MB13_VHS14_H13_CG.csv']\n",
      "\n",
      "-- Step 2.3: Starting batch process --\n",
      "\n",
      "batch_processing 1 files\n",
      "output of featGen: <generator object featGenerator at 0x7f132086a820>\n",
      "<generator object featGenerator at 0x7f132086a820>\n",
      "Starting media 2 feats\n",
      "Finished probing duration\n",
      "Duration 29586\n",
      "tmpwav /mnt/rds/redhen/gallina/home/hxm471/RedHenLab-Multimodal_TV_Show_Segmentation/mtvss/data/tmp/splits/tmprsrlmk1p/2006-01-19_0000_US_00002692_V2_MB13_VHS14_H13_CG_0_2700.wav\n",
      "wav2feats done\n",
      "tmpwav /mnt/rds/redhen/gallina/home/hxm471/RedHenLab-Multimodal_TV_Show_Segmentation/mtvss/data/tmp/splits/tmpb6z2vldv/2006-01-19_0000_US_00002692_V2_MB13_VHS14_H13_CG_10800_13500.wav\n",
      "Starting _wav2feats\n",
      "wav2feats done\n",
      "tmpwav /mnt/rds/redhen/gallina/home/hxm471/RedHenLab-Multimodal_TV_Show_Segmentation/mtvss/data/tmp/splits/tmprsrlmk1p/2006-01-19_0000_US_00002692_V2_MB13_VHS14_H13_CG_2700_5400.wav\n",
      "\n",
      "Yielding chunk\n",
      "3/1 (0, 'ok', (0, 0, 2700))\n",
      "I can make changes\n"
     ]
    },
    {
     "name": "stderr",
     "output_type": "stream",
     "text": [
      "/usr/local/lib/python3.8/dist-packages/pyannote/algorithms/utils/viterbi.py:86: FutureWarning: arrays to stack must be passed as a \"sequence\" type such as list or tuple. Support for non-sequence iterables such as generators is deprecated as of NumPy 1.16 and will raise an error in the future.\n",
      "  return np.vstack(\n",
      "/usr/local/lib/python3.8/dist-packages/pyannote/algorithms/utils/viterbi.py:95: FutureWarning: arrays to stack must be passed as a \"sequence\" type such as list or tuple. Support for non-sequence iterables such as generators is deprecated as of NumPy 1.16 and will raise an error in the future.\n",
      "  return np.vstack(\n"
     ]
    },
    {
     "name": "stdout",
     "output_type": "stream",
     "text": [
      "True (134999, 134999)\n",
      " 32/130 [======>.......................] - ETA: 17sStarting _wav2feats\n",
      " 71/130 [===============>..............] - ETA: 10sStarting _wav2feats\n",
      "130/130 [==============================] - 24s 184ms/step\n"
     ]
    },
    {
     "name": "stderr",
     "output_type": "stream",
     "text": [
      "/usr/local/lib/python3.8/dist-packages/pyannote/algorithms/utils/viterbi.py:86: FutureWarning: arrays to stack must be passed as a \"sequence\" type such as list or tuple. Support for non-sequence iterables such as generators is deprecated as of NumPy 1.16 and will raise an error in the future.\n",
      "  return np.vstack(\n",
      "/usr/local/lib/python3.8/dist-packages/pyannote/algorithms/utils/viterbi.py:95: FutureWarning: arrays to stack must be passed as a \"sequence\" type such as list or tuple. Support for non-sequence iterables such as generators is deprecated as of NumPy 1.16 and will raise an error in the future.\n",
      "  return np.vstack(\n"
     ]
    },
    {
     "name": "stdout",
     "output_type": "stream",
     "text": [
      "wav2feats done\n",
      "tmpwav /mnt/rds/redhen/gallina/home/hxm471/RedHenLab-Multimodal_TV_Show_Segmentation/mtvss/data/tmp/splits/tmprsrlmk1p/2006-01-19_0000_US_00002692_V2_MB13_VHS14_H13_CG_5400_8100.wav\n"
     ]
    },
    {
     "name": "stderr",
     "output_type": "stream",
     "text": [
      "/usr/local/lib/python3.8/dist-packages/pyannote/algorithms/utils/viterbi.py:86: FutureWarning: arrays to stack must be passed as a \"sequence\" type such as list or tuple. Support for non-sequence iterables such as generators is deprecated as of NumPy 1.16 and will raise an error in the future.\n",
      "  return np.vstack(\n",
      "/usr/local/lib/python3.8/dist-packages/pyannote/algorithms/utils/viterbi.py:95: FutureWarning: arrays to stack must be passed as a \"sequence\" type such as list or tuple. Support for non-sequence iterables such as generators is deprecated as of NumPy 1.16 and will raise an error in the future.\n",
      "  return np.vstack(\n"
     ]
    },
    {
     "name": "stdout",
     "output_type": "stream",
     "text": [
      "Output from segement feats: [('speech', 0.0, 14.36), ('music', 14.36, 17.34), ('speech', 17.34, 27.8), ('music', 27.8, 33.72), ('speech', 33.72, 36.52), ('music', 36.52, 38.9), ('noEnergy', 38.9, 39.34), ('speech', 39.34, 48.06), ('noEnergy', 48.06, 48.5), ('speech', 48.5, 59.160000000000004), ('noise', 59.160000000000004, 65.26), ('speech', 65.26, 69.32000000000001), ('music', 69.32000000000001, 70.28), ('noise', 70.28, 137.86), ('music', 137.86, 144.68), ('noise', 144.68, 157.94), ('speech', 157.94, 179.9), ('noEnergy', 179.9, 180.5), ('noise', 180.5, 182.82), ('speech', 182.82, 186.12), ('noise', 186.12, 188.28), ('music', 188.28, 192.74), ('speech', 192.74, 299.26), ('music', 299.26, 308.94), ('speech', 308.94, 357.6), ('noise', 357.6, 361.64), ('music', 361.64, 369.5), ('noise', 369.5, 372.12), ('music', 372.12, 422.68), ('noise', 422.68, 427.78000000000003), ('speech', 427.78000000000003, 432.40000000000003), ('noise', 432.40000000000003, 435.04), ('music', 435.04, 439.48), ('speech', 439.48, 446.32), ('music', 446.32, 452.66), ('noise', 452.66, 462.82), ('music', 462.82, 466.90000000000003), ('speech', 466.90000000000003, 490.86), ('noEnergy', 490.86, 491.5), ('noise', 491.5, 506.76), ('music', 506.76, 513.88), ('speech', 513.88, 553.76), ('music', 553.76, 561.9), ('speech', 561.9, 572.96), ('noEnergy', 572.96, 573.62), ('noise', 573.62, 576.9), ('music', 576.9, 583.62), ('speech', 583.62, 586.84), ('noise', 586.84, 590.2), ('music', 590.2, 594.3000000000001), ('noise', 594.3000000000001, 611.44), ('music', 611.44, 615.16), ('speech', 615.16, 619.32), ('noise', 619.32, 622.2), ('music', 622.2, 627.88), ('speech', 627.88, 654.5600000000001), ('noise', 654.5600000000001, 656.38), ('music', 656.38, 663.46), ('speech', 663.46, 670.98), ('noEnergy', 670.98, 671.52), ('noise', 671.52, 674.26), ('speech', 674.26, 726.74), ('music', 726.74, 743.9), ('noise', 743.9, 745.6800000000001), ('speech', 745.6800000000001, 762.94), ('noise', 762.94, 766.8000000000001), ('speech', 766.8000000000001, 793.4), ('music', 793.4, 806.36), ('noise', 806.36, 807.5), ('noEnergy', 807.5, 808.1800000000001), ('speech', 808.1800000000001, 819.8000000000001), ('noEnergy', 819.8000000000001, 820.2), ('speech', 820.2, 829.5600000000001), ('noise', 829.5600000000001, 838.96), ('music', 838.96, 843.76), ('speech', 843.76, 846.5600000000001), ('noEnergy', 846.5600000000001, 847.48), ('speech', 847.48, 858.82), ('noEnergy', 858.82, 859.24), ('speech', 859.24, 863.66), ('noEnergy', 863.66, 864.5), ('speech', 864.5, 868.34), ('noEnergy', 868.34, 868.74), ('speech', 868.74, 892.9), ('noEnergy', 892.9, 893.74), ('speech', 893.74, 904.98), ('noEnergy', 904.98, 905.48), ('speech', 905.48, 906.7), ('noEnergy', 906.7, 907.26), ('speech', 907.26, 921.66), ('noEnergy', 921.66, 922.5600000000001), ('speech', 922.5600000000001, 924.78), ('music', 924.78, 930.4200000000001), ('speech', 930.4200000000001, 933.6800000000001), ('noEnergy', 933.6800000000001, 934.08), ('speech', 934.08, 943.86), ('noise', 943.86, 949.88), ('speech', 949.88, 975.04), ('music', 975.04, 979.38), ('noise', 979.38, 983.88), ('music', 983.88, 987.86), ('speech', 987.86, 1009.74), ('noEnergy', 1009.74, 1010.48), ('speech', 1010.48, 1039.76), ('noEnergy', 1039.76, 1040.18), ('music', 1040.18, 1046.8), ('speech', 1046.8, 1062.24), ('music', 1062.24, 1071.42), ('noise', 1071.42, 1085.44), ('speech', 1085.44, 1099.46), ('noEnergy', 1099.46, 1100.4), ('noise', 1100.4, 1108.04), ('speech', 1108.04, 1113.0), ('noEnergy', 1113.0, 1113.88), ('speech', 1113.88, 1173.06), ('noEnergy', 1173.06, 1173.66), ('music', 1173.66, 1174.48), ('noise', 1174.48, 1176.28), ('speech', 1176.28, 1197.56), ('noEnergy', 1197.56, 1197.98), ('speech', 1197.98, 1211.5), ('noEnergy', 1211.5, 1211.94), ('speech', 1211.94, 1232.18), ('noise', 1232.18, 1235.3600000000001), ('speech', 1235.3600000000001, 1251.66), ('noEnergy', 1251.66, 1252.06), ('speech', 1252.06, 1263.82), ('noEnergy', 1263.82, 1264.26), ('speech', 1264.26, 1272.92), ('noise', 1272.92, 1277.44), ('music', 1277.44, 1284.9), ('speech', 1284.9, 1308.84), ('noise', 1308.84, 1311.0), ('speech', 1311.0, 1317.18), ('music', 1317.18, 1323.44), ('speech', 1323.44, 1325.66), ('noEnergy', 1325.66, 1326.1200000000001), ('speech', 1326.1200000000001, 1359.7), ('noise', 1359.7, 1362.72), ('music', 1362.72, 1380.82), ('speech', 1380.82, 1392.18), ('music', 1392.18, 1398.4), ('speech', 1398.4, 1412.38), ('music', 1412.38, 1419.92), ('speech', 1419.92, 1421.54), ('music', 1421.54, 1426.1200000000001), ('speech', 1426.1200000000001, 1428.14), ('music', 1428.14, 1431.3), ('noEnergy', 1431.3, 1431.68), ('speech', 1431.68, 1440.3), ('noEnergy', 1440.3, 1440.74), ('speech', 1440.74, 1441.1200000000001), ('noEnergy', 1441.1200000000001, 1442.14), ('speech', 1442.14, 1451.84), ('noEnergy', 1451.84, 1452.7), ('speech', 1452.7, 1499.38), ('music', 1499.38, 1508.28), ('speech', 1508.28, 1528.3), ('music', 1528.3, 1529.88), ('noEnergy', 1529.88, 1530.78), ('noise', 1530.78, 1537.54), ('music', 1537.54, 1542.3600000000001), ('speech', 1542.3600000000001, 1545.44), ('noise', 1545.44, 1547.06), ('speech', 1547.06, 1567.22), ('music', 1567.22, 1583.14), ('noise', 1583.14, 1604.16), ('speech', 1604.16, 1607.9), ('noEnergy', 1607.9, 1608.3), ('speech', 1608.3, 1619.6200000000001), ('noEnergy', 1619.6200000000001, 1620.1000000000001), ('speech', 1620.1000000000001, 1622.46), ('noEnergy', 1622.46, 1623.1000000000001), ('speech', 1623.1000000000001, 1638.66), ('music', 1638.66, 1645.4), ('speech', 1645.4, 1676.76), ('noEnergy', 1676.76, 1677.3), ('speech', 1677.3, 1689.7), ('noEnergy', 1689.7, 1690.14), ('speech', 1690.14, 1699.44), ('noEnergy', 1699.44, 1700.1000000000001), ('speech', 1700.1000000000001, 1726.92), ('noEnergy', 1726.92, 1727.66), ('speech', 1727.66, 1729.04), ('noEnergy', 1729.04, 1729.46), ('speech', 1729.46, 1747.04), ('noEnergy', 1747.04, 1747.6200000000001), ('speech', 1747.6200000000001, 1749.94), ('noEnergy', 1749.94, 1750.4), ('speech', 1750.4, 1752.76), ('noEnergy', 1752.76, 1753.3), ('speech', 1753.3, 1763.6200000000001), ('noEnergy', 1763.6200000000001, 1764.1000000000001), ('speech', 1764.1000000000001, 1776.44), ('noEnergy', 1776.44, 1777.28), ('speech', 1777.28, 1790.9), ('noEnergy', 1790.9, 1791.6000000000001), ('speech', 1791.6000000000001, 1805.38), ('noEnergy', 1805.38, 1805.8), ('speech', 1805.8, 1815.74), ('noEnergy', 1815.74, 1816.72), ('speech', 1816.72, 1817.3400000000001), ('noEnergy', 1817.3400000000001, 1818.42), ('speech', 1818.42, 1819.08), ('noise', 1819.08, 1825.2), ('music', 1825.2, 1831.74), ('speech', 1831.74, 1837.18), ('noise', 1837.18, 1843.14), ('music', 1843.14, 1855.02), ('speech', 1855.02, 1893.3400000000001), ('music', 1893.3400000000001, 1906.3600000000001), ('speech', 1906.3600000000001, 1915.1000000000001), ('music', 1915.1000000000001, 1955.82), ('speech', 1955.82, 1971.24), ('music', 1971.24, 2004.8), ('noEnergy', 2004.8, 2005.3600000000001), ('music', 2005.3600000000001, 2009.72), ('speech', 2009.72, 2017.02), ('noEnergy', 2017.02, 2017.44), ('speech', 2017.44, 2043.94), ('noEnergy', 2043.94, 2044.56), ('speech', 2044.56, 2052.36), ('noEnergy', 2052.36, 2053.4), ('speech', 2053.4, 2055.66), ('noEnergy', 2055.66, 2056.48), ('speech', 2056.48, 2066.1), ('noEnergy', 2066.1, 2066.54), ('speech', 2066.54, 2100.46), ('noEnergy', 2100.46, 2101.06), ('speech', 2101.06, 2131.46), ('noEnergy', 2131.46, 2131.88), ('speech', 2131.88, 2134.08), ('noEnergy', 2134.08, 2134.56), ('speech', 2134.56, 2136.66), ('noEnergy', 2136.66, 2137.4), ('speech', 2137.4, 2139.56), ('noEnergy', 2139.56, 2140.84), ('speech', 2140.84, 2151.66), ('noEnergy', 2151.66, 2152.42), ('noise', 2152.42, 2154.56), ('speech', 2154.56, 2158.5), ('noise', 2158.5, 2161.06), ('music', 2161.06, 2168.2200000000003), ('speech', 2168.2200000000003, 2180.0), ('noise', 2180.0, 2183.46), ('music', 2183.46, 2194.98), ('noEnergy', 2194.98, 2195.7200000000003), ('speech', 2195.7200000000003, 2209.0), ('noEnergy', 2209.0, 2210.1), ('music', 2210.1, 2214.64), ('speech', 2214.64, 2221.28), ('music', 2221.28, 2269.48), ('speech', 2269.48, 2319.46), ('music', 2319.46, 2330.2000000000003), ('noEnergy', 2330.2000000000003, 2330.68), ('music', 2330.68, 2336.7000000000003), ('speech', 2336.7000000000003, 2354.42), ('music', 2354.42, 2371.14), ('noEnergy', 2371.14, 2371.56), ('speech', 2371.56, 2391.68), ('noEnergy', 2391.68, 2392.16), ('speech', 2392.16, 2401.12), ('noEnergy', 2401.12, 2401.7200000000003), ('speech', 2401.7200000000003, 2410.12), ('noEnergy', 2410.12, 2410.7400000000002), ('speech', 2410.7400000000002, 2429.16), ('noEnergy', 2429.16, 2429.66), ('speech', 2429.66, 2433.84), ('noEnergy', 2433.84, 2434.7000000000003), ('speech', 2434.7000000000003, 2456.3), ('noEnergy', 2456.3, 2456.9), ('speech', 2456.9, 2460.64), ('noEnergy', 2460.64, 2461.16), ('speech', 2461.16, 2462.28), ('noEnergy', 2462.28, 2462.7000000000003), ('speech', 2462.7000000000003, 2463.0), ('noEnergy', 2463.0, 2464.04), ('speech', 2464.04, 2474.96), ('noEnergy', 2474.96, 2475.4), ('speech', 2475.4, 2503.34), ('noEnergy', 2503.34, 2503.94), ('speech', 2503.94, 2509.9), ('noEnergy', 2509.9, 2510.62), ('speech', 2510.62, 2535.96), ('noEnergy', 2535.96, 2536.46), ('speech', 2536.46, 2571.3), ('noEnergy', 2571.3, 2571.86), ('speech', 2571.86, 2578.38), ('noEnergy', 2578.38, 2578.92), ('speech', 2578.92, 2594.86), ('noEnergy', 2594.86, 2595.36), ('speech', 2595.36, 2599.0), ('noEnergy', 2599.0, 2599.5), ('speech', 2599.5, 2615.2400000000002), ('noEnergy', 2615.2400000000002, 2615.68), ('speech', 2615.68, 2620.12), ('music', 2620.12, 2623.44), ('speech', 2623.44, 2628.88), ('music', 2628.88, 2637.64), ('speech', 2637.64, 2640.84), ('noise', 2640.84, 2643.36), ('music', 2643.36, 2664.14), ('speech', 2664.14, 2685.62), ('noEnergy', 2685.62, 2686.2000000000003), ('speech', 2686.2000000000003, 2688.52), ('music', 2688.52, 2694.26), ('speech', 2694.26, 2699.98)]\n"
     ]
    },
    {
     "name": "stdout",
     "output_type": "stream",
     "text": [
      "Saving DF to CSV\n",
      "\n",
      "DF   index start_second stop_second  \\\n",
      "0     0            0        2700   \n",
      "\n",
      "                                                mfcc  \\\n",
      "0  [[-32.46376419067383, -32.03540802001953, -31....   \n",
      "\n",
      "                                                loge difflen  \\\n",
      "0  [-18.872709274291992, -5.199673175811768, -4.0...       0   \n",
      "\n",
      "                         audio_classification_labels  \n",
      "0  [(speech, 0.0, 14.36), (music, 14.36, 17.34), ...  \n",
      "File /mnt/rds/redhen/gallina/home/hxm471/RedHenLab-Multimodal_TV_Show_Segmentation/mtvss/data/tmp/splits/2006-01-19_0000_US_00002692_V2_MB13_VHS14_H13_CG.csv\n",
      "\n",
      "Finished fexport\n",
      "\n",
      "Yielding chunk\n",
      "6/1 (0, 'ok', (0, 2700, 5400))\n",
      "I can make changes\n"
     ]
    },
    {
     "name": "stderr",
     "output_type": "stream",
     "text": [
      "/usr/local/lib/python3.8/dist-packages/pyannote/algorithms/utils/viterbi.py:86: FutureWarning: arrays to stack must be passed as a \"sequence\" type such as list or tuple. Support for non-sequence iterables such as generators is deprecated as of NumPy 1.16 and will raise an error in the future.\n",
      "  return np.vstack(\n",
      "/usr/local/lib/python3.8/dist-packages/pyannote/algorithms/utils/viterbi.py:95: FutureWarning: arrays to stack must be passed as a \"sequence\" type such as list or tuple. Support for non-sequence iterables such as generators is deprecated as of NumPy 1.16 and will raise an error in the future.\n",
      "  return np.vstack(\n"
     ]
    },
    {
     "name": "stdout",
     "output_type": "stream",
     "text": [
      "wav2feats done\n",
      "tmpwav /mnt/rds/redhen/gallina/home/hxm471/RedHenLab-Multimodal_TV_Show_Segmentation/mtvss/data/tmp/splits/tmpb6z2vldv/2006-01-19_0000_US_00002692_V2_MB13_VHS14_H13_CG_13500_16200.wav\n",
      "Starting _wav2feats\n",
      "True (134999, 134999)\n",
      "108/128 [========================>.....] - ETA: 3swav2feats done\n",
      "tmpwav /mnt/rds/redhen/gallina/home/hxm471/RedHenLab-Multimodal_TV_Show_Segmentation/mtvss/data/tmp/splits/tmprsrlmk1p/2006-01-19_0000_US_00002692_V2_MB13_VHS14_H13_CG_8100_10800.wav\n",
      "128/128 [==============================] - 24s 187ms/step\n"
     ]
    },
    {
     "name": "stderr",
     "output_type": "stream",
     "text": [
      "/usr/local/lib/python3.8/dist-packages/pyannote/algorithms/utils/viterbi.py:86: FutureWarning: arrays to stack must be passed as a \"sequence\" type such as list or tuple. Support for non-sequence iterables such as generators is deprecated as of NumPy 1.16 and will raise an error in the future.\n",
      "  return np.vstack(\n",
      "/usr/local/lib/python3.8/dist-packages/pyannote/algorithms/utils/viterbi.py:95: FutureWarning: arrays to stack must be passed as a \"sequence\" type such as list or tuple. Support for non-sequence iterables such as generators is deprecated as of NumPy 1.16 and will raise an error in the future.\n",
      "  return np.vstack(\n"
     ]
    },
    {
     "name": "stdout",
     "output_type": "stream",
     "text": [
      "Output from segement feats: [('speech', 2700.0, 2716.98), ('music', 2716.98, 2771.4), ('speech', 2771.4, 2781.28), ('music', 2781.28, 2818.18), ('speech', 2818.18, 2822.52), ('noEnergy', 2822.52, 2823.38), ('speech', 2823.38, 2841.98), ('music', 2841.98, 2849.86), ('speech', 2849.86, 2851.74), ('music', 2851.74, 2875.52), ('speech', 2875.52, 2904.28), ('music', 2904.28, 2910.56), ('speech', 2910.56, 2934.9), ('noEnergy', 2934.9, 2935.44), ('speech', 2935.44, 2998.74), ('noEnergy', 2998.74, 2999.2200000000003), ('speech', 2999.2200000000003, 3041.74), ('music', 3041.74, 3044.1), ('speech', 3044.1, 3078.12), ('noEnergy', 3078.12, 3078.62), ('speech', 3078.62, 3083.08), ('noEnergy', 3083.08, 3083.52), ('speech', 3083.52, 3089.66), ('noEnergy', 3089.66, 3090.1), ('speech', 3090.1, 3127.64), ('noEnergy', 3127.64, 3128.4), ('speech', 3128.4, 3139.68), ('music', 3139.68, 3196.68), ('speech', 3196.68, 3249.1), ('music', 3249.1, 3254.2799999999997), ('noEnergy', 3254.2799999999997, 3254.7), ('speech', 3254.7, 3267.34), ('music', 3267.34, 3271.04), ('speech', 3271.04, 3281.96), ('music', 3281.96, 3283.7200000000003), ('noEnergy', 3283.7200000000003, 3284.56), ('speech', 3284.56, 3309.24), ('music', 3309.24, 3337.6800000000003), ('speech', 3337.6800000000003, 3343.02), ('music', 3343.02, 3344.26), ('noEnergy', 3344.26, 3344.66), ('speech', 3344.66, 3348.0), ('noEnergy', 3348.0, 3349.7799999999997), ('speech', 3349.7799999999997, 3353.7799999999997), ('noEnergy', 3353.7799999999997, 3354.6), ('music', 3354.6, 3371.82), ('speech', 3371.82, 3379.16), ('music', 3379.16, 3386.34), ('speech', 3386.34, 3396.86), ('music', 3396.86, 3401.98), ('speech', 3401.98, 3416.02), ('noEnergy', 3416.02, 3417.1800000000003), ('music', 3417.1800000000003, 3485.2), ('noise', 3485.2, 3489.32), ('speech', 3489.32, 3496.58), ('music', 3496.58, 3506.58), ('noise', 3506.58, 3509.2), ('music', 3509.2, 3513.0), ('noEnergy', 3513.0, 3513.6), ('speech', 3513.6, 3518.38), ('music', 3518.38, 3522.6), ('speech', 3522.6, 3527.42), ('noEnergy', 3527.42, 3527.86), ('speech', 3527.86, 3543.14), ('noEnergy', 3543.14, 3543.7799999999997), ('speech', 3543.7799999999997, 3570.2), ('noEnergy', 3570.2, 3571.1), ('speech', 3571.1, 3601.48), ('noEnergy', 3601.48, 3601.94), ('speech', 3601.94, 3607.4), ('noEnergy', 3607.4, 3607.9), ('speech', 3607.9, 3612.02), ('noEnergy', 3612.02, 3612.48), ('speech', 3612.48, 3639.12), ('noEnergy', 3639.12, 3640.06), ('speech', 3640.06, 3727.44), ('noEnergy', 3727.44, 3727.9), ('speech', 3727.9, 3735.5), ('noEnergy', 3735.5, 3735.96), ('speech', 3735.96, 3743.48), ('noEnergy', 3743.48, 3744.02), ('speech', 3744.02, 3749.3), ('noEnergy', 3749.3, 3749.86), ('speech', 3749.86, 3752.88), ('noEnergy', 3752.88, 3753.36), ('speech', 3753.36, 3868.54), ('noEnergy', 3868.54, 3869.1000000000004), ('speech', 3869.1000000000004, 3907.1000000000004), ('noEnergy', 3907.1000000000004, 3907.5), ('speech', 3907.5, 3935.7200000000003), ('noEnergy', 3935.7200000000003, 3937.1800000000003), ('noise', 3937.1800000000003, 3938.1400000000003), ('noEnergy', 3938.1400000000003, 3938.7799999999997), ('speech', 3938.7799999999997, 3968.42), ('noEnergy', 3968.42, 3968.92), ('speech', 3968.92, 3974.8199999999997), ('noEnergy', 3974.8199999999997, 3975.7), ('speech', 3975.7, 4032.7799999999997), ('noEnergy', 4032.7799999999997, 4033.2200000000003), ('speech', 4033.2200000000003, 4036.56), ('noEnergy', 4036.56, 4037.12), ('speech', 4037.12, 4042.3), ('noEnergy', 4042.3, 4043.54), ('speech', 4043.54, 4059.56), ('noEnergy', 4059.56, 4060.06), ('speech', 4060.06, 4068.1800000000003), ('noEnergy', 4068.1800000000003, 4068.7799999999997), ('speech', 4068.7799999999997, 4119.32), ('noEnergy', 4119.32, 4119.9400000000005), ('speech', 4119.9400000000005, 4125.26), ('noEnergy', 4125.26, 4125.7), ('speech', 4125.7, 4128.1), ('noEnergy', 4128.1, 4128.54), ('speech', 4128.54, 4139.92), ('noEnergy', 4139.92, 4141.48), ('speech', 4141.48, 4144.34), ('noEnergy', 4144.34, 4144.9), ('speech', 4144.9, 4146.62), ('noEnergy', 4146.62, 4147.1), ('speech', 4147.1, 4147.92), ('noEnergy', 4147.92, 4148.9), ('speech', 4148.9, 4150.72), ('noEnergy', 4150.72, 4151.2), ('speech', 4151.2, 4152.14), ('noEnergy', 4152.14, 4152.74), ('speech', 4152.74, 4163.96), ('noEnergy', 4163.96, 4164.5), ('speech', 4164.5, 4172.18), ('noEnergy', 4172.18, 4172.76), ('speech', 4172.76, 4189.0599999999995), ('noEnergy', 4189.0599999999995, 4189.5), ('speech', 4189.5, 4194.62), ('music', 4194.62, 4196.12), ('speech', 4196.12, 4202.62), ('noEnergy', 4202.62, 4204.84), ('speech', 4204.84, 4213.5), ('noEnergy', 4213.5, 4214.72), ('speech', 4214.72, 4223.7), ('music', 4223.7, 4226.08), ('noEnergy', 4226.08, 4226.64), ('speech', 4226.64, 4245.360000000001), ('music', 4245.360000000001, 4258.48), ('speech', 4258.48, 4270.08), ('music', 4270.08, 4271.8), ('speech', 4271.8, 4359.82), ('music', 4359.82, 4365.64), ('speech', 4365.64, 4375.12), ('music', 4375.12, 4376.54), ('noEnergy', 4376.54, 4379.0599999999995), ('speech', 4379.0599999999995, 4388.3), ('noEnergy', 4388.3, 4388.76), ('speech', 4388.76, 4391.04), ('noEnergy', 4391.04, 4391.48), ('speech', 4391.48, 4396.9), ('noEnergy', 4396.9, 4397.32), ('speech', 4397.32, 4409.66), ('noEnergy', 4409.66, 4410.12), ('speech', 4410.12, 4415.32), ('noEnergy', 4415.32, 4415.84), ('speech', 4415.84, 4419.72), ('noEnergy', 4419.72, 4420.12), ('speech', 4420.12, 4423.42), ('noEnergy', 4423.42, 4424.34), ('speech', 4424.34, 4438.46), ('noEnergy', 4438.46, 4439.04), ('speech', 4439.04, 4453.76), ('noEnergy', 4453.76, 4455.62), ('speech', 4455.62, 4466.78), ('noEnergy', 4466.78, 4467.5), ('speech', 4467.5, 4478.42), ('noEnergy', 4478.42, 4479.0), ('speech', 4479.0, 4480.26), ('noEnergy', 4480.26, 4480.78), ('speech', 4480.78, 4487.22), ('noEnergy', 4487.22, 4487.88), ('speech', 4487.88, 4491.860000000001), ('noEnergy', 4491.860000000001, 4492.3), ('speech', 4492.3, 4495.28), ('noEnergy', 4495.28, 4495.9), ('speech', 4495.9, 4504.860000000001), ('noEnergy', 4504.860000000001, 4505.32), ('speech', 4505.32, 4505.9), ('noEnergy', 4505.9, 4506.360000000001), ('speech', 4506.360000000001, 4511.76), ('noEnergy', 4511.76, 4512.28), ('speech', 4512.28, 4514.0599999999995), ('noEnergy', 4514.0599999999995, 4514.62), ('speech', 4514.62, 4522.4), ('noEnergy', 4522.4, 4523.42), ('speech', 4523.42, 4526.54), ('noEnergy', 4526.54, 4527.0599999999995), ('speech', 4527.0599999999995, 4529.78), ('noEnergy', 4529.78, 4530.38), ('speech', 4530.38, 4544.74), ('noEnergy', 4544.74, 4546.84), ('speech', 4546.84, 4560.82), ('noEnergy', 4560.82, 4561.46), ('speech', 4561.46, 4573.1), ('noEnergy', 4573.1, 4573.92), ('speech', 4573.92, 4578.48), ('noEnergy', 4578.48, 4579.32), ('speech', 4579.32, 4586.860000000001), ('noEnergy', 4586.860000000001, 4587.26), ('speech', 4587.26, 4602.0599999999995), ('noEnergy', 4602.0599999999995, 4602.5), ('speech', 4602.5, 4609.58), ('noEnergy', 4609.58, 4610.2), ('speech', 4610.2, 4616.0599999999995), ('noEnergy', 4616.0599999999995, 4616.54), ('speech', 4616.54, 4671.82), ('noEnergy', 4671.82, 4672.32), ('speech', 4672.32, 4679.42), ('noEnergy', 4679.42, 4680.18), ('speech', 4680.18, 4702.4400000000005), ('noEnergy', 4702.4400000000005, 4703.02), ('speech', 4703.02, 4757.48), ('noEnergy', 4757.48, 4758.02), ('speech', 4758.02, 4762.42), ('music', 4762.42, 4763.82), ('speech', 4763.82, 4777.24), ('music', 4777.24, 4778.9400000000005), ('noEnergy', 4778.9400000000005, 4780.74), ('music', 4780.74, 4810.38), ('speech', 4810.38, 4832.04), ('noEnergy', 4832.04, 4832.58), ('speech', 4832.58, 4834.92), ('music', 4834.92, 4876.639999999999), ('noise', 4876.639999999999, 4883.98), ('noEnergy', 4883.98, 4885.04), ('music', 4885.04, 4900.66), ('speech', 4900.66, 4929.26), ('noEnergy', 4929.26, 4930.62), ('speech', 4930.62, 4940.46), ('noise', 4940.46, 4946.76), ('music', 4946.76, 4960.52), ('noEnergy', 4960.52, 4962.5599999999995), ('speech', 4962.5599999999995, 5001.88), ('noEnergy', 5001.88, 5002.32), ('speech', 5002.32, 5005.1), ('noEnergy', 5005.1, 5005.5), ('speech', 5005.5, 5010.0599999999995), ('noEnergy', 5010.0599999999995, 5010.98), ('speech', 5010.98, 5038.5), ('noEnergy', 5038.5, 5039.32), ('speech', 5039.32, 5060.88), ('music', 5060.88, 5074.700000000001), ('speech', 5074.700000000001, 5127.08), ('music', 5127.08, 5135.76), ('speech', 5135.76, 5136.82), ('noise', 5136.82, 5141.38), ('speech', 5141.38, 5157.04), ('noEnergy', 5157.04, 5157.52), ('music', 5157.52, 5160.4), ('speech', 5160.4, 5185.8), ('music', 5185.8, 5196.8), ('noEnergy', 5196.8, 5197.5), ('music', 5197.5, 5201.98), ('noEnergy', 5201.98, 5206.02), ('noise', 5206.02, 5206.46), ('noEnergy', 5206.46, 5208.42), ('music', 5208.42, 5218.22), ('speech', 5218.22, 5232.1), ('noEnergy', 5232.1, 5234.02), ('speech', 5234.02, 5239.6), ('music', 5239.6, 5241.4), ('speech', 5241.4, 5251.3), ('noEnergy', 5251.3, 5251.72), ('speech', 5251.72, 5315.4400000000005), ('noEnergy', 5315.4400000000005, 5315.96), ('speech', 5315.96, 5321.200000000001), ('noEnergy', 5321.200000000001, 5321.76), ('speech', 5321.76, 5325.52), ('noEnergy', 5325.52, 5325.9400000000005), ('speech', 5325.9400000000005, 5371.139999999999), ('noise', 5371.139999999999, 5372.88), ('speech', 5372.88, 5394.54), ('noEnergy', 5394.54, 5394.98), ('speech', 5394.98, 5399.98)]\n"
     ]
    },
    {
     "name": "stdout",
     "output_type": "stream",
     "text": [
      "CSV exists -- Appending\n"
     ]
    },
    {
     "name": "stderr",
     "output_type": "stream",
     "text": [
      "/mnt/rds/redhen/gallina/home/hxm471/RedHenLab-Multimodal_TV_Show_Segmentation/inaSpeechSegmenter/inaSpeechSegmenter/export_funcs.py:52: FutureWarning: The frame.append method is deprecated and will be removed from pandas in a future version. Use pandas.concat instead.\n",
      "  df = df2.append(df)\n"
     ]
    },
    {
     "name": "stdout",
     "output_type": "stream",
     "text": [
      "Saving DF to CSV\n",
      "\n",
      "DF   index start_second stop_second  \\\n",
      "0     0            0        2700   \n",
      "0     0         2700        5400   \n",
      "\n",
      "                                                mfcc  \\\n",
      "0  [[-32.46376419067383, -32.03540802001953, -31....   \n",
      "0  [[-7.569925785064697, -7.288165092468262, -5.9...   \n",
      "\n",
      "                                                loge difflen  \\\n",
      "0  [-18.872709274291992, -5.199673175811768, -4.0...       0   \n",
      "0  [-3.0485196113586426, -3.014030694961548, -2.9...       0   \n",
      "\n",
      "                         audio_classification_labels  \n",
      "0  [('speech', 0.0, 14.36), ('music', 14.36, 17.3...  \n",
      "0  [(speech, 2700.0, 2716.98), (music, 2716.98, 2...  \n",
      "File /mnt/rds/redhen/gallina/home/hxm471/RedHenLab-Multimodal_TV_Show_Segmentation/mtvss/data/tmp/splits/2006-01-19_0000_US_00002692_V2_MB13_VHS14_H13_CG.csv\n",
      "Starting _wav2feats\n",
      "\n",
      "Finished fexport\n",
      "\n",
      "Yielding chunk\n",
      "9/1 (0, 'ok', (0, 5400, 8100))\n",
      "I can make changes\n"
     ]
    },
    {
     "name": "stderr",
     "output_type": "stream",
     "text": [
      "/usr/local/lib/python3.8/dist-packages/pyannote/algorithms/utils/viterbi.py:86: FutureWarning: arrays to stack must be passed as a \"sequence\" type such as list or tuple. Support for non-sequence iterables such as generators is deprecated as of NumPy 1.16 and will raise an error in the future.\n",
      "  return np.vstack(\n",
      "/usr/local/lib/python3.8/dist-packages/pyannote/algorithms/utils/viterbi.py:95: FutureWarning: arrays to stack must be passed as a \"sequence\" type such as list or tuple. Support for non-sequence iterables such as generators is deprecated as of NumPy 1.16 and will raise an error in the future.\n",
      "  return np.vstack(\n"
     ]
    },
    {
     "name": "stdout",
     "output_type": "stream",
     "text": [
      "Starting _wav2feats\n",
      "wav2feats done\n",
      "tmpwav /mnt/rds/redhen/gallina/home/hxm471/RedHenLab-Multimodal_TV_Show_Segmentation/mtvss/data/tmp/splits/tmpb6z2vldv/2006-01-19_0000_US_00002692_V2_MB13_VHS14_H13_CG_16200_18900.wav\n",
      "True (134999, 134999)\n",
      "  8/129 [>.............................] - ETA: 30swav2feats done\n",
      "tmpwav /mnt/rds/redhen/gallina/home/hxm471/RedHenLab-Multimodal_TV_Show_Segmentation/mtvss/data/tmp/splits/tmprsrlmk1p/2006-01-19_0000_US_00002692_V2_MB13_VHS14_H13_CG_10800_13500.wav\n",
      "129/129 [==============================] - 25s 193ms/step\n"
     ]
    },
    {
     "name": "stderr",
     "output_type": "stream",
     "text": [
      "/usr/local/lib/python3.8/dist-packages/pyannote/algorithms/utils/viterbi.py:86: FutureWarning: arrays to stack must be passed as a \"sequence\" type such as list or tuple. Support for non-sequence iterables such as generators is deprecated as of NumPy 1.16 and will raise an error in the future.\n",
      "  return np.vstack(\n",
      "/usr/local/lib/python3.8/dist-packages/pyannote/algorithms/utils/viterbi.py:95: FutureWarning: arrays to stack must be passed as a \"sequence\" type such as list or tuple. Support for non-sequence iterables such as generators is deprecated as of NumPy 1.16 and will raise an error in the future.\n",
      "  return np.vstack(\n"
     ]
    },
    {
     "name": "stdout",
     "output_type": "stream",
     "text": [
      "Output from segement feats: [('speech', 5400.0, 5401.0), ('noEnergy', 5401.0, 5401.62), ('speech', 5401.62, 5430.02), ('noEnergy', 5430.02, 5430.92), ('speech', 5430.92, 5441.2), ('noEnergy', 5441.2, 5441.86), ('speech', 5441.86, 5459.74), ('noEnergy', 5459.74, 5460.16), ('speech', 5460.16, 5497.94), ('noEnergy', 5497.94, 5499.4), ('speech', 5499.4, 5558.98), ('noEnergy', 5558.98, 5559.44), ('speech', 5559.44, 5585.78), ('noEnergy', 5585.78, 5587.66), ('speech', 5587.66, 5591.6), ('noEnergy', 5591.6, 5592.0), ('speech', 5592.0, 5595.2), ('noEnergy', 5595.2, 5596.48), ('speech', 5596.48, 5622.04), ('noEnergy', 5622.04, 5622.68), ('speech', 5622.68, 5634.44), ('noEnergy', 5634.44, 5635.38), ('speech', 5635.38, 5640.6), ('noEnergy', 5640.6, 5641.1), ('speech', 5641.1, 5642.2), ('noEnergy', 5642.2, 5642.64), ('speech', 5642.64, 5656.34), ('noEnergy', 5656.34, 5657.0), ('speech', 5657.0, 5667.76), ('noEnergy', 5667.76, 5668.32), ('speech', 5668.32, 5703.36), ('noEnergy', 5703.36, 5703.82), ('speech', 5703.82, 5743.36), ('music', 5743.36, 5745.08), ('noEnergy', 5745.08, 5746.58), ('speech', 5746.58, 5750.76), ('noEnergy', 5750.76, 5751.5), ('noise', 5751.5, 5752.32), ('music', 5752.32, 5783.4), ('speech', 5783.4, 5795.0), ('music', 5795.0, 5801.36), ('noise', 5801.36, 5802.98), ('music', 5802.98, 5826.14), ('speech', 5826.14, 5883.1), ('music', 5883.1, 5885.8), ('noEnergy', 5885.8, 5886.42), ('speech', 5886.42, 5930.02), ('music', 5930.02, 5931.42), ('noEnergy', 5931.42, 5933.78), ('speech', 5933.78, 5948.04), ('noEnergy', 5948.04, 5948.48), ('speech', 5948.48, 5965.28), ('noEnergy', 5965.28, 5965.84), ('speech', 5965.84, 5982.04), ('noEnergy', 5982.04, 5982.82), ('speech', 5982.82, 5986.76), ('noEnergy', 5986.76, 5987.28), ('speech', 5987.28, 5992.4400000000005), ('noEnergy', 5992.4400000000005, 5992.88), ('speech', 5992.88, 5994.9400000000005), ('noEnergy', 5994.9400000000005, 5995.42), ('speech', 5995.42, 6020.16), ('music', 6020.16, 6023.1), ('speech', 6023.1, 6064.38), ('music', 6064.38, 6073.38), ('speech', 6073.38, 6079.34), ('noEnergy', 6079.34, 6080.22), ('speech', 6080.22, 6087.22), ('noEnergy', 6087.22, 6087.64), ('speech', 6087.64, 6124.26), ('noEnergy', 6124.26, 6125.02), ('speech', 6125.02, 6129.2), ('noEnergy', 6129.2, 6129.82), ('speech', 6129.82, 6144.58), ('music', 6144.58, 6175.84), ('noEnergy', 6175.84, 6176.38), ('speech', 6176.38, 6180.54), ('noEnergy', 6180.54, 6181.16), ('music', 6181.16, 6184.12), ('speech', 6184.12, 6185.38), ('noEnergy', 6185.38, 6186.26), ('speech', 6186.26, 6187.7), ('noEnergy', 6187.7, 6188.4400000000005), ('speech', 6188.4400000000005, 6193.2), ('noEnergy', 6193.2, 6193.66), ('speech', 6193.66, 6197.36), ('noEnergy', 6197.36, 6198.26), ('speech', 6198.26, 6200.66), ('noEnergy', 6200.66, 6201.2), ('speech', 6201.2, 6204.22), ('noEnergy', 6204.22, 6205.02), ('speech', 6205.02, 6209.26), ('music', 6209.26, 6212.7), ('speech', 6212.7, 6227.54), ('music', 6227.54, 6262.4400000000005), ('speech', 6262.4400000000005, 6299.0), ('music', 6299.0, 6309.88), ('speech', 6309.88, 6317.72), ('music', 6317.72, 6329.76), ('speech', 6329.76, 6330.7), ('noEnergy', 6330.7, 6333.16), ('speech', 6333.16, 6360.0), ('noEnergy', 6360.0, 6360.76), ('speech', 6360.76, 6369.06), ('noEnergy', 6369.06, 6370.06), ('speech', 6370.06, 6376.64), ('noEnergy', 6376.64, 6377.34), ('speech', 6377.34, 6395.22), ('noEnergy', 6395.22, 6395.86), ('speech', 6395.86, 6397.18), ('noEnergy', 6397.18, 6397.88), ('speech', 6397.88, 6399.56), ('noEnergy', 6399.56, 6399.98), ('speech', 6399.98, 6403.5), ('noEnergy', 6403.5, 6404.2), ('speech', 6404.2, 6412.32), ('noEnergy', 6412.32, 6412.8), ('speech', 6412.8, 6419.52), ('noEnergy', 6419.52, 6420.12), ('speech', 6420.12, 6429.74), ('noEnergy', 6429.74, 6431.58), ('speech', 6431.58, 6482.9), ('noise', 6482.9, 6486.38), ('speech', 6486.38, 6506.5), ('noEnergy', 6506.5, 6506.9), ('speech', 6506.9, 6526.360000000001), ('noEnergy', 6526.360000000001, 6526.8), ('speech', 6526.8, 6587.0), ('noEnergy', 6587.0, 6587.42), ('speech', 6587.42, 6597.08), ('noEnergy', 6597.08, 6597.76), ('speech', 6597.76, 6625.02), ('music', 6625.02, 6626.860000000001), ('noEnergy', 6626.860000000001, 6627.5599999999995), ('speech', 6627.5599999999995, 6632.5599999999995), ('music', 6632.5599999999995, 6672.96), ('speech', 6672.96, 6688.360000000001), ('music', 6688.360000000001, 6692.14), ('speech', 6692.14, 6720.58), ('noEnergy', 6720.58, 6722.2), ('music', 6722.2, 6726.68), ('speech', 6726.68, 6728.6), ('music', 6728.6, 6731.08), ('speech', 6731.08, 6751.14), ('music', 6751.14, 6812.16), ('noEnergy', 6812.16, 6813.98), ('speech', 6813.98, 6861.48), ('noEnergy', 6861.48, 6861.860000000001), ('speech', 6861.860000000001, 6865.58), ('noEnergy', 6865.58, 6866.04), ('speech', 6866.04, 6875.84), ('noEnergy', 6875.84, 6876.360000000001), ('speech', 6876.360000000001, 6889.66), ('noEnergy', 6889.66, 6890.2), ('speech', 6890.2, 6891.8), ('noEnergy', 6891.8, 6892.24), ('speech', 6892.24, 6921.22), ('music', 6921.22, 6922.74), ('noEnergy', 6922.74, 6923.14), ('speech', 6923.14, 6931.32), ('music', 6931.32, 6934.3), ('speech', 6934.3, 6942.9), ('music', 6942.9, 6965.2), ('speech', 6965.2, 6975.14), ('music', 6975.14, 6981.08), ('speech', 6981.08, 6985.28), ('music', 6985.28, 6987.58), ('speech', 6987.58, 6989.8), ('music', 6989.8, 6991.58), ('speech', 6991.58, 6996.62), ('music', 6996.62, 7007.76), ('noEnergy', 7007.76, 7008.16), ('music', 7008.16, 7037.82), ('speech', 7037.82, 7067.74), ('noEnergy', 7067.74, 7068.66), ('speech', 7068.66, 7094.72), ('music', 7094.72, 7097.42), ('noEnergy', 7097.42, 7098.2), ('music', 7098.2, 7101.88), ('noEnergy', 7101.88, 7102.72), ('speech', 7102.72, 7107.3), ('music', 7107.3, 7109.96), ('speech', 7109.96, 7129.24), ('noEnergy', 7129.24, 7129.7), ('speech', 7129.7, 7270.84), ('noEnergy', 7270.84, 7271.22), ('speech', 7271.22, 7385.76), ('noEnergy', 7385.76, 7386.26), ('speech', 7386.26, 7405.2), ('noEnergy', 7405.2, 7405.58), ('speech', 7405.58, 7412.58), ('noEnergy', 7412.58, 7413.5), ('speech', 7413.5, 7493.16), ('noEnergy', 7493.16, 7494.02), ('speech', 7494.02, 7500.88), ('music', 7500.88, 7505.4400000000005), ('speech', 7505.4400000000005, 7562.139999999999), ('noEnergy', 7562.139999999999, 7563.0599999999995), ('speech', 7563.0599999999995, 7580.4400000000005), ('noEnergy', 7580.4400000000005, 7580.84), ('speech', 7580.84, 7607.66), ('noEnergy', 7607.66, 7608.42), ('speech', 7608.42, 7622.26), ('noEnergy', 7622.26, 7623.700000000001), ('speech', 7623.700000000001, 7728.74), ('noEnergy', 7728.74, 7729.4), ('speech', 7729.4, 7729.72), ('noEnergy', 7729.72, 7730.780000000001), ('speech', 7730.780000000001, 7732.46), ('noEnergy', 7732.46, 7732.88), ('speech', 7732.88, 7735.360000000001), ('noEnergy', 7735.360000000001, 7735.96), ('speech', 7735.96, 7766.860000000001), ('music', 7766.860000000001, 7772.1), ('speech', 7772.1, 7824.72), ('music', 7824.72, 7830.92), ('speech', 7830.92, 7842.8), ('music', 7842.8, 7846.84), ('noise', 7846.84, 7852.639999999999), ('speech', 7852.639999999999, 7862.88), ('music', 7862.88, 7875.26), ('speech', 7875.26, 7902.38), ('noEnergy', 7902.38, 7903.0599999999995), ('speech', 7903.0599999999995, 7934.200000000001), ('music', 7934.200000000001, 7937.139999999999), ('speech', 7937.139999999999, 7946.66), ('music', 7946.66, 7948.0599999999995), ('noEnergy', 7948.0599999999995, 7949.48), ('speech', 7949.48, 7970.139999999999), ('noEnergy', 7970.139999999999, 7970.62), ('speech', 7970.62, 7976.68), ('noEnergy', 7976.68, 7977.24), ('speech', 7977.24, 7985.84), ('noEnergy', 7985.84, 7986.4400000000005), ('speech', 7986.4400000000005, 8079.38), ('noEnergy', 8079.38, 8079.76), ('speech', 8079.76, 8096.98), ('noEnergy', 8096.98, 8097.4), ('speech', 8097.4, 8099.98)]\n",
      "CSV exists -- Appending\n"
     ]
    },
    {
     "name": "stderr",
     "output_type": "stream",
     "text": [
      "/mnt/rds/redhen/gallina/home/hxm471/RedHenLab-Multimodal_TV_Show_Segmentation/inaSpeechSegmenter/inaSpeechSegmenter/export_funcs.py:52: FutureWarning: The frame.append method is deprecated and will be removed from pandas in a future version. Use pandas.concat instead.\n",
      "  df = df2.append(df)\n"
     ]
    },
    {
     "name": "stdout",
     "output_type": "stream",
     "text": [
      "Saving DF to CSV\n",
      "\n",
      "DF   index start_second stop_second  \\\n",
      "0     0            0        2700   \n",
      "1     0         2700        5400   \n",
      "0     0         5400        8100   \n",
      "\n",
      "                                                mfcc  \\\n",
      "0  [[-32.46376419067383, -32.03540802001953, -31....   \n",
      "1  [[-7.569925785064697, -7.288165092468262, -5.9...   \n",
      "0  [[-12.193737983703613, -11.249810218811035, -8...   \n",
      "\n",
      "                                                loge difflen  \\\n",
      "0  [-18.872709274291992, -5.199673175811768, -4.0...       0   \n",
      "1  [-3.0485196113586426, -3.014030694961548, -2.9...       0   \n",
      "0  [-5.2589921951293945, -5.24594783782959, -6.61...       0   \n",
      "\n",
      "                         audio_classification_labels  \n",
      "0  [('speech', 0.0, 14.36), ('music', 14.36, 17.3...  \n",
      "1  [('speech', 2700.0, 2716.98), ('music', 2716.9...  \n",
      "0  [(speech, 5400.0, 5401.0), (noEnergy, 5401.0, ...  \n",
      "File /mnt/rds/redhen/gallina/home/hxm471/RedHenLab-Multimodal_TV_Show_Segmentation/mtvss/data/tmp/splits/2006-01-19_0000_US_00002692_V2_MB13_VHS14_H13_CG.csv\n",
      "Starting _wav2feats\n",
      "Starting _wav2feats\n",
      "\n",
      "Finished fexport\n",
      "\n",
      "Yielding chunk\n",
      "12/1 (0, 'ok', (0, 8100, 10800))\n",
      "I can make changes\n"
     ]
    },
    {
     "name": "stderr",
     "output_type": "stream",
     "text": [
      "/usr/local/lib/python3.8/dist-packages/pyannote/algorithms/utils/viterbi.py:86: FutureWarning: arrays to stack must be passed as a \"sequence\" type such as list or tuple. Support for non-sequence iterables such as generators is deprecated as of NumPy 1.16 and will raise an error in the future.\n",
      "  return np.vstack(\n",
      "/usr/local/lib/python3.8/dist-packages/pyannote/algorithms/utils/viterbi.py:95: FutureWarning: arrays to stack must be passed as a \"sequence\" type such as list or tuple. Support for non-sequence iterables such as generators is deprecated as of NumPy 1.16 and will raise an error in the future.\n",
      "  return np.vstack(\n"
     ]
    },
    {
     "name": "stdout",
     "output_type": "stream",
     "text": [
      "wav2feats done\n",
      "tmpwav /mnt/rds/redhen/gallina/home/hxm471/RedHenLab-Multimodal_TV_Show_Segmentation/mtvss/data/tmp/splits/tmprsrlmk1p/2006-01-19_0000_US_00002692_V2_MB13_VHS14_H13_CG_13500_16200.wav\n",
      "True (134999, 134999)\n",
      " 16/129 [==>...........................] - ETA: 24swav2feats done\n",
      "tmpwav /mnt/rds/redhen/gallina/home/hxm471/RedHenLab-Multimodal_TV_Show_Segmentation/mtvss/data/tmp/splits/tmpb6z2vldv/2006-01-19_0000_US_00002692_V2_MB13_VHS14_H13_CG_18900_21600.wav\n",
      "129/129 [==============================] - 25s 189ms/step\n"
     ]
    },
    {
     "name": "stderr",
     "output_type": "stream",
     "text": [
      "/usr/local/lib/python3.8/dist-packages/pyannote/algorithms/utils/viterbi.py:86: FutureWarning: arrays to stack must be passed as a \"sequence\" type such as list or tuple. Support for non-sequence iterables such as generators is deprecated as of NumPy 1.16 and will raise an error in the future.\n",
      "  return np.vstack(\n",
      "/usr/local/lib/python3.8/dist-packages/pyannote/algorithms/utils/viterbi.py:95: FutureWarning: arrays to stack must be passed as a \"sequence\" type such as list or tuple. Support for non-sequence iterables such as generators is deprecated as of NumPy 1.16 and will raise an error in the future.\n",
      "  return np.vstack(\n"
     ]
    },
    {
     "name": "stdout",
     "output_type": "stream",
     "text": [
      "Output from segement feats: [('speech', 8100.0, 8120.66), ('music', 8120.66, 8122.12), ('noEnergy', 8122.12, 8122.68), ('speech', 8122.68, 8131.42), ('noEnergy', 8131.42, 8133.32), ('music', 8133.32, 8138.3), ('speech', 8138.3, 8148.28), ('music', 8148.28, 8149.44), ('speech', 8149.44, 8174.14), ('music', 8174.14, 8178.7), ('speech', 8178.7, 8194.7), ('music', 8194.7, 8213.38), ('speech', 8213.38, 8219.0), ('noise', 8219.0, 8223.28), ('speech', 8223.28, 8253.04), ('music', 8253.04, 8269.64), ('speech', 8269.64, 8296.5), ('music', 8296.5, 8297.88), ('noEnergy', 8297.88, 8299.48), ('speech', 8299.48, 8312.42), ('noEnergy', 8312.42, 8312.82), ('speech', 8312.82, 8314.46), ('noEnergy', 8314.46, 8315.2), ('noise', 8315.2, 8316.5), ('speech', 8316.5, 8394.14), ('noEnergy', 8394.14, 8394.68), ('speech', 8394.68, 8397.48), ('noEnergy', 8397.48, 8398.36), ('speech', 8398.36, 8511.44), ('noEnergy', 8511.44, 8511.86), ('speech', 8511.86, 8540.2), ('noEnergy', 8540.2, 8540.7), ('speech', 8540.7, 8556.68), ('noEnergy', 8556.68, 8557.14), ('speech', 8557.14, 8621.28), ('music', 8621.28, 8651.62), ('speech', 8651.62, 8655.54), ('noise', 8655.54, 8657.42), ('music', 8657.42, 8662.42), ('speech', 8662.42, 8663.26), ('noEnergy', 8663.26, 8663.88), ('noise', 8663.88, 8669.82), ('music', 8669.82, 8685.62), ('speech', 8685.62, 8688.76), ('music', 8688.76, 8709.48), ('speech', 8709.48, 8719.46), ('music', 8719.46, 8762.98), ('speech', 8762.98, 8778.4), ('music', 8778.4, 8782.26), ('speech', 8782.26, 8787.32), ('noEnergy', 8787.32, 8789.62), ('speech', 8789.62, 8794.72), ('noEnergy', 8794.72, 8795.12), ('speech', 8795.12, 8798.64), ('noEnergy', 8798.64, 8799.08), ('speech', 8799.08, 8800.46), ('noEnergy', 8800.46, 8801.12), ('speech', 8801.12, 8821.84), ('noEnergy', 8821.84, 8822.4), ('speech', 8822.4, 8843.18), ('noEnergy', 8843.18, 8843.66), ('speech', 8843.66, 8848.84), ('noEnergy', 8848.84, 8849.28), ('speech', 8849.28, 8866.16), ('noEnergy', 8866.16, 8866.6), ('speech', 8866.6, 8882.86), ('noEnergy', 8882.86, 8883.4), ('speech', 8883.4, 8894.56), ('noEnergy', 8894.56, 8895.08), ('speech', 8895.08, 8906.58), ('noEnergy', 8906.58, 8907.18), ('speech', 8907.18, 8908.1), ('noEnergy', 8908.1, 8908.64), ('speech', 8908.64, 8938.22), ('noEnergy', 8938.22, 8938.68), ('speech', 8938.68, 8944.22), ('noEnergy', 8944.22, 8944.72), ('speech', 8944.72, 8972.82), ('noEnergy', 8972.82, 8973.24), ('speech', 8973.24, 8974.24), ('noEnergy', 8974.24, 8974.82), ('speech', 8974.82, 8982.5), ('noEnergy', 8982.5, 8983.44), ('music', 8983.44, 8987.66), ('speech', 8987.66, 9028.74), ('music', 9028.74, 9033.72), ('speech', 9033.72, 9084.2), ('noEnergy', 9084.2, 9084.66), ('noise', 9084.66, 9085.9), ('speech', 9085.9, 9110.22), ('noEnergy', 9110.22, 9110.68), ('speech', 9110.68, 9145.18), ('noEnergy', 9145.18, 9145.76), ('speech', 9145.76, 9174.04), ('noEnergy', 9174.04, 9174.62), ('speech', 9174.62, 9223.66), ('noEnergy', 9223.66, 9225.66), ('speech', 9225.66, 9303.82), ('noEnergy', 9303.82, 9304.82), ('speech', 9304.82, 9368.04), ('noEnergy', 9368.04, 9368.44), ('speech', 9368.44, 9461.5), ('music', 9461.5, 9464.12), ('speech', 9464.12, 9474.68), ('noEnergy', 9474.68, 9475.12), ('speech', 9475.12, 9477.34), ('noEnergy', 9477.34, 9477.82), ('speech', 9477.82, 9559.56), ('noEnergy', 9559.56, 9560.26), ('speech', 9560.26, 9563.2), ('noEnergy', 9563.2, 9564.16), ('speech', 9564.16, 9567.64), ('noEnergy', 9567.64, 9568.48), ('speech', 9568.48, 9580.12), ('noEnergy', 9580.12, 9580.86), ('speech', 9580.86, 9628.46), ('noEnergy', 9628.46, 9630.380000000001), ('speech', 9630.380000000001, 9653.48), ('noEnergy', 9653.48, 9654.04), ('speech', 9654.04, 9661.76), ('noEnergy', 9661.76, 9662.48), ('speech', 9662.48, 9684.98), ('noEnergy', 9684.98, 9685.78), ('speech', 9685.78, 9690.14), ('noEnergy', 9690.14, 9690.54), ('speech', 9690.54, 9694.42), ('noEnergy', 9694.42, 9695.380000000001), ('speech', 9695.380000000001, 9710.16), ('noEnergy', 9710.16, 9710.72), ('speech', 9710.72, 9714.62), ('noEnergy', 9714.62, 9715.02), ('speech', 9715.02, 9723.2), ('noEnergy', 9723.2, 9723.66), ('speech', 9723.66, 9728.64), ('noEnergy', 9728.64, 9729.16), ('speech', 9729.16, 9745.6), ('noEnergy', 9745.6, 9746.2), ('speech', 9746.2, 9748.42), ('noEnergy', 9748.42, 9748.86), ('speech', 9748.86, 9749.2), ('noEnergy', 9749.2, 9749.66), ('speech', 9749.66, 9768.82), ('music', 9768.82, 9771.380000000001), ('noise', 9771.380000000001, 9773.52), ('speech', 9773.52, 9790.72), ('music', 9790.72, 9794.72), ('speech', 9794.72, 9813.62), ('music', 9813.62, 9845.32), ('speech', 9845.32, 9848.12), ('noEnergy', 9848.12, 9848.92), ('speech', 9848.92, 9900.28), ('noEnergy', 9900.28, 9902.32), ('speech', 9902.32, 9934.56), ('noEnergy', 9934.56, 9936.12), ('speech', 9936.12, 9950.32), ('noEnergy', 9950.32, 9951.02), ('speech', 9951.02, 10023.4), ('noEnergy', 10023.4, 10025.7), ('speech', 10025.7, 10039.0), ('noEnergy', 10039.0, 10041.02), ('speech', 10041.02, 10043.84), ('noEnergy', 10043.84, 10044.8), ('speech', 10044.8, 10045.6), ('noEnergy', 10045.6, 10046.2), ('speech', 10046.2, 10048.86), ('noEnergy', 10048.86, 10049.5), ('speech', 10049.5, 10052.18), ('noEnergy', 10052.18, 10053.92), ('speech', 10053.92, 10060.32), ('music', 10060.32, 10092.08), ('noEnergy', 10092.08, 10092.78), ('speech', 10092.78, 10159.5), ('music', 10159.5, 10178.0), ('speech', 10178.0, 10182.74), ('noEnergy', 10182.74, 10183.28), ('speech', 10183.28, 10214.52), ('music', 10214.52, 10222.58), ('noEnergy', 10222.58, 10224.54), ('speech', 10224.54, 10283.94), ('noEnergy', 10283.94, 10285.46), ('speech', 10285.46, 10298.880000000001), ('noEnergy', 10298.880000000001, 10299.32), ('speech', 10299.32, 10320.44), ('noEnergy', 10320.44, 10321.0), ('speech', 10321.0, 10347.78), ('noEnergy', 10347.78, 10348.2), ('speech', 10348.2, 10361.1), ('noEnergy', 10361.1, 10361.66), ('speech', 10361.66, 10364.84), ('music', 10364.84, 10368.619999999999), ('speech', 10368.619999999999, 10370.94), ('noEnergy', 10370.94, 10372.26), ('speech', 10372.26, 10392.1), ('music', 10392.1, 10394.18), ('speech', 10394.18, 10395.3), ('noEnergy', 10395.3, 10396.14), ('speech', 10396.14, 10400.52), ('noEnergy', 10400.52, 10401.16), ('speech', 10401.16, 10406.96), ('noEnergy', 10406.96, 10407.66), ('noise', 10407.66, 10408.720000000001), ('speech', 10408.720000000001, 10410.720000000001), ('noEnergy', 10410.720000000001, 10411.2), ('speech', 10411.2, 10415.42), ('noEnergy', 10415.42, 10415.880000000001), ('speech', 10415.880000000001, 10423.26), ('music', 10423.26, 10455.8), ('speech', 10455.8, 10490.880000000001), ('noEnergy', 10490.880000000001, 10491.34), ('speech', 10491.34, 10506.36), ('music', 10506.36, 10514.52), ('speech', 10514.52, 10525.880000000001), ('music', 10525.880000000001, 10530.2), ('speech', 10530.2, 10532.24), ('noise', 10532.24, 10534.36), ('speech', 10534.36, 10544.1), ('noEnergy', 10544.1, 10545.18), ('speech', 10545.18, 10562.619999999999), ('music', 10562.619999999999, 10565.119999999999), ('noEnergy', 10565.119999999999, 10566.74), ('speech', 10566.74, 10590.44), ('noEnergy', 10590.44, 10592.3), ('speech', 10592.3, 10607.56), ('noEnergy', 10607.56, 10608.04), ('speech', 10608.04, 10670.34), ('noEnergy', 10670.34, 10670.880000000001), ('speech', 10670.880000000001, 10673.96), ('noEnergy', 10673.96, 10674.68), ('speech', 10674.68, 10675.66), ('noEnergy', 10675.66, 10676.18), ('speech', 10676.18, 10710.66), ('music', 10710.66, 10717.9), ('speech', 10717.9, 10735.7), ('noEnergy', 10735.7, 10736.98), ('speech', 10736.98, 10739.720000000001), ('noEnergy', 10739.720000000001, 10740.880000000001), ('music', 10740.880000000001, 10756.36), ('speech', 10756.36, 10767.52), ('music', 10767.52, 10773.76), ('speech', 10773.76, 10796.82), ('music', 10796.82, 10799.98)]\n",
      "CSV exists -- Appending\n"
     ]
    },
    {
     "name": "stderr",
     "output_type": "stream",
     "text": [
      "/mnt/rds/redhen/gallina/home/hxm471/RedHenLab-Multimodal_TV_Show_Segmentation/inaSpeechSegmenter/inaSpeechSegmenter/export_funcs.py:52: FutureWarning: The frame.append method is deprecated and will be removed from pandas in a future version. Use pandas.concat instead.\n",
      "  df = df2.append(df)\n"
     ]
    },
    {
     "name": "stdout",
     "output_type": "stream",
     "text": [
      "Saving DF to CSV\n",
      "\n",
      "DF   index start_second stop_second  \\\n",
      "0     0            0        2700   \n",
      "1     0         2700        5400   \n",
      "2     0         5400        8100   \n",
      "0     0         8100       10800   \n",
      "\n",
      "                                                mfcc  \\\n",
      "0  [[-32.46376419067383, -32.03540802001953, -31....   \n",
      "1  [[-7.569925785064697, -7.288165092468262, -5.9...   \n",
      "2  [[-12.193737983703613, -11.249810218811035, -8...   \n",
      "0  [[-9.96646499633789, -10.947720527648926, -9.0...   \n",
      "\n",
      "                                                loge difflen  \\\n",
      "0  [-18.872709274291992, -5.199673175811768, -4.0...       0   \n",
      "1  [-3.0485196113586426, -3.014030694961548, -2.9...       0   \n",
      "2  [-5.2589921951293945, -5.24594783782959, -6.61...       0   \n",
      "0  [-3.6181161403656006, -4.981551647186279, -6.0...       0   \n",
      "\n",
      "                         audio_classification_labels  \n",
      "0  [('speech', 0.0, 14.36), ('music', 14.36, 17.3...  \n",
      "1  [('speech', 2700.0, 2716.98), ('music', 2716.9...  \n",
      "2  [('speech', 5400.0, 5401.0), ('noEnergy', 5401...  \n",
      "0  [(speech, 8100.0, 8120.66), (music, 8120.66, 8...  \n",
      "File /mnt/rds/redhen/gallina/home/hxm471/RedHenLab-Multimodal_TV_Show_Segmentation/mtvss/data/tmp/splits/2006-01-19_0000_US_00002692_V2_MB13_VHS14_H13_CG.csv\n",
      "Starting _wav2feats\n",
      "Starting _wav2feats\n",
      "\n",
      "Finished fexport\n",
      "\n",
      "Yielding chunk\n",
      "15/1 (0, 'ok', (0, 10800, 13500))\n",
      "I can make changes\n"
     ]
    },
    {
     "name": "stderr",
     "output_type": "stream",
     "text": [
      "/usr/local/lib/python3.8/dist-packages/pyannote/algorithms/utils/viterbi.py:86: FutureWarning: arrays to stack must be passed as a \"sequence\" type such as list or tuple. Support for non-sequence iterables such as generators is deprecated as of NumPy 1.16 and will raise an error in the future.\n",
      "  return np.vstack(\n",
      "/usr/local/lib/python3.8/dist-packages/pyannote/algorithms/utils/viterbi.py:95: FutureWarning: arrays to stack must be passed as a \"sequence\" type such as list or tuple. Support for non-sequence iterables such as generators is deprecated as of NumPy 1.16 and will raise an error in the future.\n",
      "  return np.vstack(\n"
     ]
    },
    {
     "name": "stdout",
     "output_type": "stream",
     "text": [
      "wav2feats done\n",
      "tmpwav /mnt/rds/redhen/gallina/home/hxm471/RedHenLab-Multimodal_TV_Show_Segmentation/mtvss/data/tmp/splits/tmpb6z2vldv/2006-01-19_0000_US_00002692_V2_MB13_VHS14_H13_CG_21600_24300.wav\n",
      "wav2feats done\n",
      "tmpwav /mnt/rds/redhen/gallina/home/hxm471/RedHenLab-Multimodal_TV_Show_Segmentation/mtvss/data/tmp/splits/tmprsrlmk1p/2006-01-19_0000_US_00002692_V2_MB13_VHS14_H13_CG_16200_18900.wav\n",
      "True (134999, 134999)\n",
      "131/131 [==============================] - 24s 181ms/step\n"
     ]
    },
    {
     "name": "stderr",
     "output_type": "stream",
     "text": [
      "/usr/local/lib/python3.8/dist-packages/pyannote/algorithms/utils/viterbi.py:86: FutureWarning: arrays to stack must be passed as a \"sequence\" type such as list or tuple. Support for non-sequence iterables such as generators is deprecated as of NumPy 1.16 and will raise an error in the future.\n",
      "  return np.vstack(\n",
      "/usr/local/lib/python3.8/dist-packages/pyannote/algorithms/utils/viterbi.py:95: FutureWarning: arrays to stack must be passed as a \"sequence\" type such as list or tuple. Support for non-sequence iterables such as generators is deprecated as of NumPy 1.16 and will raise an error in the future.\n",
      "  return np.vstack(\n"
     ]
    },
    {
     "name": "stdout",
     "output_type": "stream",
     "text": [
      "Output from segement feats: [('speech', 10800.0, 10805.7), ('music', 10805.7, 10815.58), ('noEnergy', 10815.58, 10816.0), ('music', 10816.0, 10818.96), ('speech', 10818.96, 10851.72), ('music', 10851.72, 10853.88), ('speech', 10853.88, 10876.94), ('music', 10876.94, 10888.92), ('speech', 10888.92, 10899.0), ('music', 10899.0, 10907.3), ('speech', 10907.3, 10956.7), ('music', 10956.7, 10961.92), ('speech', 10961.92, 10968.24), ('music', 10968.24, 10971.56), ('speech', 10971.56, 10986.0), ('music', 10986.0, 10992.96), ('speech', 10992.96, 11008.34), ('music', 11008.34, 11017.44), ('speech', 11017.44, 11041.9), ('music', 11041.9, 11052.26), ('speech', 11052.26, 11190.86), ('noEnergy', 11190.86, 11192.02), ('speech', 11192.02, 11272.84), ('noEnergy', 11272.84, 11273.36), ('speech', 11273.36, 11334.74), ('music', 11334.74, 11352.04), ('speech', 11352.04, 11362.18), ('music', 11362.18, 11370.58), ('speech', 11370.58, 11475.04), ('noEnergy', 11475.04, 11475.6), ('music', 11475.6, 11478.32), ('speech', 11478.32, 11497.52), ('noise', 11497.52, 11498.56), ('noEnergy', 11498.56, 11499.12), ('music', 11499.12, 11502.62), ('speech', 11502.62, 11506.62), ('music', 11506.62, 11518.68), ('noEnergy', 11518.68, 11519.26), ('speech', 11519.26, 11528.02), ('music', 11528.02, 11529.12), ('noEnergy', 11529.12, 11529.5), ('noise', 11529.5, 11530.38), ('speech', 11530.38, 11550.92), ('music', 11550.92, 11567.38), ('speech', 11567.38, 11587.38), ('music', 11587.38, 11588.94), ('noEnergy', 11588.94, 11589.52), ('speech', 11589.52, 11608.88), ('music', 11608.88, 11615.34), ('speech', 11615.34, 11647.48), ('music', 11647.48, 11649.44), ('speech', 11649.44, 11652.44), ('music', 11652.44, 11654.1), ('noEnergy', 11654.1, 11654.72), ('music', 11654.72, 11656.96), ('speech', 11656.96, 11666.46), ('music', 11666.46, 11669.3), ('speech', 11669.3, 11708.72), ('music', 11708.72, 11713.22), ('speech', 11713.22, 11754.18), ('music', 11754.18, 11758.72), ('noEnergy', 11758.72, 11759.44), ('speech', 11759.44, 11812.94), ('music', 11812.94, 11822.02), ('speech', 11822.02, 11854.44), ('music', 11854.44, 11858.56), ('speech', 11858.56, 11947.8), ('noise', 11947.8, 11948.880000000001), ('noEnergy', 11948.880000000001, 11949.84), ('music', 11949.84, 11979.84), ('noEnergy', 11979.84, 11980.4), ('noise', 11980.4, 11981.16), ('music', 11981.16, 11985.2), ('speech', 11985.2, 12040.3), ('music', 12040.3, 12054.74), ('speech', 12054.74, 12069.880000000001), ('noise', 12069.880000000001, 12073.54), ('speech', 12073.54, 12096.44), ('noEnergy', 12096.44, 12097.02), ('speech', 12097.02, 12160.28), ('music', 12160.28, 12163.52), ('speech', 12163.52, 12178.2), ('music', 12178.2, 12179.32), ('noEnergy', 12179.32, 12179.86), ('speech', 12179.86, 12192.36), ('music', 12192.36, 12196.34), ('noEnergy', 12196.34, 12196.8), ('music', 12196.8, 12200.3), ('speech', 12200.3, 12211.24), ('music', 12211.24, 12216.36), ('noEnergy', 12216.36, 12216.92), ('speech', 12216.92, 12224.880000000001), ('music', 12224.880000000001, 12257.18), ('noEnergy', 12257.18, 12257.72), ('noise', 12257.72, 12258.46), ('music', 12258.46, 12262.5), ('speech', 12262.5, 12287.48), ('noEnergy', 12287.48, 12287.92), ('noise', 12287.92, 12288.78), ('speech', 12288.78, 12309.32), ('music', 12309.32, 12320.18), ('noise', 12320.18, 12347.54), ('noEnergy', 12347.54, 12348.18), ('speech', 12348.18, 12351.8), ('noEnergy', 12351.8, 12352.98), ('noise', 12352.98, 12354.380000000001), ('speech', 12354.380000000001, 12363.34), ('noEnergy', 12363.34, 12364.7), ('speech', 12364.7, 12367.5), ('noEnergy', 12367.5, 12368.02), ('music', 12368.02, 12397.6), ('noEnergy', 12397.6, 12398.66), ('speech', 12398.66, 12429.06), ('noEnergy', 12429.06, 12429.84), ('speech', 12429.84, 12450.44), ('music', 12450.44, 12468.72), ('noEnergy', 12468.72, 12469.8), ('noise', 12469.8, 12472.14), ('noEnergy', 12472.14, 12473.0), ('music', 12473.0, 12475.74), ('noEnergy', 12475.74, 12476.32), ('speech', 12476.32, 12500.48), ('noEnergy', 12500.48, 12501.02), ('speech', 12501.02, 12565.04), ('music', 12565.04, 12576.06), ('noEnergy', 12576.06, 12577.28), ('music', 12577.28, 12580.52), ('speech', 12580.52, 12644.98), ('music', 12644.98, 12656.380000000001), ('noEnergy', 12656.380000000001, 12657.0), ('speech', 12657.0, 12742.48), ('music', 12742.48, 12744.1), ('speech', 12744.1, 12772.62), ('noEnergy', 12772.62, 12773.92), ('speech', 12773.92, 12793.82), ('music', 12793.82, 12796.58), ('speech', 12796.58, 12823.08), ('noEnergy', 12823.08, 12823.58), ('speech', 12823.58, 12847.2), ('music', 12847.2, 12854.26), ('speech', 12854.26, 12891.3), ('music', 12891.3, 12916.34), ('speech', 12916.34, 12967.78), ('music', 12967.78, 12971.76), ('speech', 12971.76, 13028.54), ('music', 13028.54, 13033.02), ('speech', 13033.02, 13055.880000000001), ('music', 13055.880000000001, 13060.92), ('speech', 13060.92, 13067.98), ('music', 13067.98, 13070.4), ('speech', 13070.4, 13074.2), ('music', 13074.2, 13077.02), ('speech', 13077.02, 13090.76), ('music', 13090.76, 13108.380000000001), ('speech', 13108.380000000001, 13132.32), ('music', 13132.32, 13139.6), ('speech', 13139.6, 13173.1), ('music', 13173.1, 13175.9), ('speech', 13175.9, 13198.380000000001), ('music', 13198.380000000001, 13200.52), ('speech', 13200.52, 13204.119999999999), ('music', 13204.119999999999, 13208.06), ('noEnergy', 13208.06, 13209.56), ('noise', 13209.56, 13210.1), ('noEnergy', 13210.1, 13210.94), ('noise', 13210.94, 13216.82), ('noEnergy', 13216.82, 13222.18), ('music', 13222.18, 13223.82), ('noise', 13223.82, 13225.720000000001), ('noEnergy', 13225.720000000001, 13228.02), ('noise', 13228.02, 13229.619999999999), ('speech', 13229.619999999999, 13235.76), ('music', 13235.76, 13238.02), ('noise', 13238.02, 13247.9), ('speech', 13247.9, 13265.720000000001), ('music', 13265.720000000001, 13267.96), ('noEnergy', 13267.96, 13268.64), ('speech', 13268.64, 13276.3), ('music', 13276.3, 13279.4), ('speech', 13279.4, 13402.16), ('noise', 13402.16, 13404.720000000001), ('speech', 13404.720000000001, 13420.34), ('noise', 13420.34, 13422.18), ('speech', 13422.18, 13447.8), ('music', 13447.8, 13462.42), ('speech', 13462.42, 13478.720000000001), ('music', 13478.720000000001, 13480.380000000001), ('noEnergy', 13480.380000000001, 13480.78), ('music', 13480.78, 13499.98)]\n",
      "CSV exists -- Appending\n"
     ]
    },
    {
     "name": "stderr",
     "output_type": "stream",
     "text": [
      "/mnt/rds/redhen/gallina/home/hxm471/RedHenLab-Multimodal_TV_Show_Segmentation/inaSpeechSegmenter/inaSpeechSegmenter/export_funcs.py:52: FutureWarning: The frame.append method is deprecated and will be removed from pandas in a future version. Use pandas.concat instead.\n",
      "  df = df2.append(df)\n"
     ]
    },
    {
     "name": "stdout",
     "output_type": "stream",
     "text": [
      "Saving DF to CSV\n",
      "\n",
      "DF   index start_second stop_second  \\\n",
      "0     0            0        2700   \n",
      "1     0         2700        5400   \n",
      "2     0         5400        8100   \n",
      "3     0         8100       10800   \n",
      "0     0        10800       13500   \n",
      "\n",
      "                                                mfcc  \\\n",
      "0  [[-32.46376419067383, -32.03540802001953, -31....   \n",
      "1  [[-7.569925785064697, -7.288165092468262, -5.9...   \n",
      "2  [[-12.193737983703613, -11.249810218811035, -8...   \n",
      "3  [[-9.96646499633789, -10.947720527648926, -9.0...   \n",
      "0  [[-7.732295513153076, -8.385476112365723, -5.3...   \n",
      "\n",
      "                                                loge difflen  \\\n",
      "0  [-18.872709274291992, -5.199673175811768, -4.0...       0   \n",
      "1  [-3.0485196113586426, -3.014030694961548, -2.9...       0   \n",
      "2  [-5.2589921951293945, -5.24594783782959, -6.61...       0   \n",
      "3  [-3.6181161403656006, -4.981551647186279, -6.0...       0   \n",
      "0  [-3.1724348068237305, -2.5462470054626465, -2....       0   \n",
      "\n",
      "                         audio_classification_labels  \n",
      "0  [('speech', 0.0, 14.36), ('music', 14.36, 17.3...  \n",
      "1  [('speech', 2700.0, 2716.98), ('music', 2716.9...  \n",
      "2  [('speech', 5400.0, 5401.0), ('noEnergy', 5401...  \n",
      "3  [('speech', 8100.0, 8120.66), ('music', 8120.6...  \n",
      "0  [(speech, 10800.0, 10805.7), (music, 10805.7, ...  \n",
      "File /mnt/rds/redhen/gallina/home/hxm471/RedHenLab-Multimodal_TV_Show_Segmentation/mtvss/data/tmp/splits/2006-01-19_0000_US_00002692_V2_MB13_VHS14_H13_CG.csv\n",
      "Starting _wav2feats\n",
      "Starting _wav2feats\n",
      "\n",
      "Finished fexport\n",
      "\n",
      "Yielding chunk\n",
      "18/1 (0, 'ok', (0, 13500, 16200))\n",
      "I can make changes\n"
     ]
    },
    {
     "name": "stderr",
     "output_type": "stream",
     "text": [
      "/usr/local/lib/python3.8/dist-packages/pyannote/algorithms/utils/viterbi.py:86: FutureWarning: arrays to stack must be passed as a \"sequence\" type such as list or tuple. Support for non-sequence iterables such as generators is deprecated as of NumPy 1.16 and will raise an error in the future.\n",
      "  return np.vstack(\n",
      "/usr/local/lib/python3.8/dist-packages/pyannote/algorithms/utils/viterbi.py:95: FutureWarning: arrays to stack must be passed as a \"sequence\" type such as list or tuple. Support for non-sequence iterables such as generators is deprecated as of NumPy 1.16 and will raise an error in the future.\n",
      "  return np.vstack(\n"
     ]
    },
    {
     "name": "stdout",
     "output_type": "stream",
     "text": [
      "wav2feats done\n",
      "tmpwav /mnt/rds/redhen/gallina/home/hxm471/RedHenLab-Multimodal_TV_Show_Segmentation/mtvss/data/tmp/splits/tmprsrlmk1p/2006-01-19_0000_US_00002692_V2_MB13_VHS14_H13_CG_18900_21600.wav\n",
      "wav2feats done\n",
      "tmpwav /mnt/rds/redhen/gallina/home/hxm471/RedHenLab-Multimodal_TV_Show_Segmentation/mtvss/data/tmp/splits/tmpb6z2vldv/2006-01-19_0000_US_00002692_V2_MB13_VHS14_H13_CG_24300_27000.wav\n",
      "True (134999, 134999)\n",
      "128/128 [==============================] - 24s 189ms/step\n"
     ]
    },
    {
     "name": "stderr",
     "output_type": "stream",
     "text": [
      "/usr/local/lib/python3.8/dist-packages/pyannote/algorithms/utils/viterbi.py:86: FutureWarning: arrays to stack must be passed as a \"sequence\" type such as list or tuple. Support for non-sequence iterables such as generators is deprecated as of NumPy 1.16 and will raise an error in the future.\n",
      "  return np.vstack(\n",
      "/usr/local/lib/python3.8/dist-packages/pyannote/algorithms/utils/viterbi.py:95: FutureWarning: arrays to stack must be passed as a \"sequence\" type such as list or tuple. Support for non-sequence iterables such as generators is deprecated as of NumPy 1.16 and will raise an error in the future.\n",
      "  return np.vstack(\n"
     ]
    },
    {
     "name": "stdout",
     "output_type": "stream",
     "text": [
      "Output from segement feats: [('music', 13500.0, 13511.6), ('speech', 13511.6, 13515.82), ('music', 13515.82, 13523.06), ('speech', 13523.06, 13526.3), ('noise', 13526.3, 13529.8), ('speech', 13529.8, 13532.04), ('noise', 13532.04, 13537.7), ('speech', 13537.7, 13555.32), ('noEnergy', 13555.32, 13556.04), ('noise', 13556.04, 13556.96), ('music', 13556.96, 13565.38), ('speech', 13565.38, 13570.34), ('noEnergy', 13570.34, 13570.92), ('speech', 13570.92, 13581.84), ('music', 13581.84, 13585.24), ('speech', 13585.24, 13590.66), ('music', 13590.66, 13597.36), ('speech', 13597.36, 13629.64), ('noEnergy', 13629.64, 13631.1), ('music', 13631.1, 13636.04), ('speech', 13636.04, 13647.5), ('music', 13647.5, 13649.64), ('speech', 13649.64, 13673.44), ('noEnergy', 13673.44, 13674.3), ('speech', 13674.3, 13676.64), ('noEnergy', 13676.64, 13677.14), ('speech', 13677.14, 13682.38), ('noEnergy', 13682.38, 13684.4), ('speech', 13684.4, 13688.82), ('noEnergy', 13688.82, 13689.3), ('speech', 13689.3, 13790.2), ('music', 13790.2, 13792.86), ('speech', 13792.86, 13821.14), ('music', 13821.14, 13827.8), ('speech', 13827.8, 13844.02), ('music', 13844.02, 13857.02), ('speech', 13857.02, 13874.36), ('music', 13874.36, 13883.42), ('speech', 13883.42, 13893.4), ('music', 13893.4, 13913.9), ('speech', 13913.9, 13934.52), ('music', 13934.52, 13938.3), ('speech', 13938.3, 14003.16), ('music', 14003.16, 14005.22), ('noEnergy', 14005.22, 14005.9), ('music', 14005.9, 14009.24), ('speech', 14009.24, 14022.98), ('music', 14022.98, 14025.02), ('noEnergy', 14025.02, 14025.54), ('music', 14025.54, 14028.64), ('speech', 14028.64, 14038.22), ('music', 14038.22, 14055.84), ('noise', 14055.84, 14064.5), ('speech', 14064.5, 14072.84), ('music', 14072.84, 14088.14), ('speech', 14088.14, 14108.14), ('music', 14108.14, 14109.78), ('noEnergy', 14109.78, 14110.36), ('speech', 14110.36, 14114.4), ('noise', 14114.4, 14115.62), ('noEnergy', 14115.62, 14117.0), ('speech', 14117.0, 14136.98), ('music', 14136.98, 14143.18), ('speech', 14143.18, 14175.6), ('noEnergy', 14175.6, 14176.06), ('noise', 14176.06, 14177.42), ('speech', 14177.42, 14186.42), ('noEnergy', 14186.42, 14187.76), ('speech', 14187.76, 14201.64), ('music', 14201.64, 14205.46), ('noEnergy', 14205.46, 14206.84), ('speech', 14206.84, 14236.14), ('music', 14236.14, 14239.76), ('speech', 14239.76, 14271.6), ('music', 14271.6, 14276.46), ('noEnergy', 14276.46, 14277.4), ('speech', 14277.4, 14291.12), ('noEnergy', 14291.12, 14292.62), ('music', 14292.62, 14294.5), ('speech', 14294.5, 14296.0), ('music', 14296.0, 14312.08), ('speech', 14312.08, 14316.36), ('music', 14316.36, 14356.38), ('speech', 14356.38, 14385.16), ('noEnergy', 14385.16, 14387.68), ('noise', 14387.68, 14411.06), ('speech', 14411.06, 14415.04), ('noEnergy', 14415.04, 14416.66), ('speech', 14416.66, 14422.98), ('noEnergy', 14422.98, 14423.7), ('speech', 14423.7, 14432.74), ('noise', 14432.74, 14435.14), ('speech', 14435.14, 14454.16), ('noise', 14454.16, 14460.48), ('music', 14460.48, 14471.72), ('speech', 14471.72, 14504.26), ('noEnergy', 14504.26, 14505.24), ('speech', 14505.24, 14523.62), ('noEnergy', 14523.62, 14524.04), ('speech', 14524.04, 14561.24), ('noEnergy', 14561.24, 14563.02), ('speech', 14563.02, 14635.3), ('noEnergy', 14635.3, 14635.74), ('speech', 14635.74, 14636.28), ('noEnergy', 14636.28, 14636.78), ('speech', 14636.78, 14644.54), ('noEnergy', 14644.54, 14650.56), ('speech', 14650.56, 14667.3), ('noEnergy', 14667.3, 14667.7), ('speech', 14667.7, 14679.42), ('noEnergy', 14679.42, 14679.82), ('speech', 14679.82, 14788.1), ('noEnergy', 14788.1, 14789.02), ('speech', 14789.02, 14817.74), ('noEnergy', 14817.74, 14818.18), ('speech', 14818.18, 14846.1), ('noEnergy', 14846.1, 14846.5), ('speech', 14846.5, 14847.24), ('noEnergy', 14847.24, 14847.74), ('speech', 14847.74, 14850.26), ('noEnergy', 14850.26, 14850.78), ('speech', 14850.78, 14862.380000000001), ('noEnergy', 14862.380000000001, 14863.04), ('speech', 14863.04, 14865.64), ('noEnergy', 14865.64, 14866.44), ('speech', 14866.44, 14868.48), ('noEnergy', 14868.48, 14869.28), ('speech', 14869.28, 14870.76), ('noEnergy', 14870.76, 14871.44), ('speech', 14871.44, 14873.04), ('noEnergy', 14873.04, 14874.34), ('speech', 14874.34, 14886.7), ('noEnergy', 14886.7, 14887.24), ('speech', 14887.24, 14911.9), ('noEnergy', 14911.9, 14912.3), ('speech', 14912.3, 14919.3), ('noEnergy', 14919.3, 14919.8), ('speech', 14919.8, 14925.72), ('noEnergy', 14925.72, 14926.2), ('speech', 14926.2, 14935.72), ('noEnergy', 14935.72, 14936.18), ('speech', 14936.18, 14939.72), ('noEnergy', 14939.72, 14941.16), ('speech', 14941.16, 14943.6), ('noEnergy', 14943.6, 14944.06), ('speech', 14944.06, 14946.96), ('noEnergy', 14946.96, 14947.380000000001), ('speech', 14947.380000000001, 14948.6), ('noEnergy', 14948.6, 14949.74), ('speech', 14949.74, 14967.380000000001), ('noEnergy', 14967.380000000001, 14968.2), ('speech', 14968.2, 14980.26), ('noEnergy', 14980.26, 14982.02), ('speech', 14982.02, 14991.78), ('noEnergy', 14991.78, 14992.34), ('speech', 14992.34, 14997.04), ('noEnergy', 14997.04, 14997.48), ('speech', 14997.48, 15011.84), ('music', 15011.84, 15023.78), ('speech', 15023.78, 15054.68), ('music', 15054.68, 15057.2), ('speech', 15057.2, 15063.54), ('music', 15063.54, 15111.52), ('speech', 15111.52, 15131.52), ('music', 15131.52, 15133.16), ('noEnergy', 15133.16, 15133.7), ('speech', 15133.7, 15163.66), ('noEnergy', 15163.66, 15165.16), ('speech', 15165.16, 15171.36), ('noEnergy', 15171.36, 15171.8), ('speech', 15171.8, 15176.78), ('noEnergy', 15176.78, 15177.26), ('speech', 15177.26, 15179.12), ('noEnergy', 15179.12, 15179.56), ('speech', 15179.56, 15183.56), ('noEnergy', 15183.56, 15183.94), ('speech', 15183.94, 15204.3), ('noEnergy', 15204.3, 15204.82), ('speech', 15204.82, 15208.32), ('noEnergy', 15208.32, 15209.32), ('speech', 15209.32, 15214.9), ('noEnergy', 15214.9, 15215.48), ('speech', 15215.48, 15221.22), ('noEnergy', 15221.22, 15221.72), ('speech', 15221.72, 15224.6), ('noEnergy', 15224.6, 15225.02), ('speech', 15225.02, 15225.64), ('noEnergy', 15225.64, 15226.34), ('speech', 15226.34, 15246.54), ('music', 15246.54, 15247.68), ('noEnergy', 15247.68, 15248.18), ('speech', 15248.18, 15276.84), ('noEnergy', 15276.84, 15278.12), ('speech', 15278.12, 15296.52), ('music', 15296.52, 15303.8), ('speech', 15303.8, 15307.92), ('noise', 15307.92, 15309.1), ('noEnergy', 15309.1, 15309.74), ('noise', 15309.74, 15310.380000000001), ('noEnergy', 15310.380000000001, 15312.46), ('noise', 15312.46, 15313.26), ('noEnergy', 15313.26, 15315.24), ('music', 15315.24, 15338.36), ('speech', 15338.36, 15398.12), ('music', 15398.12, 15408.22), ('speech', 15408.22, 15420.32), ('music', 15420.32, 15422.22), ('speech', 15422.22, 15424.24), ('music', 15424.24, 15427.82), ('noEnergy', 15427.82, 15429.14), ('speech', 15429.14, 15458.34), ('noEnergy', 15458.34, 15458.78), ('speech', 15458.78, 15466.52), ('noEnergy', 15466.52, 15466.94), ('noise', 15466.94, 15467.82), ('speech', 15467.82, 15500.72), ('noEnergy', 15500.72, 15501.26), ('speech', 15501.26, 15514.94), ('noEnergy', 15514.94, 15515.380000000001), ('speech', 15515.380000000001, 15519.84), ('noEnergy', 15519.84, 15520.380000000001), ('speech', 15520.380000000001, 15522.14), ('noEnergy', 15522.14, 15522.58), ('speech', 15522.58, 15524.46), ('noEnergy', 15524.46, 15524.9), ('speech', 15524.9, 15526.02), ('noEnergy', 15526.02, 15526.74), ('speech', 15526.74, 15530.78), ('noEnergy', 15530.78, 15531.48), ('speech', 15531.48, 15553.58), ('noEnergy', 15553.58, 15554.32), ('speech', 15554.32, 15559.74), ('noEnergy', 15559.74, 15560.720000000001), ('speech', 15560.720000000001, 15562.76), ('noEnergy', 15562.76, 15563.34), ('speech', 15563.34, 15569.220000000001), ('noEnergy', 15569.220000000001, 15569.68), ('speech', 15569.68, 15583.74), ('noEnergy', 15583.74, 15585.04), ('speech', 15585.04, 15626.96), ('noEnergy', 15626.96, 15627.34), ('speech', 15627.34, 15630.24), ('noEnergy', 15630.24, 15630.74), ('speech', 15630.74, 15795.119999999999), ('noEnergy', 15795.119999999999, 15795.56), ('speech', 15795.56, 15849.66), ('noEnergy', 15849.66, 15850.04), ('speech', 15850.04, 15885.86), ('noEnergy', 15885.86, 15886.26), ('speech', 15886.26, 15938.44), ('noEnergy', 15938.44, 15939.02), ('speech', 15939.02, 15949.32), ('noEnergy', 15949.32, 15950.52), ('speech', 15950.52, 15951.98), ('noEnergy', 15951.98, 15952.94), ('speech', 15952.94, 15959.52), ('noEnergy', 15959.52, 15960.44), ('speech', 15960.44, 15961.18), ('noEnergy', 15961.18, 15961.619999999999), ('speech', 15961.619999999999, 15970.14), ('noEnergy', 15970.14, 15970.54), ('speech', 15970.54, 15992.18), ('noEnergy', 15992.18, 15992.6), ('speech', 15992.6, 15993.2), ('noEnergy', 15993.2, 15993.8), ('speech', 15993.8, 15999.78), ('noEnergy', 15999.78, 16000.96), ('speech', 16000.96, 16008.8), ('music', 16008.8, 16010.42), ('speech', 16010.42, 16015.32), ('noise', 16015.32, 16017.94), ('music', 16017.94, 16034.92), ('speech', 16034.92, 16049.48), ('noise', 16049.48, 16050.66), ('noEnergy', 16050.66, 16052.04), ('speech', 16052.04, 16060.36), ('noEnergy', 16060.36, 16061.92), ('speech', 16061.92, 16074.0), ('noEnergy', 16074.0, 16074.94), ('speech', 16074.94, 16079.14), ('noEnergy', 16079.14, 16080.34), ('speech', 16080.34, 16080.76), ('noEnergy', 16080.76, 16081.42), ('speech', 16081.42, 16090.32), ('noise', 16090.32, 16091.0), ('music', 16091.0, 16119.26), ('noEnergy', 16119.26, 16120.46), ('speech', 16120.46, 16145.220000000001), ('noise', 16145.220000000001, 16151.54), ('music', 16151.54, 16165.28), ('noEnergy', 16165.28, 16166.1), ('speech', 16166.1, 16170.58), ('music', 16170.58, 16177.720000000001), ('speech', 16177.720000000001, 16180.92), ('noise', 16180.92, 16184.46), ('speech', 16184.46, 16186.86), ('noise', 16186.86, 16191.86), ('speech', 16191.86, 16195.34), ('noEnergy', 16195.34, 16197.08), ('speech', 16197.08, 16199.98)]\n"
     ]
    },
    {
     "name": "stdout",
     "output_type": "stream",
     "text": [
      "CSV exists -- Appending\n"
     ]
    },
    {
     "name": "stderr",
     "output_type": "stream",
     "text": [
      "/mnt/rds/redhen/gallina/home/hxm471/RedHenLab-Multimodal_TV_Show_Segmentation/inaSpeechSegmenter/inaSpeechSegmenter/export_funcs.py:52: FutureWarning: The frame.append method is deprecated and will be removed from pandas in a future version. Use pandas.concat instead.\n",
      "  df = df2.append(df)\n"
     ]
    },
    {
     "name": "stdout",
     "output_type": "stream",
     "text": [
      "Saving DF to CSV\n",
      "\n",
      "DF   index start_second stop_second  \\\n",
      "0     0            0        2700   \n",
      "1     0         2700        5400   \n",
      "2     0         5400        8100   \n",
      "3     0         8100       10800   \n",
      "4     0        10800       13500   \n",
      "\n",
      "                                                mfcc  \\\n",
      "0  [[-32.46376419067383, -32.03540802001953, -31....   \n",
      "1  [[-7.569925785064697, -7.288165092468262, -5.9...   \n",
      "2  [[-12.193737983703613, -11.249810218811035, -8...   \n",
      "3  [[-9.96646499633789, -10.947720527648926, -9.0...   \n",
      "4  [[-7.732295513153076, -8.385476112365723, -5.3...   \n",
      "\n",
      "                                                loge difflen  \\\n",
      "0  [-18.872709274291992, -5.199673175811768, -4.0...       0   \n",
      "1  [-3.0485196113586426, -3.014030694961548, -2.9...       0   \n",
      "2  [-5.2589921951293945, -5.24594783782959, -6.61...       0   \n",
      "3  [-3.6181161403656006, -4.981551647186279, -6.0...       0   \n",
      "4  [-3.1724348068237305, -2.5462470054626465, -2....       0   \n",
      "\n",
      "                         audio_classification_labels  \n",
      "0  [('speech', 0.0, 14.36), ('music', 14.36, 17.3...  \n",
      "1  [('speech', 2700.0, 2716.98), ('music', 2716.9...  \n",
      "2  [('speech', 5400.0, 5401.0), ('noEnergy', 5401...  \n",
      "3  [('speech', 8100.0, 8120.66), ('music', 8120.6...  \n",
      "4  [('speech', 10800.0, 10805.7), ('music', 10805...  \n",
      "File /mnt/rds/redhen/gallina/home/hxm471/RedHenLab-Multimodal_TV_Show_Segmentation/mtvss/data/tmp/splits/2006-01-19_0000_US_00002692_V2_MB13_VHS14_H13_CG.csv\n",
      "Starting _wav2feats\n",
      "Starting _wav2feats\n",
      "\n",
      "Finished fexport\n",
      "\n",
      "Yielding chunk\n",
      "21/1 (0, 'ok', (0, 16200, 18900))\n",
      "I can make changes\n"
     ]
    },
    {
     "name": "stderr",
     "output_type": "stream",
     "text": [
      "/usr/local/lib/python3.8/dist-packages/pyannote/algorithms/utils/viterbi.py:86: FutureWarning: arrays to stack must be passed as a \"sequence\" type such as list or tuple. Support for non-sequence iterables such as generators is deprecated as of NumPy 1.16 and will raise an error in the future.\n",
      "  return np.vstack(\n",
      "/usr/local/lib/python3.8/dist-packages/pyannote/algorithms/utils/viterbi.py:95: FutureWarning: arrays to stack must be passed as a \"sequence\" type such as list or tuple. Support for non-sequence iterables such as generators is deprecated as of NumPy 1.16 and will raise an error in the future.\n",
      "  return np.vstack(\n"
     ]
    },
    {
     "name": "stdout",
     "output_type": "stream",
     "text": [
      "wav2feats done\n",
      "tmpwav /mnt/rds/redhen/gallina/home/hxm471/RedHenLab-Multimodal_TV_Show_Segmentation/mtvss/data/tmp/splits/tmprsrlmk1p/2006-01-19_0000_US_00002692_V2_MB13_VHS14_H13_CG_21600_24300.wav\n",
      "wav2feats doneTrue (134999, 134999)\n",
      "\n",
      "tmpwav /mnt/rds/redhen/gallina/home/hxm471/RedHenLab-Multimodal_TV_Show_Segmentation/mtvss/data/tmp/splits/tmpb6z2vldv/2006-01-19_0000_US_00002692_V2_MB13_VHS14_H13_CG_27000.wav\n",
      "130/130 [==============================] - 24s 185ms/step\n"
     ]
    },
    {
     "name": "stderr",
     "output_type": "stream",
     "text": [
      "/usr/local/lib/python3.8/dist-packages/pyannote/algorithms/utils/viterbi.py:86: FutureWarning: arrays to stack must be passed as a \"sequence\" type such as list or tuple. Support for non-sequence iterables such as generators is deprecated as of NumPy 1.16 and will raise an error in the future.\n",
      "  return np.vstack(\n",
      "/usr/local/lib/python3.8/dist-packages/pyannote/algorithms/utils/viterbi.py:95: FutureWarning: arrays to stack must be passed as a \"sequence\" type such as list or tuple. Support for non-sequence iterables such as generators is deprecated as of NumPy 1.16 and will raise an error in the future.\n",
      "  return np.vstack(\n"
     ]
    },
    {
     "name": "stdout",
     "output_type": "stream",
     "text": [
      "Output from segement feats: [('speech', 16200.0, 16204.6), ('noEnergy', 16204.6, 16205.08), ('speech', 16205.08, 16211.4), ('noEnergy', 16211.4, 16211.86), ('speech', 16211.86, 16225.1), ('noEnergy', 16225.1, 16225.58), ('speech', 16225.58, 16235.46), ('noEnergy', 16235.46, 16236.12), ('speech', 16236.12, 16238.2), ('noEnergy', 16238.2, 16238.78), ('speech', 16238.78, 16245.42), ('noEnergy', 16245.42, 16245.94), ('speech', 16245.94, 16265.4), ('noEnergy', 16265.4, 16265.78), ('speech', 16265.78, 16267.52), ('noEnergy', 16267.52, 16267.94), ('speech', 16267.94, 16278.18), ('noEnergy', 16278.18, 16278.76), ('speech', 16278.76, 16289.5), ('music', 16289.5, 16293.16), ('noise', 16293.16, 16320.22), ('noEnergy', 16320.22, 16320.64), ('speech', 16320.64, 16324.82), ('noEnergy', 16324.82, 16325.6), ('music', 16325.6, 16356.64), ('speech', 16356.64, 16384.8), ('noEnergy', 16384.8, 16385.52), ('music', 16385.52, 16430.86), ('speech', 16430.86, 16435.14), ('music', 16435.14, 16445.08), ('speech', 16445.08, 16475.28), ('noEnergy', 16475.28, 16476.84), ('speech', 16476.84, 16481.56), ('noEnergy', 16481.56, 16482.18), ('speech', 16482.18, 16488.52), ('noEnergy', 16488.52, 16489.0), ('speech', 16489.0, 16496.0), ('noEnergy', 16496.0, 16496.48), ('speech', 16496.48, 16500.1), ('noEnergy', 16500.1, 16500.88), ('speech', 16500.88, 16505.08), ('noEnergy', 16505.08, 16505.76), ('speech', 16505.76, 16510.08), ('noEnergy', 16510.08, 16510.68), ('speech', 16510.68, 16512.34), ('noEnergy', 16512.34, 16514.28), ('speech', 16514.28, 16541.42), ('music', 16541.42, 16543.92), ('noEnergy', 16543.92, 16544.54), ('speech', 16544.54, 16548.58), ('music', 16548.58, 16590.4), ('noise', 16590.4, 16592.64), ('speech', 16592.64, 16611.9), ('noEnergy', 16611.9, 16612.44), ('speech', 16612.44, 16625.48), ('music', 16625.48, 16631.06), ('noEnergy', 16631.06, 16633.06), ('music', 16633.06, 16637.08), ('speech', 16637.08, 16680.78), ('music', 16680.78, 16694.5), ('speech', 16694.5, 16798.62), ('noEnergy', 16798.62, 16800.26), ('speech', 16800.26, 16821.46), ('noEnergy', 16821.46, 16822.42), ('speech', 16822.42, 16839.84), ('noEnergy', 16839.84, 16840.38), ('speech', 16840.38, 16847.96), ('noEnergy', 16847.96, 16848.44), ('speech', 16848.44, 16929.96), ('noEnergy', 16929.96, 16930.8), ('speech', 16930.8, 16952.16), ('noEnergy', 16952.16, 16954.08), ('speech', 16954.08, 16991.6), ('noEnergy', 16991.6, 16992.22), ('speech', 16992.22, 17020.72), ('noEnergy', 17020.72, 17021.32), ('speech', 17021.32, 17063.16), ('noEnergy', 17063.16, 17063.78), ('speech', 17063.78, 17173.82), ('noEnergy', 17173.82, 17175.12), ('speech', 17175.12, 17320.08), ('noEnergy', 17320.08, 17321.72), ('speech', 17321.72, 17323.22), ('noEnergy', 17323.22, 17324.3), ('speech', 17324.3, 17326.3), ('noEnergy', 17326.3, 17326.8), ('speech', 17326.8, 17442.22), ('noEnergy', 17442.22, 17442.84), ('speech', 17442.84, 17459.8), ('noEnergy', 17459.8, 17460.26), ('noise', 17460.26, 17461.88), ('speech', 17461.88, 17490.22), ('noEnergy', 17490.22, 17490.68), ('speech', 17490.68, 17578.54), ('noEnergy', 17578.54, 17579.36), ('speech', 17579.36, 17579.9), ('noEnergy', 17579.9, 17580.72), ('speech', 17580.72, 17598.72), ('noEnergy', 17598.72, 17599.14), ('speech', 17599.14, 17631.04), ('noEnergy', 17631.04, 17631.44), ('speech', 17631.44, 17670.0), ('noEnergy', 17670.0, 17670.7), ('speech', 17670.7, 17718.18), ('noEnergy', 17718.18, 17718.6), ('speech', 17718.6, 17737.28), ('noEnergy', 17737.28, 17737.8), ('speech', 17737.8, 17744.28), ('noEnergy', 17744.28, 17744.88), ('noise', 17744.88, 17745.24), ('noEnergy', 17745.24, 17746.1), ('speech', 17746.1, 17746.6), ('noEnergy', 17746.6, 17747.1), ('speech', 17747.1, 17747.9), ('noEnergy', 17747.9, 17748.76), ('speech', 17748.76, 17816.94), ('noEnergy', 17816.94, 17817.36), ('speech', 17817.36, 17819.14), ('noEnergy', 17819.14, 17819.54), ('speech', 17819.54, 17827.32), ('noEnergy', 17827.32, 17827.74), ('speech', 17827.74, 17839.0), ('noEnergy', 17839.0, 17839.5), ('speech', 17839.5, 17847.58), ('noEnergy', 17847.58, 17848.4), ('speech', 17848.4, 17851.28), ('noEnergy', 17851.28, 17851.84), ('speech', 17851.84, 17874.26), ('music', 17874.26, 17883.28), ('speech', 17883.28, 17985.58), ('music', 17985.58, 17991.04), ('speech', 17991.04, 17997.34), ('music', 17997.34, 18004.04), ('speech', 18004.04, 18011.48), ('music', 18011.48, 18012.36), ('noEnergy', 18012.36, 18013.16), ('speech', 18013.16, 18038.56), ('music', 18038.56, 18044.74), ('speech', 18044.74, 18055.4), ('music', 18055.4, 18061.1), ('speech', 18061.1, 18072.9), ('noEnergy', 18072.9, 18073.84), ('noise', 18073.84, 18077.02), ('music', 18077.02, 18086.58), ('speech', 18086.58, 18102.68), ('music', 18102.68, 18107.22), ('noise', 18107.22, 18109.02), ('speech', 18109.02, 18128.22), ('music', 18128.22, 18140.02), ('speech', 18140.02, 18163.4), ('noise', 18163.4, 18172.38), ('music', 18172.38, 18177.22), ('speech', 18177.22, 18183.28), ('noEnergy', 18183.28, 18183.72), ('speech', 18183.72, 18184.2), ('noEnergy', 18184.2, 18184.78), ('speech', 18184.78, 18192.06), ('music', 18192.06, 18196.6), ('speech', 18196.6, 18206.08), ('music', 18206.08, 18207.88), ('speech', 18207.88, 18222.42), ('music', 18222.42, 18241.54), ('speech', 18241.54, 18251.1), ('music', 18251.1, 18252.52), ('noEnergy', 18252.52, 18253.06), ('music', 18253.06, 18254.2), ('speech', 18254.2, 18323.22), ('noEnergy', 18323.22, 18323.68), ('speech', 18323.68, 18325.04), ('noEnergy', 18325.04, 18325.5), ('speech', 18325.5, 18331.64), ('noEnergy', 18331.64, 18332.08), ('speech', 18332.08, 18356.7), ('music', 18356.7, 18358.84), ('noEnergy', 18358.84, 18359.24), ('speech', 18359.24, 18370.18), ('music', 18370.18, 18375.16), ('speech', 18375.16, 18381.260000000002), ('music', 18381.260000000002, 18388.84), ('noEnergy', 18388.84, 18390.58), ('speech', 18390.58, 18407.54), ('music', 18407.54, 18414.78), ('speech', 18414.78, 18417.96), ('noise', 18417.96, 18421.52), ('speech', 18421.52, 18423.86), ('noise', 18423.86, 18429.42), ('speech', 18429.42, 18432.86), ('music', 18432.86, 18445.6), ('speech', 18445.6, 18451.8), ('music', 18451.8, 18457.64), ('speech', 18457.64, 18496.3), ('noEnergy', 18496.3, 18496.7), ('speech', 18496.7, 18542.28), ('music', 18542.28, 18544.84), ('speech', 18544.84, 18550.02), ('music', 18550.02, 18553.12), ('speech', 18553.12, 18572.38), ('noise', 18572.38, 18574.1), ('speech', 18574.1, 18578.46), ('music', 18578.46, 18584.72), ('noEnergy', 18584.72, 18585.66), ('speech', 18585.66, 18587.38), ('noEnergy', 18587.38, 18587.82), ('speech', 18587.82, 18588.5), ('noEnergy', 18588.5, 18589.02), ('speech', 18589.02, 18599.84), ('noEnergy', 18599.84, 18600.46), ('speech', 18600.46, 18629.06), ('noEnergy', 18629.06, 18629.66), ('speech', 18629.66, 18653.44), ('music', 18653.44, 18657.16), ('speech', 18657.16, 18710.7), ('music', 18710.7, 18734.82), ('noise', 18734.82, 18737.8), ('speech', 18737.8, 18745.5), ('noEnergy', 18745.5, 18745.96), ('speech', 18745.96, 18754.12), ('noEnergy', 18754.12, 18754.8), ('speech', 18754.8, 18760.58), ('noEnergy', 18760.58, 18761.64), ('speech', 18761.64, 18767.66), ('noEnergy', 18767.66, 18768.06), ('speech', 18768.06, 18847.260000000002), ('noEnergy', 18847.260000000002, 18847.72), ('speech', 18847.72, 18871.760000000002), ('noEnergy', 18871.760000000002, 18872.3), ('speech', 18872.3, 18878.28), ('music', 18878.28, 18881.98), ('speech', 18881.98, 18899.98)]\n",
      "CSV exists -- Appending\n"
     ]
    },
    {
     "name": "stderr",
     "output_type": "stream",
     "text": [
      "/mnt/rds/redhen/gallina/home/hxm471/RedHenLab-Multimodal_TV_Show_Segmentation/inaSpeechSegmenter/inaSpeechSegmenter/export_funcs.py:52: FutureWarning: The frame.append method is deprecated and will be removed from pandas in a future version. Use pandas.concat instead.\n",
      "  df = df2.append(df)\n"
     ]
    },
    {
     "name": "stdout",
     "output_type": "stream",
     "text": [
      "Saving DF to CSV\n",
      "\n",
      "DF   index start_second stop_second  \\\n",
      "0     0            0        2700   \n",
      "1     0         2700        5400   \n",
      "2     0         5400        8100   \n",
      "3     0         8100       10800   \n",
      "4     0        10800       13500   \n",
      "\n",
      "                                                mfcc  \\\n",
      "0  [[-32.46376419067383, -32.03540802001953, -31....   \n",
      "1  [[-7.569925785064697, -7.288165092468262, -5.9...   \n",
      "2  [[-12.193737983703613, -11.249810218811035, -8...   \n",
      "3  [[-9.96646499633789, -10.947720527648926, -9.0...   \n",
      "4  [[-7.732295513153076, -8.385476112365723, -5.3...   \n",
      "\n",
      "                                                loge difflen  \\\n",
      "0  [-18.872709274291992, -5.199673175811768, -4.0...       0   \n",
      "1  [-3.0485196113586426, -3.014030694961548, -2.9...       0   \n",
      "2  [-5.2589921951293945, -5.24594783782959, -6.61...       0   \n",
      "3  [-3.6181161403656006, -4.981551647186279, -6.0...       0   \n",
      "4  [-3.1724348068237305, -2.5462470054626465, -2....       0   \n",
      "\n",
      "                         audio_classification_labels  \n",
      "0  [('speech', 0.0, 14.36), ('music', 14.36, 17.3...  \n",
      "1  [('speech', 2700.0, 2716.98), ('music', 2716.9...  \n",
      "2  [('speech', 5400.0, 5401.0), ('noEnergy', 5401...  \n",
      "3  [('speech', 8100.0, 8120.66), ('music', 8120.6...  \n",
      "4  [('speech', 10800.0, 10805.7), ('music', 10805...  \n",
      "File /mnt/rds/redhen/gallina/home/hxm471/RedHenLab-Multimodal_TV_Show_Segmentation/mtvss/data/tmp/splits/2006-01-19_0000_US_00002692_V2_MB13_VHS14_H13_CG.csv\n",
      "Starting _wav2feats\n",
      "Starting _wav2feats\n",
      "\n",
      "Finished fexport\n",
      "\n",
      "Yielding chunk\n",
      "24/1 (0, 'ok', (0, 18900, 21600))\n",
      "I can make changes\n"
     ]
    },
    {
     "name": "stderr",
     "output_type": "stream",
     "text": [
      "/usr/local/lib/python3.8/dist-packages/pyannote/algorithms/utils/viterbi.py:86: FutureWarning: arrays to stack must be passed as a \"sequence\" type such as list or tuple. Support for non-sequence iterables such as generators is deprecated as of NumPy 1.16 and will raise an error in the future.\n",
      "  return np.vstack(\n",
      "/usr/local/lib/python3.8/dist-packages/pyannote/algorithms/utils/viterbi.py:95: FutureWarning: arrays to stack must be passed as a \"sequence\" type such as list or tuple. Support for non-sequence iterables such as generators is deprecated as of NumPy 1.16 and will raise an error in the future.\n",
      "  return np.vstack(\n"
     ]
    },
    {
     "name": "stdout",
     "output_type": "stream",
     "text": [
      "wav2feats done\n",
      "tmpwav /mnt/rds/redhen/gallina/home/hxm471/RedHenLab-Multimodal_TV_Show_Segmentation/mtvss/data/tmp/splits/tmprsrlmk1p/2006-01-19_0000_US_00002692_V2_MB13_VHS14_H13_CG_24300_27000.wav\n",
      "True (134999, 134999)\n",
      "  4/130 [..............................] - ETA: 42swav2feats done\n",
      "130/130 [==============================] - 25s 195ms/step\n"
     ]
    },
    {
     "name": "stderr",
     "output_type": "stream",
     "text": [
      "/usr/local/lib/python3.8/dist-packages/pyannote/algorithms/utils/viterbi.py:86: FutureWarning: arrays to stack must be passed as a \"sequence\" type such as list or tuple. Support for non-sequence iterables such as generators is deprecated as of NumPy 1.16 and will raise an error in the future.\n",
      "  return np.vstack(\n",
      "/usr/local/lib/python3.8/dist-packages/pyannote/algorithms/utils/viterbi.py:95: FutureWarning: arrays to stack must be passed as a \"sequence\" type such as list or tuple. Support for non-sequence iterables such as generators is deprecated as of NumPy 1.16 and will raise an error in the future.\n",
      "  return np.vstack(\n"
     ]
    },
    {
     "name": "stdout",
     "output_type": "stream",
     "text": [
      "Output from segement feats: [('music', 18900.0, 18923.32), ('speech', 18923.32, 18929.64), ('music', 18929.64, 18967.82), ('speech', 18967.82, 18987.72), ('music', 18987.72, 19009.78), ('speech', 19009.78, 19032.44), ('noEnergy', 19032.44, 19033.98), ('speech', 19033.98, 19070.12), ('noEnergy', 19070.12, 19071.44), ('music', 19071.44, 19073.0), ('speech', 19073.0, 19078.18), ('music', 19078.18, 19083.62), ('speech', 19083.62, 19102.2), ('noEnergy', 19102.2, 19102.68), ('speech', 19102.68, 19105.46), ('noise', 19105.46, 19106.38), ('noEnergy', 19106.38, 19107.7), ('music', 19107.7, 19117.8), ('speech', 19117.8, 19120.82), ('noise', 19120.82, 19122.28), ('music', 19122.28, 19124.74), ('noise', 19124.74, 19126.66), ('speech', 19126.66, 19159.3), ('noise', 19159.3, 19163.06), ('speech', 19163.06, 19397.56), ('music', 19397.56, 19400.92), ('speech', 19400.92, 19443.14), ('music', 19443.14, 19447.14), ('speech', 19447.14, 19449.96), ('music', 19449.96, 19459.9), ('speech', 19459.9, 19462.0), ('music', 19462.0, 19476.02), ('speech', 19476.02, 19491.56), ('noEnergy', 19491.56, 19492.02), ('speech', 19492.02, 19497.54), ('noEnergy', 19497.54, 19498.56), ('noise', 19498.56, 19500.18), ('speech', 19500.18, 19502.2), ('noise', 19502.2, 19504.06), ('noEnergy', 19504.06, 19504.74), ('speech', 19504.74, 19506.78), ('noEnergy', 19506.78, 19508.54), ('noise', 19508.54, 19509.48), ('noEnergy', 19509.48, 19512.76), ('speech', 19512.76, 19515.54), ('noEnergy', 19515.54, 19515.96), ('speech', 19515.96, 19524.9), ('music', 19524.9, 19536.86), ('speech', 19536.86, 19563.1), ('music', 19563.1, 19564.62), ('speech', 19564.62, 19596.3), ('noEnergy', 19596.3, 19596.82), ('speech', 19596.82, 19600.4), ('music', 19600.4, 19603.58), ('speech', 19603.58, 19616.74), ('noEnergy', 19616.74, 19617.96), ('music', 19617.96, 19620.44), ('speech', 19620.44, 19647.84), ('noEnergy', 19647.84, 19648.32), ('speech', 19648.32, 19651.44), ('noEnergy', 19651.44, 19651.96), ('speech', 19651.96, 19697.54), ('noEnergy', 19697.54, 19698.06), ('speech', 19698.06, 19704.32), ('noEnergy', 19704.32, 19704.84), ('speech', 19704.84, 19724.74), ('noEnergy', 19724.74, 19725.34), ('speech', 19725.34, 19742.56), ('noEnergy', 19742.56, 19743.08), ('speech', 19743.08, 19808.24), ('noEnergy', 19808.24, 19809.54), ('speech', 19809.54, 19821.28), ('noEnergy', 19821.28, 19821.9), ('speech', 19821.9, 19826.34), ('noEnergy', 19826.34, 19828.0), ('speech', 19828.0, 19830.08), ('music', 19830.08, 19833.4), ('speech', 19833.4, 19857.98), ('noEnergy', 19857.98, 19858.56), ('speech', 19858.56, 19887.3), ('music', 19887.3, 19891.32), ('speech', 19891.32, 19912.1), ('music', 19912.1, 19913.7), ('speech', 19913.7, 19933.08), ('music', 19933.08, 19948.46), ('speech', 19948.46, 19962.6), ('noEnergy', 19962.6, 19963.2), ('music', 19963.2, 19990.72), ('speech', 19990.72, 20024.06), ('music', 20024.06, 20039.02), ('speech', 20039.02, 20052.4), ('noEnergy', 20052.4, 20053.26), ('music', 20053.26, 20054.4), ('speech', 20054.4, 20096.88), ('noEnergy', 20096.88, 20097.74), ('speech', 20097.74, 20141.1), ('noEnergy', 20141.1, 20141.58), ('speech', 20141.58, 20147.38), ('music', 20147.38, 20150.02), ('speech', 20150.02, 20159.86), ('noise', 20159.86, 20165.22), ('noEnergy', 20165.22, 20165.8), ('music', 20165.8, 20179.86), ('noEnergy', 20179.86, 20181.14), ('speech', 20181.14, 20189.92), ('noEnergy', 20189.92, 20190.36), ('speech', 20190.36, 20201.4), ('noEnergy', 20201.4, 20202.82), ('speech', 20202.82, 20226.78), ('music', 20226.78, 20232.26), ('noEnergy', 20232.26, 20232.72), ('music', 20232.72, 20243.22), ('speech', 20243.22, 20293.12), ('music', 20293.12, 20297.64), ('speech', 20297.64, 20491.86), ('noEnergy', 20491.86, 20492.42), ('speech', 20492.42, 20567.48), ('noEnergy', 20567.48, 20568.2), ('speech', 20568.2, 20572.14), ('music', 20572.14, 20610.02), ('speech', 20610.02, 20640.74), ('music', 20640.74, 20642.46), ('speech', 20642.46, 20670.86), ('noEnergy', 20670.86, 20673.32), ('speech', 20673.32, 20694.64), ('music', 20694.64, 20788.5), ('noEnergy', 20788.5, 20789.12), ('noise', 20789.12, 20790.02), ('speech', 20790.02, 20797.42), ('music', 20797.42, 20805.16), ('speech', 20805.16, 20815.82), ('music', 20815.82, 20818.06), ('noEnergy', 20818.06, 20818.64), ('speech', 20818.64, 20822.92), ('music', 20822.92, 20841.08), ('speech', 20841.08, 20848.4), ('noEnergy', 20848.4, 20849.28), ('noise', 20849.28, 20850.86), ('speech', 20850.86, 20856.22), ('noEnergy', 20856.22, 20856.84), ('speech', 20856.84, 20859.94), ('noEnergy', 20859.94, 20860.34), ('speech', 20860.34, 20863.4), ('noEnergy', 20863.4, 20864.64), ('music', 20864.64, 20867.48), ('speech', 20867.48, 20883.14), ('music', 20883.14, 20889.62), ('speech', 20889.62, 20892.08), ('music', 20892.08, 20897.68), ('speech', 20897.68, 20900.16), ('music', 20900.16, 20903.14), ('speech', 20903.14, 20912.92), ('music', 20912.92, 20926.5), ('speech', 20926.5, 20931.64), ('music', 20931.64, 20945.96), ('speech', 20945.96, 20955.48), ('noise', 20955.48, 20956.88), ('speech', 20956.88, 20969.32), ('music', 20969.32, 20971.9), ('speech', 20971.9, 21201.6), ('music', 21201.6, 21206.08), ('noEnergy', 21206.08, 21207.54), ('music', 21207.54, 21214.22), ('speech', 21214.22, 21235.6), ('music', 21235.6, 21240.96), ('speech', 21240.96, 21249.72), ('music', 21249.72, 21253.1), ('speech', 21253.1, 21264.2), ('music', 21264.2, 21281.56), ('speech', 21281.56, 21288.32), ('music', 21288.32, 21292.38), ('speech', 21292.38, 21301.02), ('music', 21301.02, 21306.46), ('speech', 21306.46, 21310.38), ('music', 21310.38, 21316.2), ('speech', 21316.2, 21326.02), ('noEnergy', 21326.02, 21326.58), ('music', 21326.58, 21358.24), ('speech', 21358.24, 21378.06), ('music', 21378.06, 21386.1), ('noEnergy', 21386.1, 21387.6), ('music', 21387.6, 21389.38), ('speech', 21389.38, 21394.2), ('music', 21394.2, 21398.24), ('speech', 21398.24, 21430.7), ('noise', 21430.7, 21439.58), ('speech', 21439.58, 21480.06), ('music', 21480.06, 21485.32), ('noise', 21485.32, 21487.64), ('speech', 21487.64, 21516.64), ('music', 21516.64, 21518.44), ('speech', 21518.44, 21537.54), ('noEnergy', 21537.54, 21538.1), ('speech', 21538.1, 21540.62), ('music', 21540.62, 21543.14), ('speech', 21543.14, 21571.96), ('music', 21571.96, 21573.88), ('speech', 21573.88, 21599.98)]\n",
      "CSV exists -- Appending\n"
     ]
    },
    {
     "name": "stderr",
     "output_type": "stream",
     "text": [
      "/mnt/rds/redhen/gallina/home/hxm471/RedHenLab-Multimodal_TV_Show_Segmentation/inaSpeechSegmenter/inaSpeechSegmenter/export_funcs.py:52: FutureWarning: The frame.append method is deprecated and will be removed from pandas in a future version. Use pandas.concat instead.\n",
      "  df = df2.append(df)\n"
     ]
    },
    {
     "name": "stdout",
     "output_type": "stream",
     "text": [
      "Saving DF to CSV\n",
      "\n",
      "DF   index start_second stop_second  \\\n",
      "0     0            0        2700   \n",
      "1     0         2700        5400   \n",
      "2     0         5400        8100   \n",
      "3     0         8100       10800   \n",
      "4     0        10800       13500   \n",
      "\n",
      "                                                mfcc  \\\n",
      "0  [[-32.46376419067383, -32.03540802001953, -31....   \n",
      "1  [[-7.569925785064697, -7.288165092468262, -5.9...   \n",
      "2  [[-12.193737983703613, -11.249810218811035, -8...   \n",
      "3  [[-9.96646499633789, -10.947720527648926, -9.0...   \n",
      "4  [[-7.732295513153076, -8.385476112365723, -5.3...   \n",
      "\n",
      "                                                loge difflen  \\\n",
      "0  [-18.872709274291992, -5.199673175811768, -4.0...       0   \n",
      "1  [-3.0485196113586426, -3.014030694961548, -2.9...       0   \n",
      "2  [-5.2589921951293945, -5.24594783782959, -6.61...       0   \n",
      "3  [-3.6181161403656006, -4.981551647186279, -6.0...       0   \n",
      "4  [-3.1724348068237305, -2.5462470054626465, -2....       0   \n",
      "\n",
      "                         audio_classification_labels  \n",
      "0  [('speech', 0.0, 14.36), ('music', 14.36, 17.3...  \n",
      "1  [('speech', 2700.0, 2716.98), ('music', 2716.9...  \n",
      "2  [('speech', 5400.0, 5401.0), ('noEnergy', 5401...  \n",
      "3  [('speech', 8100.0, 8120.66), ('music', 8120.6...  \n",
      "4  [('speech', 10800.0, 10805.7), ('music', 10805...  \n",
      "File /mnt/rds/redhen/gallina/home/hxm471/RedHenLab-Multimodal_TV_Show_Segmentation/mtvss/data/tmp/splits/2006-01-19_0000_US_00002692_V2_MB13_VHS14_H13_CG.csv\n",
      "Starting _wav2feats\n",
      "\n",
      "Finished fexport\n",
      "\n",
      "Yielding chunk\n",
      "27/1 (0, 'ok', (0, 21600, 24300))\n",
      "I can make changes\n"
     ]
    },
    {
     "name": "stderr",
     "output_type": "stream",
     "text": [
      "/usr/local/lib/python3.8/dist-packages/pyannote/algorithms/utils/viterbi.py:86: FutureWarning: arrays to stack must be passed as a \"sequence\" type such as list or tuple. Support for non-sequence iterables such as generators is deprecated as of NumPy 1.16 and will raise an error in the future.\n",
      "  return np.vstack(\n",
      "/usr/local/lib/python3.8/dist-packages/pyannote/algorithms/utils/viterbi.py:95: FutureWarning: arrays to stack must be passed as a \"sequence\" type such as list or tuple. Support for non-sequence iterables such as generators is deprecated as of NumPy 1.16 and will raise an error in the future.\n",
      "  return np.vstack(\n"
     ]
    },
    {
     "name": "stdout",
     "output_type": "stream",
     "text": [
      "wav2feats done\n",
      "tmpwav /mnt/rds/redhen/gallina/home/hxm471/RedHenLab-Multimodal_TV_Show_Segmentation/mtvss/data/tmp/splits/tmprsrlmk1p/2006-01-19_0000_US_00002692_V2_MB13_VHS14_H13_CG_27000.wav\n",
      "True (134999, 134999)\n",
      "130/130 [==============================] - 24s 187ms/step\n"
     ]
    },
    {
     "name": "stderr",
     "output_type": "stream",
     "text": [
      "/usr/local/lib/python3.8/dist-packages/pyannote/algorithms/utils/viterbi.py:86: FutureWarning: arrays to stack must be passed as a \"sequence\" type such as list or tuple. Support for non-sequence iterables such as generators is deprecated as of NumPy 1.16 and will raise an error in the future.\n",
      "  return np.vstack(\n",
      "/usr/local/lib/python3.8/dist-packages/pyannote/algorithms/utils/viterbi.py:95: FutureWarning: arrays to stack must be passed as a \"sequence\" type such as list or tuple. Support for non-sequence iterables such as generators is deprecated as of NumPy 1.16 and will raise an error in the future.\n",
      "  return np.vstack(\n"
     ]
    },
    {
     "name": "stdout",
     "output_type": "stream",
     "text": [
      "Output from segement feats: [('speech', 21600.0, 21617.4), ('music', 21617.4, 21620.54), ('speech', 21620.54, 21631.78), ('music', 21631.78, 21634.8), ('speech', 21634.8, 21651.34), ('music', 21651.34, 21666.3), ('speech', 21666.3, 21709.82), ('music', 21709.82, 21712.42), ('speech', 21712.42, 21717.84), ('noise', 21717.84, 21733.02), ('music', 21733.02, 21737.84), ('noise', 21737.84, 21741.32), ('speech', 21741.32, 21780.66), ('music', 21780.66, 21783.26), ('noEnergy', 21783.26, 21787.9), ('music', 21787.9, 21789.78), ('speech', 21789.78, 21816.88), ('noEnergy', 21816.88, 21817.52), ('speech', 21817.52, 21822.82), ('music', 21822.82, 21824.96), ('speech', 21824.96, 21828.88), ('noise', 21828.88, 21831.2), ('music', 21831.2, 21835.72), ('speech', 21835.72, 21841.34), ('noise', 21841.34, 21843.16), ('speech', 21843.16, 21847.5), ('noEnergy', 21847.5, 21848.18), ('music', 21848.18, 21849.52), ('speech', 21849.52, 21876.98), ('noEnergy', 21876.98, 21877.46), ('speech', 21877.46, 21881.72), ('noEnergy', 21881.72, 21882.2), ('speech', 21882.2, 21915.04), ('music', 21915.04, 21916.84), ('speech', 21916.84, 21921.96), ('music', 21921.96, 21962.4), ('speech', 21962.4, 21977.9), ('music', 21977.9, 21981.74), ('noEnergy', 21981.74, 21982.98), ('speech', 21982.98, 21989.52), ('noEnergy', 21989.52, 21990.0), ('speech', 21990.0, 22000.92), ('music', 22000.92, 22003.08), ('speech', 22003.08, 22006.68), ('music', 22006.68, 22023.32), ('speech', 22023.32, 22032.48), ('noEnergy', 22032.48, 22033.62), ('speech', 22033.62, 22043.54), ('noEnergy', 22043.54, 22044.38), ('music', 22044.38, 22071.04), ('speech', 22071.04, 22152.46), ('noEnergy', 22152.46, 22153.0), ('music', 22153.0, 22154.16), ('speech', 22154.16, 22219.0), ('music', 22219.0, 22220.7), ('speech', 22220.7, 22382.94), ('noise', 22382.94, 22385.56), ('speech', 22385.56, 22430.24), ('music', 22430.24, 22436.52), ('noEnergy', 22436.52, 22437.16), ('speech', 22437.16, 22447.34), ('noEnergy', 22447.34, 22448.18), ('speech', 22448.18, 22450.76), ('noEnergy', 22450.76, 22451.58), ('speech', 22451.58, 22541.1), ('noEnergy', 22541.1, 22542.04), ('speech', 22542.04, 22548.78), ('noEnergy', 22548.78, 22549.18), ('speech', 22549.18, 22552.02), ('noEnergy', 22552.02, 22552.52), ('speech', 22552.52, 22555.16), ('noEnergy', 22555.16, 22558.04), ('music', 22558.04, 22559.46), ('speech', 22559.46, 22566.96), ('music', 22566.96, 22569.6), ('speech', 22569.6, 22614.9), ('noEnergy', 22614.9, 22615.38), ('speech', 22615.38, 22868.52), ('music', 22868.52, 22877.52), ('speech', 22877.52, 22967.2), ('noEnergy', 22967.2, 22967.92), ('noise', 22967.92, 22970.16), ('speech', 22970.16, 22984.34), ('noise', 22984.34, 22986.9), ('speech', 22986.9, 22996.62), ('music', 22996.62, 23002.26), ('speech', 23002.26, 23305.92), ('music', 23305.92, 23316.62), ('speech', 23316.62, 23335.62), ('noise', 23335.62, 23336.86), ('noEnergy', 23336.86, 23338.24), ('speech', 23338.24, 23405.4), ('noEnergy', 23405.4, 23408.04), ('music', 23408.04, 23409.18), ('speech', 23409.18, 23415.84), ('music', 23415.84, 23416.74), ('noEnergy', 23416.74, 23417.34), ('speech', 23417.34, 23428.3), ('noEnergy', 23428.3, 23428.76), ('speech', 23428.76, 23429.62), ('noEnergy', 23429.62, 23430.6), ('speech', 23430.6, 23484.44), ('noise', 23484.44, 23488.94), ('speech', 23488.94, 23499.8), ('noEnergy', 23499.8, 23500.82), ('speech', 23500.82, 23547.68), ('noEnergy', 23547.68, 23548.14), ('speech', 23548.14, 23596.32), ('noEnergy', 23596.32, 23597.18), ('music', 23597.18, 23598.62), ('speech', 23598.62, 23616.34), ('noEnergy', 23616.34, 23616.86), ('speech', 23616.86, 23684.02), ('noEnergy', 23684.02, 23684.4), ('speech', 23684.4, 23689.12), ('noEnergy', 23689.12, 23689.72), ('speech', 23689.72, 23692.08), ('noEnergy', 23692.08, 23692.6), ('speech', 23692.6, 23696.72), ('music', 23696.72, 23700.12), ('speech', 23700.12, 23735.64), ('noEnergy', 23735.64, 23736.18), ('speech', 23736.18, 23738.52), ('music', 23738.52, 23744.08), ('noEnergy', 23744.08, 23745.28), ('speech', 23745.28, 23753.36), ('noEnergy', 23753.36, 23754.42), ('speech', 23754.42, 23756.14), ('music', 23756.14, 23771.56), ('noEnergy', 23771.56, 23772.68), ('noise', 23772.68, 23773.22), ('noEnergy', 23773.22, 23775.82), ('speech', 23775.82, 23787.78), ('noEnergy', 23787.78, 23788.38), ('speech', 23788.38, 23822.74), ('music', 23822.74, 23825.12), ('noEnergy', 23825.12, 23827.14), ('noise', 23827.14, 23828.32), ('noEnergy', 23828.32, 23828.88), ('speech', 23828.88, 23830.0), ('noEnergy', 23830.0, 23832.78), ('music', 23832.78, 23836.6), ('speech', 23836.6, 23841.92), ('music', 23841.92, 23847.86), ('speech', 23847.86, 23971.82), ('noEnergy', 23971.82, 23972.58), ('speech', 23972.58, 23973.0), ('noEnergy', 23973.0, 23973.94), ('speech', 23973.94, 23989.32), ('noEnergy', 23989.32, 23990.66), ('speech', 23990.66, 23997.48), ('noEnergy', 23997.48, 23999.12), ('speech', 23999.12, 24000.96), ('noEnergy', 24000.96, 24001.54), ('speech', 24001.54, 24012.0), ('noEnergy', 24012.0, 24012.66), ('speech', 24012.66, 24019.46), ('noEnergy', 24019.46, 24019.92), ('speech', 24019.92, 24082.24), ('noEnergy', 24082.24, 24082.82), ('speech', 24082.82, 24106.58), ('noEnergy', 24106.58, 24107.2), ('speech', 24107.2, 24175.54), ('noEnergy', 24175.54, 24177.12), ('speech', 24177.12, 24206.18), ('noEnergy', 24206.18, 24207.7), ('speech', 24207.7, 24299.98)]\n",
      "CSV exists -- Appending\n"
     ]
    },
    {
     "name": "stderr",
     "output_type": "stream",
     "text": [
      "/mnt/rds/redhen/gallina/home/hxm471/RedHenLab-Multimodal_TV_Show_Segmentation/inaSpeechSegmenter/inaSpeechSegmenter/export_funcs.py:52: FutureWarning: The frame.append method is deprecated and will be removed from pandas in a future version. Use pandas.concat instead.\n",
      "  df = df2.append(df)\n"
     ]
    },
    {
     "name": "stdout",
     "output_type": "stream",
     "text": [
      "Saving DF to CSV\n",
      "\n",
      "DF   index start_second stop_second  \\\n",
      "0     0            0        2700   \n",
      "1     0         2700        5400   \n",
      "2     0         5400        8100   \n",
      "3     0         8100       10800   \n",
      "4     0        10800       13500   \n",
      "\n",
      "                                                mfcc  \\\n",
      "0  [[-32.46376419067383, -32.03540802001953, -31....   \n",
      "1  [[-7.569925785064697, -7.288165092468262, -5.9...   \n",
      "2  [[-12.193737983703613, -11.249810218811035, -8...   \n",
      "3  [[-9.96646499633789, -10.947720527648926, -9.0...   \n",
      "4  [[-7.732295513153076, -8.385476112365723, -5.3...   \n",
      "\n",
      "                                                loge difflen  \\\n",
      "0  [-18.872709274291992, -5.199673175811768, -4.0...       0   \n",
      "1  [-3.0485196113586426, -3.014030694961548, -2.9...       0   \n",
      "2  [-5.2589921951293945, -5.24594783782959, -6.61...       0   \n",
      "3  [-3.6181161403656006, -4.981551647186279, -6.0...       0   \n",
      "4  [-3.1724348068237305, -2.5462470054626465, -2....       0   \n",
      "\n",
      "                         audio_classification_labels  \n",
      "0  [('speech', 0.0, 14.36), ('music', 14.36, 17.3...  \n",
      "1  [('speech', 2700.0, 2716.98), ('music', 2716.9...  \n",
      "2  [('speech', 5400.0, 5401.0), ('noEnergy', 5401...  \n",
      "3  [('speech', 8100.0, 8120.66), ('music', 8120.6...  \n",
      "4  [('speech', 10800.0, 10805.7), ('music', 10805...  \n",
      "File /mnt/rds/redhen/gallina/home/hxm471/RedHenLab-Multimodal_TV_Show_Segmentation/mtvss/data/tmp/splits/2006-01-19_0000_US_00002692_V2_MB13_VHS14_H13_CG.csv\n",
      "Starting _wav2feats\n",
      "\n",
      "Finished fexport\n",
      "\n",
      "Yielding chunk\n",
      "30/1 (0, 'ok', (0, 24300, 27000))\n",
      "I can make changes\n"
     ]
    },
    {
     "name": "stderr",
     "output_type": "stream",
     "text": [
      "/usr/local/lib/python3.8/dist-packages/pyannote/algorithms/utils/viterbi.py:86: FutureWarning: arrays to stack must be passed as a \"sequence\" type such as list or tuple. Support for non-sequence iterables such as generators is deprecated as of NumPy 1.16 and will raise an error in the future.\n",
      "  return np.vstack(\n",
      "/usr/local/lib/python3.8/dist-packages/pyannote/algorithms/utils/viterbi.py:95: FutureWarning: arrays to stack must be passed as a \"sequence\" type such as list or tuple. Support for non-sequence iterables such as generators is deprecated as of NumPy 1.16 and will raise an error in the future.\n",
      "  return np.vstack(\n"
     ]
    },
    {
     "name": "stdout",
     "output_type": "stream",
     "text": [
      "wav2feats done\n",
      "True (134999, 134999)\n",
      "130/130 [==============================] - 24s 186ms/step\n"
     ]
    },
    {
     "name": "stderr",
     "output_type": "stream",
     "text": [
      "/usr/local/lib/python3.8/dist-packages/pyannote/algorithms/utils/viterbi.py:86: FutureWarning: arrays to stack must be passed as a \"sequence\" type such as list or tuple. Support for non-sequence iterables such as generators is deprecated as of NumPy 1.16 and will raise an error in the future.\n",
      "  return np.vstack(\n",
      "/usr/local/lib/python3.8/dist-packages/pyannote/algorithms/utils/viterbi.py:95: FutureWarning: arrays to stack must be passed as a \"sequence\" type such as list or tuple. Support for non-sequence iterables such as generators is deprecated as of NumPy 1.16 and will raise an error in the future.\n",
      "  return np.vstack(\n"
     ]
    },
    {
     "name": "stdout",
     "output_type": "stream",
     "text": [
      "Output from segement feats: [('speech', 24300.0, 24319.56), ('music', 24319.56, 24325.88), ('speech', 24325.88, 24500.4), ('music', 24500.4, 24522.14), ('speech', 24522.14, 24579.08), ('music', 24579.08, 24595.64), ('speech', 24595.64, 24636.1), ('music', 24636.1, 24653.86), ('speech', 24653.86, 24672.16), ('noEnergy', 24672.16, 24672.6), ('music', 24672.6, 24674.34), ('speech', 24674.34, 24694.2), ('music', 24694.2, 24707.78), ('speech', 24707.78, 24715.62), ('noise', 24715.62, 24716.66), ('music', 24716.66, 24720.12), ('speech', 24720.12, 24728.96), ('music', 24728.96, 24732.48), ('speech', 24732.48, 24741.6), ('music', 24741.6, 24747.24), ('noise', 24747.24, 24749.56), ('speech', 24749.56, 24753.6), ('noise', 24753.6, 24759.22), ('speech', 24759.22, 24803.24), ('music', 24803.24, 24814.84), ('noise', 24814.84, 24816.5), ('speech', 24816.5, 24821.44), ('music', 24821.44, 24822.58), ('noEnergy', 24822.58, 24823.2), ('music', 24823.2, 24827.7), ('speech', 24827.7, 25121.5), ('music', 25121.5, 25124.46), ('noEnergy', 25124.46, 25125.24), ('music', 25125.24, 25131.46), ('speech', 25131.46, 25154.24), ('music', 25154.24, 25156.78), ('speech', 25156.78, 25160.68), ('music', 25160.68, 25170.42), ('noise', 25170.42, 25172.0), ('music', 25172.0, 25179.78), ('noise', 25179.78, 25181.66), ('speech', 25181.66, 25196.64), ('music', 25196.64, 25200.3), ('speech', 25200.3, 25259.78), ('noEnergy', 25259.78, 25260.4), ('speech', 25260.4, 25275.32), ('noEnergy', 25275.32, 25275.8), ('speech', 25275.8, 25339.48), ('music', 25339.48, 25341.38), ('speech', 25341.38, 25346.4), ('noEnergy', 25346.4, 25348.2), ('speech', 25348.2, 25370.3), ('noEnergy', 25370.3, 25371.1), ('speech', 25371.1, 25417.54), ('noEnergy', 25417.54, 25418.12), ('speech', 25418.12, 25424.9), ('music', 25424.9, 25427.26), ('noEnergy', 25427.26, 25428.18), ('speech', 25428.18, 25432.36), ('noEnergy', 25432.36, 25432.88), ('speech', 25432.88, 25434.28), ('noEnergy', 25434.28, 25434.74), ('speech', 25434.74, 25437.72), ('noEnergy', 25437.72, 25438.1), ('speech', 25438.1, 25443.22), ('noEnergy', 25443.22, 25443.8), ('speech', 25443.8, 25444.98), ('noEnergy', 25444.98, 25445.52), ('speech', 25445.52, 25447.52), ('noEnergy', 25447.52, 25448.04), ('speech', 25448.04, 25455.34), ('noEnergy', 25455.34, 25457.52), ('speech', 25457.52, 25546.34), ('noEnergy', 25546.34, 25547.74), ('noise', 25547.74, 25549.96), ('speech', 25549.96, 25564.14), ('noise', 25564.14, 25566.78), ('speech', 25566.78, 25577.48), ('music', 25577.48, 25582.62), ('noise', 25582.62, 25585.0), ('speech', 25585.0, 25591.28), ('music', 25591.28, 25607.02), ('noEnergy', 25607.02, 25607.44), ('speech', 25607.44, 25611.52), ('music', 25611.52, 25622.22), ('noEnergy', 25622.22, 25622.86), ('speech', 25622.86, 25630.0), ('music', 25630.0, 25632.52), ('noEnergy', 25632.52, 25633.58), ('noise', 25633.58, 25646.12), ('speech', 25646.12, 25658.5), ('noEnergy', 25658.5, 25659.02), ('music', 25659.02, 25676.88), ('speech', 25676.88, 25685.4), ('music', 25685.4, 25688.98), ('noEnergy', 25688.98, 25689.78), ('music', 25689.78, 25697.02), ('speech', 25697.02, 25765.78), ('noEnergy', 25765.78, 25766.28), ('speech', 25766.28, 25853.76), ('noEnergy', 25853.76, 25854.22), ('speech', 25854.22, 25899.66), ('noEnergy', 25899.66, 25900.06), ('speech', 25900.06, 25901.56), ('noEnergy', 25901.56, 25902.14), ('speech', 25902.14, 25939.64), ('noEnergy', 25939.64, 25940.3), ('speech', 25940.3, 25941.52), ('noEnergy', 25941.52, 25942.28), ('speech', 25942.28, 25943.06), ('noEnergy', 25943.06, 25943.66), ('speech', 25943.66, 25947.06), ('noEnergy', 25947.06, 25947.78), ('speech', 25947.78, 25969.7), ('noEnergy', 25969.7, 25970.54), ('speech', 25970.54, 25971.68), ('noEnergy', 25971.68, 25972.52), ('speech', 25972.52, 25976.94), ('noEnergy', 25976.94, 25977.38), ('speech', 25977.38, 25988.2), ('noEnergy', 25988.2, 25989.04), ('speech', 25989.04, 25991.96), ('noEnergy', 25991.96, 25992.36), ('speech', 25992.36, 26001.46), ('noEnergy', 26001.46, 26002.12), ('speech', 26002.12, 26010.64), ('noEnergy', 26010.64, 26011.36), ('speech', 26011.36, 26042.3), ('noEnergy', 26042.3, 26043.28), ('speech', 26043.28, 26046.98), ('noEnergy', 26046.98, 26047.38), ('speech', 26047.38, 26056.8), ('noEnergy', 26056.8, 26057.22), ('speech', 26057.22, 26072.48), ('noEnergy', 26072.48, 26073.86), ('noise', 26073.86, 26076.44), ('speech', 26076.44, 26103.96), ('noEnergy', 26103.96, 26104.52), ('speech', 26104.52, 26158.74), ('noEnergy', 26158.74, 26159.3), ('speech', 26159.3, 26166.28), ('noEnergy', 26166.28, 26166.68), ('speech', 26166.68, 26255.32), ('noise', 26255.32, 26256.7), ('noEnergy', 26256.7, 26257.24), ('speech', 26257.24, 26353.92), ('noEnergy', 26353.92, 26354.32), ('speech', 26354.32, 26357.38), ('noEnergy', 26357.38, 26357.88), ('speech', 26357.88, 26362.86), ('noEnergy', 26362.86, 26363.5), ('speech', 26363.5, 26388.12), ('noEnergy', 26388.12, 26388.760000000002), ('speech', 26388.760000000002, 26390.6), ('music', 26390.6, 26392.96), ('speech', 26392.96, 26428.34), ('music', 26428.34, 26432.84), ('noEnergy', 26432.84, 26433.92), ('music', 26433.92, 26435.88), ('speech', 26435.88, 26491.58), ('music', 26491.58, 26492.92), ('noEnergy', 26492.92, 26493.3), ('speech', 26493.3, 26495.68), ('noEnergy', 26495.68, 26496.16), ('speech', 26496.16, 26520.14), ('noEnergy', 26520.14, 26520.56), ('speech', 26520.56, 26552.6), ('noEnergy', 26552.6, 26554.34), ('speech', 26554.34, 26558.92), ('noEnergy', 26558.92, 26559.32), ('speech', 26559.32, 26565.52), ('noEnergy', 26565.52, 26565.9), ('speech', 26565.9, 26569.4), ('noEnergy', 26569.4, 26569.96), ('speech', 26569.96, 26573.5), ('noEnergy', 26573.5, 26574.02), ('speech', 26574.02, 26579.54), ('noEnergy', 26579.54, 26579.94), ('speech', 26579.94, 26593.22), ('noEnergy', 26593.22, 26593.64), ('speech', 26593.64, 26605.36), ('noEnergy', 26605.36, 26605.98), ('speech', 26605.98, 26622.44), ('music', 26622.44, 26626.92), ('speech', 26626.92, 26642.3), ('music', 26642.3, 26647.8), ('speech', 26647.8, 26714.56), ('noEnergy', 26714.56, 26715.06), ('speech', 26715.06, 26736.34), ('noEnergy', 26736.34, 26736.9), ('speech', 26736.9, 26739.22), ('music', 26739.22, 26744.98), ('speech', 26744.98, 26784.88), ('noEnergy', 26784.88, 26786.7), ('speech', 26786.7, 26803.46), ('noEnergy', 26803.46, 26803.86), ('speech', 26803.86, 26807.0), ('noEnergy', 26807.0, 26807.4), ('speech', 26807.4, 26947.12), ('music', 26947.12, 26952.98), ('speech', 26952.98, 26967.94), ('music', 26967.94, 26970.7), ('speech', 26970.7, 26999.98)]\n",
      "CSV exists -- Appending\n"
     ]
    },
    {
     "name": "stderr",
     "output_type": "stream",
     "text": [
      "/mnt/rds/redhen/gallina/home/hxm471/RedHenLab-Multimodal_TV_Show_Segmentation/inaSpeechSegmenter/inaSpeechSegmenter/export_funcs.py:52: FutureWarning: The frame.append method is deprecated and will be removed from pandas in a future version. Use pandas.concat instead.\n",
      "  df = df2.append(df)\n"
     ]
    },
    {
     "name": "stdout",
     "output_type": "stream",
     "text": [
      "Saving DF to CSV\n",
      "\n",
      "DF   index start_second stop_second  \\\n",
      "0     0            0        2700   \n",
      "1     0         2700        5400   \n",
      "2     0         5400        8100   \n",
      "3     0         8100       10800   \n",
      "4     0        10800       13500   \n",
      "\n",
      "                                                mfcc  \\\n",
      "0  [[-32.46376419067383, -32.03540802001953, -31....   \n",
      "1  [[-7.569925785064697, -7.288165092468262, -5.9...   \n",
      "2  [[-12.193737983703613, -11.249810218811035, -8...   \n",
      "3  [[-9.96646499633789, -10.947720527648926, -9.0...   \n",
      "4  [[-7.732295513153076, -8.385476112365723, -5.3...   \n",
      "\n",
      "                                                loge difflen  \\\n",
      "0  [-18.872709274291992, -5.199673175811768, -4.0...       0   \n",
      "1  [-3.0485196113586426, -3.014030694961548, -2.9...       0   \n",
      "2  [-5.2589921951293945, -5.24594783782959, -6.61...       0   \n",
      "3  [-3.6181161403656006, -4.981551647186279, -6.0...       0   \n",
      "4  [-3.1724348068237305, -2.5462470054626465, -2....       0   \n",
      "\n",
      "                         audio_classification_labels  \n",
      "0  [('speech', 0.0, 14.36), ('music', 14.36, 17.3...  \n",
      "1  [('speech', 2700.0, 2716.98), ('music', 2716.9...  \n",
      "2  [('speech', 5400.0, 5401.0), ('noEnergy', 5401...  \n",
      "3  [('speech', 8100.0, 8120.66), ('music', 8120.6...  \n",
      "4  [('speech', 10800.0, 10805.7), ('music', 10805...  \n",
      "File /mnt/rds/redhen/gallina/home/hxm471/RedHenLab-Multimodal_TV_Show_Segmentation/mtvss/data/tmp/splits/2006-01-19_0000_US_00002692_V2_MB13_VHS14_H13_CG.csv\n",
      "\n",
      "Finished fexport\n",
      "\n",
      "Yielding chunk\n",
      "33/1 (0, 'ok', (0, 27000, 27000))\n",
      "I can make changes\n"
     ]
    },
    {
     "name": "stderr",
     "output_type": "stream",
     "text": [
      "/usr/local/lib/python3.8/dist-packages/pyannote/algorithms/utils/viterbi.py:86: FutureWarning: arrays to stack must be passed as a \"sequence\" type such as list or tuple. Support for non-sequence iterables such as generators is deprecated as of NumPy 1.16 and will raise an error in the future.\n",
      "  return np.vstack(\n",
      "/usr/local/lib/python3.8/dist-packages/pyannote/algorithms/utils/viterbi.py:95: FutureWarning: arrays to stack must be passed as a \"sequence\" type such as list or tuple. Support for non-sequence iterables such as generators is deprecated as of NumPy 1.16 and will raise an error in the future.\n",
      "  return np.vstack(\n"
     ]
    },
    {
     "name": "stdout",
     "output_type": "stream",
     "text": [
      "True (129332, 129332)\n",
      "122/122 [==============================] - 23s 191ms/step\n",
      "Output from segement feats: [('speech', 27000.0, 27022.14), ('music', 27022.14, 27027.7), ('noEnergy', 27027.7, 27028.4), ('speech', 27028.4, 27102.76), ('noEnergy', 27102.76, 27104.74), ('speech', 27104.74, 27160.26), ('noEnergy', 27160.26, 27161.04), ('speech', 27161.04, 27181.12), ('noEnergy', 27181.12, 27181.86), ('speech', 27181.86, 27188.62), ('noEnergy', 27188.62, 27189.72), ('speech', 27189.72, 27197.12), ('noEnergy', 27197.12, 27197.8), ('speech', 27197.8, 27225.86), ('music', 27225.86, 27228.24), ('speech', 27228.24, 27287.82), ('noEnergy', 27287.82, 27288.54), ('noise', 27288.54, 27290.76), ('speech', 27290.76, 27304.94), ('noise', 27304.94, 27307.6), ('speech', 27307.6, 27317.24), ('music', 27317.24, 27326.48), ('speech', 27326.48, 27327.52), ('noise', 27327.52, 27332.1), ('speech', 27332.1, 27347.76), ('noEnergy', 27347.76, 27348.96), ('speech', 27348.96, 27353.16), ('noEnergy', 27353.16, 27353.64), ('speech', 27353.64, 27355.08), ('noEnergy', 27355.08, 27355.52), ('speech', 27355.52, 27364.02), ('noEnergy', 27364.02, 27364.58), ('speech', 27364.58, 27365.78), ('noEnergy', 27365.78, 27366.32), ('speech', 27366.32, 27368.34), ('noEnergy', 27368.34, 27368.84), ('speech', 27368.84, 27376.14), ('noEnergy', 27376.14, 27378.76), ('music', 27378.76, 27385.58), ('speech', 27385.58, 27464.72), ('noEnergy', 27464.72, 27466.88), ('speech', 27466.88, 27505.76), ('noEnergy', 27505.76, 27506.24), ('speech', 27506.24, 27537.86), ('noEnergy', 27537.86, 27538.58), ('speech', 27538.58, 27540.66), ('noEnergy', 27540.66, 27541.12), ('speech', 27541.12, 27582.32), ('noEnergy', 27582.32, 27584.08), ('speech', 27584.08, 27603.9), ('noEnergy', 27603.9, 27604.7), ('speech', 27604.7, 27618.28), ('noEnergy', 27618.28, 27618.78), ('speech', 27618.78, 27623.12), ('noEnergy', 27623.12, 27624.28), ('speech', 27624.28, 27632.8), ('noEnergy', 27632.8, 27634.12), ('speech', 27634.12, 27775.56), ('noEnergy', 27775.56, 27776.12), ('speech', 27776.12, 27820.2), ('noEnergy', 27820.2, 27820.68), ('speech', 27820.68, 27841.06), ('noEnergy', 27841.06, 27842.54), ('speech', 27842.54, 27866.24), ('noEnergy', 27866.24, 27866.74), ('speech', 27866.74, 27872.8), ('noEnergy', 27872.8, 27873.68), ('speech', 27873.68, 27881.08), ('noEnergy', 27881.08, 27881.5), ('speech', 27881.5, 27895.36), ('noEnergy', 27895.36, 27896.38), ('speech', 27896.38, 27899.34), ('noEnergy', 27899.34, 27900.12), ('speech', 27900.12, 27901.64), ('noEnergy', 27901.64, 27903.06), ('speech', 27903.06, 27903.68), ('noEnergy', 27903.68, 27905.06), ('speech', 27905.06, 27906.08), ('noEnergy', 27906.08, 27906.74), ('speech', 27906.74, 27907.78), ('noEnergy', 27907.78, 27909.16), ('speech', 27909.16, 27910.18), ('noEnergy', 27910.18, 27911.38), ('speech', 27911.38, 27946.1), ('noEnergy', 27946.1, 27946.52), ('speech', 27946.52, 27949.18), ('noEnergy', 27949.18, 27949.84), ('speech', 27949.84, 27950.52), ('noEnergy', 27950.52, 27952.04), ('speech', 27952.04, 27952.74), ('noEnergy', 27952.74, 27953.16), ('speech', 27953.16, 27955.46), ('noEnergy', 27955.46, 27957.72), ('speech', 27957.72, 27958.76), ('noEnergy', 27958.76, 27959.52), ('speech', 27959.52, 27965.2), ('noEnergy', 27965.2, 27966.4), ('speech', 27966.4, 27982.86), ('noEnergy', 27982.86, 27983.7), ('speech', 27983.7, 27990.9), ('noEnergy', 27990.9, 27991.68), ('speech', 27991.68, 28010.68), ('noEnergy', 28010.68, 28011.12), ('speech', 28011.12, 28043.02), ('noEnergy', 28043.02, 28043.4), ('speech', 28043.4, 28081.94), ('noEnergy', 28081.94, 28082.68), ('speech', 28082.68, 28133.28), ('noEnergy', 28133.28, 28133.86), ('speech', 28133.86, 28142.86), ('noEnergy', 28142.86, 28143.3), ('speech', 28143.3, 28162.54), ('noEnergy', 28162.54, 28163.54), ('speech', 28163.54, 28185.84), ('noEnergy', 28185.84, 28186.56), ('speech', 28186.56, 28216.66), ('music', 28216.66, 28219.16), ('speech', 28219.16, 28245.66), ('music', 28245.66, 28248.88), ('speech', 28248.88, 28323.44), ('music', 28323.44, 28371.4), ('speech', 28371.4, 28379.86), ('music', 28379.86, 28385.0), ('speech', 28385.0, 28398.48), ('noEnergy', 28398.48, 28399.34), ('music', 28399.34, 28400.54), ('speech', 28400.54, 28423.72), ('noEnergy', 28423.72, 28425.32), ('speech', 28425.32, 28438.32), ('noEnergy', 28438.32, 28439.3), ('speech', 28439.3, 28461.16), ('noEnergy', 28461.16, 28461.56), ('speech', 28461.56, 28480.14), ('noEnergy', 28480.14, 28481.02), ('speech', 28481.02, 28515.44), ('noEnergy', 28515.44, 28516.44), ('speech', 28516.44, 28543.78), ('noEnergy', 28543.78, 28544.26), ('speech', 28544.26, 28568.24), ('noEnergy', 28568.24, 28568.68), ('speech', 28568.68, 28573.68), ('noEnergy', 28573.68, 28574.22), ('speech', 28574.22, 28577.5), ('noEnergy', 28577.5, 28577.92), ('speech', 28577.92, 28598.84), ('noEnergy', 28598.84, 28600.0), ('speech', 28600.0, 28790.88), ('noEnergy', 28790.88, 28791.58), ('speech', 28791.58, 28810.24), ('noEnergy', 28810.24, 28811.88), ('speech', 28811.88, 28829.42), ('noEnergy', 28829.42, 28829.84), ('speech', 28829.84, 28843.54), ('noEnergy', 28843.54, 28843.94), ('speech', 28843.94, 28860.12), ('noEnergy', 28860.12, 28860.56), ('speech', 28860.56, 28878.42), ('noEnergy', 28878.42, 28878.9), ('speech', 28878.9, 28883.5), ('noEnergy', 28883.5, 28883.92), ('speech', 28883.92, 28905.66), ('noEnergy', 28905.66, 28906.7), ('speech', 28906.7, 28948.6), ('noEnergy', 28948.6, 28949.74), ('speech', 28949.74, 28951.94), ('noEnergy', 28951.94, 28952.8), ('speech', 28952.8, 28956.68), ('noEnergy', 28956.68, 28957.32), ('speech', 28957.32, 28962.92), ('noEnergy', 28962.92, 28963.58), ('speech', 28963.58, 28964.54), ('noEnergy', 28964.54, 28965.54), ('speech', 28965.54, 28967.94), ('noEnergy', 28967.94, 28968.46), ('speech', 28968.46, 29036.5), ('music', 29036.5, 29038.88), ('speech', 29038.88, 29081.42), ('music', 29081.42, 29082.22), ('noEnergy', 29082.22, 29083.88), ('speech', 29083.88, 29091.02), ('noEnergy', 29091.02, 29091.54), ('speech', 29091.54, 29097.36), ('noEnergy', 29097.36, 29097.92), ('speech', 29097.92, 29117.68), ('noEnergy', 29117.68, 29118.14), ('speech', 29118.14, 29119.96), ('noEnergy', 29119.96, 29120.4), ('speech', 29120.4, 29160.62), ('music', 29160.62, 29164.54), ('noEnergy', 29164.54, 29165.32), ('speech', 29165.32, 29168.4), ('music', 29168.4, 29193.9), ('speech', 29193.9, 29267.22), ('music', 29267.22, 29271.42), ('speech', 29271.42, 29305.74), ('noise', 29305.74, 29567.8), ('noEnergy', 29567.8, 29586.64)]\n",
      "CSV exists -- Appending\n"
     ]
    },
    {
     "name": "stderr",
     "output_type": "stream",
     "text": [
      "/mnt/rds/redhen/gallina/home/hxm471/RedHenLab-Multimodal_TV_Show_Segmentation/inaSpeechSegmenter/inaSpeechSegmenter/export_funcs.py:52: FutureWarning: The frame.append method is deprecated and will be removed from pandas in a future version. Use pandas.concat instead.\n",
      "  df = df2.append(df)\n"
     ]
    },
    {
     "name": "stdout",
     "output_type": "stream",
     "text": [
      "Saving DF to CSV\n",
      "\n",
      "DF   index start_second stop_second  \\\n",
      "0     0            0        2700   \n",
      "1     0         2700        5400   \n",
      "2     0         5400        8100   \n",
      "3     0         8100       10800   \n",
      "4     0        10800       13500   \n",
      "\n",
      "                                                mfcc  \\\n",
      "0  [[-32.46376419067383, -32.03540802001953, -31....   \n",
      "1  [[-7.569925785064697, -7.288165092468262, -5.9...   \n",
      "2  [[-12.193737983703613, -11.249810218811035, -8...   \n",
      "3  [[-9.96646499633789, -10.947720527648926, -9.0...   \n",
      "4  [[-7.732295513153076, -8.385476112365723, -5.3...   \n",
      "\n",
      "                                                loge difflen  \\\n",
      "0  [-18.872709274291992, -5.199673175811768, -4.0...       0   \n",
      "1  [-3.0485196113586426, -3.014030694961548, -2.9...       0   \n",
      "2  [-5.2589921951293945, -5.24594783782959, -6.61...       0   \n",
      "3  [-3.6181161403656006, -4.981551647186279, -6.0...       0   \n",
      "4  [-3.1724348068237305, -2.5462470054626465, -2....       0   \n",
      "\n",
      "                         audio_classification_labels  \n",
      "0  [('speech', 0.0, 14.36), ('music', 14.36, 17.3...  \n",
      "1  [('speech', 2700.0, 2716.98), ('music', 2716.9...  \n",
      "2  [('speech', 5400.0, 5401.0), ('noEnergy', 5401...  \n",
      "3  [('speech', 8100.0, 8120.66), ('music', 8120.6...  \n",
      "4  [('speech', 10800.0, 10805.7), ('music', 10805...  \n",
      "File /mnt/rds/redhen/gallina/home/hxm471/RedHenLab-Multimodal_TV_Show_Segmentation/mtvss/data/tmp/splits/2006-01-19_0000_US_00002692_V2_MB13_VHS14_H13_CG.csv\n",
      "\n",
      "Finished fexport\n"
     ]
    },
    {
     "ename": "KeyboardInterrupt",
     "evalue": "",
     "output_type": "error",
     "traceback": [
      "\u001b[0;31m---------------------------------------------------------------------------\u001b[0m",
      "\u001b[0;31mKeyboardInterrupt\u001b[0m                         Traceback (most recent call last)",
      "Input \u001b[0;32mIn [62]\u001b[0m, in \u001b[0;36m<cell line: 7>\u001b[0;34m()\u001b[0m\n\u001b[1;32m      4\u001b[0m \u001b[38;5;28mprint\u001b[39m(\u001b[38;5;124m\"\u001b[39m\u001b[38;5;130;01m\\n\u001b[39;00m\u001b[38;5;124mOutput files:\u001b[39m\u001b[38;5;130;01m\\n\u001b[39;00m\u001b[38;5;124m\"\u001b[39m,output_file)\n\u001b[1;32m      5\u001b[0m \u001b[38;5;28mprint\u001b[39m(\u001b[38;5;124m\"\u001b[39m\u001b[38;5;130;01m\\n\u001b[39;00m\u001b[38;5;124m-- Step 2.3: Starting batch process --\u001b[39m\u001b[38;5;130;01m\\n\u001b[39;00m\u001b[38;5;124m\"\u001b[39m)\n\u001b[0;32m----> 7\u001b[0m \u001b[43mseg\u001b[49m\u001b[38;5;241;43m.\u001b[39;49m\u001b[43mbatch_process\u001b[49m\u001b[43m(\u001b[49m\u001b[43mfiles\u001b[49m\u001b[43m,\u001b[49m\u001b[43m \u001b[49m\u001b[43moutput_file\u001b[49m\u001b[43m,\u001b[49m\u001b[43m \u001b[49m\u001b[43mtmpdir\u001b[49m\u001b[38;5;241;43m=\u001b[39;49m\u001b[38;5;124;43m'\u001b[39;49m\u001b[38;5;124;43m/mnt/rds/redhen/gallina/home/hxm471/RedHenLab-Multimodal_TV_Show_Segmentation/mtvss/data/tmp/splits/\u001b[39;49m\u001b[38;5;124;43m'\u001b[39;49m\u001b[43m,\u001b[49m\n\u001b[1;32m      8\u001b[0m \u001b[43m                  \u001b[49m\u001b[43mverbose\u001b[49m\u001b[38;5;241;43m=\u001b[39;49m\u001b[38;5;28;43;01mTrue\u001b[39;49;00m\u001b[43m,\u001b[49m\u001b[43m \u001b[49m\u001b[43moutput_format\u001b[49m\u001b[38;5;241;43m=\u001b[39;49m\u001b[38;5;124;43m'\u001b[39;49m\u001b[38;5;124;43mcsv\u001b[39;49m\u001b[38;5;124;43m'\u001b[39;49m\u001b[43m)\u001b[49m\n",
      "File \u001b[0;32m~/inaSpeechSegmenter/inaSpeechSegmenter/segmenter.py:297\u001b[0m, in \u001b[0;36mSegmenter.batch_process\u001b[0;34m(self, linput, loutput, tmpdir, verbose, skipifexist, nbtry, trydelay, output_format)\u001b[0m\n\u001b[1;32m    295\u001b[0m i \u001b[38;5;241m=\u001b[39m \u001b[38;5;241m0\u001b[39m\n\u001b[1;32m    296\u001b[0m \u001b[38;5;28mprint\u001b[39m(fg)\n\u001b[0;32m--> 297\u001b[0m \u001b[38;5;28;01mfor\u001b[39;00m feats, msg \u001b[38;5;129;01min\u001b[39;00m fg:\n\u001b[1;32m    298\u001b[0m     lmsg \u001b[38;5;241m+\u001b[39m\u001b[38;5;241m=\u001b[39m msg\n\u001b[1;32m    299\u001b[0m     i \u001b[38;5;241m+\u001b[39m\u001b[38;5;241m=\u001b[39m \u001b[38;5;28mlen\u001b[39m(msg)\n",
      "File \u001b[0;32m~/inaSpeechSegmenter/inaSpeechSegmenter/segmenter.py:413\u001b[0m, in \u001b[0;36mfeatGenerator\u001b[0;34m(ilist, olist, tmpdir, ffmpeg, skipifexist, nbtry, trydelay)\u001b[0m\n\u001b[1;32m    410\u001b[0m     thread_list\u001b[38;5;241m.\u001b[39mappend(t)\n\u001b[1;32m    412\u001b[0m \u001b[38;5;28;01mwhile\u001b[39;00m(\u001b[38;5;28;01mTrue\u001b[39;00m):\n\u001b[0;32m--> 413\u001b[0m     \u001b[38;5;28;01mif\u001b[39;00m(\u001b[38;5;129;01mnot\u001b[39;00m \u001b[43mq\u001b[49m\u001b[38;5;241;43m.\u001b[39;49m\u001b[43mempty\u001b[49m\u001b[43m(\u001b[49m\u001b[43m)\u001b[49m):\n\u001b[1;32m    414\u001b[0m         \u001b[38;5;66;03m# If q not empty parse the element\u001b[39;00m\n\u001b[1;32m    415\u001b[0m         ret \u001b[38;5;241m=\u001b[39m q\u001b[38;5;241m.\u001b[39mget()\n\u001b[1;32m    416\u001b[0m         \u001b[38;5;66;03m# Check what the element is:\u001b[39;00m\n",
      "File \u001b[0;32m/usr/lib/python3.8/queue.py:108\u001b[0m, in \u001b[0;36mQueue.empty\u001b[0;34m(self)\u001b[0m\n\u001b[1;32m     97\u001b[0m \u001b[38;5;124;03m'''Return True if the queue is empty, False otherwise (not reliable!).\u001b[39;00m\n\u001b[1;32m     98\u001b[0m \n\u001b[1;32m     99\u001b[0m \u001b[38;5;124;03mThis method is likely to be removed at some point.  Use qsize() == 0\u001b[39;00m\n\u001b[0;32m   (...)\u001b[0m\n\u001b[1;32m    105\u001b[0m \u001b[38;5;124;03mcompleted, the preferred technique is to use the join() method.\u001b[39;00m\n\u001b[1;32m    106\u001b[0m \u001b[38;5;124;03m'''\u001b[39;00m\n\u001b[1;32m    107\u001b[0m \u001b[38;5;28;01mwith\u001b[39;00m \u001b[38;5;28mself\u001b[39m\u001b[38;5;241m.\u001b[39mmutex:\n\u001b[0;32m--> 108\u001b[0m     \u001b[38;5;28;01mreturn\u001b[39;00m \u001b[38;5;129;01mnot\u001b[39;00m \u001b[38;5;28mself\u001b[39m\u001b[38;5;241m.\u001b[39m_qsize()\n",
      "\u001b[0;31mKeyboardInterrupt\u001b[0m: "
     ]
    }
   ],
   "source": [
    "base = [os.path.splitext(os.path.basename(e))[0] for e in files]\n",
    "\n",
    "print(\"\\nbase files:\\n\",base)\n",
    "print(\"\\nOutput files:\\n\",output_file)\n",
    "print(\"\\n-- Step 2.3: Starting batch process --\\n\")\n",
    "\n",
    "seg.batch_process(files, output_file, tmpdir='/mnt/rds/redhen/gallina/home/hxm471/RedHenLab-Multimodal_TV_Show_Segmentation/mtvss/data/tmp/splits/',\n",
    "                  verbose=True, output_format='csv')"
   ]
  },
  {
   "cell_type": "code",
   "execution_count": null,
   "id": "c2cded59",
   "metadata": {},
   "outputs": [],
   "source": [
    "files = ['/mnt/rds/redhen/gallina/Rosenthal/2006/2006-01/2006-01-19/2006-01-19_0000_US_00002692_V2_MB13_VHS14_H13_CG.mp4','/mnt/rds/redhen/gallina/Rosenthal/2006/2006-12/2006-12-11/2006-12-11_0000_US_00018530_V1_VHS23_MB22_E1_NV.mp4']\n",
    "output_file=['/mnt/rds/redhen/gallina/home/hxm471/RedHenLab-Multimodal_TV_Show_Segmentation/mtvss/data/tmp/splits/2006-01-19_0000_US_00002692_V2_MB13_VHS14_H13_CG.csv','/mnt/rds/redhen/gallina/home/hxm471/RedHenLab-Multimodal_TV_Show_Segmentation/mtvss/data/tmp/splits/2006-12-11_0000_US_00018530_V1_VHS23_MB22_E1_NV.csv']\n"
   ]
  },
  {
   "cell_type": "code",
   "execution_count": null,
   "id": "37c29853",
   "metadata": {},
   "outputs": [],
   "source": [
    "with warnings.catch_warnings():\n",
    "    warnings.simplefilter(\"ignore\")\n",
    "    \n",
    "    base = [os.path.splitext(os.path.basename(e))[0] for e in files]\n",
    "    \n",
    "    print(\"\\nbase files:\\n\",base)\n",
    "    print(\"\\nOutput files:\\n\",output_file)\n",
    "    print(\"\\n-- Step 2.3: Starting batch process --\\n\")\n",
    "    \n",
    "    seg.batch_process(files, output_file, tmpdir='/mnt/rds/redhen/gallina/home/hxm471/RedHenLab-Multimodal_TV_Show_Segmentation/mtvss/data/tmp/splits/',\n",
    "                      verbose=True, output_format='csv')"
   ]
  },
  {
   "cell_type": "code",
   "execution_count": null,
   "id": "11d9019a",
   "metadata": {},
   "outputs": [],
   "source": [
    "from subprocess import Popen, PIPE"
   ]
  },
  {
   "cell_type": "code",
   "execution_count": null,
   "id": "6efccec1",
   "metadata": {},
   "outputs": [],
   "source": []
  },
  {
   "cell_type": "code",
   "execution_count": null,
   "id": "275dea24",
   "metadata": {},
   "outputs": [],
   "source": [
    "args = [\"ffprobe\",\"-i\",files[0],\"-v\",\"quiet\",\"-show_entries\",\"format=duration\",\n",
    "       \"-of\",\"default=noprint_wrappers=1:nokey=1\"]"
   ]
  },
  {
   "cell_type": "code",
   "execution_count": null,
   "id": "4b829e09",
   "metadata": {},
   "outputs": [],
   "source": [
    "p = Popen(args, stdout=PIPE, stderr=PIPE)"
   ]
  },
  {
   "cell_type": "code",
   "execution_count": null,
   "id": "9db9422d",
   "metadata": {},
   "outputs": [],
   "source": [
    "output,error = p.communicate()"
   ]
  },
  {
   "cell_type": "code",
   "execution_count": null,
   "id": "88e90961",
   "metadata": {},
   "outputs": [],
   "source": [
    "type(output.decode(\"utf-8\"))"
   ]
  },
  {
   "cell_type": "code",
   "execution_count": null,
   "id": "6cc2747d",
   "metadata": {},
   "outputs": [],
   "source": [
    "s_output_strip = output.decode(\"utf-8\").strip()\n",
    "s_output_strip"
   ]
  },
  {
   "cell_type": "code",
   "execution_count": null,
   "id": "1e095573",
   "metadata": {},
   "outputs": [],
   "source": [
    "f_output_strip = float(s_output_strip)\n",
    "f_output_strip"
   ]
  },
  {
   "cell_type": "code",
   "execution_count": null,
   "id": "7aded271",
   "metadata": {},
   "outputs": [],
   "source": [
    "i_output = int(f_output_strip)\n",
    "i_output"
   ]
  },
  {
   "cell_type": "code",
   "execution_count": null,
   "id": "ff485d3d",
   "metadata": {},
   "outputs": [],
   "source": [
    "import math"
   ]
  },
  {
   "cell_type": "code",
   "execution_count": null,
   "id": "471d9723",
   "metadata": {},
   "outputs": [],
   "source": [
    "i_output//2700"
   ]
  },
  {
   "cell_type": "code",
   "execution_count": null,
   "id": "e80b1b24",
   "metadata": {
    "scrolled": true
   },
   "outputs": [],
   "source": [
    "for i in range(math.ceil(i_output/2700)):\n",
    "    if(math.ceil(i_output/2700)-1 == i):\n",
    "        start_sec = i*2700\n",
    "        args += ['-ss', '%f' % start_sec]\n",
    "        tmpwav = tmpdirname + '/' + base + '_'+str(start_sec)+'.wav'\n",
    "    else:\n",
    "        start_sec = i*2700\n",
    "        args += ['-ss', '%f' % start_sec]\n",
    "\n",
    "        stop_sec = start_sec+2700\n",
    "        args += ['-to', '%f' % stop_sec]\n",
    "\n",
    "        tmpwav = tmpdirname + '/' + base + '_'+str(start_sec)+'_'+str(stop_sec)+'.wav'\n",
    "\n",
    "    print('tmpwav',tmpwav)\n",
    "    args += [tmpwav]\n",
    "\n",
    "    # launch ffmpeg\n",
    "    p = Popen(args, stdout=PIPE, stderr=PIPE)\n",
    "    output, error = p.communicate()\n",
    "    assert p.returncode == 0, error\n",
    "\n",
    "    # Get Mel Power Spectrogram and Energy\n",
    "    try:\n",
    "        mel_output.append([_wav2feats(tmpwav)])\n",
    "        print(mel_output)\n",
    "    except:\n",
    "        print(_wav2feats(tmpwav))\n",
    "        print(mel_output)"
   ]
  },
  {
   "cell_type": "code",
   "execution_count": null,
   "id": "144cfedf",
   "metadata": {},
   "outputs": [
    {
     "name": "stdout",
     "output_type": "stream",
     "text": [
      "Starting _wav2feats\n",
      ".wav\n",
      "wav2feats done\n",
      "[[(array([[-32.463764 , -32.035408 , -31.539701 , ..., -29.74881  ,\n",
      "        -29.935236 , -30.722246 ],\n",
      "       [-13.255214 , -13.140497 , -13.16552  , ..., -13.3342905,\n",
      "        -13.762875 , -13.80878  ],\n",
      "       [-10.913487 ,  -9.879338 , -10.441387 , ...,  -7.4880433,\n",
      "         -8.006143 ,  -8.794882 ],\n",
      "       ...,\n",
      "       [ -8.840938 ,  -7.108992 ,  -6.0094843, ..., -10.161992 ,\n",
      "        -10.430389 , -11.119968 ],\n",
      "       [ -8.231871 ,  -6.986303 ,  -6.135151 , ...,  -9.589039 ,\n",
      "        -10.604577 , -11.359017 ],\n",
      "       [ -7.9119587,  -7.2868414,  -6.1092787, ...,  -9.507052 ,\n",
      "        -10.021125 , -10.0439   ]], dtype=float32), array([-18.87271  ,  -5.199673 ,  -4.035604 , ...,  -2.8083267,\n",
      "        -2.9989595,  -3.1119235], dtype=float32), 0)], [(array([[ -7.569926 ,  -7.288165 ,  -5.953776 , ...,  -9.404838 ,\n",
      "         -9.585047 , -10.249117 ],\n",
      "       [ -8.367337 ,  -7.358151 ,  -5.746033 , ...,  -9.314454 ,\n",
      "         -9.307016 , -10.117864 ],\n",
      "       [ -9.017323 ,  -7.5009465,  -7.7627993, ...,  -8.862713 ,\n",
      "         -9.243231 , -10.092485 ],\n",
      "       ...,\n",
      "       [-10.951399 ,  -9.290395 ,  -8.51799  , ..., -13.808423 ,\n",
      "        -15.111453 , -15.240005 ],\n",
      "       [-11.327022 , -10.405101 ,  -9.898311 , ..., -14.448731 ,\n",
      "        -14.64173  , -14.727833 ],\n",
      "       [-10.186784 ,  -9.758658 ,  -8.880105 , ..., -14.337662 ,\n",
      "        -14.673585 , -15.183426 ]], dtype=float32), array([-3.0485196, -3.0140307, -2.97007  , ..., -4.685751 , -4.290446 ,\n",
      "       -4.7129946], dtype=float32), 0)]]\n",
      "tmpwav /mnt/rds/redhen/gallina/home/hxm471/RedHenLab-Multimodal_TV_Show_Segmentation/mtvss/data/tmp/splits/tmp23ake67c/2006-01-19_0000_US_00002692_V2_MB13_VHS14_H13_CG_5400_8100.wav\n",
      "Starting _wav2feats\n",
      ".wav\n",
      "wav2feats done\n",
      "[[(array([[-32.463764 , -32.035408 , -31.539701 , ..., -29.74881  ,\n",
      "        -29.935236 , -30.722246 ],\n",
      "       [-13.255214 , -13.140497 , -13.16552  , ..., -13.3342905,\n",
      "        -13.762875 , -13.80878  ],\n",
      "       [-10.913487 ,  -9.879338 , -10.441387 , ...,  -7.4880433,\n",
      "         -8.006143 ,  -8.794882 ],\n",
      "       ...,\n",
      "       [ -8.840938 ,  -7.108992 ,  -6.0094843, ..., -10.161992 ,\n",
      "        -10.430389 , -11.119968 ],\n",
      "       [ -8.231871 ,  -6.986303 ,  -6.135151 , ...,  -9.589039 ,\n",
      "        -10.604577 , -11.359017 ],\n",
      "       [ -7.9119587,  -7.2868414,  -6.1092787, ...,  -9.507052 ,\n",
      "        -10.021125 , -10.0439   ]], dtype=float32), array([-18.87271  ,  -5.199673 ,  -4.035604 , ...,  -2.8083267,\n",
      "        -2.9989595,  -3.1119235], dtype=float32), 0)], [(array([[ -7.569926 ,  -7.288165 ,  -5.953776 , ...,  -9.404838 ,\n",
      "         -9.585047 , -10.249117 ],\n",
      "       [ -8.367337 ,  -7.358151 ,  -5.746033 , ...,  -9.314454 ,\n",
      "         -9.307016 , -10.117864 ],\n",
      "       [ -9.017323 ,  -7.5009465,  -7.7627993, ...,  -8.862713 ,\n",
      "         -9.243231 , -10.092485 ],\n",
      "       ...,\n",
      "       [-10.951399 ,  -9.290395 ,  -8.51799  , ..., -13.808423 ,\n",
      "        -15.111453 , -15.240005 ],\n",
      "       [-11.327022 , -10.405101 ,  -9.898311 , ..., -14.448731 ,\n",
      "        -14.64173  , -14.727833 ],\n",
      "       [-10.186784 ,  -9.758658 ,  -8.880105 , ..., -14.337662 ,\n",
      "        -14.673585 , -15.183426 ]], dtype=float32), array([-3.0485196, -3.0140307, -2.97007  , ..., -4.685751 , -4.290446 ,\n",
      "       -4.7129946], dtype=float32), 0)], [(array([[-12.193738, -11.24981 ,  -8.880682, ..., -14.323146, -14.504584,\n",
      "        -14.620891],\n",
      "       [-10.757137, -10.794792, -10.442978, ..., -14.36854 , -14.559933,\n",
      "        -14.670558],\n",
      "       [-10.529157, -10.137875,  -7.585806, ..., -14.562606, -14.451778,\n",
      "        -14.736474],\n",
      "       ...,\n",
      "       [-10.169097,  -9.865131, -11.632103, ...,  -9.073708, -10.710325,\n",
      "        -11.470611],\n",
      "       [ -9.863252,  -9.270547,  -9.306829, ...,  -9.843868, -10.156451,\n",
      "        -10.75351 ],\n",
      "       [-10.089003, -10.755243,  -8.033482, ...,  -9.30953 ,  -9.767592,\n",
      "        -10.754575]], dtype=float32), array([-5.258992 , -5.245948 , -6.6191235, ..., -4.3064766, -2.961619 ,\n",
      "       -2.167799 ], dtype=float32), 0)]]\n",
      "tmpwav /mnt/rds/redhen/gallina/home/hxm471/RedHenLab-Multimodal_TV_Show_Segmentation/mtvss/data/tmp/splits/tmp23ake67c/2006-01-19_0000_US_00002692_V2_MB13_VHS14_H13_CG_8100_10800.wav\n",
      "Starting _wav2feats\n",
      ".wav\n",
      "wav2feats done\n",
      "[[(array([[-32.463764 , -32.035408 , -31.539701 , ..., -29.74881  ,\n",
      "        -29.935236 , -30.722246 ],\n",
      "       [-13.255214 , -13.140497 , -13.16552  , ..., -13.3342905,\n",
      "        -13.762875 , -13.80878  ],\n",
      "       [-10.913487 ,  -9.879338 , -10.441387 , ...,  -7.4880433,\n",
      "         -8.006143 ,  -8.794882 ],\n",
      "       ...,\n",
      "       [ -8.840938 ,  -7.108992 ,  -6.0094843, ..., -10.161992 ,\n",
      "        -10.430389 , -11.119968 ],\n",
      "       [ -8.231871 ,  -6.986303 ,  -6.135151 , ...,  -9.589039 ,\n",
      "        -10.604577 , -11.359017 ],\n",
      "       [ -7.9119587,  -7.2868414,  -6.1092787, ...,  -9.507052 ,\n",
      "        -10.021125 , -10.0439   ]], dtype=float32), array([-18.87271  ,  -5.199673 ,  -4.035604 , ...,  -2.8083267,\n",
      "        -2.9989595,  -3.1119235], dtype=float32), 0)], [(array([[ -7.569926 ,  -7.288165 ,  -5.953776 , ...,  -9.404838 ,\n",
      "         -9.585047 , -10.249117 ],\n",
      "       [ -8.367337 ,  -7.358151 ,  -5.746033 , ...,  -9.314454 ,\n",
      "         -9.307016 , -10.117864 ],\n",
      "       [ -9.017323 ,  -7.5009465,  -7.7627993, ...,  -8.862713 ,\n",
      "         -9.243231 , -10.092485 ],\n",
      "       ...,\n",
      "       [-10.951399 ,  -9.290395 ,  -8.51799  , ..., -13.808423 ,\n",
      "        -15.111453 , -15.240005 ],\n",
      "       [-11.327022 , -10.405101 ,  -9.898311 , ..., -14.448731 ,\n",
      "        -14.64173  , -14.727833 ],\n",
      "       [-10.186784 ,  -9.758658 ,  -8.880105 , ..., -14.337662 ,\n",
      "        -14.673585 , -15.183426 ]], dtype=float32), array([-3.0485196, -3.0140307, -2.97007  , ..., -4.685751 , -4.290446 ,\n",
      "       -4.7129946], dtype=float32), 0)], [(array([[-12.193738, -11.24981 ,  -8.880682, ..., -14.323146, -14.504584,\n",
      "        -14.620891],\n",
      "       [-10.757137, -10.794792, -10.442978, ..., -14.36854 , -14.559933,\n",
      "        -14.670558],\n",
      "       [-10.529157, -10.137875,  -7.585806, ..., -14.562606, -14.451778,\n",
      "        -14.736474],\n",
      "       ...,\n",
      "       [-10.169097,  -9.865131, -11.632103, ...,  -9.073708, -10.710325,\n",
      "        -11.470611],\n",
      "       [ -9.863252,  -9.270547,  -9.306829, ...,  -9.843868, -10.156451,\n",
      "        -10.75351 ],\n",
      "       [-10.089003, -10.755243,  -8.033482, ...,  -9.30953 ,  -9.767592,\n",
      "        -10.754575]], dtype=float32), array([-5.258992 , -5.245948 , -6.6191235, ..., -4.3064766, -2.961619 ,\n",
      "       -2.167799 ], dtype=float32), 0)], [(array([[ -9.966465 , -10.947721 ,  -9.07739  , ...,  -9.791676 ,\n",
      "        -10.1083975, -10.964562 ],\n",
      "       [ -9.683592 ,  -9.648298 ,  -9.679403 , ..., -10.78502  ,\n",
      "        -10.98671  , -11.727675 ],\n",
      "       [-10.296968 , -10.235432 , -10.003051 , ..., -10.960644 ,\n",
      "        -11.239809 , -12.0835705],\n",
      "       ...,\n",
      "       [ -7.5191154,  -6.043746 ,  -6.294225 , ...,  -9.207163 ,\n",
      "         -9.1654005,  -9.026358 ],\n",
      "       [ -7.2843566,  -6.546952 ,  -6.2327824, ...,  -9.309137 ,\n",
      "         -9.394076 ,  -9.755525 ],\n",
      "       [ -7.1285644,  -6.4994917,  -7.100646 , ...,  -9.216688 ,\n",
      "         -9.442033 , -10.351369 ]], dtype=float32), array([-3.6181161, -4.9815516, -6.0379195, ..., -3.877469 , -3.9420502,\n",
      "       -3.808981 ], dtype=float32), 0)]]\n",
      "tmpwav /mnt/rds/redhen/gallina/home/hxm471/RedHenLab-Multimodal_TV_Show_Segmentation/mtvss/data/tmp/splits/tmp23ake67c/2006-01-19_0000_US_00002692_V2_MB13_VHS14_H13_CG_10800_13500.wav\n",
      "Starting _wav2feats\n",
      ".wav\n",
      "wav2feats done\n",
      "[[(array([[-32.463764 , -32.035408 , -31.539701 , ..., -29.74881  ,\n",
      "        -29.935236 , -30.722246 ],\n",
      "       [-13.255214 , -13.140497 , -13.16552  , ..., -13.3342905,\n",
      "        -13.762875 , -13.80878  ],\n",
      "       [-10.913487 ,  -9.879338 , -10.441387 , ...,  -7.4880433,\n",
      "         -8.006143 ,  -8.794882 ],\n",
      "       ...,\n",
      "       [ -8.840938 ,  -7.108992 ,  -6.0094843, ..., -10.161992 ,\n",
      "        -10.430389 , -11.119968 ],\n",
      "       [ -8.231871 ,  -6.986303 ,  -6.135151 , ...,  -9.589039 ,\n",
      "        -10.604577 , -11.359017 ],\n",
      "       [ -7.9119587,  -7.2868414,  -6.1092787, ...,  -9.507052 ,\n",
      "        -10.021125 , -10.0439   ]], dtype=float32), array([-18.87271  ,  -5.199673 ,  -4.035604 , ...,  -2.8083267,\n",
      "        -2.9989595,  -3.1119235], dtype=float32), 0)], [(array([[ -7.569926 ,  -7.288165 ,  -5.953776 , ...,  -9.404838 ,\n",
      "         -9.585047 , -10.249117 ],\n",
      "       [ -8.367337 ,  -7.358151 ,  -5.746033 , ...,  -9.314454 ,\n",
      "         -9.307016 , -10.117864 ],\n",
      "       [ -9.017323 ,  -7.5009465,  -7.7627993, ...,  -8.862713 ,\n",
      "         -9.243231 , -10.092485 ],\n",
      "       ...,\n",
      "       [-10.951399 ,  -9.290395 ,  -8.51799  , ..., -13.808423 ,\n",
      "        -15.111453 , -15.240005 ],\n",
      "       [-11.327022 , -10.405101 ,  -9.898311 , ..., -14.448731 ,\n",
      "        -14.64173  , -14.727833 ],\n",
      "       [-10.186784 ,  -9.758658 ,  -8.880105 , ..., -14.337662 ,\n",
      "        -14.673585 , -15.183426 ]], dtype=float32), array([-3.0485196, -3.0140307, -2.97007  , ..., -4.685751 , -4.290446 ,\n",
      "       -4.7129946], dtype=float32), 0)], [(array([[-12.193738, -11.24981 ,  -8.880682, ..., -14.323146, -14.504584,\n",
      "        -14.620891],\n",
      "       [-10.757137, -10.794792, -10.442978, ..., -14.36854 , -14.559933,\n",
      "        -14.670558],\n",
      "       [-10.529157, -10.137875,  -7.585806, ..., -14.562606, -14.451778,\n",
      "        -14.736474],\n",
      "       ...,\n",
      "       [-10.169097,  -9.865131, -11.632103, ...,  -9.073708, -10.710325,\n",
      "        -11.470611],\n",
      "       [ -9.863252,  -9.270547,  -9.306829, ...,  -9.843868, -10.156451,\n",
      "        -10.75351 ],\n",
      "       [-10.089003, -10.755243,  -8.033482, ...,  -9.30953 ,  -9.767592,\n",
      "        -10.754575]], dtype=float32), array([-5.258992 , -5.245948 , -6.6191235, ..., -4.3064766, -2.961619 ,\n",
      "       -2.167799 ], dtype=float32), 0)], [(array([[ -9.966465 , -10.947721 ,  -9.07739  , ...,  -9.791676 ,\n",
      "        -10.1083975, -10.964562 ],\n",
      "       [ -9.683592 ,  -9.648298 ,  -9.679403 , ..., -10.78502  ,\n",
      "        -10.98671  , -11.727675 ],\n",
      "       [-10.296968 , -10.235432 , -10.003051 , ..., -10.960644 ,\n",
      "        -11.239809 , -12.0835705],\n",
      "       ...,\n",
      "       [ -7.5191154,  -6.043746 ,  -6.294225 , ...,  -9.207163 ,\n",
      "         -9.1654005,  -9.026358 ],\n",
      "       [ -7.2843566,  -6.546952 ,  -6.2327824, ...,  -9.309137 ,\n",
      "         -9.394076 ,  -9.755525 ],\n",
      "       [ -7.1285644,  -6.4994917,  -7.100646 , ...,  -9.216688 ,\n",
      "         -9.442033 , -10.351369 ]], dtype=float32), array([-3.6181161, -4.9815516, -6.0379195, ..., -3.877469 , -3.9420502,\n",
      "       -3.808981 ], dtype=float32), 0)], [(array([[-7.7322955, -8.385476 , -5.313422 , ..., -8.379834 , -8.198007 ,\n",
      "        -8.480492 ],\n",
      "       [-7.170421 , -6.405901 , -5.915062 , ..., -8.283975 , -7.35143  ,\n",
      "        -7.857069 ],\n",
      "       [-8.049391 , -6.7440434, -4.9817395, ..., -7.3482404, -6.7428975,\n",
      "        -6.3173876],\n",
      "       ...,\n",
      "       [-7.767259 , -8.124711 , -8.109384 , ..., -5.8061733, -6.1216   ,\n",
      "        -6.7837   ],\n",
      "       [-7.9409804, -8.119903 , -9.449467 , ..., -5.606623 , -5.5991096,\n",
      "        -6.604328 ],\n",
      "       [-9.565698 , -9.792361 , -9.175415 , ..., -6.4351864, -5.9957027,\n",
      "        -6.484421 ]], dtype=float32), array([-3.1724348, -2.546247 , -2.4190583, ..., -1.7396951, -1.8401467,\n",
      "       -1.9968003], dtype=float32), 0)]]\n",
      "tmpwav /mnt/rds/redhen/gallina/home/hxm471/RedHenLab-Multimodal_TV_Show_Segmentation/mtvss/data/tmp/splits/tmp23ake67c/2006-01-19_0000_US_00002692_V2_MB13_VHS14_H13_CG_13500_16200.wav\n"
     ]
    },
    {
     "name": "stdout",
     "output_type": "stream",
     "text": [
      "Starting _wav2feats\n",
      ".wav\n",
      "wav2feats done\n",
      "[[(array([[-32.463764 , -32.035408 , -31.539701 , ..., -29.74881  ,\n",
      "        -29.935236 , -30.722246 ],\n",
      "       [-13.255214 , -13.140497 , -13.16552  , ..., -13.3342905,\n",
      "        -13.762875 , -13.80878  ],\n",
      "       [-10.913487 ,  -9.879338 , -10.441387 , ...,  -7.4880433,\n",
      "         -8.006143 ,  -8.794882 ],\n",
      "       ...,\n",
      "       [ -8.840938 ,  -7.108992 ,  -6.0094843, ..., -10.161992 ,\n",
      "        -10.430389 , -11.119968 ],\n",
      "       [ -8.231871 ,  -6.986303 ,  -6.135151 , ...,  -9.589039 ,\n",
      "        -10.604577 , -11.359017 ],\n",
      "       [ -7.9119587,  -7.2868414,  -6.1092787, ...,  -9.507052 ,\n",
      "        -10.021125 , -10.0439   ]], dtype=float32), array([-18.87271  ,  -5.199673 ,  -4.035604 , ...,  -2.8083267,\n",
      "        -2.9989595,  -3.1119235], dtype=float32), 0)], [(array([[ -7.569926 ,  -7.288165 ,  -5.953776 , ...,  -9.404838 ,\n",
      "         -9.585047 , -10.249117 ],\n",
      "       [ -8.367337 ,  -7.358151 ,  -5.746033 , ...,  -9.314454 ,\n",
      "         -9.307016 , -10.117864 ],\n",
      "       [ -9.017323 ,  -7.5009465,  -7.7627993, ...,  -8.862713 ,\n",
      "         -9.243231 , -10.092485 ],\n",
      "       ...,\n",
      "       [-10.951399 ,  -9.290395 ,  -8.51799  , ..., -13.808423 ,\n",
      "        -15.111453 , -15.240005 ],\n",
      "       [-11.327022 , -10.405101 ,  -9.898311 , ..., -14.448731 ,\n",
      "        -14.64173  , -14.727833 ],\n",
      "       [-10.186784 ,  -9.758658 ,  -8.880105 , ..., -14.337662 ,\n",
      "        -14.673585 , -15.183426 ]], dtype=float32), array([-3.0485196, -3.0140307, -2.97007  , ..., -4.685751 , -4.290446 ,\n",
      "       -4.7129946], dtype=float32), 0)], [(array([[-12.193738, -11.24981 ,  -8.880682, ..., -14.323146, -14.504584,\n",
      "        -14.620891],\n",
      "       [-10.757137, -10.794792, -10.442978, ..., -14.36854 , -14.559933,\n",
      "        -14.670558],\n",
      "       [-10.529157, -10.137875,  -7.585806, ..., -14.562606, -14.451778,\n",
      "        -14.736474],\n",
      "       ...,\n",
      "       [-10.169097,  -9.865131, -11.632103, ...,  -9.073708, -10.710325,\n",
      "        -11.470611],\n",
      "       [ -9.863252,  -9.270547,  -9.306829, ...,  -9.843868, -10.156451,\n",
      "        -10.75351 ],\n",
      "       [-10.089003, -10.755243,  -8.033482, ...,  -9.30953 ,  -9.767592,\n",
      "        -10.754575]], dtype=float32), array([-5.258992 , -5.245948 , -6.6191235, ..., -4.3064766, -2.961619 ,\n",
      "       -2.167799 ], dtype=float32), 0)], [(array([[ -9.966465 , -10.947721 ,  -9.07739  , ...,  -9.791676 ,\n",
      "        -10.1083975, -10.964562 ],\n",
      "       [ -9.683592 ,  -9.648298 ,  -9.679403 , ..., -10.78502  ,\n",
      "        -10.98671  , -11.727675 ],\n",
      "       [-10.296968 , -10.235432 , -10.003051 , ..., -10.960644 ,\n",
      "        -11.239809 , -12.0835705],\n",
      "       ...,\n",
      "       [ -7.5191154,  -6.043746 ,  -6.294225 , ...,  -9.207163 ,\n",
      "         -9.1654005,  -9.026358 ],\n",
      "       [ -7.2843566,  -6.546952 ,  -6.2327824, ...,  -9.309137 ,\n",
      "         -9.394076 ,  -9.755525 ],\n",
      "       [ -7.1285644,  -6.4994917,  -7.100646 , ...,  -9.216688 ,\n",
      "         -9.442033 , -10.351369 ]], dtype=float32), array([-3.6181161, -4.9815516, -6.0379195, ..., -3.877469 , -3.9420502,\n",
      "       -3.808981 ], dtype=float32), 0)], [(array([[-7.7322955, -8.385476 , -5.313422 , ..., -8.379834 , -8.198007 ,\n",
      "        -8.480492 ],\n",
      "       [-7.170421 , -6.405901 , -5.915062 , ..., -8.283975 , -7.35143  ,\n",
      "        -7.857069 ],\n",
      "       [-8.049391 , -6.7440434, -4.9817395, ..., -7.3482404, -6.7428975,\n",
      "        -6.3173876],\n",
      "       ...,\n",
      "       [-7.767259 , -8.124711 , -8.109384 , ..., -5.8061733, -6.1216   ,\n",
      "        -6.7837   ],\n",
      "       [-7.9409804, -8.119903 , -9.449467 , ..., -5.606623 , -5.5991096,\n",
      "        -6.604328 ],\n",
      "       [-9.565698 , -9.792361 , -9.175415 , ..., -6.4351864, -5.9957027,\n",
      "        -6.484421 ]], dtype=float32), array([-3.1724348, -2.546247 , -2.4190583, ..., -1.7396951, -1.8401467,\n",
      "       -1.9968003], dtype=float32), 0)], [(array([[ -8.376467 ,  -8.426569 ,  -9.4954   , ...,  -6.035593 ,\n",
      "         -6.345656 ,  -7.3591685],\n",
      "       [ -6.2013893,  -7.2967362,  -8.316773 , ...,  -5.2676625,\n",
      "         -6.0327873,  -7.062413 ],\n",
      "       [ -6.6128736,  -7.502551 ,  -8.322564 , ...,  -6.705733 ,\n",
      "         -6.896237 ,  -7.6717954],\n",
      "       ...,\n",
      "       [-15.199978 , -15.413783 , -15.151013 , ...,  -9.578386 ,\n",
      "         -9.541712 , -11.19871  ],\n",
      "       [-15.08686  , -14.879494 , -15.132951 , ..., -10.62079  ,\n",
      "        -10.027766 , -11.659995 ],\n",
      "       [-15.155062 , -15.535108 , -16.376707 , ..., -11.996537 ,\n",
      "        -11.72048  , -13.63358  ]], dtype=float32), array([-1.5562582, -1.602898 , -1.8389988, ..., -5.3122644, -5.9758973,\n",
      "       -6.911626 ], dtype=float32), 0)]]\n",
      "tmpwav /mnt/rds/redhen/gallina/home/hxm471/RedHenLab-Multimodal_TV_Show_Segmentation/mtvss/data/tmp/splits/tmp23ake67c/2006-01-19_0000_US_00002692_V2_MB13_VHS14_H13_CG_16200_18900.wav\n",
      "Starting _wav2feats\n",
      ".wav\n",
      "wav2feats done\n",
      "[[(array([[-32.463764 , -32.035408 , -31.539701 , ..., -29.74881  ,\n",
      "        -29.935236 , -30.722246 ],\n",
      "       [-13.255214 , -13.140497 , -13.16552  , ..., -13.3342905,\n",
      "        -13.762875 , -13.80878  ],\n",
      "       [-10.913487 ,  -9.879338 , -10.441387 , ...,  -7.4880433,\n",
      "         -8.006143 ,  -8.794882 ],\n",
      "       ...,\n",
      "       [ -8.840938 ,  -7.108992 ,  -6.0094843, ..., -10.161992 ,\n",
      "        -10.430389 , -11.119968 ],\n",
      "       [ -8.231871 ,  -6.986303 ,  -6.135151 , ...,  -9.589039 ,\n",
      "        -10.604577 , -11.359017 ],\n",
      "       [ -7.9119587,  -7.2868414,  -6.1092787, ...,  -9.507052 ,\n",
      "        -10.021125 , -10.0439   ]], dtype=float32), array([-18.87271  ,  -5.199673 ,  -4.035604 , ...,  -2.8083267,\n",
      "        -2.9989595,  -3.1119235], dtype=float32), 0)], [(array([[ -7.569926 ,  -7.288165 ,  -5.953776 , ...,  -9.404838 ,\n",
      "         -9.585047 , -10.249117 ],\n",
      "       [ -8.367337 ,  -7.358151 ,  -5.746033 , ...,  -9.314454 ,\n",
      "         -9.307016 , -10.117864 ],\n",
      "       [ -9.017323 ,  -7.5009465,  -7.7627993, ...,  -8.862713 ,\n",
      "         -9.243231 , -10.092485 ],\n",
      "       ...,\n",
      "       [-10.951399 ,  -9.290395 ,  -8.51799  , ..., -13.808423 ,\n",
      "        -15.111453 , -15.240005 ],\n",
      "       [-11.327022 , -10.405101 ,  -9.898311 , ..., -14.448731 ,\n",
      "        -14.64173  , -14.727833 ],\n",
      "       [-10.186784 ,  -9.758658 ,  -8.880105 , ..., -14.337662 ,\n",
      "        -14.673585 , -15.183426 ]], dtype=float32), array([-3.0485196, -3.0140307, -2.97007  , ..., -4.685751 , -4.290446 ,\n",
      "       -4.7129946], dtype=float32), 0)], [(array([[-12.193738, -11.24981 ,  -8.880682, ..., -14.323146, -14.504584,\n",
      "        -14.620891],\n",
      "       [-10.757137, -10.794792, -10.442978, ..., -14.36854 , -14.559933,\n",
      "        -14.670558],\n",
      "       [-10.529157, -10.137875,  -7.585806, ..., -14.562606, -14.451778,\n",
      "        -14.736474],\n",
      "       ...,\n",
      "       [-10.169097,  -9.865131, -11.632103, ...,  -9.073708, -10.710325,\n",
      "        -11.470611],\n",
      "       [ -9.863252,  -9.270547,  -9.306829, ...,  -9.843868, -10.156451,\n",
      "        -10.75351 ],\n",
      "       [-10.089003, -10.755243,  -8.033482, ...,  -9.30953 ,  -9.767592,\n",
      "        -10.754575]], dtype=float32), array([-5.258992 , -5.245948 , -6.6191235, ..., -4.3064766, -2.961619 ,\n",
      "       -2.167799 ], dtype=float32), 0)], [(array([[ -9.966465 , -10.947721 ,  -9.07739  , ...,  -9.791676 ,\n",
      "        -10.1083975, -10.964562 ],\n",
      "       [ -9.683592 ,  -9.648298 ,  -9.679403 , ..., -10.78502  ,\n",
      "        -10.98671  , -11.727675 ],\n",
      "       [-10.296968 , -10.235432 , -10.003051 , ..., -10.960644 ,\n",
      "        -11.239809 , -12.0835705],\n",
      "       ...,\n",
      "       [ -7.5191154,  -6.043746 ,  -6.294225 , ...,  -9.207163 ,\n",
      "         -9.1654005,  -9.026358 ],\n",
      "       [ -7.2843566,  -6.546952 ,  -6.2327824, ...,  -9.309137 ,\n",
      "         -9.394076 ,  -9.755525 ],\n",
      "       [ -7.1285644,  -6.4994917,  -7.100646 , ...,  -9.216688 ,\n",
      "         -9.442033 , -10.351369 ]], dtype=float32), array([-3.6181161, -4.9815516, -6.0379195, ..., -3.877469 , -3.9420502,\n",
      "       -3.808981 ], dtype=float32), 0)], [(array([[-7.7322955, -8.385476 , -5.313422 , ..., -8.379834 , -8.198007 ,\n",
      "        -8.480492 ],\n",
      "       [-7.170421 , -6.405901 , -5.915062 , ..., -8.283975 , -7.35143  ,\n",
      "        -7.857069 ],\n",
      "       [-8.049391 , -6.7440434, -4.9817395, ..., -7.3482404, -6.7428975,\n",
      "        -6.3173876],\n",
      "       ...,\n",
      "       [-7.767259 , -8.124711 , -8.109384 , ..., -5.8061733, -6.1216   ,\n",
      "        -6.7837   ],\n",
      "       [-7.9409804, -8.119903 , -9.449467 , ..., -5.606623 , -5.5991096,\n",
      "        -6.604328 ],\n",
      "       [-9.565698 , -9.792361 , -9.175415 , ..., -6.4351864, -5.9957027,\n",
      "        -6.484421 ]], dtype=float32), array([-3.1724348, -2.546247 , -2.4190583, ..., -1.7396951, -1.8401467,\n",
      "       -1.9968003], dtype=float32), 0)], [(array([[ -8.376467 ,  -8.426569 ,  -9.4954   , ...,  -6.035593 ,\n",
      "         -6.345656 ,  -7.3591685],\n",
      "       [ -6.2013893,  -7.2967362,  -8.316773 , ...,  -5.2676625,\n",
      "         -6.0327873,  -7.062413 ],\n",
      "       [ -6.6128736,  -7.502551 ,  -8.322564 , ...,  -6.705733 ,\n",
      "         -6.896237 ,  -7.6717954],\n",
      "       ...,\n",
      "       [-15.199978 , -15.413783 , -15.151013 , ...,  -9.578386 ,\n",
      "         -9.541712 , -11.19871  ],\n",
      "       [-15.08686  , -14.879494 , -15.132951 , ..., -10.62079  ,\n",
      "        -10.027766 , -11.659995 ],\n",
      "       [-15.155062 , -15.535108 , -16.376707 , ..., -11.996537 ,\n",
      "        -11.72048  , -13.63358  ]], dtype=float32), array([-1.5562582, -1.602898 , -1.8389988, ..., -5.3122644, -5.9758973,\n",
      "       -6.911626 ], dtype=float32), 0)], [(array([[ -9.929944 ,  -8.639151 , -10.852308 , ..., -12.8222   ,\n",
      "        -12.814543 , -14.121462 ],\n",
      "       [-10.835043 ,  -9.443491 , -11.292198 , ..., -13.007637 ,\n",
      "        -13.951122 , -13.637449 ],\n",
      "       [-10.691704 ,  -9.496345 , -11.207158 , ..., -12.914694 ,\n",
      "        -13.4521885, -13.346339 ],\n",
      "       ...,\n",
      "       [ -9.764715 ,  -9.4502   ,  -8.903096 , ...,  -6.913851 ,\n",
      "         -6.1076484,  -7.5004473],\n",
      "       [-10.70295  , -10.618552 ,  -9.200012 , ...,  -6.4420958,\n",
      "         -5.7688117,  -7.368126 ],\n",
      "       [-12.755849 , -10.597953 ,  -8.930365 , ...,  -6.193643 ,\n",
      "         -6.0199394,  -7.38149  ]], dtype=float32), array([-3.2875626, -2.8468125, -2.7170463, ..., -2.675832 , -2.689805 ,\n",
      "       -2.6743026], dtype=float32), 0)]]\n",
      "tmpwav /mnt/rds/redhen/gallina/home/hxm471/RedHenLab-Multimodal_TV_Show_Segmentation/mtvss/data/tmp/splits/tmp23ake67c/2006-01-19_0000_US_00002692_V2_MB13_VHS14_H13_CG_18900_21600.wav\n"
     ]
    }
   ],
   "source": [
    "i_output*2585"
   ]
  },
  {
   "cell_type": "code",
   "execution_count": null,
   "id": "245908d1",
   "metadata": {},
   "outputs": [],
   "source": []
  }
 ],
 "metadata": {
  "kernelspec": {
   "display_name": "Python 3 (ipykernel)",
   "language": "python",
   "name": "python3"
  },
  "language_info": {
   "codemirror_mode": {
    "name": "ipython",
    "version": 3
   },
   "file_extension": ".py",
   "mimetype": "text/x-python",
   "name": "python",
   "nbconvert_exporter": "python",
   "pygments_lexer": "ipython3",
   "version": "3.8.10"
  }
 },
 "nbformat": 4,
 "nbformat_minor": 5
}
