{
 "cells": [
  {
   "cell_type": "markdown",
   "id": "a44be352",
   "metadata": {},
   "source": [
    "# InaSpeechSegmenter Testing"
   ]
  },
  {
   "cell_type": "code",
   "execution_count": 1,
   "id": "c375a5e0",
   "metadata": {},
   "outputs": [],
   "source": [
    "# Imports\n",
    "import numpy as np\n",
    "import pandas as pd\n",
    "import matplotlib.pyplot as plt\n",
    "\n",
    "import os\n",
    "import sys\n",
    "import glob\n",
    "import re\n",
    "import warnings"
   ]
  },
  {
   "cell_type": "code",
   "execution_count": 2,
   "id": "da7436d5",
   "metadata": {},
   "outputs": [],
   "source": [
    "sys.path.insert(0, '/mnt/rds/redhen/gallina/home/hxm471/RedHenLab-Multimodal_TV_Show_Segmentation/mtvss/')\n",
    "import constants as const\n",
    "sys.path.insert(0, '/mnt/rds/redhen/gallina/home/hxm471/RedHenLab-Multimodal_TV_Show_Segmentation/mtvss/pipeline_stage1')\n",
    "import run_pipeline_stage1\n",
    "from data import Data\n",
    "from model import Model\n",
    "sys.path.insert(0, '/mnt/rds/redhen/gallina/home/hxm471/RedHenLab-Multimodal_TV_Show_Segmentation/inaSpeechSegmenter/inaSpeechSegmenter')\n",
    "from segmenter import Segmenter"
   ]
  },
  {
   "cell_type": "code",
   "execution_count": 3,
   "id": "8c378ab1",
   "metadata": {},
   "outputs": [
    {
     "name": "stderr",
     "output_type": "stream",
     "text": [
      "2022-06-22 09:36:02.093888: E tensorflow/stream_executor/cuda/cuda_driver.cc:271] failed call to cuInit: UNKNOWN ERROR (34)\n",
      "2022-06-22 09:36:02.093940: I tensorflow/stream_executor/cuda/cuda_diagnostics.cc:156] kernel driver does not appear to be running on this host (hpc4): /proc/driver/nvidia/version does not exist\n",
      "2022-06-22 09:36:02.094311: I tensorflow/core/platform/cpu_feature_guard.cc:193] This TensorFlow binary is optimized with oneAPI Deep Neural Network Library (oneDNN) to use the following CPU instructions in performance-critical operations:  AVX2 FMA\n",
      "To enable them in other operations, rebuild TensorFlow with the appropriate compiler flags.\n"
     ]
    }
   ],
   "source": [
    "seg = Segmenter(vad_engine=const.VAD_ENGINE, detect_gender=const.DETECT_GENDER, \n",
    "                ffmpeg=const.FFMPEG_BINARY, energy_ratio=const.ENERGY_RATIO, \n",
    "                batch_size=const.BATCH_SIZE)"
   ]
  },
  {
   "cell_type": "code",
   "execution_count": 4,
   "id": "62ed6ca7",
   "metadata": {},
   "outputs": [
    {
     "name": "stdout",
     "output_type": "stream",
     "text": [
      "Directory exists: True\n"
     ]
    }
   ],
   "source": [
    "odir = '/mnt/rds/redhen/gallina/home/hxm471/RedHenLab-Multimodal_TV_Show_Segmentation/mtvss/data/tmp/splits'\n",
    "print(\"Directory exists:\",os.path.isdir(odir))\n",
    "assert os.access(odir, os.W_OK), 'Directory %s is not writable!' % odir"
   ]
  },
  {
   "cell_type": "code",
   "execution_count": 5,
   "id": "bfbc673a",
   "metadata": {},
   "outputs": [],
   "source": [
    "files = ['/mnt/rds/redhen/gallina/Rosenthal/2006/2006-01/2006-01-19/2006-01-19_0000_US_00002692_V2_MB13_VHS14_H13_CG.mp4']\n",
    "output_file=['/mnt/rds/redhen/gallina/home/hxm471/RedHenLab-Multimodal_TV_Show_Segmentation/mtvss/data/tmp/splits/2006-01-19_0000_US_00002692_V2_MB13_VHS14_H13_CG.csv']\n"
   ]
  },
  {
   "cell_type": "code",
   "execution_count": 6,
   "id": "5f496344",
   "metadata": {},
   "outputs": [
    {
     "name": "stdout",
     "output_type": "stream",
     "text": [
      "\n",
      "base files:\n",
      " ['2006-01-19_0000_US_00002692_V2_MB13_VHS14_H13_CG']\n",
      "\n",
      "Output files:\n",
      " ['/mnt/rds/redhen/gallina/home/hxm471/RedHenLab-Multimodal_TV_Show_Segmentation/mtvss/data/tmp/splits/2006-01-19_0000_US_00002692_V2_MB13_VHS14_H13_CG.csv']\n",
      "\n",
      "-- Step 2.3: Starting batch process --\n",
      "\n",
      "batch_processing 1 files\n",
      "output of featGen: <generator object featGenerator at 0x7f3d704f46d0>\n",
      "Thread being joined: <ThreadReturning(Thread-5, started 139889903400704)>\n",
      "Finished probing duration\n",
      "Duration 29586\n",
      "start 0\n",
      "stop_sec 2700\n",
      "tmpdirname /mnt/rds/redhen/gallina/home/hxm471/RedHenLab-Multimodal_TV_Show_Segmentation/mtvss/data/tmp/splits/tmpl1ne_1wg\n",
      "tmpwav /mnt/rds/redhen/gallina/home/hxm471/RedHenLab-Multimodal_TV_Show_Segmentation/mtvss/data/tmp/splits/tmpl1ne_1wg/2006-01-19_0000_US_00002692_V2_MB13_VHS14_H13_CG_0_2700.wav\n",
      "Starting _wav2feats\n",
      "start 2700\n",
      "stop_sec 5400\n",
      "tmpdirname /mnt/rds/redhen/gallina/home/hxm471/RedHenLab-Multimodal_TV_Show_Segmentation/mtvss/data/tmp/splits/tmpl1ne_1wg\n",
      "tmpwav /mnt/rds/redhen/gallina/home/hxm471/RedHenLab-Multimodal_TV_Show_Segmentation/mtvss/data/tmp/splits/tmpl1ne_1wg/2006-01-19_0000_US_00002692_V2_MB13_VHS14_H13_CG_2700_5400.wav\n",
      "Starting _wav2feats\n",
      "start 5400\n",
      "stop_sec 8100\n",
      "tmpdirname /mnt/rds/redhen/gallina/home/hxm471/RedHenLab-Multimodal_TV_Show_Segmentation/mtvss/data/tmp/splits/tmpl1ne_1wg\n",
      "tmpwav /mnt/rds/redhen/gallina/home/hxm471/RedHenLab-Multimodal_TV_Show_Segmentation/mtvss/data/tmp/splits/tmpl1ne_1wg/2006-01-19_0000_US_00002692_V2_MB13_VHS14_H13_CG_5400_8100.wav\n",
      "Starting _wav2feats\n",
      "start 8100\n",
      "stop_sec 10800\n",
      "tmpdirname /mnt/rds/redhen/gallina/home/hxm471/RedHenLab-Multimodal_TV_Show_Segmentation/mtvss/data/tmp/splits/tmpl1ne_1wg\n",
      "tmpwav /mnt/rds/redhen/gallina/home/hxm471/RedHenLab-Multimodal_TV_Show_Segmentation/mtvss/data/tmp/splits/tmpl1ne_1wg/2006-01-19_0000_US_00002692_V2_MB13_VHS14_H13_CG_8100_10800.wav\n",
      "Starting _wav2feats\n",
      "start 10800\n",
      "stop_sec 13500\n",
      "tmpdirname /mnt/rds/redhen/gallina/home/hxm471/RedHenLab-Multimodal_TV_Show_Segmentation/mtvss/data/tmp/splits/tmpl1ne_1wg\n",
      "tmpwav /mnt/rds/redhen/gallina/home/hxm471/RedHenLab-Multimodal_TV_Show_Segmentation/mtvss/data/tmp/splits/tmpl1ne_1wg/2006-01-19_0000_US_00002692_V2_MB13_VHS14_H13_CG_10800_13500.wav\n",
      "Starting _wav2feats\n",
      "start 13500\n",
      "stop_sec 16200\n",
      "tmpdirname /mnt/rds/redhen/gallina/home/hxm471/RedHenLab-Multimodal_TV_Show_Segmentation/mtvss/data/tmp/splits/tmpl1ne_1wg\n",
      "tmpwav /mnt/rds/redhen/gallina/home/hxm471/RedHenLab-Multimodal_TV_Show_Segmentation/mtvss/data/tmp/splits/tmpl1ne_1wg/2006-01-19_0000_US_00002692_V2_MB13_VHS14_H13_CG_13500_16200.wav\n",
      "Starting _wav2feats\n",
      "start 16200\n",
      "stop_sec 18900\n",
      "tmpdirname /mnt/rds/redhen/gallina/home/hxm471/RedHenLab-Multimodal_TV_Show_Segmentation/mtvss/data/tmp/splits/tmpl1ne_1wg\n",
      "tmpwav /mnt/rds/redhen/gallina/home/hxm471/RedHenLab-Multimodal_TV_Show_Segmentation/mtvss/data/tmp/splits/tmpl1ne_1wg/2006-01-19_0000_US_00002692_V2_MB13_VHS14_H13_CG_16200_18900.wav\n",
      "Starting _wav2feats\n",
      "start 18900\n",
      "stop_sec 21600\n",
      "tmpdirname /mnt/rds/redhen/gallina/home/hxm471/RedHenLab-Multimodal_TV_Show_Segmentation/mtvss/data/tmp/splits/tmpl1ne_1wg\n",
      "tmpwav /mnt/rds/redhen/gallina/home/hxm471/RedHenLab-Multimodal_TV_Show_Segmentation/mtvss/data/tmp/splits/tmpl1ne_1wg/2006-01-19_0000_US_00002692_V2_MB13_VHS14_H13_CG_18900_21600.wav\n",
      "Starting _wav2feats\n",
      "start 21600\n",
      "stop_sec 24300\n",
      "tmpdirname /mnt/rds/redhen/gallina/home/hxm471/RedHenLab-Multimodal_TV_Show_Segmentation/mtvss/data/tmp/splits/tmpl1ne_1wg\n",
      "tmpwav /mnt/rds/redhen/gallina/home/hxm471/RedHenLab-Multimodal_TV_Show_Segmentation/mtvss/data/tmp/splits/tmpl1ne_1wg/2006-01-19_0000_US_00002692_V2_MB13_VHS14_H13_CG_21600_24300.wav\n",
      "Starting _wav2feats\n",
      "start 24300\n",
      "stop_sec 27000\n",
      "tmpdirname /mnt/rds/redhen/gallina/home/hxm471/RedHenLab-Multimodal_TV_Show_Segmentation/mtvss/data/tmp/splits/tmpl1ne_1wg\n",
      "tmpwav /mnt/rds/redhen/gallina/home/hxm471/RedHenLab-Multimodal_TV_Show_Segmentation/mtvss/data/tmp/splits/tmpl1ne_1wg/2006-01-19_0000_US_00002692_V2_MB13_VHS14_H13_CG_24300_27000.wav\n",
      "Starting _wav2feats\n",
      "start 27000\n",
      "stop_sec 29700\n",
      "tmpdirname /mnt/rds/redhen/gallina/home/hxm471/RedHenLab-Multimodal_TV_Show_Segmentation/mtvss/data/tmp/splits/tmpl1ne_1wg\n",
      "tmpwav /mnt/rds/redhen/gallina/home/hxm471/RedHenLab-Multimodal_TV_Show_Segmentation/mtvss/data/tmp/splits/tmpl1ne_1wg/2006-01-19_0000_US_00002692_V2_MB13_VHS14_H13_CG_27000_29700.wav\n",
      "Starting _wav2feats\n",
      "start 29700\n",
      "stop_sec 32400\n",
      "tmpdirname /mnt/rds/redhen/gallina/home/hxm471/RedHenLab-Multimodal_TV_Show_Segmentation/mtvss/data/tmp/splits/tmpl1ne_1wg\n",
      "tmpwav /mnt/rds/redhen/gallina/home/hxm471/RedHenLab-Multimodal_TV_Show_Segmentation/mtvss/data/tmp/splits/tmpl1ne_1wg/2006-01-19_0000_US_00002692_V2_MB13_VHS14_H13_CG_29700_32400.wav\n",
      "Starting _wav2feats\n"
     ]
    },
    {
     "ename": "KeyboardInterrupt",
     "evalue": "",
     "output_type": "error",
     "traceback": [
      "\u001b[0;31m---------------------------------------------------------------------------\u001b[0m",
      "\u001b[0;31mKeyboardInterrupt\u001b[0m                         Traceback (most recent call last)",
      "Input \u001b[0;32mIn [6]\u001b[0m, in \u001b[0;36m<cell line: 1>\u001b[0;34m()\u001b[0m\n\u001b[1;32m      7\u001b[0m \u001b[38;5;28mprint\u001b[39m(\u001b[38;5;124m\"\u001b[39m\u001b[38;5;130;01m\\n\u001b[39;00m\u001b[38;5;124mOutput files:\u001b[39m\u001b[38;5;130;01m\\n\u001b[39;00m\u001b[38;5;124m\"\u001b[39m,output_file)\n\u001b[1;32m      8\u001b[0m \u001b[38;5;28mprint\u001b[39m(\u001b[38;5;124m\"\u001b[39m\u001b[38;5;130;01m\\n\u001b[39;00m\u001b[38;5;124m-- Step 2.3: Starting batch process --\u001b[39m\u001b[38;5;130;01m\\n\u001b[39;00m\u001b[38;5;124m\"\u001b[39m)\n\u001b[0;32m---> 10\u001b[0m \u001b[43mseg\u001b[49m\u001b[38;5;241;43m.\u001b[39;49m\u001b[43mbatch_process\u001b[49m\u001b[43m(\u001b[49m\u001b[43mfiles\u001b[49m\u001b[43m,\u001b[49m\u001b[43m \u001b[49m\u001b[43moutput_file\u001b[49m\u001b[43m,\u001b[49m\u001b[43m \u001b[49m\u001b[43mtmpdir\u001b[49m\u001b[38;5;241;43m=\u001b[39;49m\u001b[38;5;124;43m'\u001b[39;49m\u001b[38;5;124;43m/mnt/rds/redhen/gallina/home/hxm471/RedHenLab-Multimodal_TV_Show_Segmentation/mtvss/data/tmp/splits/\u001b[39;49m\u001b[38;5;124;43m'\u001b[39;49m\u001b[43m,\u001b[49m\n\u001b[1;32m     11\u001b[0m \u001b[43m                  \u001b[49m\u001b[43mverbose\u001b[49m\u001b[38;5;241;43m=\u001b[39;49m\u001b[38;5;28;43;01mTrue\u001b[39;49;00m\u001b[43m,\u001b[49m\u001b[43m \u001b[49m\u001b[43moutput_format\u001b[49m\u001b[38;5;241;43m=\u001b[39;49m\u001b[38;5;124;43m'\u001b[39;49m\u001b[38;5;124;43mcsv\u001b[39;49m\u001b[38;5;124;43m'\u001b[39;49m\u001b[43m)\u001b[49m\n",
      "File \u001b[0;32m~/inaSpeechSegmenter/inaSpeechSegmenter/segmenter.py:296\u001b[0m, in \u001b[0;36mSegmenter.batch_process\u001b[0;34m(self, linput, loutput, tmpdir, verbose, skipifexist, nbtry, trydelay, output_format)\u001b[0m\n\u001b[1;32m    294\u001b[0m \u001b[38;5;28mprint\u001b[39m(\u001b[38;5;124m\"\u001b[39m\u001b[38;5;124moutput of featGen:\u001b[39m\u001b[38;5;124m\"\u001b[39m,fg)\n\u001b[1;32m    295\u001b[0m i \u001b[38;5;241m=\u001b[39m \u001b[38;5;241m0\u001b[39m\n\u001b[0;32m--> 296\u001b[0m \u001b[38;5;28;01mfor\u001b[39;00m feats, msg \u001b[38;5;129;01min\u001b[39;00m fg:\n\u001b[1;32m    297\u001b[0m     lmsg \u001b[38;5;241m+\u001b[39m\u001b[38;5;241m=\u001b[39m msg\n\u001b[1;32m    298\u001b[0m     i \u001b[38;5;241m+\u001b[39m\u001b[38;5;241m=\u001b[39m \u001b[38;5;28mlen\u001b[39m(msg)\n",
      "File \u001b[0;32m~/inaSpeechSegmenter/inaSpeechSegmenter/segmenter.py:400\u001b[0m, in \u001b[0;36mfeatGenerator\u001b[0;34m(ilist, olist, tmpdir, ffmpeg, skipifexist, nbtry, trydelay)\u001b[0m\n\u001b[1;32m    398\u001b[0m \u001b[38;5;28;01mwhile\u001b[39;00m(\u001b[38;5;129;01mnot\u001b[39;00m q\u001b[38;5;241m.\u001b[39mempty()): \n\u001b[1;32m    399\u001b[0m     \u001b[38;5;28mprint\u001b[39m(\u001b[38;5;124m\"\u001b[39m\u001b[38;5;124mThread being joined:\u001b[39m\u001b[38;5;124m\"\u001b[39m,q\u001b[38;5;241m.\u001b[39mget())\n\u001b[0;32m--> 400\u001b[0m     t \u001b[38;5;241m=\u001b[39m \u001b[43mq\u001b[49m\u001b[38;5;241;43m.\u001b[39;49m\u001b[43mget\u001b[49m\u001b[43m(\u001b[49m\u001b[43m)\u001b[49m\n\u001b[1;32m    401\u001b[0m     ret, msg \u001b[38;5;241m=\u001b[39m t\u001b[38;5;241m.\u001b[39mjoin()\n\u001b[1;32m    402\u001b[0m     \u001b[38;5;28mprint\u001b[39m(\u001b[38;5;124m\"\u001b[39m\u001b[38;5;124mThread has joined!\u001b[39m\u001b[38;5;124m\"\u001b[39m)\n",
      "File \u001b[0;32m/usr/lib/python3.8/queue.py:170\u001b[0m, in \u001b[0;36mQueue.get\u001b[0;34m(self, block, timeout)\u001b[0m\n\u001b[1;32m    168\u001b[0m \u001b[38;5;28;01melif\u001b[39;00m timeout \u001b[38;5;129;01mis\u001b[39;00m \u001b[38;5;28;01mNone\u001b[39;00m:\n\u001b[1;32m    169\u001b[0m     \u001b[38;5;28;01mwhile\u001b[39;00m \u001b[38;5;129;01mnot\u001b[39;00m \u001b[38;5;28mself\u001b[39m\u001b[38;5;241m.\u001b[39m_qsize():\n\u001b[0;32m--> 170\u001b[0m         \u001b[38;5;28;43mself\u001b[39;49m\u001b[38;5;241;43m.\u001b[39;49m\u001b[43mnot_empty\u001b[49m\u001b[38;5;241;43m.\u001b[39;49m\u001b[43mwait\u001b[49m\u001b[43m(\u001b[49m\u001b[43m)\u001b[49m\n\u001b[1;32m    171\u001b[0m \u001b[38;5;28;01melif\u001b[39;00m timeout \u001b[38;5;241m<\u001b[39m \u001b[38;5;241m0\u001b[39m:\n\u001b[1;32m    172\u001b[0m     \u001b[38;5;28;01mraise\u001b[39;00m \u001b[38;5;167;01mValueError\u001b[39;00m(\u001b[38;5;124m\"\u001b[39m\u001b[38;5;124m'\u001b[39m\u001b[38;5;124mtimeout\u001b[39m\u001b[38;5;124m'\u001b[39m\u001b[38;5;124m must be a non-negative number\u001b[39m\u001b[38;5;124m\"\u001b[39m)\n",
      "File \u001b[0;32m/usr/lib/python3.8/threading.py:302\u001b[0m, in \u001b[0;36mCondition.wait\u001b[0;34m(self, timeout)\u001b[0m\n\u001b[1;32m    300\u001b[0m \u001b[38;5;28;01mtry\u001b[39;00m:    \u001b[38;5;66;03m# restore state no matter what (e.g., KeyboardInterrupt)\u001b[39;00m\n\u001b[1;32m    301\u001b[0m     \u001b[38;5;28;01mif\u001b[39;00m timeout \u001b[38;5;129;01mis\u001b[39;00m \u001b[38;5;28;01mNone\u001b[39;00m:\n\u001b[0;32m--> 302\u001b[0m         \u001b[43mwaiter\u001b[49m\u001b[38;5;241;43m.\u001b[39;49m\u001b[43macquire\u001b[49m\u001b[43m(\u001b[49m\u001b[43m)\u001b[49m\n\u001b[1;32m    303\u001b[0m         gotit \u001b[38;5;241m=\u001b[39m \u001b[38;5;28;01mTrue\u001b[39;00m\n\u001b[1;32m    304\u001b[0m     \u001b[38;5;28;01melse\u001b[39;00m:\n",
      "\u001b[0;31mKeyboardInterrupt\u001b[0m: "
     ]
    }
   ],
   "source": [
    "with warnings.catch_warnings():\n",
    "    warnings.simplefilter(\"ignore\")\n",
    "    \n",
    "    base = [os.path.splitext(os.path.basename(e))[0] for e in files]\n",
    "    \n",
    "    print(\"\\nbase files:\\n\",base)\n",
    "    print(\"\\nOutput files:\\n\",output_file)\n",
    "    print(\"\\n-- Step 2.3: Starting batch process --\\n\")\n",
    "    \n",
    "    seg.batch_process(files, output_file, tmpdir='/mnt/rds/redhen/gallina/home/hxm471/RedHenLab-Multimodal_TV_Show_Segmentation/mtvss/data/tmp/splits/',\n",
    "                      verbose=True, output_format='csv')"
   ]
  },
  {
   "cell_type": "code",
   "execution_count": null,
   "id": "11d9019a",
   "metadata": {},
   "outputs": [],
   "source": [
    "from subprocess import Popen, PIPE"
   ]
  },
  {
   "cell_type": "code",
   "execution_count": null,
   "id": "6efccec1",
   "metadata": {},
   "outputs": [],
   "source": []
  },
  {
   "cell_type": "code",
   "execution_count": null,
   "id": "275dea24",
   "metadata": {},
   "outputs": [],
   "source": [
    "args = [\"ffprobe\",\"-i\",files[0],\"-v\",\"quiet\",\"-show_entries\",\"format=duration\",\n",
    "       \"-of\",\"default=noprint_wrappers=1:nokey=1\"]"
   ]
  },
  {
   "cell_type": "code",
   "execution_count": null,
   "id": "4b829e09",
   "metadata": {},
   "outputs": [],
   "source": [
    "p = Popen(args, stdout=PIPE, stderr=PIPE)"
   ]
  },
  {
   "cell_type": "code",
   "execution_count": null,
   "id": "9db9422d",
   "metadata": {},
   "outputs": [],
   "source": [
    "output,error = p.communicate()"
   ]
  },
  {
   "cell_type": "code",
   "execution_count": null,
   "id": "88e90961",
   "metadata": {},
   "outputs": [],
   "source": [
    "type(output.decode(\"utf-8\"))"
   ]
  },
  {
   "cell_type": "code",
   "execution_count": null,
   "id": "6cc2747d",
   "metadata": {},
   "outputs": [],
   "source": [
    "s_output_strip = output.decode(\"utf-8\").strip()\n",
    "s_output_strip"
   ]
  },
  {
   "cell_type": "code",
   "execution_count": null,
   "id": "1e095573",
   "metadata": {},
   "outputs": [],
   "source": [
    "f_output_strip = float(s_output_strip)\n",
    "f_output_strip"
   ]
  },
  {
   "cell_type": "code",
   "execution_count": null,
   "id": "7aded271",
   "metadata": {},
   "outputs": [],
   "source": [
    "i_output = int(f_output_strip)\n",
    "i_output"
   ]
  },
  {
   "cell_type": "code",
   "execution_count": null,
   "id": "e80b1b24",
   "metadata": {},
   "outputs": [],
   "source": []
  }
 ],
 "metadata": {
  "kernelspec": {
   "display_name": "Python 3 (ipykernel)",
   "language": "python",
   "name": "python3"
  },
  "language_info": {
   "codemirror_mode": {
    "name": "ipython",
    "version": 3
   },
   "file_extension": ".py",
   "mimetype": "text/x-python",
   "name": "python",
   "nbconvert_exporter": "python",
   "pygments_lexer": "ipython3",
   "version": "3.8.10"
  }
 },
 "nbformat": 4,
 "nbformat_minor": 5
}
