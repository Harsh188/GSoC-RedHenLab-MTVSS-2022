{
 "cells": [
  {
   "cell_type": "markdown",
   "id": "a44be352",
   "metadata": {},
   "source": [
    "# InaSpeechSegmenter Testing"
   ]
  },
  {
   "cell_type": "code",
   "execution_count": 1,
   "id": "c375a5e0",
   "metadata": {},
   "outputs": [],
   "source": [
    "# Imports\n",
    "import numpy as np\n",
    "import pandas as pd\n",
    "import matplotlib.pyplot as plt\n",
    "\n",
    "import os\n",
    "import sys\n",
    "import glob\n",
    "import re\n",
    "import warnings\n",
    "\n",
    "# Reload changed modules every time\n",
    "%load_ext autoreload\n",
    "%autoreload 2"
   ]
  },
  {
   "cell_type": "code",
   "execution_count": 2,
   "id": "da7436d5",
   "metadata": {},
   "outputs": [],
   "source": [
    "sys.path.insert(0, '/mnt/rds/redhen/gallina/home/hxm471/RedHenLab-Multimodal_TV_Show_Segmentation/mtvss/')\n",
    "import constants as const\n",
    "sys.path.insert(0, '/mnt/rds/redhen/gallina/home/hxm471/RedHenLab-Multimodal_TV_Show_Segmentation/mtvss/pipeline_stage1')\n",
    "import run_pipeline_stage1\n",
    "from data import Data\n",
    "from model import Model\n",
    "sys.path.insert(0, '/mnt/rds/redhen/gallina/home/hxm471/RedHenLab-Multimodal_TV_Show_Segmentation/inaSpeechSegmenter/inaSpeechSegmenter')\n",
    "from segmenter import Segmenter"
   ]
  },
  {
   "cell_type": "code",
   "execution_count": 3,
   "id": "8c378ab1",
   "metadata": {},
   "outputs": [
    {
     "name": "stderr",
     "output_type": "stream",
     "text": [
      "2022-06-27 00:39:36.909719: E tensorflow/stream_executor/cuda/cuda_driver.cc:271] failed call to cuInit: UNKNOWN ERROR (34)\n",
      "2022-06-27 00:39:36.909763: I tensorflow/stream_executor/cuda/cuda_diagnostics.cc:156] kernel driver does not appear to be running on this host (hpc4): /proc/driver/nvidia/version does not exist\n",
      "2022-06-27 00:39:36.910100: I tensorflow/core/platform/cpu_feature_guard.cc:193] This TensorFlow binary is optimized with oneAPI Deep Neural Network Library (oneDNN) to use the following CPU instructions in performance-critical operations:  AVX2 FMA\n",
      "To enable them in other operations, rebuild TensorFlow with the appropriate compiler flags.\n"
     ]
    }
   ],
   "source": [
    "seg = Segmenter(vad_engine=const.VAD_ENGINE, detect_gender=const.DETECT_GENDER, \n",
    "                ffmpeg=const.FFMPEG_BINARY, energy_ratio=const.ENERGY_RATIO, \n",
    "                batch_size=const.BATCH_SIZE)"
   ]
  },
  {
   "cell_type": "code",
   "execution_count": 4,
   "id": "62ed6ca7",
   "metadata": {},
   "outputs": [
    {
     "name": "stdout",
     "output_type": "stream",
     "text": [
      "Directory exists: True\n"
     ]
    }
   ],
   "source": [
    "odir = '/mnt/rds/redhen/gallina/home/hxm471/RedHenLab-Multimodal_TV_Show_Segmentation/mtvss/data/tmp/splits'\n",
    "print(\"Directory exists:\",os.path.isdir(odir))\n",
    "assert os.access(odir, os.W_OK), 'Directory %s is not writable!' % odir"
   ]
  },
  {
   "cell_type": "code",
   "execution_count": 5,
   "id": "bfbc673a",
   "metadata": {},
   "outputs": [],
   "source": [
    "files = ['/mnt/rds/redhen/gallina/Rosenthal/2006/2006-01/2006-01-19/2006-01-19_0000_US_00002692_V2_MB13_VHS14_H13_CG.mp4']\n",
    "output_file=['/mnt/rds/redhen/gallina/home/hxm471/RedHenLab-Multimodal_TV_Show_Segmentation/mtvss/data/tmp/splits/2006-01-19_0000_US_00002692_V2_MB13_VHS14_H13_CG.csv']\n"
   ]
  },
  {
   "cell_type": "code",
   "execution_count": 6,
   "id": "0481e754",
   "metadata": {},
   "outputs": [
    {
     "data": {
      "text/plain": [
       "[[3, 2, 3]]"
      ]
     },
     "execution_count": 6,
     "metadata": {},
     "output_type": "execute_result"
    }
   ],
   "source": [
    "l = []\n",
    "l_2 = [3,2,3]\n",
    "l.append(l_2)\n",
    "l"
   ]
  },
  {
   "cell_type": "code",
   "execution_count": 15,
   "id": "1bd476fa",
   "metadata": {},
   "outputs": [
    {
     "data": {
      "text/plain": [
       "2"
      ]
     },
     "execution_count": 15,
     "metadata": {},
     "output_type": "execute_result"
    }
   ],
   "source": [
    "test_tup = (3, (3,3,4))\n",
    "test_tup[1][2]\n",
    "len(test_tup)"
   ]
  },
  {
   "cell_type": "code",
   "execution_count": 17,
   "id": "5f496344",
   "metadata": {},
   "outputs": [
    {
     "name": "stdout",
     "output_type": "stream",
     "text": [
      "\n",
      "base files:\n",
      " ['2006-01-19_0000_US_00002692_V2_MB13_VHS14_H13_CG']\n",
      "\n",
      "Output files:\n",
      " ['/mnt/rds/redhen/gallina/home/hxm471/RedHenLab-Multimodal_TV_Show_Segmentation/mtvss/data/tmp/splits/2006-01-19_0000_US_00002692_V2_MB13_VHS14_H13_CG.csv']\n",
      "\n",
      "-- Step 2.3: Starting batch process --\n",
      "\n",
      "batch_processing 1 files\n",
      "output of featGen: <generator object featGenerator at 0x7f6ec17673c0>\n",
      "<generator object featGenerator at 0x7f6ec17673c0>\n",
      "Starting media 2 feats\n",
      "Finished probing duration\n",
      "Duration 29586\n",
      "tmpwav /mnt/rds/redhen/gallina/home/hxm471/RedHenLab-Multimodal_TV_Show_Segmentation/mtvss/data/tmp/splits/tmp29euyh98/2006-01-19_0000_US_00002692_V2_MB13_VHS14_H13_CG_0_2700.wav\n",
      "Starting _wav2feats\n",
      ".wav\n",
      "wav2feats done\n",
      "tmpwav /mnt/rds/redhen/gallina/home/hxm471/RedHenLab-Multimodal_TV_Show_Segmentation/mtvss/data/tmp/splits/tmp29euyh98/2006-01-19_0000_US_00002692_V2_MB13_VHS14_H13_CG_2700_5400.wav\n",
      "\n",
      "Yielding chunk\n",
      "3/1 (0, 'ok', 1)\n",
      "I can make changes\n"
     ]
    },
    {
     "name": "stderr",
     "output_type": "stream",
     "text": [
      "/usr/local/lib/python3.8/dist-packages/pyannote/algorithms/utils/viterbi.py:86: FutureWarning: arrays to stack must be passed as a \"sequence\" type such as list or tuple. Support for non-sequence iterables such as generators is deprecated as of NumPy 1.16 and will raise an error in the future.\n",
      "  return np.vstack(\n",
      "/usr/local/lib/python3.8/dist-packages/pyannote/algorithms/utils/viterbi.py:95: FutureWarning: arrays to stack must be passed as a \"sequence\" type such as list or tuple. Support for non-sequence iterables such as generators is deprecated as of NumPy 1.16 and will raise an error in the future.\n",
      "  return np.vstack(\n"
     ]
    },
    {
     "name": "stdout",
     "output_type": "stream",
     "text": [
      "True (134999, 134999)\n",
      " 20/130 [===>..........................] - ETA: 20sStarting _wav2feats\n",
      ".wav\n",
      "130/130 [==============================] - 25s 192ms/step\n"
     ]
    },
    {
     "name": "stderr",
     "output_type": "stream",
     "text": [
      "/usr/local/lib/python3.8/dist-packages/pyannote/algorithms/utils/viterbi.py:86: FutureWarning: arrays to stack must be passed as a \"sequence\" type such as list or tuple. Support for non-sequence iterables such as generators is deprecated as of NumPy 1.16 and will raise an error in the future.\n",
      "  return np.vstack(\n",
      "/usr/local/lib/python3.8/dist-packages/pyannote/algorithms/utils/viterbi.py:95: FutureWarning: arrays to stack must be passed as a \"sequence\" type such as list or tuple. Support for non-sequence iterables such as generators is deprecated as of NumPy 1.16 and will raise an error in the future.\n",
      "  return np.vstack(\n"
     ]
    },
    {
     "name": "stdout",
     "output_type": "stream",
     "text": [
      "Output from segement feats: [('speech', 0.0, 14.36), ('music', 14.36, 17.34), ('speech', 17.34, 27.8), ('music', 27.8, 33.72), ('speech', 33.72, 36.52), ('music', 36.52, 38.9), ('noEnergy', 38.9, 39.34), ('speech', 39.34, 48.06), ('noEnergy', 48.06, 48.5), ('speech', 48.5, 59.160000000000004), ('noise', 59.160000000000004, 65.26), ('speech', 65.26, 69.32000000000001), ('music', 69.32000000000001, 70.28), ('noise', 70.28, 137.86), ('music', 137.86, 144.68), ('noise', 144.68, 157.94), ('speech', 157.94, 179.9), ('noEnergy', 179.9, 180.5), ('noise', 180.5, 182.82), ('speech', 182.82, 186.12), ('noise', 186.12, 188.28), ('music', 188.28, 192.74), ('speech', 192.74, 299.26), ('music', 299.26, 308.94), ('speech', 308.94, 357.6), ('noise', 357.6, 361.64), ('music', 361.64, 369.5), ('noise', 369.5, 372.12), ('music', 372.12, 422.68), ('noise', 422.68, 427.78000000000003), ('speech', 427.78000000000003, 432.40000000000003), ('noise', 432.40000000000003, 435.04), ('music', 435.04, 439.48), ('speech', 439.48, 446.32), ('music', 446.32, 452.66), ('noise', 452.66, 462.82), ('music', 462.82, 466.90000000000003), ('speech', 466.90000000000003, 490.86), ('noEnergy', 490.86, 491.5), ('noise', 491.5, 506.76), ('music', 506.76, 513.88), ('speech', 513.88, 553.76), ('music', 553.76, 561.9), ('speech', 561.9, 572.96), ('noEnergy', 572.96, 573.62), ('noise', 573.62, 576.9), ('music', 576.9, 583.62), ('speech', 583.62, 586.84), ('noise', 586.84, 590.2), ('music', 590.2, 594.3000000000001), ('noise', 594.3000000000001, 611.44), ('music', 611.44, 615.16), ('speech', 615.16, 619.32), ('noise', 619.32, 622.2), ('music', 622.2, 627.88), ('speech', 627.88, 654.5600000000001), ('noise', 654.5600000000001, 656.38), ('music', 656.38, 663.46), ('speech', 663.46, 670.98), ('noEnergy', 670.98, 671.52), ('noise', 671.52, 674.26), ('speech', 674.26, 726.74), ('music', 726.74, 743.9), ('noise', 743.9, 745.6800000000001), ('speech', 745.6800000000001, 762.94), ('noise', 762.94, 766.8000000000001), ('speech', 766.8000000000001, 793.4), ('music', 793.4, 806.36), ('noise', 806.36, 807.5), ('noEnergy', 807.5, 808.1800000000001), ('speech', 808.1800000000001, 819.8000000000001), ('noEnergy', 819.8000000000001, 820.2), ('speech', 820.2, 829.5600000000001), ('noise', 829.5600000000001, 838.96), ('music', 838.96, 843.76), ('speech', 843.76, 846.5600000000001), ('noEnergy', 846.5600000000001, 847.48), ('speech', 847.48, 858.82), ('noEnergy', 858.82, 859.24), ('speech', 859.24, 863.66), ('noEnergy', 863.66, 864.5), ('speech', 864.5, 868.34), ('noEnergy', 868.34, 868.74), ('speech', 868.74, 892.9), ('noEnergy', 892.9, 893.74), ('speech', 893.74, 904.98), ('noEnergy', 904.98, 905.48), ('speech', 905.48, 906.7), ('noEnergy', 906.7, 907.26), ('speech', 907.26, 921.66), ('noEnergy', 921.66, 922.5600000000001), ('speech', 922.5600000000001, 924.78), ('music', 924.78, 930.4200000000001), ('speech', 930.4200000000001, 933.6800000000001), ('noEnergy', 933.6800000000001, 934.08), ('speech', 934.08, 943.86), ('noise', 943.86, 949.88), ('speech', 949.88, 975.04), ('music', 975.04, 979.38), ('noise', 979.38, 983.88), ('music', 983.88, 987.86), ('speech', 987.86, 1009.74), ('noEnergy', 1009.74, 1010.48), ('speech', 1010.48, 1039.76), ('noEnergy', 1039.76, 1040.18), ('music', 1040.18, 1046.8), ('speech', 1046.8, 1062.24), ('music', 1062.24, 1071.42), ('noise', 1071.42, 1085.44), ('speech', 1085.44, 1099.46), ('noEnergy', 1099.46, 1100.4), ('noise', 1100.4, 1108.04), ('speech', 1108.04, 1113.0), ('noEnergy', 1113.0, 1113.88), ('speech', 1113.88, 1173.06), ('noEnergy', 1173.06, 1173.66), ('music', 1173.66, 1174.48), ('noise', 1174.48, 1176.28), ('speech', 1176.28, 1197.56), ('noEnergy', 1197.56, 1197.98), ('speech', 1197.98, 1211.5), ('noEnergy', 1211.5, 1211.94), ('speech', 1211.94, 1232.18), ('noise', 1232.18, 1235.3600000000001), ('speech', 1235.3600000000001, 1251.66), ('noEnergy', 1251.66, 1252.06), ('speech', 1252.06, 1263.82), ('noEnergy', 1263.82, 1264.26), ('speech', 1264.26, 1272.92), ('noise', 1272.92, 1277.44), ('music', 1277.44, 1284.9), ('speech', 1284.9, 1308.84), ('noise', 1308.84, 1311.0), ('speech', 1311.0, 1317.18), ('music', 1317.18, 1323.44), ('speech', 1323.44, 1325.66), ('noEnergy', 1325.66, 1326.1200000000001), ('speech', 1326.1200000000001, 1359.7), ('noise', 1359.7, 1362.72), ('music', 1362.72, 1380.82), ('speech', 1380.82, 1392.18), ('music', 1392.18, 1398.4), ('speech', 1398.4, 1412.38), ('music', 1412.38, 1419.92), ('speech', 1419.92, 1421.54), ('music', 1421.54, 1426.1200000000001), ('speech', 1426.1200000000001, 1428.14), ('music', 1428.14, 1431.3), ('noEnergy', 1431.3, 1431.68), ('speech', 1431.68, 1440.3), ('noEnergy', 1440.3, 1440.74), ('speech', 1440.74, 1441.1200000000001), ('noEnergy', 1441.1200000000001, 1442.14), ('speech', 1442.14, 1451.84), ('noEnergy', 1451.84, 1452.7), ('speech', 1452.7, 1499.38), ('music', 1499.38, 1508.28), ('speech', 1508.28, 1528.3), ('music', 1528.3, 1529.88), ('noEnergy', 1529.88, 1530.78), ('noise', 1530.78, 1537.54), ('music', 1537.54, 1542.3600000000001), ('speech', 1542.3600000000001, 1545.44), ('noise', 1545.44, 1547.06), ('speech', 1547.06, 1567.22), ('music', 1567.22, 1583.14), ('noise', 1583.14, 1604.16), ('speech', 1604.16, 1607.9), ('noEnergy', 1607.9, 1608.3), ('speech', 1608.3, 1619.6200000000001), ('noEnergy', 1619.6200000000001, 1620.1000000000001), ('speech', 1620.1000000000001, 1622.46), ('noEnergy', 1622.46, 1623.1000000000001), ('speech', 1623.1000000000001, 1638.66), ('music', 1638.66, 1645.4), ('speech', 1645.4, 1676.76), ('noEnergy', 1676.76, 1677.3), ('speech', 1677.3, 1689.7), ('noEnergy', 1689.7, 1690.14), ('speech', 1690.14, 1699.44), ('noEnergy', 1699.44, 1700.1000000000001), ('speech', 1700.1000000000001, 1726.92), ('noEnergy', 1726.92, 1727.66), ('speech', 1727.66, 1729.04), ('noEnergy', 1729.04, 1729.46), ('speech', 1729.46, 1747.04), ('noEnergy', 1747.04, 1747.6200000000001), ('speech', 1747.6200000000001, 1749.94), ('noEnergy', 1749.94, 1750.4), ('speech', 1750.4, 1752.76), ('noEnergy', 1752.76, 1753.3), ('speech', 1753.3, 1763.6200000000001), ('noEnergy', 1763.6200000000001, 1764.1000000000001), ('speech', 1764.1000000000001, 1776.44), ('noEnergy', 1776.44, 1777.28), ('speech', 1777.28, 1790.9), ('noEnergy', 1790.9, 1791.6000000000001), ('speech', 1791.6000000000001, 1805.38), ('noEnergy', 1805.38, 1805.8), ('speech', 1805.8, 1815.74), ('noEnergy', 1815.74, 1816.72), ('speech', 1816.72, 1817.3400000000001), ('noEnergy', 1817.3400000000001, 1818.42), ('speech', 1818.42, 1819.08), ('noise', 1819.08, 1825.2), ('music', 1825.2, 1831.74), ('speech', 1831.74, 1837.18), ('noise', 1837.18, 1843.14), ('music', 1843.14, 1855.02), ('speech', 1855.02, 1893.3400000000001), ('music', 1893.3400000000001, 1906.3600000000001), ('speech', 1906.3600000000001, 1915.1000000000001), ('music', 1915.1000000000001, 1955.82), ('speech', 1955.82, 1971.24), ('music', 1971.24, 2004.8), ('noEnergy', 2004.8, 2005.3600000000001), ('music', 2005.3600000000001, 2009.72), ('speech', 2009.72, 2017.02), ('noEnergy', 2017.02, 2017.44), ('speech', 2017.44, 2043.94), ('noEnergy', 2043.94, 2044.56), ('speech', 2044.56, 2052.36), ('noEnergy', 2052.36, 2053.4), ('speech', 2053.4, 2055.66), ('noEnergy', 2055.66, 2056.48), ('speech', 2056.48, 2066.1), ('noEnergy', 2066.1, 2066.54), ('speech', 2066.54, 2100.46), ('noEnergy', 2100.46, 2101.06), ('speech', 2101.06, 2131.46), ('noEnergy', 2131.46, 2131.88), ('speech', 2131.88, 2134.08), ('noEnergy', 2134.08, 2134.56), ('speech', 2134.56, 2136.66), ('noEnergy', 2136.66, 2137.4), ('speech', 2137.4, 2139.56), ('noEnergy', 2139.56, 2140.84), ('speech', 2140.84, 2151.66), ('noEnergy', 2151.66, 2152.42), ('noise', 2152.42, 2154.56), ('speech', 2154.56, 2158.5), ('noise', 2158.5, 2161.06), ('music', 2161.06, 2168.2200000000003), ('speech', 2168.2200000000003, 2180.0), ('noise', 2180.0, 2183.46), ('music', 2183.46, 2194.98), ('noEnergy', 2194.98, 2195.7200000000003), ('speech', 2195.7200000000003, 2209.0), ('noEnergy', 2209.0, 2210.1), ('music', 2210.1, 2214.64), ('speech', 2214.64, 2221.28), ('music', 2221.28, 2269.48), ('speech', 2269.48, 2319.46), ('music', 2319.46, 2330.2000000000003), ('noEnergy', 2330.2000000000003, 2330.68), ('music', 2330.68, 2336.7000000000003), ('speech', 2336.7000000000003, 2354.42), ('music', 2354.42, 2371.14), ('noEnergy', 2371.14, 2371.56), ('speech', 2371.56, 2391.68), ('noEnergy', 2391.68, 2392.16), ('speech', 2392.16, 2401.12), ('noEnergy', 2401.12, 2401.7200000000003), ('speech', 2401.7200000000003, 2410.12), ('noEnergy', 2410.12, 2410.7400000000002), ('speech', 2410.7400000000002, 2429.16), ('noEnergy', 2429.16, 2429.66), ('speech', 2429.66, 2433.84), ('noEnergy', 2433.84, 2434.7000000000003), ('speech', 2434.7000000000003, 2456.3), ('noEnergy', 2456.3, 2456.9), ('speech', 2456.9, 2460.64), ('noEnergy', 2460.64, 2461.16), ('speech', 2461.16, 2462.28), ('noEnergy', 2462.28, 2462.7000000000003), ('speech', 2462.7000000000003, 2463.0), ('noEnergy', 2463.0, 2464.04), ('speech', 2464.04, 2474.96), ('noEnergy', 2474.96, 2475.4), ('speech', 2475.4, 2503.34), ('noEnergy', 2503.34, 2503.94), ('speech', 2503.94, 2509.9), ('noEnergy', 2509.9, 2510.62), ('speech', 2510.62, 2535.96), ('noEnergy', 2535.96, 2536.46), ('speech', 2536.46, 2571.3), ('noEnergy', 2571.3, 2571.86), ('speech', 2571.86, 2578.38), ('noEnergy', 2578.38, 2578.92), ('speech', 2578.92, 2594.86), ('noEnergy', 2594.86, 2595.36), ('speech', 2595.36, 2599.0), ('noEnergy', 2599.0, 2599.5), ('speech', 2599.5, 2615.2400000000002), ('noEnergy', 2615.2400000000002, 2615.68), ('speech', 2615.68, 2620.12), ('music', 2620.12, 2623.44), ('speech', 2623.44, 2628.88), ('music', 2628.88, 2637.64), ('speech', 2637.64, 2640.84), ('noise', 2640.84, 2643.36), ('music', 2643.36, 2664.14), ('speech', 2664.14, 2685.62), ('noEnergy', 2685.62, 2686.2000000000003), ('speech', 2686.2000000000003, 2688.52), ('music', 2688.52, 2694.26), ('speech', 2694.26, 2699.98)]\n"
     ]
    },
    {
     "ename": "IndexError",
     "evalue": "list index out of range",
     "output_type": "error",
     "traceback": [
      "\u001b[0;31m---------------------------------------------------------------------------\u001b[0m",
      "\u001b[0;31mIndexError\u001b[0m                                Traceback (most recent call last)",
      "Input \u001b[0;32mIn [17]\u001b[0m, in \u001b[0;36m<cell line: 7>\u001b[0;34m()\u001b[0m\n\u001b[1;32m      4\u001b[0m \u001b[38;5;28mprint\u001b[39m(\u001b[38;5;124m\"\u001b[39m\u001b[38;5;130;01m\\n\u001b[39;00m\u001b[38;5;124mOutput files:\u001b[39m\u001b[38;5;130;01m\\n\u001b[39;00m\u001b[38;5;124m\"\u001b[39m,output_file)\n\u001b[1;32m      5\u001b[0m \u001b[38;5;28mprint\u001b[39m(\u001b[38;5;124m\"\u001b[39m\u001b[38;5;130;01m\\n\u001b[39;00m\u001b[38;5;124m-- Step 2.3: Starting batch process --\u001b[39m\u001b[38;5;130;01m\\n\u001b[39;00m\u001b[38;5;124m\"\u001b[39m)\n\u001b[0;32m----> 7\u001b[0m \u001b[43mseg\u001b[49m\u001b[38;5;241;43m.\u001b[39;49m\u001b[43mbatch_process\u001b[49m\u001b[43m(\u001b[49m\u001b[43mfiles\u001b[49m\u001b[43m,\u001b[49m\u001b[43m \u001b[49m\u001b[43moutput_file\u001b[49m\u001b[43m,\u001b[49m\u001b[43m \u001b[49m\u001b[43mtmpdir\u001b[49m\u001b[38;5;241;43m=\u001b[39;49m\u001b[38;5;124;43m'\u001b[39;49m\u001b[38;5;124;43m/mnt/rds/redhen/gallina/home/hxm471/RedHenLab-Multimodal_TV_Show_Segmentation/mtvss/data/tmp/splits/\u001b[39;49m\u001b[38;5;124;43m'\u001b[39;49m\u001b[43m,\u001b[49m\n\u001b[1;32m      8\u001b[0m \u001b[43m                  \u001b[49m\u001b[43mverbose\u001b[49m\u001b[38;5;241;43m=\u001b[39;49m\u001b[38;5;28;43;01mTrue\u001b[39;49;00m\u001b[43m,\u001b[49m\u001b[43m \u001b[49m\u001b[43moutput_format\u001b[49m\u001b[38;5;241;43m=\u001b[39;49m\u001b[38;5;124;43m'\u001b[39;49m\u001b[38;5;124;43mcsv\u001b[39;49m\u001b[38;5;124;43m'\u001b[39;49m\u001b[43m)\u001b[49m\n",
      "File \u001b[0;32m~/inaSpeechSegmenter/inaSpeechSegmenter/segmenter.py:311\u001b[0m, in \u001b[0;36mSegmenter.batch_process\u001b[0;34m(self, linput, loutput, tmpdir, verbose, skipifexist, nbtry, trydelay, output_format)\u001b[0m\n\u001b[1;32m    309\u001b[0m lseg \u001b[38;5;241m=\u001b[39m \u001b[38;5;28mself\u001b[39m\u001b[38;5;241m.\u001b[39msegment_feats(mspec, loge, difflen, \u001b[38;5;241m0\u001b[39m)\n\u001b[1;32m    310\u001b[0m \u001b[38;5;28mprint\u001b[39m(\u001b[38;5;124m'\u001b[39m\u001b[38;5;124mOutput from segement feats:\u001b[39m\u001b[38;5;124m'\u001b[39m,lseg)\n\u001b[0;32m--> 311\u001b[0m fexport(lseg, \u001b[43mloutput\u001b[49m\u001b[43m[\u001b[49m\u001b[38;5;28;43mlen\u001b[39;49m\u001b[43m(\u001b[49m\u001b[43mlmsg\u001b[49m\u001b[43m)\u001b[49m\u001b[43m \u001b[49m\u001b[38;5;241;43m-\u001b[39;49m\u001b[38;5;241;43m1\u001b[39;49m\u001b[43m]\u001b[49m)\n\u001b[1;32m    312\u001b[0m \u001b[38;5;28mprint\u001b[39m(\u001b[38;5;124m'\u001b[39m\u001b[38;5;130;01m\\n\u001b[39;00m\u001b[38;5;124mFinished fexport\u001b[39m\u001b[38;5;124m'\u001b[39m)\n\u001b[1;32m    313\u001b[0m lmsg[\u001b[38;5;241m-\u001b[39m\u001b[38;5;241m1\u001b[39m] \u001b[38;5;241m=\u001b[39m (lmsg[\u001b[38;5;241m-\u001b[39m\u001b[38;5;241m1\u001b[39m][\u001b[38;5;241m0\u001b[39m], lmsg[\u001b[38;5;241m-\u001b[39m\u001b[38;5;241m1\u001b[39m][\u001b[38;5;241m1\u001b[39m], \u001b[38;5;124m'\u001b[39m\u001b[38;5;124mok \u001b[39m\u001b[38;5;124m'\u001b[39m \u001b[38;5;241m+\u001b[39m \u001b[38;5;28mstr\u001b[39m(time\u001b[38;5;241m.\u001b[39mtime() \u001b[38;5;241m-\u001b[39mb))\n",
      "\u001b[0;31mIndexError\u001b[0m: list index out of range"
     ]
    },
    {
     "name": "stdout",
     "output_type": "stream",
     "text": [
      "wav2feats done\n",
      "tmpwav /mnt/rds/redhen/gallina/home/hxm471/RedHenLab-Multimodal_TV_Show_Segmentation/mtvss/data/tmp/splits/tmp29euyh98/2006-01-19_0000_US_00002692_V2_MB13_VHS14_H13_CG_5400_8100.wav\n"
     ]
    }
   ],
   "source": [
    "base = [os.path.splitext(os.path.basename(e))[0] for e in files]\n",
    "\n",
    "print(\"\\nbase files:\\n\",base)\n",
    "print(\"\\nOutput files:\\n\",output_file)\n",
    "print(\"\\n-- Step 2.3: Starting batch process --\\n\")\n",
    "\n",
    "seg.batch_process(files, output_file, tmpdir='/mnt/rds/redhen/gallina/home/hxm471/RedHenLab-Multimodal_TV_Show_Segmentation/mtvss/data/tmp/splits/',\n",
    "                  verbose=True, output_format='csv')"
   ]
  },
  {
   "cell_type": "code",
   "execution_count": null,
   "id": "c2cded59",
   "metadata": {},
   "outputs": [],
   "source": [
    "files = ['/mnt/rds/redhen/gallina/Rosenthal/2006/2006-01/2006-01-19/2006-01-19_0000_US_00002692_V2_MB13_VHS14_H13_CG.mp4','/mnt/rds/redhen/gallina/Rosenthal/2006/2006-12/2006-12-11/2006-12-11_0000_US_00018530_V1_VHS23_MB22_E1_NV.mp4']\n",
    "output_file=['/mnt/rds/redhen/gallina/home/hxm471/RedHenLab-Multimodal_TV_Show_Segmentation/mtvss/data/tmp/splits/2006-01-19_0000_US_00002692_V2_MB13_VHS14_H13_CG.csv','/mnt/rds/redhen/gallina/home/hxm471/RedHenLab-Multimodal_TV_Show_Segmentation/mtvss/data/tmp/splits/2006-12-11_0000_US_00018530_V1_VHS23_MB22_E1_NV.csv']\n"
   ]
  },
  {
   "cell_type": "code",
   "execution_count": null,
   "id": "37c29853",
   "metadata": {},
   "outputs": [],
   "source": [
    "with warnings.catch_warnings():\n",
    "    warnings.simplefilter(\"ignore\")\n",
    "    \n",
    "    base = [os.path.splitext(os.path.basename(e))[0] for e in files]\n",
    "    \n",
    "    print(\"\\nbase files:\\n\",base)\n",
    "    print(\"\\nOutput files:\\n\",output_file)\n",
    "    print(\"\\n-- Step 2.3: Starting batch process --\\n\")\n",
    "    \n",
    "    seg.batch_process(files, output_file, tmpdir='/mnt/rds/redhen/gallina/home/hxm471/RedHenLab-Multimodal_TV_Show_Segmentation/mtvss/data/tmp/splits/',\n",
    "                      verbose=True, output_format='csv')"
   ]
  },
  {
   "cell_type": "code",
   "execution_count": null,
   "id": "11d9019a",
   "metadata": {},
   "outputs": [],
   "source": [
    "from subprocess import Popen, PIPE"
   ]
  },
  {
   "cell_type": "code",
   "execution_count": null,
   "id": "6efccec1",
   "metadata": {},
   "outputs": [],
   "source": []
  },
  {
   "cell_type": "code",
   "execution_count": null,
   "id": "275dea24",
   "metadata": {},
   "outputs": [],
   "source": [
    "args = [\"ffprobe\",\"-i\",files[0],\"-v\",\"quiet\",\"-show_entries\",\"format=duration\",\n",
    "       \"-of\",\"default=noprint_wrappers=1:nokey=1\"]"
   ]
  },
  {
   "cell_type": "code",
   "execution_count": null,
   "id": "4b829e09",
   "metadata": {},
   "outputs": [],
   "source": [
    "p = Popen(args, stdout=PIPE, stderr=PIPE)"
   ]
  },
  {
   "cell_type": "code",
   "execution_count": null,
   "id": "9db9422d",
   "metadata": {},
   "outputs": [],
   "source": [
    "output,error = p.communicate()"
   ]
  },
  {
   "cell_type": "code",
   "execution_count": null,
   "id": "88e90961",
   "metadata": {},
   "outputs": [],
   "source": [
    "type(output.decode(\"utf-8\"))"
   ]
  },
  {
   "cell_type": "code",
   "execution_count": null,
   "id": "6cc2747d",
   "metadata": {},
   "outputs": [],
   "source": [
    "s_output_strip = output.decode(\"utf-8\").strip()\n",
    "s_output_strip"
   ]
  },
  {
   "cell_type": "code",
   "execution_count": null,
   "id": "1e095573",
   "metadata": {},
   "outputs": [],
   "source": [
    "f_output_strip = float(s_output_strip)\n",
    "f_output_strip"
   ]
  },
  {
   "cell_type": "code",
   "execution_count": null,
   "id": "7aded271",
   "metadata": {},
   "outputs": [],
   "source": [
    "i_output = int(f_output_strip)\n",
    "i_output"
   ]
  },
  {
   "cell_type": "code",
   "execution_count": null,
   "id": "ff485d3d",
   "metadata": {},
   "outputs": [],
   "source": [
    "import math"
   ]
  },
  {
   "cell_type": "code",
   "execution_count": null,
   "id": "471d9723",
   "metadata": {},
   "outputs": [],
   "source": [
    "i_output//2700"
   ]
  },
  {
   "cell_type": "code",
   "execution_count": null,
   "id": "e80b1b24",
   "metadata": {
    "scrolled": true
   },
   "outputs": [],
   "source": [
    "for i in range(math.ceil(i_output/2700)):\n",
    "    if(math.ceil(i_output/2700)-1 == i):\n",
    "        start_sec = i*2700\n",
    "        args += ['-ss', '%f' % start_sec]\n",
    "        tmpwav = tmpdirname + '/' + base + '_'+str(start_sec)+'.wav'\n",
    "    else:\n",
    "        start_sec = i*2700\n",
    "        args += ['-ss', '%f' % start_sec]\n",
    "\n",
    "        stop_sec = start_sec+2700\n",
    "        args += ['-to', '%f' % stop_sec]\n",
    "\n",
    "        tmpwav = tmpdirname + '/' + base + '_'+str(start_sec)+'_'+str(stop_sec)+'.wav'\n",
    "\n",
    "    print('tmpwav',tmpwav)\n",
    "    args += [tmpwav]\n",
    "\n",
    "    # launch ffmpeg\n",
    "    p = Popen(args, stdout=PIPE, stderr=PIPE)\n",
    "    output, error = p.communicate()\n",
    "    assert p.returncode == 0, error\n",
    "\n",
    "    # Get Mel Power Spectrogram and Energy\n",
    "    try:\n",
    "        mel_output.append([_wav2feats(tmpwav)])\n",
    "        print(mel_output)\n",
    "    except:\n",
    "        print(_wav2feats(tmpwav))\n",
    "        print(mel_output)"
   ]
  },
  {
   "cell_type": "code",
   "execution_count": null,
   "id": "144cfedf",
   "metadata": {},
   "outputs": [
    {
     "name": "stdout",
     "output_type": "stream",
     "text": [
      "Starting _wav2feats\n",
      ".wav\n",
      "wav2feats done\n",
      "[[(array([[-32.463764 , -32.035408 , -31.539701 , ..., -29.74881  ,\n",
      "        -29.935236 , -30.722246 ],\n",
      "       [-13.255214 , -13.140497 , -13.16552  , ..., -13.3342905,\n",
      "        -13.762875 , -13.80878  ],\n",
      "       [-10.913487 ,  -9.879338 , -10.441387 , ...,  -7.4880433,\n",
      "         -8.006143 ,  -8.794882 ],\n",
      "       ...,\n",
      "       [ -8.840938 ,  -7.108992 ,  -6.0094843, ..., -10.161992 ,\n",
      "        -10.430389 , -11.119968 ],\n",
      "       [ -8.231871 ,  -6.986303 ,  -6.135151 , ...,  -9.589039 ,\n",
      "        -10.604577 , -11.359017 ],\n",
      "       [ -7.9119587,  -7.2868414,  -6.1092787, ...,  -9.507052 ,\n",
      "        -10.021125 , -10.0439   ]], dtype=float32), array([-18.87271  ,  -5.199673 ,  -4.035604 , ...,  -2.8083267,\n",
      "        -2.9989595,  -3.1119235], dtype=float32), 0)], [(array([[ -7.569926 ,  -7.288165 ,  -5.953776 , ...,  -9.404838 ,\n",
      "         -9.585047 , -10.249117 ],\n",
      "       [ -8.367337 ,  -7.358151 ,  -5.746033 , ...,  -9.314454 ,\n",
      "         -9.307016 , -10.117864 ],\n",
      "       [ -9.017323 ,  -7.5009465,  -7.7627993, ...,  -8.862713 ,\n",
      "         -9.243231 , -10.092485 ],\n",
      "       ...,\n",
      "       [-10.951399 ,  -9.290395 ,  -8.51799  , ..., -13.808423 ,\n",
      "        -15.111453 , -15.240005 ],\n",
      "       [-11.327022 , -10.405101 ,  -9.898311 , ..., -14.448731 ,\n",
      "        -14.64173  , -14.727833 ],\n",
      "       [-10.186784 ,  -9.758658 ,  -8.880105 , ..., -14.337662 ,\n",
      "        -14.673585 , -15.183426 ]], dtype=float32), array([-3.0485196, -3.0140307, -2.97007  , ..., -4.685751 , -4.290446 ,\n",
      "       -4.7129946], dtype=float32), 0)]]\n",
      "tmpwav /mnt/rds/redhen/gallina/home/hxm471/RedHenLab-Multimodal_TV_Show_Segmentation/mtvss/data/tmp/splits/tmp23ake67c/2006-01-19_0000_US_00002692_V2_MB13_VHS14_H13_CG_5400_8100.wav\n",
      "Starting _wav2feats\n",
      ".wav\n",
      "wav2feats done\n",
      "[[(array([[-32.463764 , -32.035408 , -31.539701 , ..., -29.74881  ,\n",
      "        -29.935236 , -30.722246 ],\n",
      "       [-13.255214 , -13.140497 , -13.16552  , ..., -13.3342905,\n",
      "        -13.762875 , -13.80878  ],\n",
      "       [-10.913487 ,  -9.879338 , -10.441387 , ...,  -7.4880433,\n",
      "         -8.006143 ,  -8.794882 ],\n",
      "       ...,\n",
      "       [ -8.840938 ,  -7.108992 ,  -6.0094843, ..., -10.161992 ,\n",
      "        -10.430389 , -11.119968 ],\n",
      "       [ -8.231871 ,  -6.986303 ,  -6.135151 , ...,  -9.589039 ,\n",
      "        -10.604577 , -11.359017 ],\n",
      "       [ -7.9119587,  -7.2868414,  -6.1092787, ...,  -9.507052 ,\n",
      "        -10.021125 , -10.0439   ]], dtype=float32), array([-18.87271  ,  -5.199673 ,  -4.035604 , ...,  -2.8083267,\n",
      "        -2.9989595,  -3.1119235], dtype=float32), 0)], [(array([[ -7.569926 ,  -7.288165 ,  -5.953776 , ...,  -9.404838 ,\n",
      "         -9.585047 , -10.249117 ],\n",
      "       [ -8.367337 ,  -7.358151 ,  -5.746033 , ...,  -9.314454 ,\n",
      "         -9.307016 , -10.117864 ],\n",
      "       [ -9.017323 ,  -7.5009465,  -7.7627993, ...,  -8.862713 ,\n",
      "         -9.243231 , -10.092485 ],\n",
      "       ...,\n",
      "       [-10.951399 ,  -9.290395 ,  -8.51799  , ..., -13.808423 ,\n",
      "        -15.111453 , -15.240005 ],\n",
      "       [-11.327022 , -10.405101 ,  -9.898311 , ..., -14.448731 ,\n",
      "        -14.64173  , -14.727833 ],\n",
      "       [-10.186784 ,  -9.758658 ,  -8.880105 , ..., -14.337662 ,\n",
      "        -14.673585 , -15.183426 ]], dtype=float32), array([-3.0485196, -3.0140307, -2.97007  , ..., -4.685751 , -4.290446 ,\n",
      "       -4.7129946], dtype=float32), 0)], [(array([[-12.193738, -11.24981 ,  -8.880682, ..., -14.323146, -14.504584,\n",
      "        -14.620891],\n",
      "       [-10.757137, -10.794792, -10.442978, ..., -14.36854 , -14.559933,\n",
      "        -14.670558],\n",
      "       [-10.529157, -10.137875,  -7.585806, ..., -14.562606, -14.451778,\n",
      "        -14.736474],\n",
      "       ...,\n",
      "       [-10.169097,  -9.865131, -11.632103, ...,  -9.073708, -10.710325,\n",
      "        -11.470611],\n",
      "       [ -9.863252,  -9.270547,  -9.306829, ...,  -9.843868, -10.156451,\n",
      "        -10.75351 ],\n",
      "       [-10.089003, -10.755243,  -8.033482, ...,  -9.30953 ,  -9.767592,\n",
      "        -10.754575]], dtype=float32), array([-5.258992 , -5.245948 , -6.6191235, ..., -4.3064766, -2.961619 ,\n",
      "       -2.167799 ], dtype=float32), 0)]]\n",
      "tmpwav /mnt/rds/redhen/gallina/home/hxm471/RedHenLab-Multimodal_TV_Show_Segmentation/mtvss/data/tmp/splits/tmp23ake67c/2006-01-19_0000_US_00002692_V2_MB13_VHS14_H13_CG_8100_10800.wav\n",
      "Starting _wav2feats\n",
      ".wav\n",
      "wav2feats done\n",
      "[[(array([[-32.463764 , -32.035408 , -31.539701 , ..., -29.74881  ,\n",
      "        -29.935236 , -30.722246 ],\n",
      "       [-13.255214 , -13.140497 , -13.16552  , ..., -13.3342905,\n",
      "        -13.762875 , -13.80878  ],\n",
      "       [-10.913487 ,  -9.879338 , -10.441387 , ...,  -7.4880433,\n",
      "         -8.006143 ,  -8.794882 ],\n",
      "       ...,\n",
      "       [ -8.840938 ,  -7.108992 ,  -6.0094843, ..., -10.161992 ,\n",
      "        -10.430389 , -11.119968 ],\n",
      "       [ -8.231871 ,  -6.986303 ,  -6.135151 , ...,  -9.589039 ,\n",
      "        -10.604577 , -11.359017 ],\n",
      "       [ -7.9119587,  -7.2868414,  -6.1092787, ...,  -9.507052 ,\n",
      "        -10.021125 , -10.0439   ]], dtype=float32), array([-18.87271  ,  -5.199673 ,  -4.035604 , ...,  -2.8083267,\n",
      "        -2.9989595,  -3.1119235], dtype=float32), 0)], [(array([[ -7.569926 ,  -7.288165 ,  -5.953776 , ...,  -9.404838 ,\n",
      "         -9.585047 , -10.249117 ],\n",
      "       [ -8.367337 ,  -7.358151 ,  -5.746033 , ...,  -9.314454 ,\n",
      "         -9.307016 , -10.117864 ],\n",
      "       [ -9.017323 ,  -7.5009465,  -7.7627993, ...,  -8.862713 ,\n",
      "         -9.243231 , -10.092485 ],\n",
      "       ...,\n",
      "       [-10.951399 ,  -9.290395 ,  -8.51799  , ..., -13.808423 ,\n",
      "        -15.111453 , -15.240005 ],\n",
      "       [-11.327022 , -10.405101 ,  -9.898311 , ..., -14.448731 ,\n",
      "        -14.64173  , -14.727833 ],\n",
      "       [-10.186784 ,  -9.758658 ,  -8.880105 , ..., -14.337662 ,\n",
      "        -14.673585 , -15.183426 ]], dtype=float32), array([-3.0485196, -3.0140307, -2.97007  , ..., -4.685751 , -4.290446 ,\n",
      "       -4.7129946], dtype=float32), 0)], [(array([[-12.193738, -11.24981 ,  -8.880682, ..., -14.323146, -14.504584,\n",
      "        -14.620891],\n",
      "       [-10.757137, -10.794792, -10.442978, ..., -14.36854 , -14.559933,\n",
      "        -14.670558],\n",
      "       [-10.529157, -10.137875,  -7.585806, ..., -14.562606, -14.451778,\n",
      "        -14.736474],\n",
      "       ...,\n",
      "       [-10.169097,  -9.865131, -11.632103, ...,  -9.073708, -10.710325,\n",
      "        -11.470611],\n",
      "       [ -9.863252,  -9.270547,  -9.306829, ...,  -9.843868, -10.156451,\n",
      "        -10.75351 ],\n",
      "       [-10.089003, -10.755243,  -8.033482, ...,  -9.30953 ,  -9.767592,\n",
      "        -10.754575]], dtype=float32), array([-5.258992 , -5.245948 , -6.6191235, ..., -4.3064766, -2.961619 ,\n",
      "       -2.167799 ], dtype=float32), 0)], [(array([[ -9.966465 , -10.947721 ,  -9.07739  , ...,  -9.791676 ,\n",
      "        -10.1083975, -10.964562 ],\n",
      "       [ -9.683592 ,  -9.648298 ,  -9.679403 , ..., -10.78502  ,\n",
      "        -10.98671  , -11.727675 ],\n",
      "       [-10.296968 , -10.235432 , -10.003051 , ..., -10.960644 ,\n",
      "        -11.239809 , -12.0835705],\n",
      "       ...,\n",
      "       [ -7.5191154,  -6.043746 ,  -6.294225 , ...,  -9.207163 ,\n",
      "         -9.1654005,  -9.026358 ],\n",
      "       [ -7.2843566,  -6.546952 ,  -6.2327824, ...,  -9.309137 ,\n",
      "         -9.394076 ,  -9.755525 ],\n",
      "       [ -7.1285644,  -6.4994917,  -7.100646 , ...,  -9.216688 ,\n",
      "         -9.442033 , -10.351369 ]], dtype=float32), array([-3.6181161, -4.9815516, -6.0379195, ..., -3.877469 , -3.9420502,\n",
      "       -3.808981 ], dtype=float32), 0)]]\n",
      "tmpwav /mnt/rds/redhen/gallina/home/hxm471/RedHenLab-Multimodal_TV_Show_Segmentation/mtvss/data/tmp/splits/tmp23ake67c/2006-01-19_0000_US_00002692_V2_MB13_VHS14_H13_CG_10800_13500.wav\n",
      "Starting _wav2feats\n",
      ".wav\n",
      "wav2feats done\n",
      "[[(array([[-32.463764 , -32.035408 , -31.539701 , ..., -29.74881  ,\n",
      "        -29.935236 , -30.722246 ],\n",
      "       [-13.255214 , -13.140497 , -13.16552  , ..., -13.3342905,\n",
      "        -13.762875 , -13.80878  ],\n",
      "       [-10.913487 ,  -9.879338 , -10.441387 , ...,  -7.4880433,\n",
      "         -8.006143 ,  -8.794882 ],\n",
      "       ...,\n",
      "       [ -8.840938 ,  -7.108992 ,  -6.0094843, ..., -10.161992 ,\n",
      "        -10.430389 , -11.119968 ],\n",
      "       [ -8.231871 ,  -6.986303 ,  -6.135151 , ...,  -9.589039 ,\n",
      "        -10.604577 , -11.359017 ],\n",
      "       [ -7.9119587,  -7.2868414,  -6.1092787, ...,  -9.507052 ,\n",
      "        -10.021125 , -10.0439   ]], dtype=float32), array([-18.87271  ,  -5.199673 ,  -4.035604 , ...,  -2.8083267,\n",
      "        -2.9989595,  -3.1119235], dtype=float32), 0)], [(array([[ -7.569926 ,  -7.288165 ,  -5.953776 , ...,  -9.404838 ,\n",
      "         -9.585047 , -10.249117 ],\n",
      "       [ -8.367337 ,  -7.358151 ,  -5.746033 , ...,  -9.314454 ,\n",
      "         -9.307016 , -10.117864 ],\n",
      "       [ -9.017323 ,  -7.5009465,  -7.7627993, ...,  -8.862713 ,\n",
      "         -9.243231 , -10.092485 ],\n",
      "       ...,\n",
      "       [-10.951399 ,  -9.290395 ,  -8.51799  , ..., -13.808423 ,\n",
      "        -15.111453 , -15.240005 ],\n",
      "       [-11.327022 , -10.405101 ,  -9.898311 , ..., -14.448731 ,\n",
      "        -14.64173  , -14.727833 ],\n",
      "       [-10.186784 ,  -9.758658 ,  -8.880105 , ..., -14.337662 ,\n",
      "        -14.673585 , -15.183426 ]], dtype=float32), array([-3.0485196, -3.0140307, -2.97007  , ..., -4.685751 , -4.290446 ,\n",
      "       -4.7129946], dtype=float32), 0)], [(array([[-12.193738, -11.24981 ,  -8.880682, ..., -14.323146, -14.504584,\n",
      "        -14.620891],\n",
      "       [-10.757137, -10.794792, -10.442978, ..., -14.36854 , -14.559933,\n",
      "        -14.670558],\n",
      "       [-10.529157, -10.137875,  -7.585806, ..., -14.562606, -14.451778,\n",
      "        -14.736474],\n",
      "       ...,\n",
      "       [-10.169097,  -9.865131, -11.632103, ...,  -9.073708, -10.710325,\n",
      "        -11.470611],\n",
      "       [ -9.863252,  -9.270547,  -9.306829, ...,  -9.843868, -10.156451,\n",
      "        -10.75351 ],\n",
      "       [-10.089003, -10.755243,  -8.033482, ...,  -9.30953 ,  -9.767592,\n",
      "        -10.754575]], dtype=float32), array([-5.258992 , -5.245948 , -6.6191235, ..., -4.3064766, -2.961619 ,\n",
      "       -2.167799 ], dtype=float32), 0)], [(array([[ -9.966465 , -10.947721 ,  -9.07739  , ...,  -9.791676 ,\n",
      "        -10.1083975, -10.964562 ],\n",
      "       [ -9.683592 ,  -9.648298 ,  -9.679403 , ..., -10.78502  ,\n",
      "        -10.98671  , -11.727675 ],\n",
      "       [-10.296968 , -10.235432 , -10.003051 , ..., -10.960644 ,\n",
      "        -11.239809 , -12.0835705],\n",
      "       ...,\n",
      "       [ -7.5191154,  -6.043746 ,  -6.294225 , ...,  -9.207163 ,\n",
      "         -9.1654005,  -9.026358 ],\n",
      "       [ -7.2843566,  -6.546952 ,  -6.2327824, ...,  -9.309137 ,\n",
      "         -9.394076 ,  -9.755525 ],\n",
      "       [ -7.1285644,  -6.4994917,  -7.100646 , ...,  -9.216688 ,\n",
      "         -9.442033 , -10.351369 ]], dtype=float32), array([-3.6181161, -4.9815516, -6.0379195, ..., -3.877469 , -3.9420502,\n",
      "       -3.808981 ], dtype=float32), 0)], [(array([[-7.7322955, -8.385476 , -5.313422 , ..., -8.379834 , -8.198007 ,\n",
      "        -8.480492 ],\n",
      "       [-7.170421 , -6.405901 , -5.915062 , ..., -8.283975 , -7.35143  ,\n",
      "        -7.857069 ],\n",
      "       [-8.049391 , -6.7440434, -4.9817395, ..., -7.3482404, -6.7428975,\n",
      "        -6.3173876],\n",
      "       ...,\n",
      "       [-7.767259 , -8.124711 , -8.109384 , ..., -5.8061733, -6.1216   ,\n",
      "        -6.7837   ],\n",
      "       [-7.9409804, -8.119903 , -9.449467 , ..., -5.606623 , -5.5991096,\n",
      "        -6.604328 ],\n",
      "       [-9.565698 , -9.792361 , -9.175415 , ..., -6.4351864, -5.9957027,\n",
      "        -6.484421 ]], dtype=float32), array([-3.1724348, -2.546247 , -2.4190583, ..., -1.7396951, -1.8401467,\n",
      "       -1.9968003], dtype=float32), 0)]]\n",
      "tmpwav /mnt/rds/redhen/gallina/home/hxm471/RedHenLab-Multimodal_TV_Show_Segmentation/mtvss/data/tmp/splits/tmp23ake67c/2006-01-19_0000_US_00002692_V2_MB13_VHS14_H13_CG_13500_16200.wav\n"
     ]
    },
    {
     "name": "stdout",
     "output_type": "stream",
     "text": [
      "Starting _wav2feats\n",
      ".wav\n",
      "wav2feats done\n",
      "[[(array([[-32.463764 , -32.035408 , -31.539701 , ..., -29.74881  ,\n",
      "        -29.935236 , -30.722246 ],\n",
      "       [-13.255214 , -13.140497 , -13.16552  , ..., -13.3342905,\n",
      "        -13.762875 , -13.80878  ],\n",
      "       [-10.913487 ,  -9.879338 , -10.441387 , ...,  -7.4880433,\n",
      "         -8.006143 ,  -8.794882 ],\n",
      "       ...,\n",
      "       [ -8.840938 ,  -7.108992 ,  -6.0094843, ..., -10.161992 ,\n",
      "        -10.430389 , -11.119968 ],\n",
      "       [ -8.231871 ,  -6.986303 ,  -6.135151 , ...,  -9.589039 ,\n",
      "        -10.604577 , -11.359017 ],\n",
      "       [ -7.9119587,  -7.2868414,  -6.1092787, ...,  -9.507052 ,\n",
      "        -10.021125 , -10.0439   ]], dtype=float32), array([-18.87271  ,  -5.199673 ,  -4.035604 , ...,  -2.8083267,\n",
      "        -2.9989595,  -3.1119235], dtype=float32), 0)], [(array([[ -7.569926 ,  -7.288165 ,  -5.953776 , ...,  -9.404838 ,\n",
      "         -9.585047 , -10.249117 ],\n",
      "       [ -8.367337 ,  -7.358151 ,  -5.746033 , ...,  -9.314454 ,\n",
      "         -9.307016 , -10.117864 ],\n",
      "       [ -9.017323 ,  -7.5009465,  -7.7627993, ...,  -8.862713 ,\n",
      "         -9.243231 , -10.092485 ],\n",
      "       ...,\n",
      "       [-10.951399 ,  -9.290395 ,  -8.51799  , ..., -13.808423 ,\n",
      "        -15.111453 , -15.240005 ],\n",
      "       [-11.327022 , -10.405101 ,  -9.898311 , ..., -14.448731 ,\n",
      "        -14.64173  , -14.727833 ],\n",
      "       [-10.186784 ,  -9.758658 ,  -8.880105 , ..., -14.337662 ,\n",
      "        -14.673585 , -15.183426 ]], dtype=float32), array([-3.0485196, -3.0140307, -2.97007  , ..., -4.685751 , -4.290446 ,\n",
      "       -4.7129946], dtype=float32), 0)], [(array([[-12.193738, -11.24981 ,  -8.880682, ..., -14.323146, -14.504584,\n",
      "        -14.620891],\n",
      "       [-10.757137, -10.794792, -10.442978, ..., -14.36854 , -14.559933,\n",
      "        -14.670558],\n",
      "       [-10.529157, -10.137875,  -7.585806, ..., -14.562606, -14.451778,\n",
      "        -14.736474],\n",
      "       ...,\n",
      "       [-10.169097,  -9.865131, -11.632103, ...,  -9.073708, -10.710325,\n",
      "        -11.470611],\n",
      "       [ -9.863252,  -9.270547,  -9.306829, ...,  -9.843868, -10.156451,\n",
      "        -10.75351 ],\n",
      "       [-10.089003, -10.755243,  -8.033482, ...,  -9.30953 ,  -9.767592,\n",
      "        -10.754575]], dtype=float32), array([-5.258992 , -5.245948 , -6.6191235, ..., -4.3064766, -2.961619 ,\n",
      "       -2.167799 ], dtype=float32), 0)], [(array([[ -9.966465 , -10.947721 ,  -9.07739  , ...,  -9.791676 ,\n",
      "        -10.1083975, -10.964562 ],\n",
      "       [ -9.683592 ,  -9.648298 ,  -9.679403 , ..., -10.78502  ,\n",
      "        -10.98671  , -11.727675 ],\n",
      "       [-10.296968 , -10.235432 , -10.003051 , ..., -10.960644 ,\n",
      "        -11.239809 , -12.0835705],\n",
      "       ...,\n",
      "       [ -7.5191154,  -6.043746 ,  -6.294225 , ...,  -9.207163 ,\n",
      "         -9.1654005,  -9.026358 ],\n",
      "       [ -7.2843566,  -6.546952 ,  -6.2327824, ...,  -9.309137 ,\n",
      "         -9.394076 ,  -9.755525 ],\n",
      "       [ -7.1285644,  -6.4994917,  -7.100646 , ...,  -9.216688 ,\n",
      "         -9.442033 , -10.351369 ]], dtype=float32), array([-3.6181161, -4.9815516, -6.0379195, ..., -3.877469 , -3.9420502,\n",
      "       -3.808981 ], dtype=float32), 0)], [(array([[-7.7322955, -8.385476 , -5.313422 , ..., -8.379834 , -8.198007 ,\n",
      "        -8.480492 ],\n",
      "       [-7.170421 , -6.405901 , -5.915062 , ..., -8.283975 , -7.35143  ,\n",
      "        -7.857069 ],\n",
      "       [-8.049391 , -6.7440434, -4.9817395, ..., -7.3482404, -6.7428975,\n",
      "        -6.3173876],\n",
      "       ...,\n",
      "       [-7.767259 , -8.124711 , -8.109384 , ..., -5.8061733, -6.1216   ,\n",
      "        -6.7837   ],\n",
      "       [-7.9409804, -8.119903 , -9.449467 , ..., -5.606623 , -5.5991096,\n",
      "        -6.604328 ],\n",
      "       [-9.565698 , -9.792361 , -9.175415 , ..., -6.4351864, -5.9957027,\n",
      "        -6.484421 ]], dtype=float32), array([-3.1724348, -2.546247 , -2.4190583, ..., -1.7396951, -1.8401467,\n",
      "       -1.9968003], dtype=float32), 0)], [(array([[ -8.376467 ,  -8.426569 ,  -9.4954   , ...,  -6.035593 ,\n",
      "         -6.345656 ,  -7.3591685],\n",
      "       [ -6.2013893,  -7.2967362,  -8.316773 , ...,  -5.2676625,\n",
      "         -6.0327873,  -7.062413 ],\n",
      "       [ -6.6128736,  -7.502551 ,  -8.322564 , ...,  -6.705733 ,\n",
      "         -6.896237 ,  -7.6717954],\n",
      "       ...,\n",
      "       [-15.199978 , -15.413783 , -15.151013 , ...,  -9.578386 ,\n",
      "         -9.541712 , -11.19871  ],\n",
      "       [-15.08686  , -14.879494 , -15.132951 , ..., -10.62079  ,\n",
      "        -10.027766 , -11.659995 ],\n",
      "       [-15.155062 , -15.535108 , -16.376707 , ..., -11.996537 ,\n",
      "        -11.72048  , -13.63358  ]], dtype=float32), array([-1.5562582, -1.602898 , -1.8389988, ..., -5.3122644, -5.9758973,\n",
      "       -6.911626 ], dtype=float32), 0)]]\n",
      "tmpwav /mnt/rds/redhen/gallina/home/hxm471/RedHenLab-Multimodal_TV_Show_Segmentation/mtvss/data/tmp/splits/tmp23ake67c/2006-01-19_0000_US_00002692_V2_MB13_VHS14_H13_CG_16200_18900.wav\n",
      "Starting _wav2feats\n",
      ".wav\n",
      "wav2feats done\n",
      "[[(array([[-32.463764 , -32.035408 , -31.539701 , ..., -29.74881  ,\n",
      "        -29.935236 , -30.722246 ],\n",
      "       [-13.255214 , -13.140497 , -13.16552  , ..., -13.3342905,\n",
      "        -13.762875 , -13.80878  ],\n",
      "       [-10.913487 ,  -9.879338 , -10.441387 , ...,  -7.4880433,\n",
      "         -8.006143 ,  -8.794882 ],\n",
      "       ...,\n",
      "       [ -8.840938 ,  -7.108992 ,  -6.0094843, ..., -10.161992 ,\n",
      "        -10.430389 , -11.119968 ],\n",
      "       [ -8.231871 ,  -6.986303 ,  -6.135151 , ...,  -9.589039 ,\n",
      "        -10.604577 , -11.359017 ],\n",
      "       [ -7.9119587,  -7.2868414,  -6.1092787, ...,  -9.507052 ,\n",
      "        -10.021125 , -10.0439   ]], dtype=float32), array([-18.87271  ,  -5.199673 ,  -4.035604 , ...,  -2.8083267,\n",
      "        -2.9989595,  -3.1119235], dtype=float32), 0)], [(array([[ -7.569926 ,  -7.288165 ,  -5.953776 , ...,  -9.404838 ,\n",
      "         -9.585047 , -10.249117 ],\n",
      "       [ -8.367337 ,  -7.358151 ,  -5.746033 , ...,  -9.314454 ,\n",
      "         -9.307016 , -10.117864 ],\n",
      "       [ -9.017323 ,  -7.5009465,  -7.7627993, ...,  -8.862713 ,\n",
      "         -9.243231 , -10.092485 ],\n",
      "       ...,\n",
      "       [-10.951399 ,  -9.290395 ,  -8.51799  , ..., -13.808423 ,\n",
      "        -15.111453 , -15.240005 ],\n",
      "       [-11.327022 , -10.405101 ,  -9.898311 , ..., -14.448731 ,\n",
      "        -14.64173  , -14.727833 ],\n",
      "       [-10.186784 ,  -9.758658 ,  -8.880105 , ..., -14.337662 ,\n",
      "        -14.673585 , -15.183426 ]], dtype=float32), array([-3.0485196, -3.0140307, -2.97007  , ..., -4.685751 , -4.290446 ,\n",
      "       -4.7129946], dtype=float32), 0)], [(array([[-12.193738, -11.24981 ,  -8.880682, ..., -14.323146, -14.504584,\n",
      "        -14.620891],\n",
      "       [-10.757137, -10.794792, -10.442978, ..., -14.36854 , -14.559933,\n",
      "        -14.670558],\n",
      "       [-10.529157, -10.137875,  -7.585806, ..., -14.562606, -14.451778,\n",
      "        -14.736474],\n",
      "       ...,\n",
      "       [-10.169097,  -9.865131, -11.632103, ...,  -9.073708, -10.710325,\n",
      "        -11.470611],\n",
      "       [ -9.863252,  -9.270547,  -9.306829, ...,  -9.843868, -10.156451,\n",
      "        -10.75351 ],\n",
      "       [-10.089003, -10.755243,  -8.033482, ...,  -9.30953 ,  -9.767592,\n",
      "        -10.754575]], dtype=float32), array([-5.258992 , -5.245948 , -6.6191235, ..., -4.3064766, -2.961619 ,\n",
      "       -2.167799 ], dtype=float32), 0)], [(array([[ -9.966465 , -10.947721 ,  -9.07739  , ...,  -9.791676 ,\n",
      "        -10.1083975, -10.964562 ],\n",
      "       [ -9.683592 ,  -9.648298 ,  -9.679403 , ..., -10.78502  ,\n",
      "        -10.98671  , -11.727675 ],\n",
      "       [-10.296968 , -10.235432 , -10.003051 , ..., -10.960644 ,\n",
      "        -11.239809 , -12.0835705],\n",
      "       ...,\n",
      "       [ -7.5191154,  -6.043746 ,  -6.294225 , ...,  -9.207163 ,\n",
      "         -9.1654005,  -9.026358 ],\n",
      "       [ -7.2843566,  -6.546952 ,  -6.2327824, ...,  -9.309137 ,\n",
      "         -9.394076 ,  -9.755525 ],\n",
      "       [ -7.1285644,  -6.4994917,  -7.100646 , ...,  -9.216688 ,\n",
      "         -9.442033 , -10.351369 ]], dtype=float32), array([-3.6181161, -4.9815516, -6.0379195, ..., -3.877469 , -3.9420502,\n",
      "       -3.808981 ], dtype=float32), 0)], [(array([[-7.7322955, -8.385476 , -5.313422 , ..., -8.379834 , -8.198007 ,\n",
      "        -8.480492 ],\n",
      "       [-7.170421 , -6.405901 , -5.915062 , ..., -8.283975 , -7.35143  ,\n",
      "        -7.857069 ],\n",
      "       [-8.049391 , -6.7440434, -4.9817395, ..., -7.3482404, -6.7428975,\n",
      "        -6.3173876],\n",
      "       ...,\n",
      "       [-7.767259 , -8.124711 , -8.109384 , ..., -5.8061733, -6.1216   ,\n",
      "        -6.7837   ],\n",
      "       [-7.9409804, -8.119903 , -9.449467 , ..., -5.606623 , -5.5991096,\n",
      "        -6.604328 ],\n",
      "       [-9.565698 , -9.792361 , -9.175415 , ..., -6.4351864, -5.9957027,\n",
      "        -6.484421 ]], dtype=float32), array([-3.1724348, -2.546247 , -2.4190583, ..., -1.7396951, -1.8401467,\n",
      "       -1.9968003], dtype=float32), 0)], [(array([[ -8.376467 ,  -8.426569 ,  -9.4954   , ...,  -6.035593 ,\n",
      "         -6.345656 ,  -7.3591685],\n",
      "       [ -6.2013893,  -7.2967362,  -8.316773 , ...,  -5.2676625,\n",
      "         -6.0327873,  -7.062413 ],\n",
      "       [ -6.6128736,  -7.502551 ,  -8.322564 , ...,  -6.705733 ,\n",
      "         -6.896237 ,  -7.6717954],\n",
      "       ...,\n",
      "       [-15.199978 , -15.413783 , -15.151013 , ...,  -9.578386 ,\n",
      "         -9.541712 , -11.19871  ],\n",
      "       [-15.08686  , -14.879494 , -15.132951 , ..., -10.62079  ,\n",
      "        -10.027766 , -11.659995 ],\n",
      "       [-15.155062 , -15.535108 , -16.376707 , ..., -11.996537 ,\n",
      "        -11.72048  , -13.63358  ]], dtype=float32), array([-1.5562582, -1.602898 , -1.8389988, ..., -5.3122644, -5.9758973,\n",
      "       -6.911626 ], dtype=float32), 0)], [(array([[ -9.929944 ,  -8.639151 , -10.852308 , ..., -12.8222   ,\n",
      "        -12.814543 , -14.121462 ],\n",
      "       [-10.835043 ,  -9.443491 , -11.292198 , ..., -13.007637 ,\n",
      "        -13.951122 , -13.637449 ],\n",
      "       [-10.691704 ,  -9.496345 , -11.207158 , ..., -12.914694 ,\n",
      "        -13.4521885, -13.346339 ],\n",
      "       ...,\n",
      "       [ -9.764715 ,  -9.4502   ,  -8.903096 , ...,  -6.913851 ,\n",
      "         -6.1076484,  -7.5004473],\n",
      "       [-10.70295  , -10.618552 ,  -9.200012 , ...,  -6.4420958,\n",
      "         -5.7688117,  -7.368126 ],\n",
      "       [-12.755849 , -10.597953 ,  -8.930365 , ...,  -6.193643 ,\n",
      "         -6.0199394,  -7.38149  ]], dtype=float32), array([-3.2875626, -2.8468125, -2.7170463, ..., -2.675832 , -2.689805 ,\n",
      "       -2.6743026], dtype=float32), 0)]]\n",
      "tmpwav /mnt/rds/redhen/gallina/home/hxm471/RedHenLab-Multimodal_TV_Show_Segmentation/mtvss/data/tmp/splits/tmp23ake67c/2006-01-19_0000_US_00002692_V2_MB13_VHS14_H13_CG_18900_21600.wav\n"
     ]
    }
   ],
   "source": [
    "i_output*2585"
   ]
  },
  {
   "cell_type": "code",
   "execution_count": null,
   "id": "245908d1",
   "metadata": {},
   "outputs": [],
   "source": []
  }
 ],
 "metadata": {
  "kernelspec": {
   "display_name": "Python 3 (ipykernel)",
   "language": "python",
   "name": "python3"
  },
  "language_info": {
   "codemirror_mode": {
    "name": "ipython",
    "version": 3
   },
   "file_extension": ".py",
   "mimetype": "text/x-python",
   "name": "python",
   "nbconvert_exporter": "python",
   "pygments_lexer": "ipython3",
   "version": "3.8.10"
  }
 },
 "nbformat": 4,
 "nbformat_minor": 5
}
