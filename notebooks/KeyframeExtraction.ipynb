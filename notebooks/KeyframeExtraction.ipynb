{
 "cells": [
  {
   "cell_type": "markdown",
   "id": "a8a143ef",
   "metadata": {},
   "source": [
    "# Keyframe Extraction"
   ]
  },
  {
   "cell_type": "code",
   "execution_count": null,
   "id": "d8fb3775",
   "metadata": {},
   "outputs": [],
   "source": [
    "# Imports\n",
    "import numpy as np\n",
    "import pandas as pd\n",
    "import matplotlib.pyplot as plt\n",
    "import random\n",
    "\n",
    "import os\n",
    "import sys\n",
    "import glob\n",
    "import re\n",
    "import warnings\n",
    "\n",
    "# Reload changed modules every time\n",
    "%load_ext autoreload\n",
    "%autoreload 2"
   ]
  },
  {
   "cell_type": "code",
   "execution_count": null,
   "id": "8819baa3",
   "metadata": {},
   "outputs": [],
   "source": [
    "sys.path.insert(0, '/mnt/rds/redhen/gallina/home/hxm471/RedHenLab-Multimodal_TV_Show_Segmentation/mtvss/')\n",
    "import constants as const\n",
    "sys.path.insert(0, '/mnt/rds/redhen/gallina/home/hxm471/RedHenLab-Multimodal_TV_Show_Segmentation/mtvss/pipeline_stage1')\n",
    "import run_pipeline_stage1\n",
    "from data import Data\n",
    "from model import Model\n",
    "sys.path.insert(0, '/mnt/rds/redhen/gallina/home/hxm471/RedHenLab-Multimodal_TV_Show_Segmentation/mtvss/inaSpeechSegmenter/inaSpeechSegmenter')\n",
    "from segmenter import Segmenter"
   ]
  },
  {
   "cell_type": "markdown",
   "id": "c678fbaa",
   "metadata": {},
   "source": [
    "## Call keyframe_extract"
   ]
  },
  {
   "cell_type": "code",
   "execution_count": null,
   "id": "32a6cc91",
   "metadata": {},
   "outputs": [],
   "source": [
    "file = '/scratch/users/hxm471/tmp/splits_interactive/2006-12-30_0000_US_00018510_V3_VHSP20_MB23_H4_GM.csv'\n",
    "file_path = '/mnt/rds/redhen/gallina/Rosenthal/2006/2006-12/2006-12-30/2006-12-30_0000_US_00018510_V3_VHSP20_MB23_H4_GM.mp4'"
   ]
  },
  {
   "cell_type": "code",
   "execution_count": null,
   "id": "c48ff8ef",
   "metadata": {},
   "outputs": [],
   "source": [
    "mobj = Model(file_path,True,file_path)\n",
    "mobj.set_csv_path('/scratch/users/hxm471/tmp/splits_interactive/2006-12-30_0000_US_00018510_V3_VHSP20_MB23_H4_GM.csv')\n",
    "mobj.csv_path"
   ]
  },
  {
   "cell_type": "code",
   "execution_count": null,
   "id": "38606377",
   "metadata": {},
   "outputs": [],
   "source": [
    "frames = mobj.keyframe_extraction(gpu=False)"
   ]
  },
  {
   "cell_type": "code",
   "execution_count": null,
   "id": "803afac8",
   "metadata": {},
   "outputs": [],
   "source": [
    "frames"
   ]
  },
  {
   "cell_type": "code",
   "execution_count": null,
   "id": "274b5394",
   "metadata": {
    "scrolled": true
   },
   "outputs": [],
   "source": [
    "frames.shape"
   ]
  },
  {
   "cell_type": "code",
   "execution_count": null,
   "id": "0f4f3a79",
   "metadata": {},
   "outputs": [],
   "source": [
    "plt.imshow(frames[805])\n",
    "plt.title(\"ABC Title Sequence - Frame # 805\")\n",
    "plt.show()"
   ]
  },
  {
   "cell_type": "code",
   "execution_count": null,
   "id": "f04b0b5e",
   "metadata": {
    "scrolled": true
   },
   "outputs": [],
   "source": [
    "plt.imshow(frames[90])\n",
    "plt.title(\"ABC Title Sequence - Frame #90\")\n",
    "plt.show()"
   ]
  },
  {
   "cell_type": "code",
   "execution_count": null,
   "id": "0b630bc0",
   "metadata": {},
   "outputs": [],
   "source": [
    "plt.imshow(frames[1230])\n",
    "plt.title(\"Commercial (False Positive) - Frame #1230\")\n",
    "plt.show()"
   ]
  },
  {
   "cell_type": "code",
   "execution_count": null,
   "id": "294bbdd1",
   "metadata": {},
   "outputs": [],
   "source": [
    "plt.imshow(frames[348])\n",
    "plt.title(\"Commercial (False Positive) - Frame #348\")\n",
    "plt.show()"
   ]
  },
  {
   "cell_type": "code",
   "execution_count": null,
   "id": "0ba95a3c",
   "metadata": {},
   "outputs": [],
   "source": [
    "plt.imshow(frames[300])\n",
    "plt.title(\"Commercial (False Positive) - Frame #300\")\n",
    "plt.show()"
   ]
  },
  {
   "cell_type": "code",
   "execution_count": null,
   "id": "1519b29e",
   "metadata": {},
   "outputs": [],
   "source": [
    "plt.imshow(frames[225])\n",
    "plt.title(\"Commercial (False Positive) - Frame #225\")\n",
    "plt.show()"
   ]
  },
  {
   "cell_type": "code",
   "execution_count": null,
   "id": "259d22ac",
   "metadata": {},
   "outputs": [],
   "source": [
    "plt.imshow(frames[605])\n",
    "plt.title(\"Commercial (False Positive) - Frame #605\")\n",
    "plt.show()"
   ]
  },
  {
   "cell_type": "code",
   "execution_count": null,
   "id": "66ab1b1b",
   "metadata": {},
   "outputs": [],
   "source": [
    "plt.imshow(frames[1303])\n",
    "plt.title(\"ABC News - Frame # 1303\")\n",
    "plt.show()"
   ]
  }
 ],
 "metadata": {
  "kernelspec": {
   "display_name": "Python 3 (ipykernel)",
   "language": "python",
   "name": "python3"
  },
  "language_info": {
   "codemirror_mode": {
    "name": "ipython",
    "version": 3
   },
   "file_extension": ".py",
   "mimetype": "text/x-python",
   "name": "python",
   "nbconvert_exporter": "python",
   "pygments_lexer": "ipython3",
   "version": "3.8.10"
  }
 },
 "nbformat": 4,
 "nbformat_minor": 5
}
