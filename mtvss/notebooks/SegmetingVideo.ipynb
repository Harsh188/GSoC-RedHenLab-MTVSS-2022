{
 "cells": [
  {
   "cell_type": "code",
   "execution_count": 8,
   "id": "d0f1af6d",
   "metadata": {},
   "outputs": [],
   "source": [
    "import pandas as pd\n",
    "import numpy as np\n",
    "import os"
   ]
  },
  {
   "cell_type": "code",
   "execution_count": 2,
   "id": "391101f3",
   "metadata": {},
   "outputs": [],
   "source": [
    "store_batch_path = '/mnt/rds/redhen/gallina/home/hxm471/RedHenLab-Multimodal_TV_Show_Segmentation/mtvss/data/tmp/batch_cat1.npy'\n",
    "store_raw_path='/mnt/rds/redhen/gallina/home/hxm471/RedHenLab-Multimodal_TV_Show_Segmentation/mtvss/data/tmp/raw_cat1.csv'"
   ]
  },
  {
   "cell_type": "code",
   "execution_count": 3,
   "id": "e966709e",
   "metadata": {},
   "outputs": [
    {
     "data": {
      "text/plain": [
       "array(['/mnt/rds/redhen/gallina/Rosenthal/2006/2006-01/2006-01-19/2006-01-19_0000_US_00002692_V2_MB13_VHS14_H13_CG.mp4',\n",
       "       '/mnt/rds/redhen/gallina/Rosenthal/2006/2006-01/2006-01-19/2006-01-19_0000_US_00000128_V1_M3_VHS11_H13_JK.mp4',\n",
       "       '/mnt/rds/redhen/gallina/Rosenthal/2006/2006-01/2006-01-26/2006-01-26_0000_US_00003714_V2_MB12_VHS13_H2_CG.mp4',\n",
       "       '/mnt/rds/redhen/gallina/Rosenthal/2006/2006-01/2006-01-26/2006-01-26_0000_US_00002679_V1_MB13_VHS14_H13_MS.mp4',\n",
       "       '/mnt/rds/redhen/gallina/Rosenthal/2006/2006-01/2006-01-26/2006-01-26_0000_US_00000190_V3_M2_VHS10_H4_MS.mp4',\n",
       "       '/mnt/rds/redhen/gallina/Rosenthal/2006/2006-06/2006-06-09/2006-06-09_0000_US_00004046_V3_VHS35_MB41_H26_AS_BE.mp4',\n",
       "       '/mnt/rds/redhen/gallina/Rosenthal/2006/2006-06/2006-06-09/2006-06-09_0000_US_00004046_V3_VHS51_MB22_H37_PL.mp4',\n",
       "       '/mnt/rds/redhen/gallina/Rosenthal/2006/2006-06/2006-06-09/2006-06-09_0000_US_00002753_V1_MB8_VHS4_E1_JK.mp4',\n",
       "       '/mnt/rds/redhen/gallina/Rosenthal/2006/2006-06/2006-06-09/2006-06-09_0000_US_00004046_V3_MB13_VHS14_H13_MS.mp4',\n",
       "       '/mnt/rds/redhen/gallina/Rosenthal/2006/2006-06/2006-06-09/2006-06-09_0000_US_00003982_V2_MB7_VHS7_H11_JK.mp4',\n",
       "       '/mnt/rds/redhen/gallina/Rosenthal/2006/2006-06/2006-06-22/2006-06-22_0000_US_00003484_V1_VHS15_MB24_H1_BZ.mp4',\n",
       "       '/mnt/rds/redhen/gallina/Rosenthal/2006/2006-06/2006-06-22/2006-06-22_0000_US_00003484_V1_VHS24_MB38_H25_RX.mp4',\n",
       "       '/mnt/rds/redhen/gallina/Rosenthal/2006/2006-06/2006-06-22/2006-06-22_0000_US_00004022_V2_MB7_VHS7_H11_JN.mp4',\n",
       "       '/mnt/rds/redhen/gallina/Rosenthal/2006/2006-06/2006-06-22/2006-06-22_0000_US_00003484_V1_MB2_VHS2_H8_CG.mp4',\n",
       "       '/mnt/rds/redhen/gallina/Rosenthal/2006/2006-06/2006-06-22/2006-06-22_0000_US_00002709_V3_MB12_VHS13_H2_MS.mp4',\n",
       "       '/mnt/rds/redhen/gallina/Rosenthal/2006/2006-06/2006-06-22/2006-06-22_0000_US_00002709_V3_VHS18_MB5_H7_BB.mp4',\n",
       "       '/mnt/rds/redhen/gallina/Rosenthal/2006/2006-06/2006-06-28/2006-06-28_0000_US_00003499_V1_MB10_VHS6_H12_CG.mp4',\n",
       "       '/mnt/rds/redhen/gallina/Rosenthal/2006/2006-06/2006-06-28/2006-06-28_0000_US_00004019_V2_MB11_VHS8_H2_JN.mp4',\n",
       "       '/mnt/rds/redhen/gallina/Rosenthal/2006/2006-06/2006-06-28/2006-06-28_0000_US_00003962_V3_MB1_VHS1_EB1_MS.mp4',\n",
       "       '/mnt/rds/redhen/gallina/Rosenthal/2006/2006-06/2006-06-26/2006-06-26_0000_US_00003978_V3_VHS38_MB4_H31_DX.mp4',\n",
       "       '/mnt/rds/redhen/gallina/Rosenthal/2006/2006-06/2006-06-26/2006-06-26_0000_US_Archive_V3_MB2_VHS2_H8_MS.mp4',\n",
       "       '/mnt/rds/redhen/gallina/Rosenthal/2006/2006-06/2006-06-26/2006-06-26_0000_US_00004021_V2_MB5_VHS5_H7_JN.mp4',\n",
       "       '/mnt/rds/redhen/gallina/Rosenthal/2006/2006-06/2006-06-26/2006-06-26_0000_US_00003964_V3_VHS24_MB38_H25_KQ_BE.mp4',\n",
       "       '/mnt/rds/redhen/gallina/Rosenthal/2006/2006-06/2006-06-26/2006-06-26_0000_US_00003505_V1_MB7_VHS7_H11_CG.mp4',\n",
       "       '/mnt/rds/redhen/gallina/Rosenthal/2006/2006-06/2006-06-14/2006-06-14_0000_US_00004004_V2_MB9_VHS11_H1_JK.mp4',\n",
       "       '/mnt/rds/redhen/gallina/Rosenthal/2006/2006-06/2006-06-14/2006-06-14_0000_US_00002724_V1_MB6_VHS8_H10_DB.mp4',\n",
       "       '/mnt/rds/redhen/gallina/Rosenthal/2006/2006-06/2006-06-14/2006-06-14_0000_US_00002724_V1_MB12_VHS13_H2_DB.mp4',\n",
       "       '/mnt/rds/redhen/gallina/Rosenthal/2006/2006-06/2006-06-14/2006-06-14_0000_US_00003557_V3_VHSP25_MB27_H22_DA.mp4',\n",
       "       '/mnt/rds/redhen/gallina/Rosenthal/2006/2006-06/2006-06-14/2006-06-14_0000_US_00003557_V3_M1_VHS9_H3_MS.mp4',\n",
       "       '/mnt/rds/redhen/gallina/Rosenthal/2006/2006-06/2006-06-07/2006-06-07_0000_US_00003897_V3_MB1_VHS15_EB1_JN.mp4',\n",
       "       '/mnt/rds/redhen/gallina/Rosenthal/2006/2006-06/2006-06-07/2006-06-07_0000_US_00003958_V2_M2_VHS10_H4_JK.mp4',\n",
       "       '/mnt/rds/redhen/gallina/Rosenthal/2006/2006-06/2006-06-07/2006-06-07_0000_US_00003481_V1_MB13_VHS14_H13_JK.mp4',\n",
       "       '/mnt/rds/redhen/gallina/Rosenthal/2006/2006-06/2006-06-19/2006-06-19_0000_US_00003597_V3_MB8_VHS4_E1_MS.mp4',\n",
       "       '/mnt/rds/redhen/gallina/Rosenthal/2006/2006-06/2006-06-19/2006-06-19_0000_US_00002754_V1_MB5_VHS5_H7_JK.mp4',\n",
       "       '/mnt/rds/redhen/gallina/Rosenthal/2006/2006-06/2006-06-19/2006-06-19_0000_US_00003984_V2_MB8_VHS4_E1_JK.mp4',\n",
       "       '/mnt/rds/redhen/gallina/Rosenthal/2006/2006-06/2006-06-13/2006-06-13_0000_US_00003507_V1_VHS35_MB41_H26_BZ.mp4',\n",
       "       '/mnt/rds/redhen/gallina/Rosenthal/2006/2006-06/2006-06-13/2006-06-13_0000_US_00003507_V1_VHS46_MB21_H9_RX.mp4',\n",
       "       '/mnt/rds/redhen/gallina/Rosenthal/2006/2006-06/2006-06-13/2006-06-13_0000_US_00003503_V2_MB7_VHS7_H11_JK.mp4',\n",
       "       '/mnt/rds/redhen/gallina/Rosenthal/2006/2006-06/2006-06-13/2006-06-13_0000_US_00003606_V3_M2_VHS10_H4_MS.mp4',\n",
       "       '/mnt/rds/redhen/gallina/Rosenthal/2006/2006-06/2006-06-13/2006-06-13_0000_US_00003606_V3_VHSP17_M18_E13_BB.mp4',\n",
       "       '/mnt/rds/redhen/gallina/Rosenthal/2006/2006-06/2006-06-21/2006-06-21_0000_US_00002708_V3_MB3_VHS3_H9_MS.mp4',\n",
       "       '/mnt/rds/redhen/gallina/Rosenthal/2006/2006-06/2006-06-21/2006-06-21_0000_US_00002725_V1_MB1_VHS1_EB1_DB.mp4',\n",
       "       '/mnt/rds/redhen/gallina/Rosenthal/2006/2006-06/2006-06-21/2006-06-21_0000_US_00002708_V3_VHS51_MB22_H37_DV.mp4',\n",
       "       '/mnt/rds/redhen/gallina/Rosenthal/2006/2006-06/2006-06-21/2006-06-21_0000_US_00003999_V2_MB3_VHS3_H9_JN.mp4',\n",
       "       '/mnt/rds/redhen/gallina/Rosenthal/2006/2006-06/2006-06-29/2006-06-29_0000_US_00004002_V2_M2_VHS10_H4_JN.mp4',\n",
       "       '/mnt/rds/redhen/gallina/Rosenthal/2006/2006-06/2006-06-29/2006-06-29_0000_US_Archive_V3_MB5_VHS5_H7_MS.mp4',\n",
       "       '/mnt/rds/redhen/gallina/Rosenthal/2006/2006-06/2006-06-29/2006-06-29_0000_US_00003959_V1_MB13_VHS14_H13_CG.mp4',\n",
       "       '/mnt/rds/redhen/gallina/Rosenthal/2006/2006-06/2006-06-23/2006-06-23_0000_US_00003961_V3_VHS35_MB41_H26_KQ_BE.mp4',\n",
       "       '/mnt/rds/redhen/gallina/Rosenthal/2006/2006-06/2006-06-23/2006-06-23_0000_US_00003998_V2_M1_VHS9_H3_JN.mp4',\n",
       "       '/mnt/rds/redhen/gallina/Rosenthal/2006/2006-06/2006-06-23/2006-06-23_0000_US_00003961_V3_MB10_VHS6_H12_MS.mp4',\n",
       "       '/mnt/rds/redhen/gallina/Rosenthal/2006/2006-06/2006-06-23/2006-06-23_0000_US_00003504_V1_MB8_VHS4_E1_CG.mp4',\n",
       "       '/mnt/rds/redhen/gallina/Rosenthal/2006/2006-06/2006-06-02/2006-06-02_0000_US_00002746_V1_MB10_VHS6_H12_JK.mp4',\n",
       "       '/mnt/rds/redhen/gallina/Rosenthal/2006/2006-06/2006-06-02/2006-06-02_0000_US_00003501_V2_MB8_VHS4_E1_JK.mp4',\n",
       "       '/mnt/rds/redhen/gallina/Rosenthal/2006/2006-06/2006-06-02/2006-06-02_0000_US_00003700_V3_M2_VHS10_H4_JN.mp4',\n",
       "       '/mnt/rds/redhen/gallina/Rosenthal/2006/2006-06/2006-06-08/2006-06-08_0000_US_00001484_V2_MB9_VHSP4_H14_JN.mp4',\n",
       "       '/mnt/rds/redhen/gallina/Rosenthal/2006/2006-06/2006-06-08/2006-06-08_0000_US_Archive_V3_MB1_VHS1_EB1_MS.mp4',\n",
       "       '/mnt/rds/redhen/gallina/Rosenthal/2006/2006-06/2006-06-08/2006-06-08_0000_US_Archive_V1_MB3_VHS3_H9_JK.mp4',\n",
       "       '/mnt/rds/redhen/gallina/Rosenthal/2006/2006-06/2006-06-08/2006-06-08_0000_US_00003985_V2_M1_VHS9_H3_JK.mp4',\n",
       "       '/mnt/rds/redhen/gallina/Rosenthal/2006/2006-06/2006-06-08/2006-06-08_0000_US_Archive_V3_MB13_VHS14_H13_CG.mp4',\n",
       "       '/mnt/rds/redhen/gallina/Rosenthal/2006/2006-06/2006-06-30/2006-06-30_0000_US_00004053_V2_MB10_VHS6_H12_JN.mp4',\n",
       "       '/mnt/rds/redhen/gallina/Rosenthal/2006/2006-06/2006-06-30/2006-06-30_0000_US_00003604_V3_MB3_VHS9_H6_MS.mp4',\n",
       "       '/mnt/rds/redhen/gallina/Rosenthal/2006/2006-06/2006-06-30/2006-06-30_0000_US_00003604_V3_VHS42_MB6_H20_KG.mp4',\n",
       "       '/mnt/rds/redhen/gallina/Rosenthal/2006/2006-06/2006-06-30/2006-06-30_0000_US_00003492_V1_MB6_VHS8_H10_CG.mp4',\n",
       "       '/mnt/rds/redhen/gallina/Rosenthal/2006/2006-06/2006-06-05/2006-06-05_0000_US_00002734_V1_MB3_VHS3_H9_JK.mp4',\n",
       "       '/mnt/rds/redhen/gallina/Rosenthal/2006/2006-06/2006-06-05/2006-06-05_0000_US_00003561_V3_M2_VHS10_H4_JN.mp4',\n",
       "       '/mnt/rds/redhen/gallina/Rosenthal/2006/2006-06/2006-06-05/2006-06-05_0000_US_00003498_V2_MB3_VHS3_H9_JK.mp4',\n",
       "       '/mnt/rds/redhen/gallina/Rosenthal/2006/2006-06/2006-06-05/2006-06-05_0000_US_00003561_V3_VHS43_MB31_H27_DA.mp4',\n",
       "       '/mnt/rds/redhen/gallina/Rosenthal/2006/2006-06/2006-06-16/2006-06-16_0000_US_00003986_V2_MB2_VHS2_H8_JK.mp4',\n",
       "       '/mnt/rds/redhen/gallina/Rosenthal/2006/2006-06/2006-06-16/2006-06-16_0000_US_00003475_V1_M1_VHS9_H3_CG.mp4',\n",
       "       '/mnt/rds/redhen/gallina/Rosenthal/2006/2006-06/2006-06-16/2006-06-16_0000_US_00002720_V3_VHS25_MB56_H2_PL.mp4',\n",
       "       '/mnt/rds/redhen/gallina/Rosenthal/2006/2006-06/2006-06-16/2006-06-16_0000_US_00002720_V3_M2_VHS9_H3_MS.mp4',\n",
       "       '/mnt/rds/redhen/gallina/Rosenthal/2006/2006-06/2006-06-12/2006-06-12_0000_US_00000612_V1_M1_VHSP3_H3_JK_BE.mp4',\n",
       "       '/mnt/rds/redhen/gallina/Rosenthal/2006/2006-06/2006-06-12/2006-06-12_0000_US_00000612_V1_MB3_VHS3_H9_MS.mp4',\n",
       "       '/mnt/rds/redhen/gallina/Rosenthal/2006/2006-06/2006-06-12/2006-06-12_0000_US_00003489_V2_MB5_VHS5_H7_JK.mp4',\n",
       "       '/mnt/rds/redhen/gallina/Rosenthal/2006/2006-06/2006-06-12/2006-06-12_0000_US_00003480_V3_VHS25_MB53_H38_KZ.mp4',\n",
       "       '/mnt/rds/redhen/gallina/Rosenthal/2006/2006-06/2006-06-20/2006-06-20_0000_US_00003590_V3_MB8_VHS4_E1_MS.mp4',\n",
       "       '/mnt/rds/redhen/gallina/Rosenthal/2006/2006-06/2006-06-20/2006-06-20_0000_US_00003983_V2_MB10_VHS6_H2_JK.mp4',\n",
       "       '/mnt/rds/redhen/gallina/Rosenthal/2006/2006-06/2006-06-20/2006-06-20_0000_US_00003983_V2_VHS25_MB53_H38_DA.mp4',\n",
       "       '/mnt/rds/redhen/gallina/Rosenthal/2006/2006-06/2006-06-20/2006-06-20_0000_US_00003483_V1_MB10_VHS6_H12_JK.mp4',\n",
       "       '/mnt/rds/redhen/gallina/Rosenthal/2006/2006-06/2006-06-01/2006-06-01_0000_US_00003559_V3_MB3_VHS3_H9_JN.mp4',\n",
       "       '/mnt/rds/redhen/gallina/Rosenthal/2006/2006-06/2006-06-01/2006-06-01_0000_US_00002747_V1_MB5_VHS5_H7_JK.mp4',\n",
       "       '/mnt/rds/redhen/gallina/Rosenthal/2006/2006-06/2006-06-01/2006-06-01_0000_US_00003509_V2_MB1_VHS1_EB1_JK.mp4',\n",
       "       '/mnt/rds/redhen/gallina/Rosenthal/2006/2006-06/2006-06-01/2006-06-01_0000_US_00003559_V3_VHS46_MB21_H9_AS.mp4',\n",
       "       '/mnt/rds/redhen/gallina/Rosenthal/2006/2006-06/2006-06-06/2006-06-06_0000_US_00003544_V3_M1_VHS9_H3_JN.mp4',\n",
       "       '/mnt/rds/redhen/gallina/Rosenthal/2006/2006-06/2006-06-06/2006-06-06_0000_US_00003544_V3_VHS51_MB22_H37_RX.mp4',\n",
       "       '/mnt/rds/redhen/gallina/Rosenthal/2006/2006-06/2006-06-06/2006-06-06_0000_US_00002751_V1_M1_VHS9_H3_JK.mp4',\n",
       "       '/mnt/rds/redhen/gallina/Rosenthal/2006/2006-06/2006-06-06/2006-06-06_0000_US_00003544_V3_VHS43_MB31_H27_MB_BE.mp4',\n",
       "       '/mnt/rds/redhen/gallina/Rosenthal/2006/2006-06/2006-06-06/2006-06-06_0000_US_00003488_V2_MB10_VHS6_H12_JK.mp4',\n",
       "       '/mnt/rds/redhen/gallina/Rosenthal/2006/2006-06/2006-06-06/2006-06-06_0000_US_00001486_V2_MB9_VHSP4_H14_MM.mp4',\n",
       "       '/mnt/rds/redhen/gallina/Rosenthal/2006/2006-06/2006-06-06/2006-06-06_0000_US_00003544_V3_VHS47_MB8_H34_BZ.mp4',\n",
       "       '/mnt/rds/redhen/gallina/Rosenthal/2006/2006-06/2006-06-27/2006-06-27_0000_US_00003963_V3_MB8_VHS4_E1_MS.mp4',\n",
       "       '/mnt/rds/redhen/gallina/Rosenthal/2006/2006-06/2006-06-27/2006-06-27_0000_US_00003506_V1_MB5_VHS5_H7_CG.mp4',\n",
       "       '/mnt/rds/redhen/gallina/Rosenthal/2006/2006-06/2006-06-27/2006-06-27_0000_US_00003963_V3_VHS43_MB31_H27_DA.mp4',\n",
       "       '/mnt/rds/redhen/gallina/Rosenthal/2006/2006-06/2006-06-27/2006-06-27_0000_US_00004001_V2_MB13_VHS14_H13_JN.mp4',\n",
       "       '/mnt/rds/redhen/gallina/Rosenthal/2006/2006-06/2006-06-15/2006-06-15_0000_US_00002707_V3_MB13_VHS14_H13_MS.mp4',\n",
       "       '/mnt/rds/redhen/gallina/Rosenthal/2006/2006-06/2006-06-15/2006-06-15_0000_US_00002707_V3_VHS57_MB2_H35_DX.mp4',\n",
       "       '/mnt/rds/redhen/gallina/Rosenthal/2006/2006-06/2006-06-15/2006-06-15_0000_US_00004006_V2_MB5_VHS5_H7_JK.mp4',\n",
       "       '/mnt/rds/redhen/gallina/Rosenthal/2006/2006-06/2006-06-15/2006-06-15_0000_US_00003508_V1_MB13_VHS14_H13_CG.mp4',\n",
       "       '/mnt/rds/redhen/gallina/Rosenthal/2006/2006-11/2006-11-30/2006-11-30_0000_US_00018510_V3_VHS25_MB56_H2_HL.mp4',\n",
       "       '/mnt/rds/redhen/gallina/Rosenthal/2006/2006-11/2006-11-30/2006-11-30_0000_US_00018505_V1_VHS29_MB5_H7_NV.mp4'],\n",
       "      dtype=object)"
      ]
     },
     "execution_count": 3,
     "metadata": {},
     "output_type": "execute_result"
    }
   ],
   "source": [
    "batches_load = np.load(store_batch_path,allow_pickle=True)\n",
    "batches_load[1]"
   ]
  },
  {
   "cell_type": "code",
   "execution_count": 9,
   "id": "75962336",
   "metadata": {},
   "outputs": [
    {
     "name": "stderr",
     "output_type": "stream",
     "text": [
      "ffmpeg version 4.3.4-0+deb11u1 Copyright (c) 2000-2021 the FFmpeg developers\n",
      "  built with gcc 10 (Debian 10.2.1-6)\n",
      "  configuration: --prefix=/usr --extra-version=0+deb11u1 --toolchain=hardened --libdir=/usr/lib/x86_64-linux-gnu --incdir=/usr/include/x86_64-linux-gnu --arch=amd64 --enable-gpl --disable-stripping --enable-avresample --disable-filter=resample --enable-gnutls --enable-ladspa --enable-libaom --enable-libass --enable-libbluray --enable-libbs2b --enable-libcaca --enable-libcdio --enable-libcodec2 --enable-libdav1d --enable-libflite --enable-libfontconfig --enable-libfreetype --enable-libfribidi --enable-libgme --enable-libgsm --enable-libjack --enable-libmp3lame --enable-libmysofa --enable-libopenjpeg --enable-libopenmpt --enable-libopus --enable-libpulse --enable-librabbitmq --enable-librsvg --enable-librubberband --enable-libshine --enable-libsnappy --enable-libsoxr --enable-libspeex --enable-libsrt --enable-libssh --enable-libtheora --enable-libtwolame --enable-libvidstab --enable-libvorbis --enable-libvpx --enable-libwavpack --enable-libwebp --enable-libx265 --enable-libxml2 --enable-libxvid --enable-libzmq --enable-libzvbi --enable-lv2 --enable-omx --enable-openal --enable-opencl --enable-opengl --enable-sdl2 --enable-pocketsphinx --enable-libmfx --enable-libdc1394 --enable-libdrm --enable-libiec61883 --enable-chromaprint --enable-frei0r --enable-libx264 --enable-shared\n",
      "  libavutil      56. 51.100 / 56. 51.100\n",
      "  libavcodec     58. 91.100 / 58. 91.100\n",
      "  libavformat    58. 45.100 / 58. 45.100\n",
      "  libavdevice    58. 10.100 / 58. 10.100\n",
      "  libavfilter     7. 85.100 /  7. 85.100\n",
      "  libavresample   4.  0.  0 /  4.  0.  0\n",
      "  libswscale      5.  7.100 /  5.  7.100\n",
      "  libswresample   3.  7.100 /  3.  7.100\n",
      "  libpostproc    55.  7.100 / 55.  7.100\n",
      "Input #0, mov,mp4,m4a,3gp,3g2,mj2, from '/mnt/rds/redhen/gallina/Rosenthal/2006/2006-01/2006-01-19/2006-01-19_0000_US_00000128_V1_M3_VHS11_H13_JK.mp4':\n",
      "  Metadata:\n",
      "    major_brand     : isom\n",
      "    minor_version   : 512\n",
      "    compatible_brands: isomiso2avc1mp41\n",
      "    encoder         : Lavf57.25.100\n",
      "  Duration: 08:14:55.46, start: 0.000000, bitrate: 554 kb/s\n",
      "    Stream #0:0(und): Video: h264 (High) (avc1 / 0x31637661), yuv420p, 640x426 [SAR 71:80 DAR 4:3], 449 kb/s, 29.97 fps, 29.97 tbr, 11988 tbn, 59.94 tbc (default)\n",
      "    Metadata:\n",
      "      handler_name    : VideoHandler\n",
      "    Stream #0:1(deu): Audio: aac (LC) (mp4a / 0x6134706D), 44100 Hz, stereo, fltp, 96 kb/s (default)\n",
      "    Metadata:\n",
      "      handler_name    : SoundHandler\n",
      "[segment @ 0x55b649380000] Opening 'output000.mp4' for writing\n",
      "Output #0, segment, to 'output%03d.mp4':\n",
      "  Metadata:\n",
      "    major_brand     : isom\n",
      "    minor_version   : 512\n",
      "    compatible_brands: isomiso2avc1mp41\n",
      "    encoder         : Lavf58.45.100\n",
      "    Stream #0:0(und): Video: h264 (High) (avc1 / 0x31637661), yuv420p, 640x426 [SAR 71:80 DAR 4:3], q=2-31, 449 kb/s, 29.97 fps, 29.97 tbr, 11988 tbn, 29.97 tbc (default)\n",
      "    Metadata:\n",
      "      handler_name    : VideoHandler\n",
      "    Stream #0:1(deu): Audio: aac (LC) (mp4a / 0x6134706D), 44100 Hz, stereo, fltp, 96 kb/s (default)\n",
      "    Metadata:\n",
      "      handler_name    : SoundHandler\n",
      "Stream mapping:\n",
      "  Stream #0:0 -> #0:0 (copy)\n",
      "  Stream #0:1 -> #0:1 (copy)\n",
      "Press [q] to stop, [?] for help\n",
      "[segment @ 0x55b649380000] Opening 'output001.mp4' for writing=N/A speed=1.73e+03x    \n",
      "[segment @ 0x55b649380000] Opening 'output002.mp4' for writinge=N/A speed=1.51e+03x    \n",
      "[segment @ 0x55b649380000] Opening 'output003.mp4' for writinge=N/A speed=1.47e+03x    \n",
      "[segment @ 0x55b649380000] Opening 'output004.mp4' for writinge=N/A speed=1.45e+03x    \n",
      "[segment @ 0x55b649380000] Opening 'output005.mp4' for writinge=N/A speed=1.45e+03x    \n",
      "[segment @ 0x55b649380000] Opening 'output006.mp4' for writinge=N/A speed=1.43e+03x    \n",
      "[segment @ 0x55b649380000] Opening 'output007.mp4' for writinge=N/A speed=1.42e+03x    \n",
      "[segment @ 0x55b649380000] Opening 'output008.mp4' for writinge=N/A speed=1.42e+03x    \n",
      "[segment @ 0x55b649380000] Opening 'output009.mp4' for writinge=N/A speed=1.42e+03x    \n",
      "[segment @ 0x55b649380000] Opening 'output010.mp4' for writinge=N/A speed=1.41e+03x    \n",
      "frame=889972 fps=41715 q=-1.0 Lsize=N/A time=08:14:55.42 bitrate=N/A speed=1.39e+03x    \n",
      "video:1631130kB audio:347994kB subtitle:0kB other streams:0kB global headers:0kB muxing overhead: unknown\n"
     ]
    },
    {
     "data": {
      "text/plain": [
       "0"
      ]
     },
     "execution_count": 9,
     "metadata": {},
     "output_type": "execute_result"
    }
   ],
   "source": [
    "os.system(\"ffmpeg -i {0} -c copy -map 0 -segment_time 00:45:00 -f segment output%03d.mp4\".format(batches_load[1][1]))"
   ]
  },
  {
   "cell_type": "code",
   "execution_count": null,
   "id": "7a38f7d7",
   "metadata": {},
   "outputs": [],
   "source": []
  }
 ],
 "metadata": {
  "kernelspec": {
   "display_name": "Python 3 (ipykernel)",
   "language": "python",
   "name": "python3"
  },
  "language_info": {
   "codemirror_mode": {
    "name": "ipython",
    "version": 3
   },
   "file_extension": ".py",
   "mimetype": "text/x-python",
   "name": "python",
   "nbconvert_exporter": "python",
   "pygments_lexer": "ipython3",
   "version": "3.9.2"
  }
 },
 "nbformat": 4,
 "nbformat_minor": 5
}
