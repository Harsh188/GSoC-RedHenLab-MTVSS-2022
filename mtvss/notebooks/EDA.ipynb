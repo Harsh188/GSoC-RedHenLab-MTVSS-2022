{
 "cells": [
  {
   "cell_type": "markdown",
   "id": "2cbc41b6",
   "metadata": {},
   "source": [
    "# Exploratory Data Analysis"
   ]
  },
  {
   "cell_type": "markdown",
   "id": "6874a60f",
   "metadata": {},
   "source": [
    "## Imports"
   ]
  },
  {
   "cell_type": "code",
   "execution_count": 1,
   "id": "7095f330",
   "metadata": {},
   "outputs": [],
   "source": [
    "import numpy as np\n",
    "import pandas as pd\n",
    "import matplotlib.pyplot as plt\n",
    "\n",
    "import os\n",
    "import sys"
   ]
  },
  {
   "cell_type": "markdown",
   "id": "aa15a7c2",
   "metadata": {},
   "source": [
    "## Access Files "
   ]
  },
  {
   "cell_type": "markdown",
   "id": "241559e1",
   "metadata": {},
   "source": [
    "### TV Folder"
   ]
  },
  {
   "cell_type": "code",
   "execution_count": 3,
   "id": "50342fc8",
   "metadata": {},
   "outputs": [
    {
     "name": "stdout",
     "output_type": "stream",
     "text": [
      "Current directory: /MultiModalTVShowSeg-2022/mtvss/notebooks\n"
     ]
    }
   ],
   "source": [
    "print(\"Current directory:\",os.getcwd())"
   ]
  },
  {
   "cell_type": "code",
   "execution_count": 23,
   "id": "4a8ba6a5",
   "metadata": {},
   "outputs": [
    {
     "name": "stdout",
     "output_type": "stream",
     "text": [
      "True\n",
      "False\n",
      "['2004-01-01_0000_US_CNN_CNN_Live_Event_Special.tpt.raw', 'remotetv']\n"
     ]
    }
   ],
   "source": [
    "# Check if the remotetv directory exists and is not empty\n",
    "remotetv_path = \"../data/\"\n",
    "print(os.path.isdir(remotetv_path))\n",
    "print(os.path.ismount(remotetv_path+\"remotetv\"))\n",
    "\n",
    "remotetv_items = os.listdir(\"../data\")\n",
    "print(remotetv_items)\n",
    "if len(remotetv_items)==0:\n",
    "    print(\"Error! Directory is empty\")"
   ]
  },
  {
   "cell_type": "code",
   "execution_count": null,
   "id": "a51bf1a0",
   "metadata": {},
   "outputs": [],
   "source": []
  }
 ],
 "metadata": {
  "kernelspec": {
   "display_name": "Python 3 (ipykernel)",
   "language": "python",
   "name": "python3"
  },
  "language_info": {
   "codemirror_mode": {
    "name": "ipython",
    "version": 3
   },
   "file_extension": ".py",
   "mimetype": "text/x-python",
   "name": "python",
   "nbconvert_exporter": "python",
   "pygments_lexer": "ipython3",
   "version": "3.9.2"
  }
 },
 "nbformat": 4,
 "nbformat_minor": 5
}
